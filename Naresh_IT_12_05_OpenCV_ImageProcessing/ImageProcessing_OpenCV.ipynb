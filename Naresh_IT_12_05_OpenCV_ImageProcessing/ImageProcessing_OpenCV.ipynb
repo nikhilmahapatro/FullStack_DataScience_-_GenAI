{
 "cells": [
  {
   "cell_type": "code",
   "execution_count": 1,
   "id": "5a5ceb8c-d3d8-4969-9014-7125e09f19ef",
   "metadata": {},
   "outputs": [],
   "source": [
    "import cv2\n",
    "import numpy as np\n",
    "import os"
   ]
  },
  {
   "cell_type": "code",
   "execution_count": 2,
   "id": "d034dc3e-1ab5-480b-b21d-dc839cffe03a",
   "metadata": {},
   "outputs": [
    {
     "name": "stdout",
     "output_type": "stream",
     "text": [
      "[[[ 44  80 120]\n",
      "  [ 44  80 120]\n",
      "  [ 44  80 120]\n",
      "  ...\n",
      "  [175 167 168]\n",
      "  [175 167 168]\n",
      "  [174 166 167]]\n",
      "\n",
      " [[ 44  80 120]\n",
      "  [ 44  80 120]\n",
      "  [ 44  80 120]\n",
      "  ...\n",
      "  [175 167 168]\n",
      "  [175 167 168]\n",
      "  [174 166 167]]\n",
      "\n",
      " [[ 44  80 120]\n",
      "  [ 44  80 120]\n",
      "  [ 44  80 120]\n",
      "  ...\n",
      "  [175 167 168]\n",
      "  [175 167 168]\n",
      "  [174 166 167]]\n",
      "\n",
      " ...\n",
      "\n",
      " [[ 98 119 146]\n",
      "  [ 98 119 146]\n",
      "  [ 98 119 146]\n",
      "  ...\n",
      "  [ 39  58  91]\n",
      "  [ 39  58  91]\n",
      "  [ 39  58  91]]\n",
      "\n",
      " [[ 98 119 146]\n",
      "  [ 98 119 146]\n",
      "  [ 98 119 146]\n",
      "  ...\n",
      "  [ 39  58  91]\n",
      "  [ 39  58  91]\n",
      "  [ 39  58  91]]\n",
      "\n",
      " [[ 98 119 146]\n",
      "  [ 98 119 146]\n",
      "  [ 98 119 146]\n",
      "  ...\n",
      "  [ 39  58  91]\n",
      "  [ 39  58  91]\n",
      "  [ 39  58  91]]]\n"
     ]
    }
   ],
   "source": [
    "# Update path to your image\n",
    "img = cv2.imread(r\"C:\\Users\\nikhi\\PycharmProjects\\NARESH_IT\\PROJECTS_NARESH_IT\\Haar_Casade_Classification\\Ragdoll.jpg\")\n",
    "\n",
    "# Check what we got\n",
    "print(img)"
   ]
  },
  {
   "cell_type": "code",
   "execution_count": 3,
   "id": "a06d094a-4973-46d0-9bbb-5cc33cecea72",
   "metadata": {},
   "outputs": [],
   "source": [
    "# Show image in a window\n",
    "\n",
    "cv2.imshow('Elephant', img)                           # to open a new window and show image\n",
    "cv2.waitKey()                                         # waits for a key press (otherwise window closes immediately)\n",
    "cv2.destroyAllWindows()                               # closes the window"
   ]
  },
  {
   "cell_type": "code",
   "execution_count": 5,
   "id": "c9760904-6990-494c-a1b1-0cbb16564da2",
   "metadata": {},
   "outputs": [
    {
     "name": "stdout",
     "output_type": "stream",
     "text": [
      "Height of Image: 747 pixels\n",
      "Width of Image: 1328 pixels\n"
     ]
    }
   ],
   "source": [
    "# Image Properties\n",
    "\n",
    "print('Height of Image:', int(img.shape[0]), 'pixels')\n",
    "print('Width of Image:', int(img.shape[1]), 'pixels')"
   ]
  },
  {
   "cell_type": "code",
   "execution_count": 6,
   "id": "61c57c6c-ecf4-4b58-9bb5-0e0e9d98c18c",
   "metadata": {},
   "outputs": [
    {
     "data": {
      "text/plain": [
       "True"
      ]
     },
     "execution_count": 6,
     "metadata": {},
     "output_type": "execute_result"
    }
   ],
   "source": [
    "# Save the image\n",
    "\n",
    "cv2.imwrite('Op1.PNG', img)"
   ]
  },
  {
   "cell_type": "code",
   "execution_count": 7,
   "id": "c9871f63-3573-4299-9a45-145422b433af",
   "metadata": {},
   "outputs": [
    {
     "name": "stdout",
     "output_type": "stream",
     "text": [
      "Current Working Directory: C:\\Users\\nikhi\n"
     ]
    }
   ],
   "source": [
    "current_dir = os.getcwd()\n",
    "print(\"Current Working Directory:\", current_dir)"
   ]
  },
  {
   "cell_type": "code",
   "execution_count": null,
   "id": "08f3ceda-c9fb-472d-bf97-ac9797b3c255",
   "metadata": {},
   "outputs": [],
   "source": []
  }
 ],
 "metadata": {
  "kernelspec": {
   "display_name": "Python [conda env:base] *",
   "language": "python",
   "name": "conda-base-py"
  },
  "language_info": {
   "codemirror_mode": {
    "name": "ipython",
    "version": 3
   },
   "file_extension": ".py",
   "mimetype": "text/x-python",
   "name": "python",
   "nbconvert_exporter": "python",
   "pygments_lexer": "ipython3",
   "version": "3.12.7"
  }
 },
 "nbformat": 4,
 "nbformat_minor": 5
}
