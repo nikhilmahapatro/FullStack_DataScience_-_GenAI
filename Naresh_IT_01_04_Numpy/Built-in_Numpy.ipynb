{
 "cells": [
  {
   "cell_type": "code",
   "execution_count": 35,
   "id": "1e3723a5-cb55-499d-9012-52e4aa7507d1",
   "metadata": {},
   "outputs": [],
   "source": [
    "import numpy as np\n",
    "import math\n",
    "from numpy.ma.core import reshape\n",
    "from numpy.matrixlib.defmatrix import matrix"
   ]
  },
  {
   "cell_type": "raw",
   "id": "1a952e68-1163-432b-a30b-03002b95d389",
   "metadata": {},
   "source": [
    "# ARRAY CREATION FUNCTIONS"
   ]
  },
  {
   "cell_type": "code",
   "execution_count": 36,
   "id": "d359492b-79a7-4b92-8bfe-36af8f4de16b",
   "metadata": {},
   "outputs": [
    {
     "name": "stdout",
     "output_type": "stream",
     "text": [
      "Array A:-\n",
      " [1 5 3 8 7 6]\n"
     ]
    }
   ],
   "source": [
    "# Create an array from a list\n",
    "A = np.array([1,5,3,8,7,6])\n",
    "print(\"Array A:-\\n\", A)"
   ]
  },
  {
   "cell_type": "code",
   "execution_count": 37,
   "id": "e862fb98-a097-4615-8dc0-4188f9243c12",
   "metadata": {},
   "outputs": [
    {
     "name": "stdout",
     "output_type": "stream",
     "text": [
      "Array B:-\n",
      " [0 2 4 6 8]\n"
     ]
    }
   ],
   "source": [
    "# Create an array with evenly spaced values\n",
    "B = np.arange(0,10,2)\n",
    "print(\"Array B:-\\n\",B)  "
   ]
  },
  {
   "cell_type": "code",
   "execution_count": 38,
   "id": "e249456e-f534-4191-ad72-53491714d89e",
   "metadata": {},
   "outputs": [
    {
     "name": "stdout",
     "output_type": "stream",
     "text": [
      "Array C1:-\n",
      " [ 0.  5. 10. 15. 20.]\n",
      "Array C2:-\n",
      " [10 15 20 25 30]\n"
     ]
    }
   ],
   "source": [
    "# Create an array with linearly spaced values\n",
    "C1 = np.linspace(0,20,5,)                    # 5 values evenly spaced between 0 and 20\n",
    "print(\"Array C1:-\\n\",C1)\n",
    "C2 = np.linspace(10,30,5,dtype=int)          # 5 values evenly spaced between 10 and 30 (integer)\n",
    "print(\"Array C2:-\\n\",C2)"
   ]
  },
  {
   "cell_type": "code",
   "execution_count": 39,
   "id": "c569ea63-5696-4a32-a1cb-c7453b03a3f9",
   "metadata": {},
   "outputs": [
    {
     "name": "stdout",
     "output_type": "stream",
     "text": [
      "Array D1:-\n",
      " [[0. 0. 0.]\n",
      " [0. 0. 0.]]\n",
      "Array D2:-\n",
      " [[0 0 0]\n",
      " [0 0 0]]\n"
     ]
    }
   ],
   "source": [
    "# Create an array filled with zeros\n",
    "D1 = np.zeros((2, 3))                                         # 2x3 array of zeros\n",
    "print(\"Array D1:-\\n\", D1)\n",
    "D2 = np.zeros((2, 3),dtype=int)                        # 2x3 array of zeros (integer)\n",
    "print(\"Array D2:-\\n\", D2)"
   ]
  },
  {
   "cell_type": "code",
   "execution_count": 40,
   "id": "4aed89c5-7f0c-473b-b567-473617baa747",
   "metadata": {
    "scrolled": true
   },
   "outputs": [
    {
     "name": "stdout",
     "output_type": "stream",
     "text": [
      "Array E1:-\n",
      " [[1. 1.]\n",
      " [1. 1.]\n",
      " [1. 1.]]\n",
      "Array E2:-\n",
      " [[1 1]\n",
      " [1 1]\n",
      " [1 1]]\n"
     ]
    }
   ],
   "source": [
    "# Create an array filled with ones\n",
    "E1 = np.ones((3, 2))                                          # 3x2 array of ones\n",
    "print(\"Array E1:-\\n\", E1)\n",
    "E2 = np.ones((3, 2),dtype=int)                                # 3x2 array of ones (integers)\n",
    "print(\"Array E2:-\\n\", E2)"
   ]
  },
  {
   "cell_type": "code",
   "execution_count": 41,
   "id": "76c7e7c0-e766-43ec-b90d-f8ba3b8d53c9",
   "metadata": {},
   "outputs": [
    {
     "name": "stdout",
     "output_type": "stream",
     "text": [
      "Identity Matrix:-\n",
      " [[1 0 0 0]\n",
      " [0 1 0 0]\n",
      " [0 0 1 0]\n",
      " [0 0 0 1]]\n"
     ]
    }
   ],
   "source": [
    "# Create an identity matrix\n",
    "F = np.eye(4,dtype=int)                                    # 4*4 identity matrix\n",
    "print(\"Identity Matrix:-\\n\",F)"
   ]
  },
  {
   "cell_type": "raw",
   "id": "29155da4-fbd3-4bd6-9c27-8b743d24e189",
   "metadata": {},
   "source": [
    "# ARRAY MANIPULATION FUNCTIONS"
   ]
  },
  {
   "cell_type": "code",
   "execution_count": 42,
   "id": "826542a2-c634-4edb-b0fe-d549d7be5f3b",
   "metadata": {},
   "outputs": [
    {
     "name": "stdout",
     "output_type": "stream",
     "text": [
      "Reshaped Array:-\n",
      " [[1 5 9 7]]\n"
     ]
    }
   ],
   "source": [
    "# Reshape an array\n",
    "G = np.array([1,5,9,7])\n",
    "g = np.reshape(G,(1,4))                                 # Reshape into 1*4 array\n",
    "print(\"Reshaped Array:-\\n\",g)"
   ]
  },
  {
   "cell_type": "code",
   "execution_count": 43,
   "id": "4b055dfe-8d0a-41b0-9e94-107e6029dfcb",
   "metadata": {},
   "outputs": [
    {
     "name": "stdout",
     "output_type": "stream",
     "text": [
      "Flattened Array:-\n",
      " [1 7 2 3]\n"
     ]
    }
   ],
   "source": [
    "# Flatten an array\n",
    "H = np.array([[1,7],[2,3]])\n",
    "h = np.ravel(H)                                                # Flattens into 1D array\n",
    "print(\"Flattened Array:-\\n\",h)"
   ]
  },
  {
   "cell_type": "code",
   "execution_count": 44,
   "id": "c388278c-df51-40b5-8844-0bcb5d0de957",
   "metadata": {},
   "outputs": [
    {
     "name": "stdout",
     "output_type": "stream",
     "text": [
      "Transpose Array:-\n",
      " [[1 4 7]\n",
      " [2 5 8]\n",
      " [3 6 9]]\n"
     ]
    }
   ],
   "source": [
    "# Transpose an array\n",
    "I = np.array([[1,2,3],[4,5,6],[7,8,9]])\n",
    "i = np.transpose(I)\n",
    "print(\"Transpose Array:-\\n\",i)"
   ]
  },
  {
   "cell_type": "code",
   "execution_count": 45,
   "id": "c5dd06c4-2d6e-4af2-a0e7-288e46a72d8e",
   "metadata": {},
   "outputs": [
    {
     "name": "stdout",
     "output_type": "stream",
     "text": [
      "Stacked Array:-\n",
      " [[1 2 3]\n",
      " [4 5 6]]\n"
     ]
    }
   ],
   "source": [
    "# Stack arrays vertically\n",
    "J1 = np.array([1,2,3])\n",
    "J2 = np.array([4,5,6])                                         # Stacks J1 vertically upon J2\n",
    "j = np.vstack([J1,J2])\n",
    "print(\"Stacked Array:-\\n\",j)"
   ]
  },
  {
   "cell_type": "raw",
   "id": "dc6d85db-0554-4029-88c8-e3c12388c73f",
   "metadata": {},
   "source": [
    "# MATHEMATICAL FUNCTIONS"
   ]
  },
  {
   "cell_type": "code",
   "execution_count": 46,
   "id": "7d3ab2da-6804-425c-9baa-cd0c231e15c9",
   "metadata": {},
   "outputs": [
    {
     "name": "stdout",
     "output_type": "stream",
     "text": [
      "Added 2 to Array:- [3 4 5 6]\n"
     ]
    }
   ],
   "source": [
    "# Add 2 to each element of an array\n",
    "K = np.array([1,2,3,4])\n",
    "k = np.add(K,2)\n",
    "print(\"Added 2 to Array:-\",k)"
   ]
  },
  {
   "cell_type": "code",
   "execution_count": 47,
   "id": "cd159337-4fc7-41cd-ace2-cf6c5939d84b",
   "metadata": {},
   "outputs": [
    {
     "ename": "AttributeError",
     "evalue": "module 'numpy' has no attribute 'pow'",
     "output_type": "error",
     "traceback": [
      "\u001b[1;31m---------------------------------------------------------------------------\u001b[0m",
      "\u001b[1;31mAttributeError\u001b[0m                            Traceback (most recent call last)",
      "Cell \u001b[1;32mIn[47], line 3\u001b[0m\n\u001b[0;32m      1\u001b[0m \u001b[38;5;66;03m# Square each element of an array\u001b[39;00m\n\u001b[0;32m      2\u001b[0m M \u001b[38;5;241m=\u001b[39m np\u001b[38;5;241m.\u001b[39marray([\u001b[38;5;241m1\u001b[39m,\u001b[38;5;241m2\u001b[39m,\u001b[38;5;241m3\u001b[39m])\n\u001b[1;32m----> 3\u001b[0m m \u001b[38;5;241m=\u001b[39m np\u001b[38;5;241m.\u001b[39mpow(M,\u001b[38;5;241m2\u001b[39m)\n\u001b[0;32m      4\u001b[0m \u001b[38;5;28mprint\u001b[39m(\u001b[38;5;124m\"\u001b[39m\u001b[38;5;124mSquare of Array:- \u001b[39m\u001b[38;5;124m\"\u001b[39m,m)\n",
      "File \u001b[1;32m~\\anaconda3\\Lib\\site-packages\\numpy\\__init__.py:333\u001b[0m, in \u001b[0;36m__getattr__\u001b[1;34m(attr)\u001b[0m\n\u001b[0;32m    330\u001b[0m     \u001b[38;5;124m\"\u001b[39m\u001b[38;5;124mRemoved in NumPy 1.25.0\u001b[39m\u001b[38;5;124m\"\u001b[39m\n\u001b[0;32m    331\u001b[0m     \u001b[38;5;28;01mraise\u001b[39;00m \u001b[38;5;167;01mRuntimeError\u001b[39;00m(\u001b[38;5;124m\"\u001b[39m\u001b[38;5;124mTester was removed in NumPy 1.25.\u001b[39m\u001b[38;5;124m\"\u001b[39m)\n\u001b[1;32m--> 333\u001b[0m \u001b[38;5;28;01mraise\u001b[39;00m \u001b[38;5;167;01mAttributeError\u001b[39;00m(\u001b[38;5;124m\"\u001b[39m\u001b[38;5;124mmodule \u001b[39m\u001b[38;5;132;01m{!r}\u001b[39;00m\u001b[38;5;124m has no attribute \u001b[39m\u001b[38;5;124m\"\u001b[39m\n\u001b[0;32m    334\u001b[0m                      \u001b[38;5;124m\"\u001b[39m\u001b[38;5;132;01m{!r}\u001b[39;00m\u001b[38;5;124m\"\u001b[39m\u001b[38;5;241m.\u001b[39mformat(\u001b[38;5;18m__name__\u001b[39m, attr))\n",
      "\u001b[1;31mAttributeError\u001b[0m: module 'numpy' has no attribute 'pow'"
     ]
    }
   ],
   "source": [
    "# Square each element of an array\n",
    "M = np.array([1,2,3])\n",
    "m = np.pow(M,2)\n",
    "print(\"Square of Array:- \",m)"
   ]
  },
  {
   "cell_type": "code",
   "execution_count": 48,
   "id": "d8fea942-ccdc-47a1-820b-bb53e632bdfd",
   "metadata": {},
   "outputs": [
    {
     "ename": "AttributeError",
     "evalue": "module 'numpy' has no attribute 'pow'",
     "output_type": "error",
     "traceback": [
      "\u001b[1;31m---------------------------------------------------------------------------\u001b[0m",
      "\u001b[1;31mAttributeError\u001b[0m                            Traceback (most recent call last)",
      "Cell \u001b[1;32mIn[48], line 3\u001b[0m\n\u001b[0;32m      1\u001b[0m \u001b[38;5;66;03m# Cube each element of an array\u001b[39;00m\n\u001b[0;32m      2\u001b[0m N \u001b[38;5;241m=\u001b[39m np\u001b[38;5;241m.\u001b[39marray([\u001b[38;5;241m0\u001b[39m,\u001b[38;5;241m1\u001b[39m,\u001b[38;5;241m2\u001b[39m])\n\u001b[1;32m----> 3\u001b[0m n \u001b[38;5;241m=\u001b[39m np\u001b[38;5;241m.\u001b[39mpow(N,\u001b[38;5;241m3\u001b[39m)\n\u001b[0;32m      4\u001b[0m \u001b[38;5;28mprint\u001b[39m(\u001b[38;5;124m\"\u001b[39m\u001b[38;5;124mCube of Array:- \u001b[39m\u001b[38;5;124m\"\u001b[39m,n)\n",
      "File \u001b[1;32m~\\anaconda3\\Lib\\site-packages\\numpy\\__init__.py:333\u001b[0m, in \u001b[0;36m__getattr__\u001b[1;34m(attr)\u001b[0m\n\u001b[0;32m    330\u001b[0m     \u001b[38;5;124m\"\u001b[39m\u001b[38;5;124mRemoved in NumPy 1.25.0\u001b[39m\u001b[38;5;124m\"\u001b[39m\n\u001b[0;32m    331\u001b[0m     \u001b[38;5;28;01mraise\u001b[39;00m \u001b[38;5;167;01mRuntimeError\u001b[39;00m(\u001b[38;5;124m\"\u001b[39m\u001b[38;5;124mTester was removed in NumPy 1.25.\u001b[39m\u001b[38;5;124m\"\u001b[39m)\n\u001b[1;32m--> 333\u001b[0m \u001b[38;5;28;01mraise\u001b[39;00m \u001b[38;5;167;01mAttributeError\u001b[39;00m(\u001b[38;5;124m\"\u001b[39m\u001b[38;5;124mmodule \u001b[39m\u001b[38;5;132;01m{!r}\u001b[39;00m\u001b[38;5;124m has no attribute \u001b[39m\u001b[38;5;124m\"\u001b[39m\n\u001b[0;32m    334\u001b[0m                      \u001b[38;5;124m\"\u001b[39m\u001b[38;5;132;01m{!r}\u001b[39;00m\u001b[38;5;124m\"\u001b[39m\u001b[38;5;241m.\u001b[39mformat(\u001b[38;5;18m__name__\u001b[39m, attr))\n",
      "\u001b[1;31mAttributeError\u001b[0m: module 'numpy' has no attribute 'pow'"
     ]
    }
   ],
   "source": [
    "# Cube each element of an array\n",
    "N = np.array([0,1,2])\n",
    "n = np.pow(N,3)\n",
    "print(\"Cube of Array:- \",n)"
   ]
  },
  {
   "cell_type": "code",
   "execution_count": 34,
   "id": "77589f14-f8b3-4bb2-8ca9-c77e74e83744",
   "metadata": {},
   "outputs": [
    {
     "name": "stdout",
     "output_type": "stream",
     "text": [
      "Square root of Array:-  [2. 3. 4. 5. 6.]\n"
     ]
    }
   ],
   "source": [
    "# Root each element of an array\n",
    "O = np.array([4,9,16,25,36])\n",
    "o = np.sqrt(O)\n",
    "print(\"Square root of Array:- \",o)"
   ]
  },
  {
   "cell_type": "code",
   "execution_count": 49,
   "id": "f16104cd-1a24-4eec-aaa0-441968e2f68c",
   "metadata": {},
   "outputs": [
    {
     "name": "stdout",
     "output_type": "stream",
     "text": [
      "Dot product of P1 & P2:-  86\n"
     ]
    }
   ],
   "source": [
    "# Dot product of 2 arrays\n",
    "P1 = np.array([3,4,5])\n",
    "P2 = np.array([6,7,8])\n",
    "P3 = np.array([1,2,3,9])\n",
    "p = np.dot(P1,P2)\n",
    "# np.dot(P1,P3) --> Error\n",
    "# np.dot(P2,P3) --> Error\n",
    "print(\"Dot product of P1 & P2:- \",p)"
   ]
  },
  {
   "cell_type": "raw",
   "id": "b89ce656-c4fb-470c-b3b3-084e2466557c",
   "metadata": {},
   "source": [
    "# STATISTICAL FUNCTIONS"
   ]
  },
  {
   "cell_type": "code",
   "execution_count": 50,
   "id": "b66061f8-cf63-42f5-bc8d-853b5f3d5c07",
   "metadata": {},
   "outputs": [
    {
     "name": "stdout",
     "output_type": "stream",
     "text": [
      "Mean of array:-  5.5\n"
     ]
    }
   ],
   "source": [
    "# Mean of an array\n",
    "Q = np.array([2,5,6,9])\n",
    "q = np.mean(Q)\n",
    "print(\"Mean of array:- \",q)"
   ]
  },
  {
   "cell_type": "code",
   "execution_count": 51,
   "id": "d598d5e8-bca7-4bd0-8074-8f13b9d20424",
   "metadata": {},
   "outputs": [
    {
     "name": "stdout",
     "output_type": "stream",
     "text": [
      "Standard Deviation of  Array:-  1.479019945774904\n"
     ]
    }
   ],
   "source": [
    "# Standard deviation of an array\n",
    "R = np.array([4,6,8,5])\n",
    "r = np.std(R)\n",
    "print(\"Standard Deviation of  Array:- \",r)"
   ]
  },
  {
   "cell_type": "code",
   "execution_count": 52,
   "id": "d540cbc9-f82a-427a-8043-90b075145be3",
   "metadata": {},
   "outputs": [
    {
     "name": "stdout",
     "output_type": "stream",
     "text": [
      "Min of s:-  3\n"
     ]
    }
   ],
   "source": [
    "# Minimum element of an array\n",
    "S = np.array([5,4,9,6,3])\n",
    "s = np.min(S)\n",
    "print(\"Min of s:- \", s)"
   ]
  },
  {
   "cell_type": "raw",
   "id": "4958d41f-2891-49dc-af10-b19077ac1941",
   "metadata": {},
   "source": [
    "# Maximum element of an array\n",
    "T = np.array([4,7,5,2,1,3,6])\n",
    "t = np.max(T)\n",
    "print(\"Max of T:-\", t)"
   ]
  },
  {
   "cell_type": "raw",
   "id": "c25bc88c-e090-4ade-9245-5a3b54ba47e4",
   "metadata": {},
   "source": [
    "# LINEAR ALGEBRA FUNCTIONS"
   ]
  },
  {
   "cell_type": "code",
   "execution_count": 56,
   "id": "a8415971-22ef-4dc5-a4f7-19fd18a224e5",
   "metadata": {},
   "outputs": [
    {
     "name": "stdout",
     "output_type": "stream",
     "text": [
      "[[9 2 3]\n",
      " [4 8 6]\n",
      " [7 1 9]]\n"
     ]
    }
   ],
   "source": [
    "# Create a Matrix\n",
    "matrix = np.array([[9,2,3],[4,8,6],[7,1,9]])\n",
    "print(matrix)"
   ]
  },
  {
   "cell_type": "code",
   "execution_count": 57,
   "id": "6505122f-bb8e-4112-b112-eb238e8c6f6a",
   "metadata": {},
   "outputs": [
    {
     "name": "stdout",
     "output_type": "stream",
     "text": [
      "Determinant of matrix:-  450.00000000000045\n"
     ]
    }
   ],
   "source": [
    "# Determinant of a matrix\n",
    "determinant = np.linalg.det(matrix)\n",
    "print(\"Determinant of matrix:- \",determinant)"
   ]
  },
  {
   "cell_type": "code",
   "execution_count": null,
   "id": "829d2d3c-e39b-474b-b01d-a32f50ba7bca",
   "metadata": {},
   "outputs": [],
   "source": [
    "# Inverse of a matrix\n",
    "inverse = np.linalg.inv(matrix)\n",
    "print(\"Inverse of matrix:-\\n\",inverse)"
   ]
  },
  {
   "cell_type": "raw",
   "id": "1465973e-45ff-46e3-8783-08e0f23dedab",
   "metadata": {},
   "source": [
    "# RANDOM SAMPLING FUNCTIONS"
   ]
  },
  {
   "cell_type": "code",
   "execution_count": 58,
   "id": "dca68f8d-8fd5-416b-9cb2-92dc7604be87",
   "metadata": {},
   "outputs": [
    {
     "name": "stdout",
     "output_type": "stream",
     "text": [
      "Randon values:-  [0.55388082 0.50838801 0.53078729]\n"
     ]
    }
   ],
   "source": [
    "# # Generate random values between 0 and 1\n",
    "U = np.random.rand(3)\n",
    "print(\"Randon values:- \",U)                                     # Array of 3 random values between 0 and 1"
   ]
  },
  {
   "cell_type": "code",
   "execution_count": 59,
   "id": "8c5fdaaf-a22d-4d5c-8754-e91ab768d70d",
   "metadata": {},
   "outputs": [],
   "source": [
    "np.random.seed(0)    "
   ]
  },
  {
   "cell_type": "code",
   "execution_count": 60,
   "id": "5deb5a32-99ad-4a13-9fa1-b03d57e39d9d",
   "metadata": {},
   "outputs": [
    {
     "name": "stdout",
     "output_type": "stream",
     "text": [
      "Randon values seed:-  [0.5488135  0.71518937 0.60276338]\n"
     ]
    }
   ],
   "source": [
    "V = np.random.rand(3)\n",
    "print(\"Randon values seed:- \",V)"
   ]
  },
  {
   "cell_type": "code",
   "execution_count": 61,
   "id": "20ac8695-53d0-49a9-a0d7-acfb6485c51a",
   "metadata": {},
   "outputs": [
    {
     "name": "stdout",
     "output_type": "stream",
     "text": [
      "Random integers: [3 7 9 3 5]\n"
     ]
    }
   ],
   "source": [
    "# Generate random integers\n",
    "W = np.random.randint(0, 10, 5 )                 # Random integers between 0 and 10\n",
    "print(\"Random integers:\", W)"
   ]
  },
  {
   "cell_type": "code",
   "execution_count": null,
   "id": "0a161f3d-1025-46cb-be07-9ec35c77e74d",
   "metadata": {},
   "outputs": [],
   "source": [
    "np.random.seed(0)                                               # Setting seed for reproducibility\n",
    "X = np.random.randint(0, 10, 5 )                 # Random integers between 0 and 10\n",
    "print(\"Random integers:\", X)"
   ]
  },
  {
   "cell_type": "raw",
   "id": "9ea941dd-d5c7-4705-904e-3108e23634ab",
   "metadata": {},
   "source": [
    "# BOOLEAN & LOGICAL FUNCTIONS"
   ]
  },
  {
   "cell_type": "code",
   "execution_count": 64,
   "id": "72701f24-7aa8-49c3-b579-7f94178d55d3",
   "metadata": {},
   "outputs": [
    {
     "name": "stdout",
     "output_type": "stream",
     "text": [
      "Any elements True: True\n",
      "All elements True: False\n"
     ]
    }
   ],
   "source": [
    "logical_test = np.array([True, False, True])\n",
    "\n",
    "# Check if any elements are True\n",
    "any_true = np.any(logical_test)\n",
    "print(\"Any elements True:\", any_true)\n",
    "\n",
    "# Check if all elements are True\n",
    "all_true = np.all(logical_test)\n",
    "print(\"All elements True:\", all_true)"
   ]
  },
  {
   "cell_type": "raw",
   "id": "f95cbaa7-06fc-48aa-a6b7-db77f56a2f4a",
   "metadata": {},
   "source": [
    "# SET OPERATIONS"
   ]
  },
  {
   "cell_type": "code",
   "execution_count": 65,
   "id": "af43a41a-37e6-490a-bdff-fe787f1cde42",
   "metadata": {},
   "outputs": [
    {
     "name": "stdout",
     "output_type": "stream",
     "text": [
      "Intersection of a and b: [3 4]\n",
      "Union of a and b: [1 2 3 4 5 6]\n"
     ]
    }
   ],
   "source": [
    "set_a = np.array([1, 2, 3, 4])\n",
    "set_b = np.array([3, 4, 5, 6])\n",
    "\n",
    "# Intersection of two arrays\n",
    "intersection = np.intersect1d(set_a, set_b)\n",
    "print(\"Intersection of a and b:\", intersection)\n",
    "\n",
    "# Union of two arrays\n",
    "union = np.union1d(set_a, set_b)\n",
    "print(\"Union of a and b:\", union)\n"
   ]
  },
  {
   "cell_type": "code",
   "execution_count": null,
   "id": "f681186b-7113-4e10-9f90-86883aef553a",
   "metadata": {},
   "outputs": [],
   "source": []
  }
 ],
 "metadata": {
  "kernelspec": {
   "display_name": "Python [conda env:base] *",
   "language": "python",
   "name": "conda-base-py"
  },
  "language_info": {
   "codemirror_mode": {
    "name": "ipython",
    "version": 3
   },
   "file_extension": ".py",
   "mimetype": "text/x-python",
   "name": "python",
   "nbconvert_exporter": "python",
   "pygments_lexer": "ipython3",
   "version": "3.12.7"
  }
 },
 "nbformat": 4,
 "nbformat_minor": 5
}
