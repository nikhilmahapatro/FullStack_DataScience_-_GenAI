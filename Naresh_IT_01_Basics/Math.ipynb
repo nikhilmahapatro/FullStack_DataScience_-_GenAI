{
 "cells": [
  {
   "cell_type": "markdown",
   "id": "6e217b8f-98dc-4aee-a355-bbce153859a0",
   "metadata": {},
   "source": [
    "MATH"
   ]
  },
  {
   "cell_type": "code",
   "execution_count": 1,
   "id": "91b5dba6-6d4d-44ec-a9f1-2fc81c2f3a96",
   "metadata": {},
   "outputs": [],
   "source": [
    "# Math is a module, it has multiple functions\n",
    "import math as m"
   ]
  },
  {
   "cell_type": "code",
   "execution_count": 2,
   "id": "95d2c71b-c52c-4080-8384-4602bd21a0bd",
   "metadata": {},
   "outputs": [
    {
     "name": "stdout",
     "output_type": "stream",
     "text": [
      "5.0\n",
      "6.48074069840786\n"
     ]
    }
   ],
   "source": [
    "# Square root\n",
    "print(m.sqrt(25))\n",
    "print(m.sqrt(42))"
   ]
  },
  {
   "cell_type": "code",
   "execution_count": 3,
   "id": "59dbadb6-328d-4989-940d-9558a2a37849",
   "metadata": {},
   "outputs": [
    {
     "name": "stdout",
     "output_type": "stream",
     "text": [
      "12\n",
      "13\n"
     ]
    }
   ],
   "source": [
    "# Floor & Ceil\n",
    "print(m.floor(12.3))        # least value\n",
    "print(m.ceil(12.3))         # highest value"
   ]
  },
  {
   "cell_type": "code",
   "execution_count": 4,
   "id": "d97833b9-52b7-4e68-89c5-d87f178a6d6e",
   "metadata": {},
   "outputs": [
    {
     "name": "stdout",
     "output_type": "stream",
     "text": [
      "9.0\n",
      "125.0\n"
     ]
    }
   ],
   "source": [
    "# Power\n",
    "print(m.pow(3,2))     # 3 power 2 = 9\n",
    "print(m.pow(5,3))     # 5 power 3 = 125"
   ]
  },
  {
   "cell_type": "code",
   "execution_count": 5,
   "id": "f481850d-ee89-4017-b4b6-59fb1032c806",
   "metadata": {},
   "outputs": [
    {
     "name": "stdout",
     "output_type": "stream",
     "text": [
      "3.141592653589793\n",
      "2.718281828459045\n"
     ]
    }
   ],
   "source": [
    "# Constants\n",
    "print(m.pi)\n",
    "print(m.e)"
   ]
  },
  {
   "cell_type": "code",
   "execution_count": null,
   "id": "8079011e-4743-4383-92b7-eb13f0397d69",
   "metadata": {},
   "outputs": [],
   "source": []
  }
 ],
 "metadata": {
  "kernelspec": {
   "display_name": "Python [conda env:base] *",
   "language": "python",
   "name": "conda-base-py"
  },
  "language_info": {
   "codemirror_mode": {
    "name": "ipython",
    "version": 3
   },
   "file_extension": ".py",
   "mimetype": "text/x-python",
   "name": "python",
   "nbconvert_exporter": "python",
   "pygments_lexer": "ipython3",
   "version": "3.12.7"
  }
 },
 "nbformat": 4,
 "nbformat_minor": 5
}
