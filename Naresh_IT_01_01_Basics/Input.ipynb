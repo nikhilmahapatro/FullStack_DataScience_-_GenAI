{
 "cells": [
  {
   "cell_type": "markdown",
   "id": "12e5cb89-02ad-49c7-a194-b57c080d05b8",
   "metadata": {},
   "source": [
    "INPUT"
   ]
  },
  {
   "cell_type": "code",
   "execution_count": 27,
   "id": "c32575a8-5ac4-48c2-bc0b-85d392601cd2",
   "metadata": {},
   "outputs": [],
   "source": [
    "import math"
   ]
  },
  {
   "cell_type": "code",
   "execution_count": 4,
   "id": "8c715e69-5d71-4d1b-9fab-7f1c73461a07",
   "metadata": {},
   "outputs": [
    {
     "name": "stdin",
     "output_type": "stream",
     "text": [
      "Integer Input:-  45\n"
     ]
    },
    {
     "name": "stdout",
     "output_type": "stream",
     "text": [
      "Integer= 45\n"
     ]
    }
   ],
   "source": [
    "# integer as input from the user\n",
    "A= int(input(\"Integer Input:- \"))\n",
    "print(\"Integer= \"+str(A))"
   ]
  },
  {
   "cell_type": "code",
   "execution_count": 5,
   "id": "79b39b97-0a1a-4d3a-a8fb-742f23305666",
   "metadata": {},
   "outputs": [
    {
     "name": "stdin",
     "output_type": "stream",
     "text": [
      "Float Input:-  7.25\n"
     ]
    },
    {
     "name": "stdout",
     "output_type": "stream",
     "text": [
      "Float= 7.25\n"
     ]
    }
   ],
   "source": [
    "# float as input from the user\n",
    "B= float(input(\"Float Input:- \"))\n",
    "print(\"Float= \"+str(B))"
   ]
  },
  {
   "cell_type": "code",
   "execution_count": 8,
   "id": "24ee6ee9-c5ce-4464-9488-96dab9818cb9",
   "metadata": {},
   "outputs": [
    {
     "name": "stdin",
     "output_type": "stream",
     "text": [
      "Values:-   1 3  5 4 \n"
     ]
    },
    {
     "name": "stdout",
     "output_type": "stream",
     "text": [
      "multiple space-separated values:- ['1', '3', '5', '4']\n"
     ]
    }
   ],
   "source": [
    "# taking multiple space-separated values as input\n",
    "C=input(\"Values:- \").split()\n",
    "print(\"multiple space-separated values:- \"+ str(C))"
   ]
  },
  {
   "cell_type": "code",
   "execution_count": 9,
   "id": "b260389c-94c4-4284-9746-f1929db8868a",
   "metadata": {},
   "outputs": [
    {
     "name": "stdin",
     "output_type": "stream",
     "text": [
      "Check +ve/-ve:-  -65\n"
     ]
    },
    {
     "name": "stdout",
     "output_type": "stream",
     "text": [
      "Check +ve/-ve:- -65 is negative\n"
     ]
    }
   ],
   "source": [
    "# check if a number entered by the user is positive, negative, or zero\n",
    "D=int(input(\"Check +ve/-ve:- \"))\n",
    "if D>0:\n",
    "    d='positive'\n",
    "elif D<0:\n",
    "    d='negative'\n",
    "else:\n",
    "    d='zero'\n",
    "print(\"Check +ve/-ve:- \"+ str(D) +\" is \"+d)"
   ]
  },
  {
   "cell_type": "code",
   "execution_count": 10,
   "id": "5e060efd-15f7-459b-bdfe-cb65106954e4",
   "metadata": {},
   "outputs": [
    {
     "name": "stdin",
     "output_type": "stream",
     "text": [
      "Enter Numbers:-  426587625\n"
     ]
    },
    {
     "name": "stdout",
     "output_type": "stream",
     "text": [
      "[4, 2, 6, 5, 8, 7, 6, 2, 5]\n"
     ]
    }
   ],
   "source": [
    "# Convert user input to a list of integers\n",
    "E= [int(x) for x in input(\"Enter Numbers:- \")]\n",
    "print(E)"
   ]
  },
  {
   "cell_type": "code",
   "execution_count": 11,
   "id": "49690c21-e0c7-41cc-bae5-7d37c6bc4a39",
   "metadata": {},
   "outputs": [
    {
     "name": "stdin",
     "output_type": "stream",
     "text": [
      "Up_Str input:-  iufedcvbujrhcgvh\n"
     ]
    },
    {
     "name": "stdout",
     "output_type": "stream",
     "text": [
      "UpperCase String:- IUFEDCVBUJRHCGVH\n"
     ]
    }
   ],
   "source": [
    "#  How do you accept a string input and print it in uppercase?\n",
    "F= input(\"Up_Str input:- \")\n",
    "print(\"UpperCase String:- \"+ F.upper())"
   ]
  },
  {
   "cell_type": "code",
   "execution_count": 12,
   "id": "073d1b9b-9055-4b01-a13d-69b6b8398cfa",
   "metadata": {},
   "outputs": [
    {
     "name": "stdin",
     "output_type": "stream",
     "text": [
      "Enter expression:-  8-2+7*5/2\n"
     ]
    },
    {
     "name": "stdout",
     "output_type": "stream",
     "text": [
      "23.5\n"
     ]
    }
   ],
   "source": [
    "# Eval input\n",
    "G= eval(input(\"Enter expression:- \"))\n",
    "print(G)\n"
   ]
  },
  {
   "cell_type": "code",
   "execution_count": null,
   "id": "2a9bc710-a869-4fdf-b8b1-762e28ba367d",
   "metadata": {},
   "outputs": [],
   "source": [
    "# program that accepts a string and prints the number of vowels in it.\n",
    "# H"
   ]
  },
  {
   "cell_type": "code",
   "execution_count": 13,
   "id": "dbd8e97e-86ef-4a72-b2a4-c8fa0ba657a3",
   "metadata": {},
   "outputs": [
    {
     "name": "stdin",
     "output_type": "stream",
     "text": [
      "Enter Even/Odd Number:-  49\n"
     ]
    },
    {
     "name": "stdout",
     "output_type": "stream",
     "text": [
      "49 is Odd\n"
     ]
    }
   ],
   "source": [
    "# Check if integer input is even or odd\n",
    "I=int(input(\"Enter Even/Odd Number:- \"))\n",
    "if I%2==0:\n",
    "    print(str(I)+\" is Even\")\n",
    "else:\n",
    "    print(str(I) + \" is Odd\")"
   ]
  },
  {
   "cell_type": "code",
   "execution_count": 15,
   "id": "299a8f97-475c-45c1-920e-ea1539801617",
   "metadata": {},
   "outputs": [
    {
     "name": "stdin",
     "output_type": "stream",
     "text": [
      "Enter Check Palindrome:-  racecar\n"
     ]
    },
    {
     "name": "stdout",
     "output_type": "stream",
     "text": [
      "racecar is a Palindrome\n"
     ]
    }
   ],
   "source": [
    "# Check if a String is Palindrome or not\n",
    "J= input(\"Enter Check Palindrome:- \")\n",
    "if J==J[::-1]:\n",
    "    print(J+\" is a Palindrome\")\n",
    "else:\n",
    "    print(J+\" is not a Palindrome\")"
   ]
  },
  {
   "cell_type": "code",
   "execution_count": 16,
   "id": "8d1a01c6-f3e2-4395-9757-9742891c9231",
   "metadata": {},
   "outputs": [
    {
     "name": "stdin",
     "output_type": "stream",
     "text": [
      "Enter number to square:-  8\n"
     ]
    },
    {
     "name": "stdout",
     "output_type": "stream",
     "text": [
      "64 is the square of 8\n"
     ]
    }
   ],
   "source": [
    "# Square of the Input\n",
    "K= int(input(\"Enter number to square:- \"))\n",
    "print(str(K**2)+ \" is the square of \"+str(K))"
   ]
  },
  {
   "cell_type": "code",
   "execution_count": 17,
   "id": "a8146dba-019f-4b3c-afa7-26980bf96fbd",
   "metadata": {},
   "outputs": [
    {
     "name": "stdin",
     "output_type": "stream",
     "text": [
      "Divisibility check by 3:-  95\n"
     ]
    },
    {
     "name": "stdout",
     "output_type": "stream",
     "text": [
      "95 is not Divisible by 3\n"
     ]
    }
   ],
   "source": [
    "# Check if divisible by 3\n",
    "L= int(input(\"Divisibility check by 3:- \"))\n",
    "if L%3==0:\n",
    "    print(str(L)+\" is Divisible by 3\")\n",
    "else:\n",
    "    print(str(L) + \" is not Divisible by 3\")"
   ]
  },
  {
   "cell_type": "code",
   "execution_count": 18,
   "id": "c4198105-cbd9-4cb3-a40c-51ff1b9f9744",
   "metadata": {},
   "outputs": [
    {
     "name": "stdin",
     "output_type": "stream",
     "text": [
      "Divisibility check by both 3 and 7:-  21\n"
     ]
    },
    {
     "name": "stdout",
     "output_type": "stream",
     "text": [
      "21 is Divisible by both 3 and 7\n"
     ]
    }
   ],
   "source": [
    "# Check if divisible by both 3 and 7\n",
    "M=int(input(\"Divisibility check by both 3 and 7:- \"))\n",
    "if M%3==0 and M%7==0:\n",
    "    print(str(M)+\" is Divisible by both 3 and 7\")\n",
    "else:\n",
    "    print(str(M) + \" is not Divisible by both 3 and 7\")"
   ]
  },
  {
   "cell_type": "code",
   "execution_count": 19,
   "id": "052167f0-d45f-454b-b8a9-f1b02d8c7dd9",
   "metadata": {},
   "outputs": [
    {
     "name": "stdin",
     "output_type": "stream",
     "text": [
      "Enter coma separated values:-  d,d8,6,p,l,p,5,u\n"
     ]
    },
    {
     "name": "stdout",
     "output_type": "stream",
     "text": [
      "['d', 'd8', '6', 'p', 'l', 'p', '5', 'u']\n"
     ]
    }
   ],
   "source": [
    "#  Accept a list of comma-separated values as input\n",
    "N=input(\"Enter coma separated values:- \").split(',')\n",
    "print(N)"
   ]
  },
  {
   "cell_type": "code",
   "execution_count": 20,
   "id": "e39ec96c-5567-49f4-a53d-a7ad6e2ee2de",
   "metadata": {},
   "outputs": [
    {
     "name": "stdin",
     "output_type": "stream",
     "text": [
      "1st Number:-  75\n",
      "2nd Number:-  65\n"
     ]
    },
    {
     "name": "stdout",
     "output_type": "stream",
     "text": [
      "Product= 4875\n"
     ]
    }
   ],
   "source": [
    "# Take two numbers as input and print their product.\n",
    "O1=int(input(\"1st Number:- \"))\n",
    "O2=int(input(\"2nd Number:- \"))\n",
    "print(\"Product= \"+str(O1*O2))"
   ]
  },
  {
   "cell_type": "code",
   "execution_count": 23,
   "id": "ac3bb523-23f5-461b-8204-4d47bf00b654",
   "metadata": {},
   "outputs": [
    {
     "name": "stdin",
     "output_type": "stream",
     "text": [
      "Check Prime:-  3\n"
     ]
    },
    {
     "name": "stdout",
     "output_type": "stream",
     "text": [
      "3 is a Prime\n"
     ]
    }
   ],
   "source": [
    "# Check if input is prime number\n",
    "P=int(input(\"Check Prime:- \"))\n",
    "if P>1:\n",
    "    for i in range(2,P):\n",
    "        if P%i==0:\n",
    "            print(str(P)+\" is Not a Prime\")\n",
    "            break\n",
    "        else:\n",
    "            print(str(P)+\" is a Prime\")\n",
    "else:\n",
    "    print(str(P) + \" is Not a Prime\")"
   ]
  },
  {
   "cell_type": "code",
   "execution_count": 24,
   "id": "9c3a586d-1eba-4f6c-9629-bf7b02681085",
   "metadata": {},
   "outputs": [
    {
     "name": "stdin",
     "output_type": "stream",
     "text": [
      "Enter True or False:  true\n"
     ]
    },
    {
     "name": "stdout",
     "output_type": "stream",
     "text": [
      "Bool input:- True\n"
     ]
    }
   ],
   "source": [
    "#  Accept a boolean value from the user\n",
    "Q=input(\"Enter True or False: \").lower() == \"true\"\n",
    "print(\"Bool input:- \"+str(Q))"
   ]
  },
  {
   "cell_type": "code",
   "execution_count": 25,
   "id": "db371f50-9245-444f-9986-5720c7624544",
   "metadata": {},
   "outputs": [
    {
     "name": "stdin",
     "output_type": "stream",
     "text": [
      "Find factorial of:-  5\n"
     ]
    },
    {
     "name": "stdout",
     "output_type": "stream",
     "text": [
      "Factorial of 5 is 120\n"
     ]
    }
   ],
   "source": [
    "# Calculate factorial of input number\n",
    "R=int(input(\"Find factorial of:- \"))\n",
    "fact=1\n",
    "for j in range(1,R+1):\n",
    "    fact *= j\n",
    "print(\"Factorial of \"+str(R)+\" is \"+str(fact))"
   ]
  },
  {
   "cell_type": "code",
   "execution_count": 28,
   "id": "265c4601-56b8-4f23-81d0-820ae7a939ef",
   "metadata": {},
   "outputs": [
    {
     "name": "stdin",
     "output_type": "stream",
     "text": [
      "Check perfect square:-  81\n"
     ]
    },
    {
     "name": "stdout",
     "output_type": "stream",
     "text": [
      "81 is Perfect Square\n"
     ]
    }
   ],
   "source": [
    "# Check if input is perfect square\n",
    "S=int(input(\"Check perfect square:- \"))\n",
    "if math.sqrt(S)**2==S:\n",
    "    print(str(S)+\" is Perfect Square\")\n",
    "else:\n",
    "    print(str(S) + \" is Not Perfect Square\")"
   ]
  },
  {
   "cell_type": "code",
   "execution_count": 29,
   "id": "6e487c90-fa19-4d49-bcc8-eff05ca7ecc4",
   "metadata": {},
   "outputs": [
    {
     "name": "stdin",
     "output_type": "stream",
     "text": [
      "Check Leap year:-  1990\n"
     ]
    },
    {
     "name": "stdout",
     "output_type": "stream",
     "text": [
      "1990 is Not a Leap year\n"
     ]
    }
   ],
   "source": [
    "# Check Leap Year\n",
    "T=int(input(\"Check Leap year:- \"))\n",
    "if (T%4==0 and T%100!=0) or T%400==0:\n",
    "    print(str(T)+\" is a Leap year\")\n",
    "else:\n",
    "    print(str(T) + \" is Not a Leap year\")"
   ]
  },
  {
   "cell_type": "code",
   "execution_count": 30,
   "id": "11100246-3b79-44ec-a394-e399fa270f5c",
   "metadata": {},
   "outputs": [
    {
     "name": "stdin",
     "output_type": "stream",
     "text": [
      "Enter String:-   dfghjk          uhygv\n"
     ]
    },
    {
     "name": "stdout",
     "output_type": "stream",
     "text": [
      "dfghjk          uhygv\n"
     ]
    }
   ],
   "source": [
    "# Remove leading and trailing spaces from a string input?\n",
    "U=input(\"Enter String:- \").strip()\n",
    "print(U)"
   ]
  },
  {
   "cell_type": "code",
   "execution_count": 31,
   "id": "cf9214d0-8411-4fd1-b498-7e13f9d0cbc8",
   "metadata": {},
   "outputs": [
    {
     "name": "stdin",
     "output_type": "stream",
     "text": [
      "Enter Integer:-  ijhb\n"
     ]
    },
    {
     "name": "stdout",
     "output_type": "stream",
     "text": [
      "Invalid Input. Enter a valid integer.\n"
     ]
    }
   ],
   "source": [
    "#  Handling incorrect inputs when you expect an integer using `input()`?\n",
    "# Try-Except\n",
    "try:\n",
    "    V=int(input(\"Enter Integer:- \"))\n",
    "except ValueError:\n",
    "    print(\"Invalid Input. Enter a valid integer.\")"
   ]
  },
  {
   "cell_type": "code",
   "execution_count": 32,
   "id": "3ea98dbe-d545-4b3f-bb46-959cccf6f3bf",
   "metadata": {},
   "outputs": [],
   "source": [
    "# Accept a string and counts the occurrence of a particular character.\n",
    "# W"
   ]
  },
  {
   "cell_type": "code",
   "execution_count": 33,
   "id": "10360c0f-cdba-4d29-8c0f-2618f09caf4a",
   "metadata": {},
   "outputs": [
    {
     "name": "stdin",
     "output_type": "stream",
     "text": [
      "Enter String:-  ERTYUIokjhgfdcuRFGHIH\n"
     ]
    },
    {
     "name": "stdout",
     "output_type": "stream",
     "text": [
      "ertyuiokjhgfdcurfghih\n"
     ]
    }
   ],
   "source": [
    "# Convert user input to lowercase using input()\n",
    "X=input(\"Enter String:- \").lower()\n",
    "print(X)"
   ]
  },
  {
   "cell_type": "code",
   "execution_count": 34,
   "id": "ea5f89f3-42cf-4c6e-bec4-0e38bd2f9df5",
   "metadata": {},
   "outputs": [
    {
     "name": "stdin",
     "output_type": "stream",
     "text": [
      "Check only Alphabet string:-  ijuhgtghj85fcfvghjkl\n"
     ]
    },
    {
     "name": "stdout",
     "output_type": "stream",
     "text": [
      "String contains other characters\n"
     ]
    }
   ],
   "source": [
    "# Check if the input string contains only Alphabets\n",
    "Y=input(\"Check only Alphabet string:- \")\n",
    "if Y.isalpha():\n",
    "    print(\"String contains only Alphabets\")\n",
    "else:\n",
    "    print(\"String contains other characters\")"
   ]
  },
  {
   "cell_type": "code",
   "execution_count": 35,
   "id": "b6e67beb-e297-4df7-8b2a-f50b335f37a9",
   "metadata": {},
   "outputs": [
    {
     "name": "stdin",
     "output_type": "stream",
     "text": [
      "Count No of words:-  ygtf fghjk tgh jkoij fg hikjn gh jokijn j k hjkl\n"
     ]
    },
    {
     "name": "stdout",
     "output_type": "stream",
     "text": [
      "['ygtf', 'fghjk', 'tgh', 'jkoij', 'fg', 'hikjn', 'gh', 'jokijn', 'j', 'k', 'hjkl']\n",
      "11\n"
     ]
    }
   ],
   "source": [
    "# Count no of words in the sentence\n",
    "Z=input(\"Count No of words:- \").split(\" \")\n",
    "print(Z)\n",
    "print(len(Z))"
   ]
  },
  {
   "cell_type": "code",
   "execution_count": 36,
   "id": "fc01face-e1d3-45bf-ab28-11f2da9d6886",
   "metadata": {},
   "outputs": [],
   "source": [
    "# Accept date input from the user\n",
    "# AA"
   ]
  },
  {
   "cell_type": "code",
   "execution_count": 37,
   "id": "e8dfafff-9e48-436f-a724-cbb72f2556dc",
   "metadata": {},
   "outputs": [
    {
     "name": "stdin",
     "output_type": "stream",
     "text": [
      "Enter the string:-  dfghjk iuyhgfv ghjkl; oikjn tyuiklo ikjk\n"
     ]
    },
    {
     "name": "stdout",
     "output_type": "stream",
     "text": [
      "dfghjkiuyhgfvghjkl;oikjntyuikloikjk\n"
     ]
    }
   ],
   "source": [
    "# Take input from user and print without spaces\n",
    "BB=input(\"Enter the string:- \")\n",
    "print(BB.replace(\" \",\"\"))"
   ]
  },
  {
   "cell_type": "code",
   "execution_count": null,
   "id": "96cf3822-3633-440d-8597-37807698c58d",
   "metadata": {},
   "outputs": [],
   "source": []
  }
 ],
 "metadata": {
  "kernelspec": {
   "display_name": "Python [conda env:base] *",
   "language": "python",
   "name": "conda-base-py"
  },
  "language_info": {
   "codemirror_mode": {
    "name": "ipython",
    "version": 3
   },
   "file_extension": ".py",
   "mimetype": "text/x-python",
   "name": "python",
   "nbconvert_exporter": "python",
   "pygments_lexer": "ipython3",
   "version": "3.12.7"
  }
 },
 "nbformat": 4,
 "nbformat_minor": 5
}
