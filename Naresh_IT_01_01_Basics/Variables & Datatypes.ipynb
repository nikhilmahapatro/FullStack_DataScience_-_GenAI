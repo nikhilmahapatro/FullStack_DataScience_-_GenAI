{
 "cells": [
  {
   "cell_type": "markdown",
   "id": "d5490d46-51ce-4d8c-816e-da68f2d05ac8",
   "metadata": {},
   "source": [
    "# DATATYPES"
   ]
  },
  {
   "cell_type": "code",
   "execution_count": 2,
   "id": "4b818163-b54b-4672-a75a-33fa9e38b29c",
   "metadata": {},
   "outputs": [
    {
     "name": "stdout",
     "output_type": "stream",
     "text": [
      "<class 'int'>\n",
      "<class 'float'>\n",
      "<class 'complex'>\n",
      "<class 'str'>\n",
      "<class 'list'>\n",
      "<class 'dict'>\n",
      "<class 'set'>\n",
      "<class 'tuple'>\n",
      "<class 'bool'>\n",
      "<class 'bool'>\n"
     ]
    }
   ],
   "source": [
    "# Checking data types\n",
    "print(type(10))                  # Int\n",
    "print(type(3.14))                # Float\n",
    "print(type(1 + 3j))              # Complex\n",
    "print(type('prakashsenapati'))   # String\n",
    "print(type([1, 2, 3]))           # List\n",
    "print(type({'name':'senapati'})) # Dictionary\n",
    "print(type({9.8, 3.14, 2.7}))    # Set\n",
    "print(type((9.8, 3.14, 2.7)))    # Tuple\n",
    "print(type(3 == 3))              # Bool\n",
    "print(type(3 >= 3))              # Bool"
   ]
  },
  {
   "cell_type": "code",
   "execution_count": 4,
   "id": "7745e617-1285-4ca3-a44d-afafba17800a",
   "metadata": {},
   "outputs": [],
   "source": [
    "# Variables in Python\n",
    "first_name = 'PRAKASH'\n",
    "last_name = 'SENAPATI'\n",
    "country = 'HYD'\n",
    "city = 'TELENGANA'\n",
    "age = 40087\n",
    "is_married = True\n",
    "skills = ['HTML', 'CSS', 'JS', 'React', 'Python']\n",
    "person_info = {\n",
    "    'firstname':'Asabeneh',\n",
    "    'lastname':'Yetayeh',\n",
    "    'country':'Finland',\n",
    "    'city':'Helsinki'\n",
    "    }"
   ]
  },
  {
   "cell_type": "code",
   "execution_count": 5,
   "id": "bd92f57d-672f-40f6-bc79-a78fdce8122b",
   "metadata": {},
   "outputs": [
    {
     "name": "stdout",
     "output_type": "stream",
     "text": [
      "First name: PRAKASH\n",
      "First name length: 7\n",
      "Last name:  SENAPATI\n",
      "Last name length:  8\n",
      "Country:  HYD\n",
      "City:  TELENGANA\n",
      "Age:  40087\n",
      "Married:  True\n",
      "Skills:  ['HTML', 'CSS', 'JS', 'React', 'Python']\n",
      "Person information:  {'firstname': 'Asabeneh', 'lastname': 'Yetayeh', 'country': 'Finland', 'city': 'Helsinki'}\n"
     ]
    }
   ],
   "source": [
    "# Printing the values stored in the variables\n",
    "print('First name:', first_name)\n",
    "print('First name length:', len(first_name))\n",
    "print('Last name: ', last_name)\n",
    "print('Last name length: ', len(last_name))\n",
    "print('Country: ', country)\n",
    "print('City: ', city)\n",
    "print('Age: ', age)\n",
    "print('Married: ', is_married)\n",
    "print('Skills: ', skills)\n",
    "print('Person information: ', person_info)"
   ]
  },
  {
   "cell_type": "code",
   "execution_count": 6,
   "id": "d5dff945-fc6e-48aa-8564-2ea87eb68962",
   "metadata": {},
   "outputs": [
    {
     "name": "stdout",
     "output_type": "stream",
     "text": [
      "prakash senapati Helsink 250 True\n",
      "First name: prakash\n",
      "Last name:  senapati\n",
      "Country:  Helsink\n",
      "Age:  250\n",
      "Married:  True\n"
     ]
    }
   ],
   "source": [
    "# Declaring multiple variables in one line\n",
    "first_name, last_name, country, age, is_married = 'prakash', 'senapati', 'Helsink', 250, True\n",
    "\n",
    "print(first_name, last_name, country, age, is_married)\n",
    "print('First name:', first_name)\n",
    "print('Last name: ', last_name)\n",
    "print('Country: ', country)\n",
    "print('Age: ', age)\n",
    "print('Married: ', is_married)"
   ]
  },
  {
   "cell_type": "code",
   "execution_count": null,
   "id": "18149b5b-761c-494b-8a5d-4f6c47aa88a3",
   "metadata": {},
   "outputs": [],
   "source": []
  }
 ],
 "metadata": {
  "kernelspec": {
   "display_name": "Python [conda env:base] *",
   "language": "python",
   "name": "conda-base-py"
  },
  "language_info": {
   "codemirror_mode": {
    "name": "ipython",
    "version": 3
   },
   "file_extension": ".py",
   "mimetype": "text/x-python",
   "name": "python",
   "nbconvert_exporter": "python",
   "pygments_lexer": "ipython3",
   "version": "3.12.7"
  }
 },
 "nbformat": 4,
 "nbformat_minor": 5
}
