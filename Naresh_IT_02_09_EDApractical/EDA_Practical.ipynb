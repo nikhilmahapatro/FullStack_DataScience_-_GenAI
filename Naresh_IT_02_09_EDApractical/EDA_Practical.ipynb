{
 "cells": [
  {
   "cell_type": "markdown",
   "id": "2981d685-15e3-4bd9-8ac8-e4946fcf3bc8",
   "metadata": {},
   "source": [
    "# EDA PRACTICAL"
   ]
  },
  {
   "cell_type": "markdown",
   "id": "771eb419-7ecc-4ebc-8791-f24b56c2b07f",
   "metadata": {},
   "source": [
    "# Raw Data"
   ]
  },
  {
   "cell_type": "code",
   "execution_count": 2,
   "id": "185f71d0-3a48-4dde-a909-a7b7e0aa6936",
   "metadata": {},
   "outputs": [],
   "source": [
    "import pandas as pd"
   ]
  },
  {
   "cell_type": "code",
   "execution_count": 3,
   "id": "5b15959e-d8f5-4681-9928-96f853571964",
   "metadata": {},
   "outputs": [
    {
     "name": "stdout",
     "output_type": "stream",
     "text": [
      "2.2.2\n"
     ]
    }
   ],
   "source": [
    "print(pd.__version__)"
   ]
  },
  {
   "cell_type": "code",
   "execution_count": 4,
   "id": "6081aae4-e928-41a2-8d1b-7ff0476bf58e",
   "metadata": {},
   "outputs": [],
   "source": [
    "emp = pd.read_excel(r\"C:\\Users\\nikhi\\PycharmProjects\\NARESH_IT\\02_NARESH_IT_EDA\\Naresh_IT_09_EDApractical\\Rawdata.xlsx\")"
   ]
  },
  {
   "cell_type": "code",
   "execution_count": 5,
   "id": "1f62bef4-cd14-4df4-af12-18c73faec804",
   "metadata": {},
   "outputs": [
    {
     "name": "stdout",
     "output_type": "stream",
     "text": [
      "     Name          Domain       Age   Location   Salary      Exp\n",
      "0    Mike   Datascience#$  34 years     Mumbai   5^00#0       2+\n",
      "1  Teddy^         Testing    45' yr  Bangalore  10%%000       <3\n",
      "2   Uma#r  Dataanalyst^^#       NaN        NaN  1$5%000   4> yrs\n",
      "3    Jane     Ana^^lytics       NaN   Hyderbad   2000^0      NaN\n",
      "4  Uttam*      Statistics     67-yr        NaN   30000-  5+ year\n",
      "5     Kim             NLP      55yr      Delhi  6000^$0      10+\n"
     ]
    }
   ],
   "source": [
    "print(emp)"
   ]
  },
  {
   "cell_type": "code",
   "execution_count": 6,
   "id": "1d2da5d6-fdc6-4531-9aa0-f2104c0f2bd7",
   "metadata": {},
   "outputs": [
    {
     "name": "stdout",
     "output_type": "stream",
     "text": [
      "1394604419472\n"
     ]
    }
   ],
   "source": [
    "print(id(emp))"
   ]
  },
  {
   "cell_type": "code",
   "execution_count": 7,
   "id": "baf39bd5-bfee-4e3e-afcb-ec5140c6cebe",
   "metadata": {},
   "outputs": [
    {
     "name": "stdout",
     "output_type": "stream",
     "text": [
      "Index(['Name', 'Domain', 'Age', 'Location', 'Salary', 'Exp'], dtype='object')\n"
     ]
    }
   ],
   "source": [
    "print(emp.columns)"
   ]
  },
  {
   "cell_type": "code",
   "execution_count": 8,
   "id": "21c77f71-d128-4d32-b1a6-62d0f127bd10",
   "metadata": {},
   "outputs": [
    {
     "name": "stdout",
     "output_type": "stream",
     "text": [
      "(6, 6)\n"
     ]
    }
   ],
   "source": [
    "print(emp.shape)"
   ]
  },
  {
   "cell_type": "code",
   "execution_count": 9,
   "id": "dc353cd5-bc6a-46ff-b3dd-4a288b05cb06",
   "metadata": {},
   "outputs": [
    {
     "name": "stdout",
     "output_type": "stream",
     "text": [
      "     Name          Domain       Age   Location   Salary      Exp\n",
      "0    Mike   Datascience#$  34 years     Mumbai   5^00#0       2+\n",
      "1  Teddy^         Testing    45' yr  Bangalore  10%%000       <3\n",
      "2   Uma#r  Dataanalyst^^#       NaN        NaN  1$5%000   4> yrs\n",
      "3    Jane     Ana^^lytics       NaN   Hyderbad   2000^0      NaN\n",
      "4  Uttam*      Statistics     67-yr        NaN   30000-  5+ year\n"
     ]
    }
   ],
   "source": [
    "print(emp.head())"
   ]
  },
  {
   "cell_type": "code",
   "execution_count": 10,
   "id": "89d10684-b3f1-4a74-b30c-cc2a70d3d8e2",
   "metadata": {},
   "outputs": [
    {
     "name": "stdout",
     "output_type": "stream",
     "text": [
      "     Name          Domain     Age   Location   Salary      Exp\n",
      "1  Teddy^         Testing  45' yr  Bangalore  10%%000       <3\n",
      "2   Uma#r  Dataanalyst^^#     NaN        NaN  1$5%000   4> yrs\n",
      "3    Jane     Ana^^lytics     NaN   Hyderbad   2000^0      NaN\n",
      "4  Uttam*      Statistics   67-yr        NaN   30000-  5+ year\n",
      "5     Kim             NLP    55yr      Delhi  6000^$0      10+\n"
     ]
    }
   ],
   "source": [
    "print(emp.tail())"
   ]
  },
  {
   "cell_type": "code",
   "execution_count": 11,
   "id": "de47c1b9-985e-4c14-ae85-c9ef0f675e82",
   "metadata": {},
   "outputs": [
    {
     "name": "stdout",
     "output_type": "stream",
     "text": [
      "<class 'pandas.core.frame.DataFrame'>\n",
      "RangeIndex: 6 entries, 0 to 5\n",
      "Data columns (total 6 columns):\n",
      " #   Column    Non-Null Count  Dtype \n",
      "---  ------    --------------  ----- \n",
      " 0   Name      6 non-null      object\n",
      " 1   Domain    6 non-null      object\n",
      " 2   Age       4 non-null      object\n",
      " 3   Location  4 non-null      object\n",
      " 4   Salary    6 non-null      object\n",
      " 5   Exp       5 non-null      object\n",
      "dtypes: object(6)\n",
      "memory usage: 420.0+ bytes\n",
      "None\n"
     ]
    }
   ],
   "source": [
    "print(emp.info())"
   ]
  },
  {
   "cell_type": "code",
   "execution_count": 12,
   "id": "104c661a-f5e8-4aa0-9695-73eaa0ca398d",
   "metadata": {},
   "outputs": [
    {
     "name": "stdout",
     "output_type": "stream",
     "text": [
      "    Name  Domain    Age  Location  Salary    Exp\n",
      "0  False   False  False     False   False  False\n",
      "1  False   False  False     False   False  False\n",
      "2  False   False   True      True   False  False\n",
      "3  False   False   True     False   False   True\n",
      "4  False   False  False      True   False  False\n",
      "5  False   False  False     False   False  False\n"
     ]
    }
   ],
   "source": [
    "print(emp.isnull())"
   ]
  },
  {
   "cell_type": "code",
   "execution_count": 13,
   "id": "77740991-5345-4816-b7ed-8a6bef8cdfd0",
   "metadata": {},
   "outputs": [
    {
     "name": "stdout",
     "output_type": "stream",
     "text": [
      "    Name  Domain    Age  Location  Salary    Exp\n",
      "0  False   False  False     False   False  False\n",
      "1  False   False  False     False   False  False\n",
      "2  False   False   True      True   False  False\n",
      "3  False   False   True     False   False   True\n",
      "4  False   False  False      True   False  False\n",
      "5  False   False  False     False   False  False\n"
     ]
    }
   ],
   "source": [
    "print(emp.isna())"
   ]
  },
  {
   "cell_type": "code",
   "execution_count": 14,
   "id": "4524bbce-db92-447e-98b3-abb3d7e70a34",
   "metadata": {},
   "outputs": [
    {
     "name": "stdout",
     "output_type": "stream",
     "text": [
      "Name        0\n",
      "Domain      0\n",
      "Age         2\n",
      "Location    2\n",
      "Salary      0\n",
      "Exp         1\n",
      "dtype: int64\n"
     ]
    }
   ],
   "source": [
    "print(emp.isnull().sum())"
   ]
  },
  {
   "cell_type": "markdown",
   "id": "5840bfba-9675-4f62-8d9c-288f121b0758",
   "metadata": {},
   "source": [
    "# Data Cleaning/ Data Cleansing"
   ]
  },
  {
   "cell_type": "code",
   "execution_count": 15,
   "id": "df4e7536-516a-4fd0-b459-99d32d20e37e",
   "metadata": {},
   "outputs": [
    {
     "name": "stdout",
     "output_type": "stream",
     "text": [
      "     Name          Domain       Age   Location   Salary      Exp\n",
      "0    Mike   Datascience#$  34 years     Mumbai   5^00#0       2+\n",
      "1  Teddy^         Testing    45' yr  Bangalore  10%%000       <3\n",
      "2   Uma#r  Dataanalyst^^#       NaN        NaN  1$5%000   4> yrs\n",
      "3    Jane     Ana^^lytics       NaN   Hyderbad   2000^0      NaN\n",
      "4  Uttam*      Statistics     67-yr        NaN   30000-  5+ year\n",
      "5     Kim             NLP      55yr      Delhi  6000^$0      10+\n"
     ]
    }
   ],
   "source": [
    "print(emp)"
   ]
  },
  {
   "cell_type": "code",
   "execution_count": 16,
   "id": "ee9c173c-a3a7-4e2e-a376-0786f68c271a",
   "metadata": {},
   "outputs": [
    {
     "name": "stdout",
     "output_type": "stream",
     "text": [
      "0      Mike\n",
      "1    Teddy^\n",
      "2     Uma#r\n",
      "3      Jane\n",
      "4    Uttam*\n",
      "5       Kim\n",
      "Name: Name, dtype: object\n"
     ]
    }
   ],
   "source": [
    "print(emp['Name'])"
   ]
  },
  {
   "cell_type": "code",
   "execution_count": 17,
   "id": "fe5472de-718e-4043-8614-643096e2ba2b",
   "metadata": {},
   "outputs": [
    {
     "name": "stdout",
     "output_type": "stream",
     "text": [
      "0     Mike\n",
      "1    Teddy\n",
      "2     Umar\n",
      "3     Jane\n",
      "4    Uttam\n",
      "5      Kim\n",
      "Name: Name, dtype: object\n"
     ]
    }
   ],
   "source": [
    "# Name\n",
    "\n",
    "emp['Name'] = emp['Name'].str.replace(r'\\W','',regex=True)\n",
    "print(emp['Name'])"
   ]
  },
  {
   "cell_type": "code",
   "execution_count": 18,
   "id": "cb57e6b9-ed08-4c5a-84d8-b27c28b16f13",
   "metadata": {},
   "outputs": [
    {
     "name": "stdout",
     "output_type": "stream",
     "text": [
      "0    Datascience\n",
      "1        Testing\n",
      "2    Dataanalyst\n",
      "3      Analytics\n",
      "4     Statistics\n",
      "5            NLP\n",
      "Name: Domain, dtype: object\n"
     ]
    }
   ],
   "source": [
    "# Domain\n",
    "\n",
    "emp['Domain'] = emp['Domain'].str.replace(r'\\W','',regex=True)\n",
    "print(emp['Domain'])"
   ]
  },
  {
   "cell_type": "code",
   "execution_count": 19,
   "id": "0fe44fc3-348e-43be-99bc-22fc3c069e1f",
   "metadata": {},
   "outputs": [
    {
     "name": "stdout",
     "output_type": "stream",
     "text": [
      "0     34\n",
      "1     45\n",
      "2    NaN\n",
      "3    NaN\n",
      "4     67\n",
      "5     55\n",
      "Name: Age, dtype: object\n"
     ]
    }
   ],
   "source": [
    "# Age\n",
    "\n",
    "emp['Age'] = emp['Age'].str.extract('(\\\\d+)')\n",
    "print(emp['Age'])"
   ]
  },
  {
   "cell_type": "code",
   "execution_count": 20,
   "id": "369bad76-cf64-4f89-8cd5-7ba2069552d0",
   "metadata": {},
   "outputs": [
    {
     "name": "stdout",
     "output_type": "stream",
     "text": [
      "0       Mumbai\n",
      "1    Bangalore\n",
      "2          NaN\n",
      "3     Hyderbad\n",
      "4          NaN\n",
      "5        Delhi\n",
      "Name: Location, dtype: object\n"
     ]
    }
   ],
   "source": [
    "# Location\n",
    "\n",
    "emp['Location'] = emp['Location'].str.replace(r'\\W','',regex=True)\n",
    "print(emp['Location'])"
   ]
  },
  {
   "cell_type": "code",
   "execution_count": 21,
   "id": "af35bea2-7b44-4867-a034-d282ac24f81d",
   "metadata": {},
   "outputs": [
    {
     "name": "stdout",
     "output_type": "stream",
     "text": [
      "0     5000\n",
      "1    10000\n",
      "2    15000\n",
      "3    20000\n",
      "4    30000\n",
      "5    60000\n",
      "Name: Salary, dtype: object\n"
     ]
    }
   ],
   "source": [
    "# Salary\n",
    "\n",
    "emp['Salary'] = emp['Salary'].str.replace(r'\\W','',regex=True)\n",
    "print(emp['Salary'])"
   ]
  },
  {
   "cell_type": "code",
   "execution_count": 22,
   "id": "043277a2-ee86-4c4c-8f34-8117796334ba",
   "metadata": {},
   "outputs": [
    {
     "name": "stdout",
     "output_type": "stream",
     "text": [
      "0      2\n",
      "1      3\n",
      "2      4\n",
      "3    NaN\n",
      "4      5\n",
      "5     10\n",
      "Name: Exp, dtype: object\n"
     ]
    }
   ],
   "source": [
    "emp['Exp'] = emp['Exp'].str.extract('(\\\\d+)')\n",
    "print(emp['Exp'])"
   ]
  },
  {
   "cell_type": "code",
   "execution_count": 23,
   "id": "23120a73-7ec0-4b27-b752-70223c235d9f",
   "metadata": {},
   "outputs": [
    {
     "name": "stdout",
     "output_type": "stream",
     "text": [
      "    Name       Domain  Age   Location Salary  Exp\n",
      "0   Mike  Datascience   34     Mumbai   5000    2\n",
      "1  Teddy      Testing   45  Bangalore  10000    3\n",
      "2   Umar  Dataanalyst  NaN        NaN  15000    4\n",
      "3   Jane    Analytics  NaN   Hyderbad  20000  NaN\n",
      "4  Uttam   Statistics   67        NaN  30000    5\n",
      "5    Kim          NLP   55      Delhi  60000   10\n"
     ]
    }
   ],
   "source": [
    "print(emp)"
   ]
  },
  {
   "cell_type": "code",
   "execution_count": 24,
   "id": "86f121f2-ac33-4c2b-94fb-ac0a465e95f8",
   "metadata": {},
   "outputs": [],
   "source": [
    "# Removed all noisy characters from the dataset"
   ]
  },
  {
   "cell_type": "markdown",
   "id": "21420c79-e736-47dc-b7e6-d10dc71a8fca",
   "metadata": {},
   "source": [
    "# EDA Techniques"
   ]
  },
  {
   "cell_type": "code",
   "execution_count": 25,
   "id": "7f806101-c425-4c78-8da0-037fe16791d8",
   "metadata": {},
   "outputs": [],
   "source": [
    "import numpy as np"
   ]
  },
  {
   "cell_type": "code",
   "execution_count": 26,
   "id": "d18fb162-0260-4513-b1ef-c705acb9ba36",
   "metadata": {},
   "outputs": [
    {
     "name": "stdout",
     "output_type": "stream",
     "text": [
      "    Name       Domain  Age   Location Salary  Exp\n",
      "0   Mike  Datascience   34     Mumbai   5000    2\n",
      "1  Teddy      Testing   45  Bangalore  10000    3\n",
      "2   Umar  Dataanalyst  NaN        NaN  15000    4\n",
      "3   Jane    Analytics  NaN   Hyderbad  20000  NaN\n",
      "4  Uttam   Statistics   67        NaN  30000    5\n",
      "5    Kim          NLP   55      Delhi  60000   10\n"
     ]
    }
   ],
   "source": [
    "clean_data = emp.copy()\n",
    "print(clean_data)"
   ]
  },
  {
   "cell_type": "code",
   "execution_count": 27,
   "id": "a3705aa1-4d55-4338-bf3d-849d8f61d357",
   "metadata": {},
   "outputs": [
    {
     "data": {
      "text/plain": [
       "0     34\n",
       "1     45\n",
       "2    NaN\n",
       "3    NaN\n",
       "4     67\n",
       "5     55\n",
       "Name: Age, dtype: object"
      ]
     },
     "execution_count": 27,
     "metadata": {},
     "output_type": "execute_result"
    }
   ],
   "source": [
    "clean_data['Age']"
   ]
  },
  {
   "cell_type": "code",
   "execution_count": 28,
   "id": "d0b26d72-debf-4d09-8fff-08fbc3e8340d",
   "metadata": {},
   "outputs": [],
   "source": [
    "# MISSING VALUE TREATMENT"
   ]
  },
  {
   "cell_type": "code",
   "execution_count": 29,
   "id": "e08e19a6-208b-4f71-8f3e-b308a4c40301",
   "metadata": {},
   "outputs": [],
   "source": [
    "# replacing Null values with MEAN"
   ]
  },
  {
   "cell_type": "code",
   "execution_count": 30,
   "id": "6f8495d4-62b9-44cd-a642-fb8885e9d783",
   "metadata": {},
   "outputs": [],
   "source": [
    "clean_data['Age'] = clean_data['Age'].fillna(np.mean(pd.to_numeric(clean_data['Age'])))"
   ]
  },
  {
   "cell_type": "code",
   "execution_count": 31,
   "id": "44efab27-11b7-4fb1-9e1e-19f3b21dac52",
   "metadata": {},
   "outputs": [
    {
     "name": "stdout",
     "output_type": "stream",
     "text": [
      "0       34\n",
      "1       45\n",
      "2    50.25\n",
      "3    50.25\n",
      "4       67\n",
      "5       55\n",
      "Name: Age, dtype: object\n"
     ]
    }
   ],
   "source": [
    "print(clean_data['Age'])"
   ]
  },
  {
   "cell_type": "code",
   "execution_count": 32,
   "id": "358a878d-817c-40fd-b38e-96595c8dcec1",
   "metadata": {},
   "outputs": [],
   "source": [
    "# replacing Null values with MEAN\n",
    "clean_data['Exp'] = clean_data['Exp'].fillna(np.mean(pd.to_numeric(clean_data['Exp'])))"
   ]
  },
  {
   "cell_type": "code",
   "execution_count": 33,
   "id": "14e1ae06-f748-42ce-bf94-0721c6dfff9d",
   "metadata": {},
   "outputs": [
    {
     "name": "stdout",
     "output_type": "stream",
     "text": [
      "0      2\n",
      "1      3\n",
      "2      4\n",
      "3    4.8\n",
      "4      5\n",
      "5     10\n",
      "Name: Exp, dtype: object\n"
     ]
    }
   ],
   "source": [
    "print(clean_data['Exp'])"
   ]
  },
  {
   "cell_type": "code",
   "execution_count": 34,
   "id": "fb7cc248-625a-4331-8fea-5da4c6daa605",
   "metadata": {},
   "outputs": [],
   "source": [
    "# replacing Null values with MODE\n",
    "clean_data['Location'] = clean_data['Location'].fillna(clean_data['Location'].mode()[0])"
   ]
  },
  {
   "cell_type": "code",
   "execution_count": 35,
   "id": "2d59dedc-2ad8-4309-bdfa-8ff08e003616",
   "metadata": {},
   "outputs": [
    {
     "name": "stdout",
     "output_type": "stream",
     "text": [
      "0       Mumbai\n",
      "1    Bangalore\n",
      "2    Bangalore\n",
      "3     Hyderbad\n",
      "4    Bangalore\n",
      "5        Delhi\n",
      "Name: Location, dtype: object\n"
     ]
    }
   ],
   "source": [
    "print(clean_data['Location'])"
   ]
  },
  {
   "cell_type": "code",
   "execution_count": 36,
   "id": "839af37f-3cae-4d01-b50e-29eba569681d",
   "metadata": {},
   "outputs": [],
   "source": [
    "# Converting object datatype to integer for Salary, Exp, Age"
   ]
  },
  {
   "cell_type": "code",
   "execution_count": 37,
   "id": "fcec4d07-eaa8-4b10-a328-53c9098265fa",
   "metadata": {},
   "outputs": [],
   "source": [
    "clean_data['Salary']= clean_data['Salary'].astype(int)\n",
    "clean_data['Exp']= clean_data['Exp'].astype(int)\n",
    "clean_data['Age']= clean_data['Age'].astype(int)"
   ]
  },
  {
   "cell_type": "code",
   "execution_count": 38,
   "id": "d174686f-39ac-4afe-acdf-52d03bc562fa",
   "metadata": {},
   "outputs": [],
   "source": [
    "# Converting object datatype to categorical data for Name, Domain, Location"
   ]
  },
  {
   "cell_type": "code",
   "execution_count": 39,
   "id": "327cfc4c-585e-4a5a-a8b7-5f386d17d146",
   "metadata": {},
   "outputs": [],
   "source": [
    "clean_data['Name']= clean_data['Name'].astype('category')\n",
    "clean_data['Domain']= clean_data['Domain'].astype('category')\n",
    "clean_data['Location']= clean_data['Location'].astype('category')"
   ]
  },
  {
   "cell_type": "code",
   "execution_count": 40,
   "id": "9fd6805d-ee28-4774-9481-291f5024b531",
   "metadata": {},
   "outputs": [
    {
     "name": "stdout",
     "output_type": "stream",
     "text": [
      "    Name       Domain  Age   Location  Salary  Exp\n",
      "0   Mike  Datascience   34     Mumbai    5000    2\n",
      "1  Teddy      Testing   45  Bangalore   10000    3\n",
      "2   Umar  Dataanalyst   50  Bangalore   15000    4\n",
      "3   Jane    Analytics   50   Hyderbad   20000    4\n",
      "4  Uttam   Statistics   67  Bangalore   30000    5\n",
      "5    Kim          NLP   55      Delhi   60000   10\n"
     ]
    }
   ],
   "source": [
    "print(clean_data)"
   ]
  },
  {
   "cell_type": "code",
   "execution_count": 41,
   "id": "6e543947-8e57-4a85-bea9-fdde392af7e9",
   "metadata": {},
   "outputs": [],
   "source": [
    "# Data cleaning complete"
   ]
  },
  {
   "cell_type": "code",
   "execution_count": 42,
   "id": "010f8334-9513-488a-95c3-1dae9a70357d",
   "metadata": {},
   "outputs": [
    {
     "name": "stdout",
     "output_type": "stream",
     "text": [
      "<class 'pandas.core.frame.DataFrame'>\n",
      "RangeIndex: 6 entries, 0 to 5\n",
      "Data columns (total 6 columns):\n",
      " #   Column    Non-Null Count  Dtype \n",
      "---  ------    --------------  ----- \n",
      " 0   Name      6 non-null      object\n",
      " 1   Domain    6 non-null      object\n",
      " 2   Age       4 non-null      object\n",
      " 3   Location  4 non-null      object\n",
      " 4   Salary    6 non-null      object\n",
      " 5   Exp       5 non-null      object\n",
      "dtypes: object(6)\n",
      "memory usage: 420.0+ bytes\n",
      "None\n"
     ]
    }
   ],
   "source": [
    "print(emp.info())"
   ]
  },
  {
   "cell_type": "code",
   "execution_count": 43,
   "id": "575d280d-ce39-4183-bfa0-1cc5aa0f7193",
   "metadata": {},
   "outputs": [
    {
     "name": "stdout",
     "output_type": "stream",
     "text": [
      "<class 'pandas.core.frame.DataFrame'>\n",
      "RangeIndex: 6 entries, 0 to 5\n",
      "Data columns (total 6 columns):\n",
      " #   Column    Non-Null Count  Dtype   \n",
      "---  ------    --------------  -----   \n",
      " 0   Name      6 non-null      category\n",
      " 1   Domain    6 non-null      category\n",
      " 2   Age       6 non-null      int32   \n",
      " 3   Location  6 non-null      category\n",
      " 4   Salary    6 non-null      int32   \n",
      " 5   Exp       6 non-null      int32   \n",
      "dtypes: category(3), int32(3)\n",
      "memory usage: 866.0 bytes\n",
      "None\n"
     ]
    }
   ],
   "source": [
    "print(clean_data.info())"
   ]
  },
  {
   "cell_type": "code",
   "execution_count": 44,
   "id": "f8480bdd-1707-494f-8237-a5a639ae922d",
   "metadata": {},
   "outputs": [],
   "source": [
    "# Storing the clean data into the system"
   ]
  },
  {
   "cell_type": "code",
   "execution_count": 45,
   "id": "315676ea-63c2-464a-bbbb-4dc2afb65808",
   "metadata": {},
   "outputs": [],
   "source": [
    "clean_data.to_csv('clean_data.csv')"
   ]
  },
  {
   "cell_type": "code",
   "execution_count": 46,
   "id": "e40be119-5892-4ba5-8952-263cf2d6ba92",
   "metadata": {},
   "outputs": [
    {
     "data": {
      "text/plain": [
       "'C:\\\\Users\\\\nikhi'"
      ]
     },
     "execution_count": 46,
     "metadata": {},
     "output_type": "execute_result"
    }
   ],
   "source": [
    "import os\n",
    "os.getcwd()"
   ]
  },
  {
   "cell_type": "markdown",
   "id": "632b2170-a373-4a3e-b74c-cd1090ea9e10",
   "metadata": {},
   "source": [
    "# Visualisation"
   ]
  },
  {
   "cell_type": "code",
   "execution_count": 47,
   "id": "ce851eae-cc7e-4503-913a-e68472d6631f",
   "metadata": {},
   "outputs": [],
   "source": [
    "import matplotlib.pyplot as plt\n",
    "import seaborn as sns"
   ]
  },
  {
   "cell_type": "code",
   "execution_count": 48,
   "id": "604bf838-bc5d-407f-ae55-d1aa803a816a",
   "metadata": {},
   "outputs": [],
   "source": [
    "import warnings\n",
    "warnings.filterwarnings('ignore')"
   ]
  },
  {
   "cell_type": "code",
   "execution_count": 49,
   "id": "3bd94eba-6215-4ee2-af6e-5d8c815c0884",
   "metadata": {},
   "outputs": [
    {
     "data": {
      "text/plain": [
       "0     5000\n",
       "1    10000\n",
       "2    15000\n",
       "3    20000\n",
       "4    30000\n",
       "5    60000\n",
       "Name: Salary, dtype: int32"
      ]
     },
     "execution_count": 49,
     "metadata": {},
     "output_type": "execute_result"
    }
   ],
   "source": [
    "clean_data['Salary']"
   ]
  },
  {
   "cell_type": "code",
   "execution_count": 50,
   "id": "4be232bc-3abb-4b09-bf42-0b6874f61e3f",
   "metadata": {},
   "outputs": [],
   "source": [
    "# Univariate Analysis"
   ]
  },
  {
   "cell_type": "code",
   "execution_count": 51,
   "id": "6685059e-72c0-4c6e-9347-c04cf6c2c6e6",
   "metadata": {},
   "outputs": [
    {
     "data": {
      "image/png": "[encoded data removed]",
      "text/plain": [
       "<Figure size 640x480 with 1 Axes>"
      ]
     },
     "metadata": {},
     "output_type": "display_data"
    }
   ],
   "source": [
    "vis1 = sns.distplot(clean_data['Salary'])"
   ]
  },
  {
   "cell_type": "code",
   "execution_count": 52,
   "id": "995f2499-7483-4166-b30f-902600709cb9",
   "metadata": {},
   "outputs": [
    {
     "data": {
      "image/png": "[encoded data removed]",
      "text/plain": [
       "<Figure size 500x500 with 1 Axes>"
      ]
     },
     "metadata": {},
     "output_type": "display_data"
    }
   ],
   "source": [
    "vis2 = sns.displot(clean_data['Salary'])"
   ]
  },
  {
   "cell_type": "code",
   "execution_count": 53,
   "id": "0c1a4134-2e41-47ae-b8e7-08fb3820c9bc",
   "metadata": {},
   "outputs": [],
   "source": [
    "# Bivariate Analysis"
   ]
  },
  {
   "cell_type": "code",
   "execution_count": 54,
   "id": "306292f7-149b-4b93-a962-65a51e640a43",
   "metadata": {},
   "outputs": [
    {
     "data": {
      "image/png": "[encoded data removed]",
      "text/plain": [
       "<Figure size 500x500 with 1 Axes>"
      ]
     },
     "metadata": {},
     "output_type": "display_data"
    }
   ],
   "source": [
    "vis3 = sns.lmplot(data=clean_data, x='Exp', y='Salary')"
   ]
  },
  {
   "cell_type": "code",
   "execution_count": 55,
   "id": "2fad1d20-f7a7-4fce-8555-69f2a63df69f",
   "metadata": {},
   "outputs": [
    {
     "data": {
      "image/png": "[encoded data removed]",
      "text/plain": [
       "<Figure size 500x500 with 1 Axes>"
      ]
     },
     "metadata": {},
     "output_type": "display_data"
    }
   ],
   "source": [
    "vis4 = sns.lmplot(data=clean_data, x='Exp', y='Salary', fit_reg=False)"
   ]
  },
  {
   "cell_type": "code",
   "execution_count": 56,
   "id": "5b8fcf8a-5ff1-4280-80e7-9037226ee90d",
   "metadata": {},
   "outputs": [
    {
     "name": "stdout",
     "output_type": "stream",
     "text": [
      "    Name       Domain  Age   Location  Salary  Exp\n",
      "0   Mike  Datascience   34     Mumbai    5000    2\n",
      "1  Teddy      Testing   45  Bangalore   10000    3\n",
      "2   Umar  Dataanalyst   50  Bangalore   15000    4\n",
      "3   Jane    Analytics   50   Hyderbad   20000    4\n",
      "4  Uttam   Statistics   67  Bangalore   30000    5\n",
      "5    Kim          NLP   55      Delhi   60000   10\n"
     ]
    }
   ],
   "source": [
    "print(clean_data)"
   ]
  },
  {
   "cell_type": "code",
   "execution_count": 57,
   "id": "433c972c-c6af-4d68-8b75-35a20bf297f3",
   "metadata": {},
   "outputs": [
    {
     "name": "stdout",
     "output_type": "stream",
     "text": [
      "    Name       Domain  Age   Location  Exp\n",
      "0   Mike  Datascience   34     Mumbai    2\n",
      "1  Teddy      Testing   45  Bangalore    3\n",
      "2   Umar  Dataanalyst   50  Bangalore    4\n",
      "3   Jane    Analytics   50   Hyderbad    4\n",
      "4  Uttam   Statistics   67  Bangalore    5\n",
      "5    Kim          NLP   55      Delhi   10\n"
     ]
    }
   ],
   "source": [
    "# Independent varibles\n",
    "X_indvar = clean_data[['Name', 'Domain', 'Age', 'Location', 'Exp']]\n",
    "print(X_indvar)"
   ]
  },
  {
   "cell_type": "code",
   "execution_count": 58,
   "id": "84241cde-0812-46f1-b399-0a95789385ad",
   "metadata": {},
   "outputs": [
    {
     "name": "stdout",
     "output_type": "stream",
     "text": [
      "   Salary\n",
      "0    5000\n",
      "1   10000\n",
      "2   15000\n",
      "3   20000\n",
      "4   30000\n",
      "5   60000\n"
     ]
    }
   ],
   "source": [
    "# Dependent Variable\n",
    "Y_depvar = clean_data[['Salary']]\n",
    "print(Y_depvar)"
   ]
  },
  {
   "cell_type": "code",
   "execution_count": 59,
   "id": "04860d36-5440-4f1a-aaf5-83e5fd97db14",
   "metadata": {},
   "outputs": [],
   "source": [
    "# TRANSFORMERS"
   ]
  },
  {
   "cell_type": "code",
   "execution_count": 60,
   "id": "b9e75488-9b8b-4b20-b3c1-9bbcd64952ff",
   "metadata": {},
   "outputs": [
    {
     "name": "stdout",
     "output_type": "stream",
     "text": [
      "    Name       Domain  Age   Location  Salary  Exp\n",
      "0   Mike  Datascience   34     Mumbai    5000    2\n",
      "1  Teddy      Testing   45  Bangalore   10000    3\n",
      "2   Umar  Dataanalyst   50  Bangalore   15000    4\n",
      "3   Jane    Analytics   50   Hyderbad   20000    4\n",
      "4  Uttam   Statistics   67  Bangalore   30000    5\n",
      "5    Kim          NLP   55      Delhi   60000   10\n"
     ]
    }
   ],
   "source": [
    "print(clean_data)"
   ]
  },
  {
   "cell_type": "code",
   "execution_count": 61,
   "id": "8444a1b3-ae1c-487c-b93c-89f4d6356b1e",
   "metadata": {},
   "outputs": [],
   "source": [
    "imputation = pd.get_dummies(clean_data, dtype=int)"
   ]
  },
  {
   "cell_type": "code",
   "execution_count": 62,
   "id": "572e4c15-4ac9-4695-942a-3b900c26075a",
   "metadata": {},
   "outputs": [
    {
     "name": "stdout",
     "output_type": "stream",
     "text": [
      "   Age  Salary  Exp  Name_Jane  Name_Kim  Name_Mike  Name_Teddy  Name_Umar  \\\n",
      "0   34    5000    2          0         0          1           0          0   \n",
      "1   45   10000    3          0         0          0           1          0   \n",
      "2   50   15000    4          0         0          0           0          1   \n",
      "3   50   20000    4          1         0          0           0          0   \n",
      "4   67   30000    5          0         0          0           0          0   \n",
      "5   55   60000   10          0         1          0           0          0   \n",
      "\n",
      "   Name_Uttam  Domain_Analytics  Domain_Dataanalyst  Domain_Datascience  \\\n",
      "0           0                 0                   0                   1   \n",
      "1           0                 0                   0                   0   \n",
      "2           0                 0                   1                   0   \n",
      "3           0                 1                   0                   0   \n",
      "4           1                 0                   0                   0   \n",
      "5           0                 0                   0                   0   \n",
      "\n",
      "   Domain_NLP  Domain_Statistics  Domain_Testing  Location_Bangalore  \\\n",
      "0           0                  0               0                   0   \n",
      "1           0                  0               1                   1   \n",
      "2           0                  0               0                   1   \n",
      "3           0                  0               0                   0   \n",
      "4           0                  1               0                   1   \n",
      "5           1                  0               0                   0   \n",
      "\n",
      "   Location_Delhi  Location_Hyderbad  Location_Mumbai  \n",
      "0               0                  0                1  \n",
      "1               0                  0                0  \n",
      "2               0                  0                0  \n",
      "3               0                  1                0  \n",
      "4               0                  0                0  \n",
      "5               1                  0                0  \n"
     ]
    }
   ],
   "source": [
    "print(imputation)"
   ]
  },
  {
   "cell_type": "code",
   "execution_count": null,
   "id": "f88ef940-bf27-4051-b3f9-84e5cc6f1753",
   "metadata": {},
   "outputs": [],
   "source": []
  },
  {
   "cell_type": "code",
   "execution_count": null,
   "id": "5a33ae6c-f11e-45bd-b763-c7664bb35db3",
   "metadata": {},
   "outputs": [],
   "source": []
  },
  {
   "cell_type": "code",
   "execution_count": null,
   "id": "2dce4f31-6400-49c0-bdd2-3560d4f707a1",
   "metadata": {},
   "outputs": [],
   "source": []
  },
  {
   "cell_type": "code",
   "execution_count": null,
   "id": "bd948e8f-9a3b-4ba7-a8a0-fd0074d0207f",
   "metadata": {},
   "outputs": [],
   "source": []
  }
 ],
 "metadata": {
  "kernelspec": {
   "display_name": "Python [conda env:base] *",
   "language": "python",
   "name": "conda-base-py"
  },
  "language_info": {
   "codemirror_mode": {
    "name": "ipython",
    "version": 3
   },
   "file_extension": ".py",
   "mimetype": "text/x-python",
   "name": "python",
   "nbconvert_exporter": "python",
   "pygments_lexer": "ipython3",
   "version": "3.12.7"
  }
 },
 "nbformat": 4,
 "nbformat_minor": 5
}
