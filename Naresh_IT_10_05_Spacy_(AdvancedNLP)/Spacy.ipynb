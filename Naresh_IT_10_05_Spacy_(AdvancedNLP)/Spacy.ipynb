{
 "cells": [
  {
   "cell_type": "code",
   "execution_count": 1,
   "id": "489daa97-6b89-41d4-b17b-dfaa570c4cf2",
   "metadata": {},
   "outputs": [],
   "source": [
    "# !pip install spacy"
   ]
  },
  {
   "cell_type": "code",
   "execution_count": 2,
   "id": "af294089-8466-4102-b419-38f18a5c8993",
   "metadata": {},
   "outputs": [
    {
     "name": "stdout",
     "output_type": "stream",
     "text": [
      "Collecting numpy\n",
      "  Using cached numpy-2.3.2-cp312-cp312-win_amd64.whl.metadata (60 kB)\n",
      "Collecting h5py\n",
      "  Using cached h5py-3.14.0-cp312-cp312-win_amd64.whl.metadata (2.7 kB)\n",
      "Using cached numpy-2.3.2-cp312-cp312-win_amd64.whl (12.8 MB)\n",
      "Using cached h5py-3.14.0-cp312-cp312-win_amd64.whl (2.9 MB)\n",
      "Installing collected packages: numpy, h5py\n",
      "  Attempting uninstall: numpy\n",
      "    Found existing installation: numpy 2.3.2\n",
      "    Uninstalling numpy-2.3.2:\n",
      "      Successfully uninstalled numpy-2.3.2\n",
      "  Attempting uninstall: h5py\n",
      "    Found existing installation: h5py 3.14.0\n",
      "    Uninstalling h5py-3.14.0:\n",
      "      Successfully uninstalled h5py-3.14.0\n",
      "Successfully installed h5py-3.14.0 numpy-2.3.2\n",
      "Note: you may need to restart the kernel to use updated packages.\n"
     ]
    },
    {
     "name": "stderr",
     "output_type": "stream",
     "text": [
      "  WARNING: Failed to remove contents in a temporary directory 'C:\\Users\\nikhi\\anaconda3\\Lib\\site-packages\\~-mpy.libs'.\n",
      "  You can safely remove it manually.\n",
      "  WARNING: Failed to remove contents in a temporary directory 'C:\\Users\\nikhi\\anaconda3\\Lib\\site-packages\\~~mpy'.\n",
      "  You can safely remove it manually.\n",
      "ERROR: pip's dependency resolver does not currently take into account all the packages that are installed. This behaviour is the source of the following dependency conflicts.\n",
      "contourpy 1.2.0 requires numpy<2.0,>=1.20, but you have numpy 2.3.2 which is incompatible.\n",
      "gensim 4.3.3 requires numpy<2.0,>=1.18.5, but you have numpy 2.3.2 which is incompatible.\n",
      "numba 0.60.0 requires numpy<2.1,>=1.22, but you have numpy 2.3.2 which is incompatible.\n",
      "scipy 1.13.1 requires numpy<2.3,>=1.22.4, but you have numpy 2.3.2 which is incompatible.\n",
      "tensorflow 2.19.0 requires numpy<2.2.0,>=1.26.0, but you have numpy 2.3.2 which is incompatible.\n"
     ]
    }
   ],
   "source": [
    "# pip install --upgrade --force-reinstall numpy h5py"
   ]
  },
  {
   "cell_type": "code",
   "execution_count": 3,
   "id": "c1c33ba7-afb9-4240-b6ee-a918c72732c5",
   "metadata": {},
   "outputs": [
    {
     "name": "stdout",
     "output_type": "stream",
     "text": [
      "Collecting en-core-web-sm==3.8.0\n",
      "  Downloading https://github.com/explosion/spacy-models/releases/download/en_core_web_sm-3.8.0/en_core_web_sm-3.8.0-py3-none-any.whl (12.8 MB)\n",
      "     ---------------------------------------- 0.0/12.8 MB ? eta -:--:--\n",
      "     ---------------------------------------- 0.0/12.8 MB ? eta -:--:--\n",
      "     - -------------------------------------- 0.5/12.8 MB 1.9 MB/s eta 0:00:07\n",
      "     --- ------------------------------------ 1.0/12.8 MB 2.4 MB/s eta 0:00:05\n",
      "     ---- ----------------------------------- 1.3/12.8 MB 1.9 MB/s eta 0:00:06\n",
      "     ---- ----------------------------------- 1.6/12.8 MB 1.8 MB/s eta 0:00:07\n",
      "     ---- ----------------------------------- 1.6/12.8 MB 1.8 MB/s eta 0:00:07\n",
      "     ------ --------------------------------- 2.1/12.8 MB 1.6 MB/s eta 0:00:07\n",
      "     ------- -------------------------------- 2.4/12.8 MB 1.5 MB/s eta 0:00:07\n",
      "     -------- ------------------------------- 2.6/12.8 MB 1.5 MB/s eta 0:00:07\n",
      "     --------- ------------------------------ 2.9/12.8 MB 1.5 MB/s eta 0:00:07\n",
      "     --------- ------------------------------ 2.9/12.8 MB 1.5 MB/s eta 0:00:07\n",
      "     --------- ------------------------------ 3.1/12.8 MB 1.3 MB/s eta 0:00:08\n",
      "     ---------- ----------------------------- 3.4/12.8 MB 1.4 MB/s eta 0:00:07\n",
      "     ----------- ---------------------------- 3.7/12.8 MB 1.4 MB/s eta 0:00:07\n",
      "     ------------ --------------------------- 3.9/12.8 MB 1.4 MB/s eta 0:00:07\n",
      "     ------------- -------------------------- 4.2/12.8 MB 1.3 MB/s eta 0:00:07\n",
      "     ------------- -------------------------- 4.5/12.8 MB 1.3 MB/s eta 0:00:07\n",
      "     ------------- -------------------------- 4.5/12.8 MB 1.3 MB/s eta 0:00:07\n",
      "     -------------- ------------------------- 4.7/12.8 MB 1.2 MB/s eta 0:00:07\n",
      "     --------------- ------------------------ 5.0/12.8 MB 1.3 MB/s eta 0:00:07\n",
      "     ---------------- ----------------------- 5.2/12.8 MB 1.2 MB/s eta 0:00:07\n",
      "     ---------------- ----------------------- 5.2/12.8 MB 1.2 MB/s eta 0:00:07\n",
      "     ----------------- ---------------------- 5.5/12.8 MB 1.2 MB/s eta 0:00:07\n",
      "     ------------------ --------------------- 5.8/12.8 MB 1.2 MB/s eta 0:00:06\n",
      "     ------------------ --------------------- 6.0/12.8 MB 1.2 MB/s eta 0:00:06\n",
      "     ------------------- -------------------- 6.3/12.8 MB 1.2 MB/s eta 0:00:06\n",
      "     ------------------- -------------------- 6.3/12.8 MB 1.2 MB/s eta 0:00:06\n",
      "     -------------------- ------------------- 6.6/12.8 MB 1.2 MB/s eta 0:00:06\n",
      "     --------------------- ------------------ 6.8/12.8 MB 1.2 MB/s eta 0:00:06\n",
      "     ---------------------- ----------------- 7.1/12.8 MB 1.2 MB/s eta 0:00:05\n",
      "     ---------------------- ----------------- 7.3/12.8 MB 1.2 MB/s eta 0:00:05\n",
      "     ----------------------- ---------------- 7.6/12.8 MB 1.2 MB/s eta 0:00:05\n",
      "     ------------------------ --------------- 7.9/12.8 MB 1.2 MB/s eta 0:00:05\n",
      "     ------------------------ --------------- 7.9/12.8 MB 1.2 MB/s eta 0:00:05\n",
      "     ------------------------- -------------- 8.1/12.8 MB 1.1 MB/s eta 0:00:05\n",
      "     -------------------------- ------------- 8.4/12.8 MB 1.1 MB/s eta 0:00:04\n",
      "     -------------------------- ------------- 8.4/12.8 MB 1.1 MB/s eta 0:00:04\n",
      "     --------------------------- ------------ 8.9/12.8 MB 1.1 MB/s eta 0:00:04\n",
      "     --------------------------- ------------ 8.9/12.8 MB 1.1 MB/s eta 0:00:04\n",
      "     ---------------------------- ----------- 9.2/12.8 MB 1.1 MB/s eta 0:00:04\n",
      "     ----------------------------- ---------- 9.4/12.8 MB 1.1 MB/s eta 0:00:03\n",
      "     ------------------------------ --------- 9.7/12.8 MB 1.1 MB/s eta 0:00:03\n",
      "     ------------------------------- -------- 10.0/12.8 MB 1.1 MB/s eta 0:00:03\n",
      "     ------------------------------- -------- 10.2/12.8 MB 1.1 MB/s eta 0:00:03\n",
      "     -------------------------------- ------- 10.5/12.8 MB 1.1 MB/s eta 0:00:03\n",
      "     --------------------------------- ------ 10.7/12.8 MB 1.1 MB/s eta 0:00:02\n",
      "     --------------------------------- ------ 10.7/12.8 MB 1.1 MB/s eta 0:00:02\n",
      "     ---------------------------------- ----- 11.0/12.8 MB 1.1 MB/s eta 0:00:02\n",
      "     ----------------------------------- ---- 11.3/12.8 MB 1.1 MB/s eta 0:00:02\n",
      "     ------------------------------------ --- 11.5/12.8 MB 1.1 MB/s eta 0:00:02\n",
      "     ------------------------------------ --- 11.5/12.8 MB 1.1 MB/s eta 0:00:02\n",
      "     ------------------------------------ --- 11.8/12.8 MB 1.1 MB/s eta 0:00:01\n",
      "     ------------------------------------- -- 12.1/12.8 MB 1.1 MB/s eta 0:00:01\n",
      "     -------------------------------------- - 12.3/12.8 MB 1.1 MB/s eta 0:00:01\n",
      "     ---------------------------------------  12.6/12.8 MB 1.1 MB/s eta 0:00:01\n",
      "     ---------------------------------------- 12.8/12.8 MB 1.1 MB/s eta 0:00:00\n",
      "Installing collected packages: en-core-web-sm\n",
      "Successfully installed en-core-web-sm-3.8.0\n",
      "\u001b[38;5;2m[+] Download and installation successful\u001b[0m\n",
      "You can now load the package via spacy.load('en_core_web_sm')\n"
     ]
    }
   ],
   "source": [
    "# en_core_web_sm = english laguage from core web small content\n",
    "# en_core_web_md = english laguage from core web medium content\n",
    "# en_core_web_lg = english laguage from core web large content\n",
    "\n",
    "# !python -m spacy download en_core_web_sm"
   ]
  },
  {
   "cell_type": "code",
   "execution_count": 5,
   "id": "29037597-c7e7-4692-b3fd-a5f930120ae3",
   "metadata": {},
   "outputs": [],
   "source": [
    "import spacy\n",
    "\n",
    "# Load the english Language model\n",
    "nlp = spacy.load(\"en_core_web_sm\")\n",
    "\n",
    "# Example Text\n",
    "text = \"The food at the restaurant was absolutely amazing, but the service could have been better. I’m not sure if I’ll visit again, although the desserts were delightful.\"\n",
    "\n",
    "# Process the text\n",
    "doc = nlp(text)"
   ]
  },
  {
   "cell_type": "code",
   "execution_count": 6,
   "id": "7655c178-3054-459e-8234-8879e8b15b02",
   "metadata": {},
   "outputs": [
    {
     "data": {
      "text/plain": [
       "The food at the restaurant was absolutely amazing, but the service could have been better. I’m not sure if I’ll visit again, although the desserts were delightful."
      ]
     },
     "execution_count": 6,
     "metadata": {},
     "output_type": "execute_result"
    }
   ],
   "source": [
    "doc"
   ]
  },
  {
   "cell_type": "code",
   "execution_count": 7,
   "id": "eb8a9902-1561-4a98-ba24-9a4324c73179",
   "metadata": {},
   "outputs": [
    {
     "name": "stdout",
     "output_type": "stream",
     "text": [
      "The\n",
      "food\n",
      "at\n",
      "the\n",
      "restaurant\n",
      "was\n",
      "absolutely\n",
      "amazing\n",
      ",\n",
      "but\n",
      "the\n",
      "service\n",
      "could\n",
      "have\n",
      "been\n",
      "better\n",
      ".\n",
      "I\n",
      "’m\n",
      "not\n",
      "sure\n",
      "if\n",
      "I\n",
      "’ll\n",
      "visit\n",
      "again\n",
      ",\n",
      "although\n",
      "the\n",
      "desserts\n",
      "were\n",
      "delightful\n",
      ".\n"
     ]
    }
   ],
   "source": [
    "# Tokenization\n",
    "\n",
    "for token in doc:\n",
    "    print(token.text)"
   ]
  },
  {
   "cell_type": "code",
   "execution_count": 8,
   "id": "f69b253f-6a63-42ce-ad2d-49880c858203",
   "metadata": {},
   "outputs": [
    {
     "name": "stdout",
     "output_type": "stream",
     "text": [
      "DET\n",
      "NOUN\n",
      "ADP\n",
      "DET\n",
      "NOUN\n",
      "AUX\n",
      "ADV\n",
      "ADJ\n",
      "PUNCT\n",
      "CCONJ\n",
      "DET\n",
      "NOUN\n",
      "AUX\n",
      "AUX\n",
      "AUX\n",
      "ADJ\n",
      "PUNCT\n",
      "PRON\n",
      "VERB\n",
      "PART\n",
      "ADJ\n",
      "SCONJ\n",
      "PRON\n",
      "AUX\n",
      "VERB\n",
      "ADV\n",
      "PUNCT\n",
      "SCONJ\n",
      "DET\n",
      "NOUN\n",
      "AUX\n",
      "ADJ\n",
      "PUNCT\n"
     ]
    }
   ],
   "source": [
    "# Parts of Speech\n",
    "\n",
    "for token in doc:\n",
    "    print(token.pos_)"
   ]
  },
  {
   "cell_type": "code",
   "execution_count": 9,
   "id": "a7bae54e-34a5-4fbf-874d-2ebc7517aa28",
   "metadata": {},
   "outputs": [
    {
     "name": "stdout",
     "output_type": "stream",
     "text": [
      "The  :  DET\n",
      "food  :  NOUN\n",
      "at  :  ADP\n",
      "the  :  DET\n",
      "restaurant  :  NOUN\n",
      "was  :  AUX\n",
      "absolutely  :  ADV\n",
      "amazing  :  ADJ\n",
      ",  :  PUNCT\n",
      "but  :  CCONJ\n",
      "the  :  DET\n",
      "service  :  NOUN\n",
      "could  :  AUX\n",
      "have  :  AUX\n",
      "been  :  AUX\n",
      "better  :  ADJ\n",
      ".  :  PUNCT\n",
      "I  :  PRON\n",
      "’m  :  VERB\n",
      "not  :  PART\n",
      "sure  :  ADJ\n",
      "if  :  SCONJ\n",
      "I  :  PRON\n",
      "’ll  :  AUX\n",
      "visit  :  VERB\n",
      "again  :  ADV\n",
      ",  :  PUNCT\n",
      "although  :  SCONJ\n",
      "the  :  DET\n",
      "desserts  :  NOUN\n",
      "were  :  AUX\n",
      "delightful  :  ADJ\n",
      ".  :  PUNCT\n"
     ]
    }
   ],
   "source": [
    "# Tokenization : Parts of Speech\n",
    "\n",
    "for token in doc:\n",
    "    print(token.text, \" : \", token.pos_)"
   ]
  },
  {
   "cell_type": "code",
   "execution_count": 10,
   "id": "8de2714e-7b50-45c5-98ed-8bd16025c79a",
   "metadata": {},
   "outputs": [
    {
     "name": "stdout",
     "output_type": "stream",
     "text": [
      "The the DET DT det Xxx True True\n",
      "food food NOUN NN nsubj xxxx True False\n",
      "at at ADP IN prep xx True True\n",
      "the the DET DT det xxx True True\n",
      "restaurant restaurant NOUN NN pobj xxxx True False\n",
      "was be AUX VBD ROOT xxx True True\n",
      "absolutely absolutely ADV RB advmod xxxx True False\n",
      "amazing amazing ADJ JJ acomp xxxx True False\n",
      ", , PUNCT , punct , False False\n",
      "but but CCONJ CC cc xxx True True\n",
      "the the DET DT det xxx True True\n",
      "service service NOUN NN nsubj xxxx True False\n",
      "could could AUX MD aux xxxx True True\n",
      "have have AUX VB aux xxxx True True\n",
      "been be AUX VBN conj xxxx True True\n",
      "better well ADJ JJR acomp xxxx True False\n",
      ". . PUNCT . punct . False False\n",
      "I I PRON PRP nsubj X True True\n",
      "’m ’m VERB VBZ ROOT ’x False True\n",
      "not not PART RB neg xxx True True\n",
      "sure sure ADJ JJ acomp xxxx True False\n",
      "if if SCONJ IN mark xx True True\n",
      "I I PRON PRP nsubj X True True\n",
      "’ll ’ll AUX MD aux ’xx False True\n",
      "visit visit VERB VB advcl xxxx True False\n",
      "again again ADV RB advmod xxxx True True\n",
      ", , PUNCT , punct , False False\n",
      "although although SCONJ IN mark xxxx True True\n",
      "the the DET DT det xxx True True\n",
      "desserts dessert NOUN NNS nsubj xxxx True False\n",
      "were be AUX VBD advcl xxxx True True\n",
      "delightful delightful ADJ JJ acomp xxxx True False\n",
      ". . PUNCT . punct . False False\n"
     ]
    }
   ],
   "source": [
    "for token in doc:\n",
    "    print(token.text, token.lemma_, token.pos_, token.tag_, token.dep_,\n",
    "            token.shape_, token.is_alpha, token.is_stop)"
   ]
  },
  {
   "cell_type": "code",
   "execution_count": null,
   "id": "5d109803-bb60-41d8-8090-eb2fbca80b8d",
   "metadata": {},
   "outputs": [],
   "source": []
  }
 ],
 "metadata": {
  "kernelspec": {
   "display_name": "Python [conda env:base] *",
   "language": "python",
   "name": "conda-base-py"
  },
  "language_info": {
   "codemirror_mode": {
    "name": "ipython",
    "version": 3
   },
   "file_extension": ".py",
   "mimetype": "text/x-python",
   "name": "python",
   "nbconvert_exporter": "python",
   "pygments_lexer": "ipython3",
   "version": "3.12.7"
  }
 },
 "nbformat": 4,
 "nbformat_minor": 5
}
