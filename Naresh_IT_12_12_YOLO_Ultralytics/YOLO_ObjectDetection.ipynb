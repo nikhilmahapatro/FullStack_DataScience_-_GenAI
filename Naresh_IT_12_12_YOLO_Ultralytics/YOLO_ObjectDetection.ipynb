{
  "nbformat": 4,
  "nbformat_minor": 0,
  "metadata": {
    "colab": {
      "provenance": []
    },
    "kernelspec": {
      "name": "python3",
      "display_name": "Python 3"
    },
    "language_info": {
      "name": "python"
    }
  },
  "cells": [
    {
      "cell_type": "code",
      "execution_count": 1,
      "metadata": {
        "colab": {
          "base_uri": "https://localhost:8080/"
        },
        "id": "4RHEwzT6e4YD",
        "outputId": "668b769e-2f3b-4be3-c108-7e12205cabbc"
      },
      "outputs": [
        {
          "output_type": "stream",
          "name": "stdout",
          "text": [
            "Ultralytics 8.3.197 🚀 Python-3.12.11 torch-2.8.0+cu126 CPU (Intel Xeon CPU @ 2.20GHz)\n",
            "Setup complete ✅ (2 CPUs, 12.7 GB RAM, 39.1/107.7 GB disk)\n"
          ]
        }
      ],
      "source": [
        "%pip install ultralytics\n",
        "import ultralytics\n",
        "ultralytics.checks()"
      ]
    },
    {
      "cell_type": "code",
      "source": [
        "# Run inference on an image with YOLO11n\n",
        "!yolo predict model=yolo11n.pt source='https://ultralytics.com/images/zidane.jpg'"
      ],
      "metadata": {
        "colab": {
          "base_uri": "https://localhost:8080/"
        },
        "id": "UlUUxxrmfe7s",
        "outputId": "c20d7665-4a5e-433a-8221-9ef1ab46f7ad"
      },
      "execution_count": 5,
      "outputs": [
        {
          "output_type": "stream",
          "name": "stdout",
          "text": [
            "Ultralytics 8.3.197 🚀 Python-3.12.11 torch-2.8.0+cu126 CPU (Intel Xeon CPU @ 2.20GHz)\n",
            "YOLO11n summary (fused): 100 layers, 2,616,248 parameters, 0 gradients, 6.5 GFLOPs\n",
            "\n",
            "\u001b[KDownloading https://ultralytics.com/images/zidane.jpg to 'zidane.jpg': 100% ━━━━━━━━━━━━ 49.2KB 25.6MB/s 0.0s\n",
            "image 1/1 /content/zidane.jpg: 384x640 2 persons, 1 tie, 226.6ms\n",
            "Speed: 22.8ms preprocess, 226.6ms inference, 39.9ms postprocess per image at shape (1, 3, 384, 640)\n",
            "Results saved to \u001b[1m/content/runs/detect/predict\u001b[0m\n",
            "💡 Learn more at https://docs.ultralytics.com/modes/predict\n"
          ]
        }
      ]
    },
    {
      "cell_type": "code",
      "source": [
        "# Run inference on an image with YOLO11n\n",
        "!yolo predict model=yolo11n.pt source='https://images.picxy.com/cache/2019/7/25/7cb6f63a656f23f38c4fff9a4cf219bc.jpg'"
      ],
      "metadata": {
        "colab": {
          "base_uri": "https://localhost:8080/"
        },
        "id": "W9SWbR97gIqk",
        "outputId": "ce4fbe4a-a8d5-4f9e-b5fd-8850c7b8c753"
      },
      "execution_count": 6,
      "outputs": [
        {
          "output_type": "stream",
          "name": "stdout",
          "text": [
            "Ultralytics 8.3.197 🚀 Python-3.12.11 torch-2.8.0+cu126 CPU (Intel Xeon CPU @ 2.20GHz)\n",
            "YOLO11n summary (fused): 100 layers, 2,616,248 parameters, 0 gradients, 6.5 GFLOPs\n",
            "\n",
            "\u001b[KDownloading https://images.picxy.com/cache/2019/7/25/7cb6f63a656f23f38c4fff9a4cf219bc.jpg to '7cb6f63a656f23f38c4fff9a4cf219bc.jpg': 100% ━━━━━━━━━━━━ 419.9KB 12.7MB/s 0.0s\n",
            "image 1/1 /content/7cb6f63a656f23f38c4fff9a4cf219bc.jpg: 448x640 1 person, 1 cup, 1 chair, 2 laptops, 191.7ms\n",
            "Speed: 4.0ms preprocess, 191.7ms inference, 3.2ms postprocess per image at shape (1, 3, 448, 640)\n",
            "Results saved to \u001b[1m/content/runs/detect/predict2\u001b[0m\n",
            "💡 Learn more at https://docs.ultralytics.com/modes/predict\n"
          ]
        }
      ]
    },
    {
      "cell_type": "code",
      "source": [],
      "metadata": {
        "id": "g0zo2X6dhWbl"
      },
      "execution_count": null,
      "outputs": []
    }
  ]
}