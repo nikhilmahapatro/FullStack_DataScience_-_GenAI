{
 "cells": [
  {
   "cell_type": "markdown",
   "id": "6d3b71c3-88e9-4cb4-80b9-9fda374f986b",
   "metadata": {},
   "source": [
    "# CONDITIONAL STATEMENTS"
   ]
  },
  {
   "cell_type": "markdown",
   "id": "67c7010f-28df-4018-9fb8-2de4bcab3f1f",
   "metadata": {},
   "source": [
    "# if"
   ]
  },
  {
   "cell_type": "code",
   "execution_count": 18,
   "id": "a04e1796-db5d-4f40-9c6f-d6d5dd15a079",
   "metadata": {},
   "outputs": [
    {
     "name": "stdout",
     "output_type": "stream",
     "text": [
      "If True\n"
     ]
    }
   ],
   "source": [
    "if True:\n",
    "    print(\"If True\")"
   ]
  },
  {
   "cell_type": "code",
   "execution_count": 19,
   "id": "49bae522-a0cb-4f04-b913-7691e5487cdc",
   "metadata": {},
   "outputs": [],
   "source": [
    "if False:\n",
    "    print(\"If False\")"
   ]
  },
  {
   "cell_type": "code",
   "execution_count": 20,
   "id": "2a6db8aa-707e-4a94-9192-6f06ff4cd323",
   "metadata": {},
   "outputs": [
    {
     "name": "stdout",
     "output_type": "stream",
     "text": [
      "Even Number\n"
     ]
    }
   ],
   "source": [
    "# Python program to check even number\n",
    "a1 = 4\n",
    "a2 = a1 % 2\n",
    "if a2==0:\n",
    "    print(\"Even Number\")\n",
    "if a2==1:\n",
    "    print(\"Odd Number\")\n",
    "# Writing multiple 'ifs' increases space complexity"
   ]
  },
  {
   "cell_type": "markdown",
   "id": "dff03237-1911-4af5-a618-15cbe44e9b86",
   "metadata": {},
   "source": [
    "# if else"
   ]
  },
  {
   "cell_type": "code",
   "execution_count": 21,
   "id": "2d277806-1f12-491f-85df-dc1329d883f3",
   "metadata": {},
   "outputs": [
    {
     "name": "stdout",
     "output_type": "stream",
     "text": [
      "Data Science\n"
     ]
    }
   ],
   "source": [
    "if True:\n",
    "    print(\"Data Science\")\n",
    "else:\n",
    "    print(\"See you later\")"
   ]
  },
  {
   "cell_type": "code",
   "execution_count": 22,
   "id": "22d39f28-c392-4d94-967f-1714f86ed649",
   "metadata": {},
   "outputs": [
    {
     "name": "stdout",
     "output_type": "stream",
     "text": [
      "Even Number\n"
     ]
    }
   ],
   "source": [
    "# Python program to check even number\n",
    "b1 = 4\n",
    "b2 = a1 % 2\n",
    "if b2==0:\n",
    "    print(\"Even Number\")\n",
    "else:\n",
    "    print(\"Odd Number\")"
   ]
  },
  {
   "cell_type": "markdown",
   "id": "472b6717-8e2c-4c2c-9897-c7ddbdb28598",
   "metadata": {},
   "source": [
    "# Nested ifs"
   ]
  },
  {
   "cell_type": "code",
   "execution_count": 23,
   "id": "8c316967-f503-4e8b-8ff4-69aeb8c1c860",
   "metadata": {},
   "outputs": [
    {
     "name": "stdout",
     "output_type": "stream",
     "text": [
      "Even Number\n",
      "Greater than 5\n"
     ]
    }
   ],
   "source": [
    "c1 = 8\n",
    "c2 = a1 % 2\n",
    "if c2==0:\n",
    "    print(\"Even Number\")\n",
    "    if c1>5:\n",
    "        print(\"Greater than 5\")\n",
    "    else:\n",
    "        print(\"Smaller than 5\")\n",
    "else:\n",
    "    print(\"Odd Number\")"
   ]
  },
  {
   "cell_type": "markdown",
   "id": "d115493c-7816-41c0-a11b-5976d3088067",
   "metadata": {},
   "source": [
    "# if elif else"
   ]
  },
  {
   "cell_type": "code",
   "execution_count": 24,
   "id": "de4c112f-b8be-4771-accb-93d4d6874963",
   "metadata": {},
   "outputs": [
    {
     "name": "stdout",
     "output_type": "stream",
     "text": [
      "Even Number\n"
     ]
    }
   ],
   "source": [
    "# Python program to check even number\n",
    "d1 = 4\n",
    "d2 = a1 % 2\n",
    "if d2==0:\n",
    "    print(\"Even Number\")\n",
    "elif d2==1:\n",
    "    print(\"Odd Number\")"
   ]
  },
  {
   "cell_type": "code",
   "execution_count": 25,
   "id": "8abf1971-6bb3-4664-bbf5-d434a835ae28",
   "metadata": {},
   "outputs": [
    {
     "name": "stdout",
     "output_type": "stream",
     "text": [
      "three\n"
     ]
    }
   ],
   "source": [
    "e = 3\n",
    "\n",
    "if e==1:\n",
    "    print('one')\n",
    "elif e==2:\n",
    "    print('two')\n",
    "elif e==3:\n",
    "    print('three')\n",
    "elif e==4:\n",
    "    print('four')\n",
    "else:\n",
    "    print('not in range')"
   ]
  },
  {
   "cell_type": "code",
   "execution_count": null,
   "id": "0cc1fdd0-620f-4d04-8cfa-6783bb741971",
   "metadata": {},
   "outputs": [],
   "source": []
  }
 ],
 "metadata": {
  "kernelspec": {
   "display_name": "Python [conda env:base] *",
   "language": "python",
   "name": "conda-base-py"
  },
  "language_info": {
   "codemirror_mode": {
    "name": "ipython",
    "version": 3
   },
   "file_extension": ".py",
   "mimetype": "text/x-python",
   "name": "python",
   "nbconvert_exporter": "python",
   "pygments_lexer": "ipython3",
   "version": "3.12.7"
  }
 },
 "nbformat": 4,
 "nbformat_minor": 5
}
