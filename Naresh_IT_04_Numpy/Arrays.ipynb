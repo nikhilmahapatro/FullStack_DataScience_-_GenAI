{
 "cells": [
  {
   "cell_type": "code",
   "execution_count": 3,
   "id": "0cc8063d-4e5f-486f-a548-1467853cbaf1",
   "metadata": {},
   "outputs": [
    {
     "name": "stdout",
     "output_type": "stream",
     "text": [
      "1.26.4\n"
     ]
    }
   ],
   "source": [
    "import numpy as np\n",
    "print(np.__version__)\n"
   ]
  },
  {
   "cell_type": "code",
   "execution_count": 4,
   "id": "56f3c8ad-dc9c-41f1-98cd-f6b1d1e9693c",
   "metadata": {},
   "outputs": [
    {
     "name": "stdout",
     "output_type": "stream",
     "text": [
      "<class 'list'>\n"
     ]
    }
   ],
   "source": [
    "myList=[1,2,5,4,8,4,6,5,3]\n",
    "print(type(myList))"
   ]
  },
  {
   "cell_type": "code",
   "execution_count": 5,
   "id": "7552bb5f-8d0f-4fc7-8103-80dd904e6604",
   "metadata": {},
   "outputs": [
    {
     "name": "stdout",
     "output_type": "stream",
     "text": [
      "<class 'list'>\n",
      "<class 'numpy.ndarray'>\n"
     ]
    }
   ],
   "source": [
    "arr=np.array(myList)                             # Converting a list into an array\n",
    "print(type(myList))\n",
    "print(type(arr))"
   ]
  },
  {
   "cell_type": "raw",
   "id": "a72b7f0a-f77b-425a-959e-b0422f0abfd5",
   "metadata": {},
   "source": [
    "# ARRAY METHODS"
   ]
  },
  {
   "cell_type": "code",
   "execution_count": 6,
   "id": "8f370d60-575b-4075-bca6-d5bd9eb6f072",
   "metadata": {},
   "outputs": [
    {
     "name": "stdout",
     "output_type": "stream",
     "text": [
      "[0 1 2 3 4 5 6 7 8 9]\n"
     ]
    }
   ],
   "source": [
    "print(np.arange(10))  "
   ]
  },
  {
   "cell_type": "code",
   "execution_count": 7,
   "id": "41faa49b-162b-466b-a4f7-ce58ef77ace9",
   "metadata": {},
   "outputs": [
    {
     "name": "stdout",
     "output_type": "stream",
     "text": [
      "[0. 1. 2. 3. 4.]\n"
     ]
    }
   ],
   "source": [
    "print(np.arange(5.0))  "
   ]
  },
  {
   "cell_type": "code",
   "execution_count": 8,
   "id": "77bf1ddd-517e-471e-ab3d-1ae3976d77f0",
   "metadata": {},
   "outputs": [
    {
     "name": "stdout",
     "output_type": "stream",
     "text": [
      "[10 11 12 13 14 15 16 17 18 19]\n"
     ]
    }
   ],
   "source": [
    "print(np.arange(10,20)) "
   ]
  },
  {
   "cell_type": "code",
   "execution_count": 9,
   "id": "01ae1ad0-806f-4a87-9b47-a4544c134aa8",
   "metadata": {},
   "outputs": [
    {
     "name": "stdout",
     "output_type": "stream",
     "text": [
      "[]\n"
     ]
    }
   ],
   "source": [
    "print(np.arange(20,10)) \n",
    "# [] ----> Always 1st arg < 2nd arg"
   ]
  },
  {
   "cell_type": "code",
   "execution_count": 10,
   "id": "1425502b-8141-4496-b1b6-faf5674ee434",
   "metadata": {},
   "outputs": [
    {
     "name": "stdout",
     "output_type": "stream",
     "text": [
      "[-16 -15 -14 -13 -12 -11 -10  -9  -8  -7  -6  -5  -4  -3  -2  -1   0]\n"
     ]
    }
   ],
   "source": [
    "print(np.arange(-16,1))"
   ]
  },
  {
   "cell_type": "code",
   "execution_count": 11,
   "id": "5c42985d-e730-4932-aeb8-488a0c9d9898",
   "metadata": {},
   "outputs": [
    {
     "name": "stdout",
     "output_type": "stream",
     "text": [
      "[10 13 16 19 22 25 28 31 34 37]\n"
     ]
    }
   ],
   "source": [
    "print(np.arange(10,40,3)) "
   ]
  },
  {
   "cell_type": "code",
   "execution_count": 12,
   "id": "cae255ff-3573-443c-9890-5124dd14dff0",
   "metadata": {},
   "outputs": [
    {
     "name": "stdout",
     "output_type": "stream",
     "text": [
      "[10 13 16 19 22 25 28 31 34 37]\n"
     ]
    }
   ],
   "source": [
    "print(np.arange(10,40,3))"
   ]
  },
  {
   "cell_type": "raw",
   "id": "f104ba6c-5ed3-4042-8248-d91ca07c419a",
   "metadata": {},
   "source": [
    "# Parameter Tuning"
   ]
  },
  {
   "cell_type": "code",
   "execution_count": 13,
   "id": "8486638b-2052-4024-831a-7096f6f7aded",
   "metadata": {},
   "outputs": [
    {
     "name": "stdout",
     "output_type": "stream",
     "text": [
      "[0. 0. 0. 0. 0.]\n"
     ]
    }
   ],
   "source": [
    "print(np.zeros(5))    "
   ]
  },
  {
   "cell_type": "raw",
   "id": "b607dd2c-7ed5-4ced-8a4f-54b4864695ed",
   "metadata": {},
   "source": [
    "# Hyperparameter Tuning"
   ]
  },
  {
   "cell_type": "code",
   "execution_count": 14,
   "id": "ffb2164c-3602-4b1d-81d4-c6fa4d35ea60",
   "metadata": {},
   "outputs": [
    {
     "name": "stdout",
     "output_type": "stream",
     "text": [
      "[0 0 0 0 0 0 0 0 0 0]\n"
     ]
    }
   ],
   "source": [
    "print(np.zeros(10,dtype=int)) "
   ]
  },
  {
   "cell_type": "code",
   "execution_count": 15,
   "id": "9f013d95-3ab2-4a59-95e5-ba56f3101a07",
   "metadata": {},
   "outputs": [
    {
     "name": "stdout",
     "output_type": "stream",
     "text": [
      "[[0. 0.]\n",
      " [0. 0.]]\n"
     ]
    }
   ],
   "source": [
    "print(np.zeros((2,2)))  "
   ]
  },
  {
   "cell_type": "code",
   "execution_count": 16,
   "id": "f6918a9d-4a25-4e99-9fb8-ef29519dd434",
   "metadata": {},
   "outputs": [
    {
     "name": "stdout",
     "output_type": "stream",
     "text": [
      "[[0 0]\n",
      " [0 0]]\n"
     ]
    }
   ],
   "source": [
    "print(np.zeros((2,2), dtype=int))"
   ]
  },
  {
   "cell_type": "code",
   "execution_count": 17,
   "id": "ed94b980-8086-4573-a8c5-4db779113dac",
   "metadata": {},
   "outputs": [
    {
     "name": "stdout",
     "output_type": "stream",
     "text": [
      "[[0 0 0 0]\n",
      " [0 0 0 0]\n",
      " [0 0 0 0]]\n"
     ]
    }
   ],
   "source": [
    "print(np.zeros((3,4), dtype=int))"
   ]
  },
  {
   "cell_type": "code",
   "execution_count": 18,
   "id": "389b5b78-e1b6-4d36-8038-fdb5b5912f6d",
   "metadata": {},
   "outputs": [
    {
     "name": "stdout",
     "output_type": "stream",
     "text": [
      "[1. 1. 1. 1. 1. 1. 1.]\n"
     ]
    }
   ],
   "source": [
    "print(np.ones(7)) "
   ]
  },
  {
   "cell_type": "code",
   "execution_count": 19,
   "id": "36c701ef-5582-484c-851b-717b8f13d860",
   "metadata": {},
   "outputs": [
    {
     "name": "stdout",
     "output_type": "stream",
     "text": [
      "[[1. 1. 1.]\n",
      " [1. 1. 1.]\n",
      " [1. 1. 1.]]\n"
     ]
    }
   ],
   "source": [
    "print(np.ones((3,3)))   "
   ]
  },
  {
   "cell_type": "code",
   "execution_count": 20,
   "id": "8bfbb177-79d1-482d-8f97-48a78c38dfa4",
   "metadata": {},
   "outputs": [
    {
     "name": "stdout",
     "output_type": "stream",
     "text": [
      "[[1 1 1 1 1]\n",
      " [1 1 1 1 1]\n",
      " [1 1 1 1 1]]\n"
     ]
    }
   ],
   "source": [
    "print(np.ones((3,5),dtype=int))"
   ]
  },
  {
   "cell_type": "code",
   "execution_count": 21,
   "id": "5bb7f4bc-3fab-480c-a8dd-63f173905cf3",
   "metadata": {},
   "outputs": [
    {
     "name": "stdout",
     "output_type": "stream",
     "text": [
      "[0.18820717 0.0972665  0.84195808 0.55962332 0.57706939]\n"
     ]
    }
   ],
   "source": [
    "print(np.random.rand(5)) "
   ]
  },
  {
   "cell_type": "code",
   "execution_count": 22,
   "id": "91e73aa8-0203-4cca-9894-980198187ad5",
   "metadata": {},
   "outputs": [
    {
     "name": "stdout",
     "output_type": "stream",
     "text": [
      "[[0.22988332 0.74915728 0.93169736]\n",
      " [0.2886247  0.97536278 0.35448159]]\n"
     ]
    }
   ],
   "source": [
    "print(np.random.rand(2,3))"
   ]
  },
  {
   "cell_type": "code",
   "execution_count": 23,
   "id": "a2ec0992-cfd4-4d39-bbc0-a4bdfa7d8f4b",
   "metadata": {},
   "outputs": [
    {
     "name": "stdout",
     "output_type": "stream",
     "text": [
      "8\n"
     ]
    }
   ],
   "source": [
    "print(np.random.randint(5,16))"
   ]
  },
  {
   "cell_type": "code",
   "execution_count": 24,
   "id": "48fe90d2-f418-430b-836b-0e480da72064",
   "metadata": {},
   "outputs": [
    {
     "name": "stdout",
     "output_type": "stream",
     "text": [
      "[ 6 20 20  4]\n"
     ]
    }
   ],
   "source": [
    "print(np.random.randint(0,21,4))"
   ]
  },
  {
   "cell_type": "code",
   "execution_count": 25,
   "id": "144e2020-468b-4f24-91e2-5d5e760fd9b7",
   "metadata": {},
   "outputs": [
    {
     "name": "stdout",
     "output_type": "stream",
     "text": [
      "0\n"
     ]
    }
   ],
   "source": [
    "print(np.random.randint(0,1)) "
   ]
  },
  {
   "cell_type": "code",
   "execution_count": 26,
   "id": "1816f838-a57e-44d2-888a-1663b64c5d43",
   "metadata": {},
   "outputs": [
    {
     "name": "stdout",
     "output_type": "stream",
     "text": [
      "[[36 37 20 22 16 14 27 22 10 25]\n",
      " [32 30 39 19 35 27 29 23 21 19]\n",
      " [13 27 30 38 39 11 32 37 29 25]\n",
      " [39 34 27 15 30 38 18 33 35 13]\n",
      " [37 38 23 39 36 20 26 28 25 36]\n",
      " [33 22 26 38 39 30 30 12 11 10]\n",
      " [19 29 34 17 33 34 18 20 19 31]\n",
      " [38 10 17 30 22 14 35 21 10 36]\n",
      " [19 36 13 19 32 33 15 22 29 25]\n",
      " [28 32 28 27 13 31 34 34 30 30]]\n"
     ]
    }
   ],
   "source": [
    "print(np.random.randint(10,40,(10,10)))"
   ]
  },
  {
   "cell_type": "code",
   "execution_count": 27,
   "id": "32ecd95f-3165-42f6-bfc0-7654dd828d48",
   "metadata": {},
   "outputs": [
    {
     "name": "stdout",
     "output_type": "stream",
     "text": [
      "[[ 1  2  3  4]\n",
      " [ 5  6  7  8]\n",
      " [ 9 10 11 12]]\n"
     ]
    }
   ],
   "source": [
    "print(np.arange(1,13).reshape(3,4)) "
   ]
  },
  {
   "cell_type": "code",
   "execution_count": 28,
   "id": "c98555f4-ad38-4eb4-99f8-2fafbff18832",
   "metadata": {},
   "outputs": [
    {
     "name": "stdout",
     "output_type": "stream",
     "text": [
      "[[ 1  2  3  4]\n",
      " [ 5  6  7  8]\n",
      " [ 9 10 11 12]]\n"
     ]
    }
   ],
   "source": [
    "print(np.arange(1,13).reshape(3,4))"
   ]
  },
  {
   "cell_type": "code",
   "execution_count": 29,
   "id": "80024d07-650c-4064-aa57-a8bf035844fc",
   "metadata": {},
   "outputs": [
    {
     "ename": "ValueError",
     "evalue": "cannot reshape array of size 12 into shape (5,4)",
     "output_type": "error",
     "traceback": [
      "\u001b[1;31m---------------------------------------------------------------------------\u001b[0m",
      "\u001b[1;31mValueError\u001b[0m                                Traceback (most recent call last)",
      "Cell \u001b[1;32mIn[29], line 1\u001b[0m\n\u001b[1;32m----> 1\u001b[0m \u001b[38;5;28mprint\u001b[39m(np\u001b[38;5;241m.\u001b[39marange(\u001b[38;5;241m1\u001b[39m,\u001b[38;5;241m13\u001b[39m)\u001b[38;5;241m.\u001b[39mreshape(\u001b[38;5;241m5\u001b[39m,\u001b[38;5;241m4\u001b[39m))\n",
      "\u001b[1;31mValueError\u001b[0m: cannot reshape array of size 12 into shape (5,4)"
     ]
    }
   ],
   "source": [
    "print(np.arange(1,13).reshape(5,4))"
   ]
  },
  {
   "cell_type": "code",
   "execution_count": 30,
   "id": "d38346cd-d3e7-4fc2-8dda-ca46855dcfcc",
   "metadata": {},
   "outputs": [
    {
     "name": "stdout",
     "output_type": "stream",
     "text": [
      "[[ 1  2  3  4  5  6]\n",
      " [ 7  8  9 10 11 12]]\n"
     ]
    }
   ],
   "source": [
    "print(np.arange(1,13).reshape(2,6))"
   ]
  },
  {
   "cell_type": "raw",
   "id": "76001152-dffc-45d1-bcfd-8be55d25431f",
   "metadata": {},
   "source": [
    "# INDEXING & SLICING IN MATRIX"
   ]
  },
  {
   "cell_type": "code",
   "execution_count": 32,
   "id": "45a6fd76-1f8d-4ced-9cd8-01d733d94a86",
   "metadata": {},
   "outputs": [
    {
     "name": "stdout",
     "output_type": "stream",
     "text": [
      "[[17 16 16 16 12]\n",
      " [19 11 15 17 14]\n",
      " [17 14 15 10 15]\n",
      " [12 12 18 16 17]]\n",
      "<class 'numpy.ndarray'>\n"
     ]
    }
   ],
   "source": [
    "A= np.random.randint(10,20,(4,5))\n",
    "B= np.arange(0,100).reshape(10,10)\n",
    "C= np.arange(0,16).reshape(4,4)\n",
    "print(A)\n",
    "print(type(A))"
   ]
  },
  {
   "cell_type": "code",
   "execution_count": 33,
   "id": "59881bb7-9ba2-43c6-bef6-8b950b974043",
   "metadata": {},
   "outputs": [
    {
     "name": "stdout",
     "output_type": "stream",
     "text": [
      "[[17 16 16 16 12]\n",
      " [19 11 15 17 14]\n",
      " [17 14 15 10 15]\n",
      " [12 12 18 16 17]]\n"
     ]
    }
   ],
   "source": [
    "print(A[:])"
   ]
  },
  {
   "cell_type": "code",
   "execution_count": 34,
   "id": "145787a1-9039-4562-ba8f-3f1c28c91160",
   "metadata": {},
   "outputs": [
    {
     "name": "stdout",
     "output_type": "stream",
     "text": [
      "[[19 11 15 17 14]\n",
      " [17 14 15 10 15]]\n"
     ]
    }
   ],
   "source": [
    "print(A[1:3]) "
   ]
  },
  {
   "cell_type": "code",
   "execution_count": 35,
   "id": "09c1e2d9-e505-4e57-ac20-4b23324ae677",
   "metadata": {},
   "outputs": [
    {
     "name": "stdout",
     "output_type": "stream",
     "text": [
      "17\n"
     ]
    }
   ],
   "source": [
    "print(A[1,3])  "
   ]
  },
  {
   "cell_type": "code",
   "execution_count": 36,
   "id": "d7d49198-3a33-430c-b92a-f12f52334861",
   "metadata": {},
   "outputs": [
    {
     "name": "stdout",
     "output_type": "stream",
     "text": [
      "14\n"
     ]
    }
   ],
   "source": [
    "print(A[1,-1])  "
   ]
  },
  {
   "cell_type": "code",
   "execution_count": 37,
   "id": "b15533de-7c53-416f-bc99-eb940254944b",
   "metadata": {},
   "outputs": [
    {
     "name": "stdout",
     "output_type": "stream",
     "text": [
      "14\n"
     ]
    }
   ],
   "source": [
    "print(A[-2,1])   "
   ]
  },
  {
   "cell_type": "code",
   "execution_count": 38,
   "id": "dbe25ff6-37e7-43d6-be1e-0fb017b31080",
   "metadata": {},
   "outputs": [
    {
     "name": "stdout",
     "output_type": "stream",
     "text": [
      "16\n"
     ]
    }
   ],
   "source": [
    "print(A[-4,3]) "
   ]
  },
  {
   "cell_type": "code",
   "execution_count": 39,
   "id": "e01569cf-8c37-4dd2-a8c7-d1e93d61aa2b",
   "metadata": {},
   "outputs": [
    {
     "name": "stdout",
     "output_type": "stream",
     "text": [
      "[[12 12 18 16 17]\n",
      " [17 14 15 10 15]\n",
      " [19 11 15 17 14]\n",
      " [17 16 16 16 12]]\n"
     ]
    }
   ],
   "source": [
    "print(A[::-1])  "
   ]
  },
  {
   "cell_type": "raw",
   "id": "93a5d3a0-ba19-4b80-a73f-979ad112f191",
   "metadata": {},
   "source": [
    "# Step slicing in matrix"
   ]
  },
  {
   "cell_type": "code",
   "execution_count": 45,
   "id": "0bc6ee15-d0d2-499b-99df-dfdd2b0f82c0",
   "metadata": {},
   "outputs": [
    {
     "name": "stdout",
     "output_type": "stream",
     "text": [
      "[[ 0  1  2  3  4  5  6  7  8  9]\n",
      " [10 11 12 13 14 15 16 17 18 19]\n",
      " [20 21 22 23 24 25 26 27 28 29]\n",
      " [30 31 32 33 34 35 36 37 38 39]\n",
      " [40 41 42 43 44 45 46 47 48 49]\n",
      " [50 51 52 53 54 55 56 57 58 59]\n",
      " [60 61 62 63 64 65 66 67 68 69]\n",
      " [70 71 72 73 74 75 76 77 78 79]\n",
      " [80 81 82 83 84 85 86 87 88 89]\n",
      " [90 91 92 93 94 95 96 97 98 99]]\n"
     ]
    }
   ],
   "source": [
    "print(B)"
   ]
  },
  {
   "cell_type": "code",
   "execution_count": 40,
   "id": "75774cb8-a0bb-4573-88b3-9778e9b9f959",
   "metadata": {},
   "outputs": [
    {
     "name": "stdout",
     "output_type": "stream",
     "text": [
      "[[ 0  1  2  3  4  5  6  7  8  9]\n",
      " [20 21 22 23 24 25 26 27 28 29]\n",
      " [40 41 42 43 44 45 46 47 48 49]\n",
      " [60 61 62 63 64 65 66 67 68 69]\n",
      " [80 81 82 83 84 85 86 87 88 89]]\n"
     ]
    }
   ],
   "source": [
    "print(B[::2])"
   ]
  },
  {
   "cell_type": "code",
   "execution_count": 41,
   "id": "f32d304a-2e9a-484c-a34e-622ab01d8c57",
   "metadata": {},
   "outputs": [
    {
     "name": "stdout",
     "output_type": "stream",
     "text": [
      "[[ 0  1  2  3  4  5  6  7  8  9]\n",
      " [30 31 32 33 34 35 36 37 38 39]\n",
      " [60 61 62 63 64 65 66 67 68 69]\n",
      " [90 91 92 93 94 95 96 97 98 99]]\n"
     ]
    }
   ],
   "source": [
    "print(B[::3])"
   ]
  },
  {
   "cell_type": "code",
   "execution_count": 42,
   "id": "88e8a847-9bf8-4597-82da-0276a720df35",
   "metadata": {},
   "outputs": [
    {
     "name": "stdout",
     "output_type": "stream",
     "text": [
      "[[90 91 92 93 94 95 96 97 98 99]\n",
      " [80 81 82 83 84 85 86 87 88 89]\n",
      " [70 71 72 73 74 75 76 77 78 79]\n",
      " [60 61 62 63 64 65 66 67 68 69]\n",
      " [50 51 52 53 54 55 56 57 58 59]\n",
      " [40 41 42 43 44 45 46 47 48 49]\n",
      " [30 31 32 33 34 35 36 37 38 39]\n",
      " [20 21 22 23 24 25 26 27 28 29]\n",
      " [10 11 12 13 14 15 16 17 18 19]\n",
      " [ 0  1  2  3  4  5  6  7  8  9]]\n"
     ]
    }
   ],
   "source": [
    "print(B[::-1])"
   ]
  },
  {
   "cell_type": "code",
   "execution_count": 43,
   "id": "dbac44a2-09af-4744-9e93-16f8572c0e3d",
   "metadata": {},
   "outputs": [
    {
     "name": "stdout",
     "output_type": "stream",
     "text": [
      "[[90 91 92 93 94 95 96 97 98 99]\n",
      " [70 71 72 73 74 75 76 77 78 79]\n",
      " [50 51 52 53 54 55 56 57 58 59]\n",
      " [30 31 32 33 34 35 36 37 38 39]\n",
      " [10 11 12 13 14 15 16 17 18 19]]\n"
     ]
    }
   ],
   "source": [
    "print(B[::-2])"
   ]
  },
  {
   "cell_type": "code",
   "execution_count": 44,
   "id": "17a8b140-22a2-4cb6-8e91-2102183a7399",
   "metadata": {},
   "outputs": [
    {
     "name": "stdout",
     "output_type": "stream",
     "text": [
      "[[90 91 92 93 94 95 96 97 98 99]\n",
      " [60 61 62 63 64 65 66 67 68 69]\n",
      " [30 31 32 33 34 35 36 37 38 39]\n",
      " [ 0  1  2  3  4  5  6  7  8  9]]\n"
     ]
    }
   ],
   "source": [
    "print(B[::-3])"
   ]
  },
  {
   "cell_type": "code",
   "execution_count": 46,
   "id": "7f37c50a-5b95-4550-8bc2-53e70ce8ed34",
   "metadata": {},
   "outputs": [
    {
     "name": "stdout",
     "output_type": "stream",
     "text": [
      "[ 6 16 26 36 46 56 66 76 86 96]\n"
     ]
    }
   ],
   "source": [
    "print(B[:,6])"
   ]
  },
  {
   "cell_type": "code",
   "execution_count": 47,
   "id": "7436ae87-5737-46b9-ae5d-d09107163d7c",
   "metadata": {},
   "outputs": [
    {
     "name": "stdout",
     "output_type": "stream",
     "text": [
      "[[22 23]\n",
      " [32 33]\n",
      " [42 43]\n",
      " [52 53]]\n"
     ]
    }
   ],
   "source": [
    "print(B[2:6,2:4])  "
   ]
  },
  {
   "cell_type": "code",
   "execution_count": 48,
   "id": "403ac7b3-3585-4379-9253-4b63154e1dd8",
   "metadata": {},
   "outputs": [
    {
     "name": "stdout",
     "output_type": "stream",
     "text": [
      "[[12 13]]\n"
     ]
    }
   ],
   "source": [
    "print(B[1:2,2:4]) "
   ]
  },
  {
   "cell_type": "raw",
   "id": "6a48199e-0eeb-4af2-a707-3fbd47687884",
   "metadata": {},
   "source": [
    "# NUMPY OPERATIONS"
   ]
  },
  {
   "cell_type": "code",
   "execution_count": 49,
   "id": "5fc90421-d2c9-4567-8eec-32e84169d470",
   "metadata": {},
   "outputs": [
    {
     "name": "stdout",
     "output_type": "stream",
     "text": [
      "99\n"
     ]
    }
   ],
   "source": [
    "print(B.max())"
   ]
  },
  {
   "cell_type": "code",
   "execution_count": 50,
   "id": "7c194bcb-2395-4d93-89f8-b653541abd7c",
   "metadata": {},
   "outputs": [
    {
     "name": "stdout",
     "output_type": "stream",
     "text": [
      "0\n"
     ]
    }
   ],
   "source": [
    "print(B.min())"
   ]
  },
  {
   "cell_type": "code",
   "execution_count": 51,
   "id": "af64f680-f947-4280-9ac7-38adfaabf226",
   "metadata": {},
   "outputs": [
    {
     "name": "stdout",
     "output_type": "stream",
     "text": [
      "49.5\n"
     ]
    }
   ],
   "source": [
    "print(B.mean())"
   ]
  },
  {
   "cell_type": "raw",
   "id": "c72993be-323b-4f48-b467-2dc7c03b5b2b",
   "metadata": {},
   "source": [
    "# MASKING IN NUMPY (FILTER)"
   ]
  },
  {
   "cell_type": "code",
   "execution_count": 53,
   "id": "b66ac68a-abee-478d-bc31-cfd6f34810c3",
   "metadata": {},
   "outputs": [
    {
     "name": "stdout",
     "output_type": "stream",
     "text": [
      "[[False False False False]\n",
      " [False False False False]\n",
      " [False  True  True  True]\n",
      " [ True  True  True  True]]\n"
     ]
    }
   ],
   "source": [
    "print(C>8)"
   ]
  },
  {
   "cell_type": "code",
   "execution_count": 56,
   "id": "773b7f2d-6446-45a2-87d8-193bbc325178",
   "metadata": {},
   "outputs": [
    {
     "name": "stdout",
     "output_type": "stream",
     "text": [
      "[56 57 58 59 60 61 62 63 64 65 66 67 68 69 70 71 72 73 74 75 76 77 78 79\n",
      " 80 81 82 83 84 85 86 87 88 89 90 91 92 93 94 95 96 97 98 99]\n"
     ]
    }
   ],
   "source": [
    "print(B[B>55])"
   ]
  },
  {
   "cell_type": "code",
   "execution_count": null,
   "id": "a404b81b-c3c9-496f-b8c4-73919f4d0790",
   "metadata": {},
   "outputs": [],
   "source": []
  }
 ],
 "metadata": {
  "kernelspec": {
   "display_name": "Python [conda env:base] *",
   "language": "python",
   "name": "conda-base-py"
  },
  "language_info": {
   "codemirror_mode": {
    "name": "ipython",
    "version": 3
   },
   "file_extension": ".py",
   "mimetype": "text/x-python",
   "name": "python",
   "nbconvert_exporter": "python",
   "pygments_lexer": "ipython3",
   "version": "3.12.7"
  }
 },
 "nbformat": 4,
 "nbformat_minor": 5
}
