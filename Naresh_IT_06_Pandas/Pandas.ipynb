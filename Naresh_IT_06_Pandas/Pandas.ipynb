{
 "cells": [
  {
   "cell_type": "markdown",
   "id": "bb45dbae-60cf-4012-a24c-ebf10c39591e",
   "metadata": {},
   "source": [
    "# PANDAS"
   ]
  },
  {
   "cell_type": "markdown",
   "id": "f195c7d4-a39b-400f-b43f-9b829b11e9aa",
   "metadata": {},
   "source": [
    "# Country GDP Analysis"
   ]
  },
  {
   "cell_type": "code",
   "execution_count": 2,
   "id": "59376dc9-d328-4c38-8f73-8bf75a06d9dc",
   "metadata": {},
   "outputs": [
    {
     "data": {
      "text/plain": [
       "'2.2.2'"
      ]
     },
     "execution_count": 2,
     "metadata": {},
     "output_type": "execute_result"
    }
   ],
   "source": [
    "import pandas as pd\n",
    "pd.__version__"
   ]
  },
  {
   "cell_type": "code",
   "execution_count": 3,
   "id": "2cd26f26-7c0e-4d1d-bc8c-1c0e5ca849f8",
   "metadata": {},
   "outputs": [
    {
     "name": "stdout",
     "output_type": "stream",
     "text": [
      "              CountryName CountryCode  BirthRate  InternetUsers  \\\n",
      "0                   Aruba         ABW     10.244           78.9   \n",
      "1             Afghanistan         AFG     35.253            5.9   \n",
      "2                  Angola         AGO     45.985           19.1   \n",
      "3                 Albania         ALB     12.877           57.2   \n",
      "4    United Arab Emirates         ARE     11.044           88.0   \n",
      "..                    ...         ...        ...            ...   \n",
      "190           Yemen, Rep.         YEM     32.947           20.0   \n",
      "191          South Africa         ZAF     20.850           46.5   \n",
      "192      Congo, Dem. Rep.         COD     42.394            2.2   \n",
      "193                Zambia         ZMB     40.471           15.4   \n",
      "194              Zimbabwe         ZWE     35.715           18.5   \n",
      "\n",
      "             IncomeGroup  \n",
      "0            High income  \n",
      "1             Low income  \n",
      "2    Upper middle income  \n",
      "3    Upper middle income  \n",
      "4            High income  \n",
      "..                   ...  \n",
      "190  Lower middle income  \n",
      "191  Upper middle income  \n",
      "192           Low income  \n",
      "193  Lower middle income  \n",
      "194           Low income  \n",
      "\n",
      "[195 rows x 5 columns]\n"
     ]
    }
   ],
   "source": [
    "df = pd.read_csv(r\"C:\\Users\\nikhi\\PycharmProjects\\NARESH_IT\\01_NARESH_IT_PYTHON\\Naresh_IT_06_Pandas\\data.csv\")\n",
    "print(df)"
   ]
  },
  {
   "cell_type": "code",
   "execution_count": 4,
   "id": "636ece3d-a74c-4ba8-908e-90d6be75e0a7",
   "metadata": {},
   "outputs": [
    {
     "name": "stdout",
     "output_type": "stream",
     "text": [
      "2145010121376\n",
      "<class 'pandas.core.frame.DataFrame'>\n"
     ]
    }
   ],
   "source": [
    "print(id(df))\n",
    "print(type(df))"
   ]
  },
  {
   "cell_type": "code",
   "execution_count": 6,
   "id": "c25d2641-fd5e-4f6a-af5b-d9e1d03d17e5",
   "metadata": {},
   "outputs": [
    {
     "name": "stdout",
     "output_type": "stream",
     "text": [
      "195\n",
      "Index(['CountryName', 'CountryCode', 'BirthRate', 'InternetUsers',\n",
      "       'IncomeGroup'],\n",
      "      dtype='object')\n",
      "5\n"
     ]
    }
   ],
   "source": [
    "print(len(df))\n",
    "print(df.columns)\n",
    "print(len(df.columns))"
   ]
  },
  {
   "cell_type": "code",
   "execution_count": 7,
   "id": "0e3f058c-38fb-4b37-a8aa-a5b4f55da528",
   "metadata": {},
   "outputs": [
    {
     "name": "stdout",
     "output_type": "stream",
     "text": [
      "     CountryName  CountryCode  BirthRate  InternetUsers  IncomeGroup\n",
      "0          False        False      False          False        False\n",
      "1          False        False      False          False        False\n",
      "2          False        False      False          False        False\n",
      "3          False        False      False          False        False\n",
      "4          False        False      False          False        False\n",
      "..           ...          ...        ...            ...          ...\n",
      "190        False        False      False          False        False\n",
      "191        False        False      False          False        False\n",
      "192        False        False      False          False        False\n",
      "193        False        False      False          False        False\n",
      "194        False        False      False          False        False\n",
      "\n",
      "[195 rows x 5 columns]\n"
     ]
    }
   ],
   "source": [
    "print(df.isnull())"
   ]
  },
  {
   "cell_type": "code",
   "execution_count": 8,
   "id": "bd3b673c-9c57-408f-9c4a-85c52b1cc1d1",
   "metadata": {},
   "outputs": [
    {
     "name": "stdout",
     "output_type": "stream",
     "text": [
      "     CountryName  CountryCode  BirthRate  InternetUsers  IncomeGroup\n",
      "0          False        False      False          False        False\n",
      "1          False        False      False          False        False\n",
      "2          False        False      False          False        False\n",
      "3          False        False      False          False        False\n",
      "4          False        False      False          False        False\n",
      "..           ...          ...        ...            ...          ...\n",
      "190        False        False      False          False        False\n",
      "191        False        False      False          False        False\n",
      "192        False        False      False          False        False\n",
      "193        False        False      False          False        False\n",
      "194        False        False      False          False        False\n",
      "\n",
      "[195 rows x 5 columns]\n"
     ]
    }
   ],
   "source": [
    "print(df.isna())"
   ]
  },
  {
   "cell_type": "code",
   "execution_count": 9,
   "id": "323d0626-a543-49fa-ba83-d300a7bae502",
   "metadata": {},
   "outputs": [
    {
     "name": "stdout",
     "output_type": "stream",
     "text": [
      "CountryName      0\n",
      "CountryCode      0\n",
      "BirthRate        0\n",
      "InternetUsers    0\n",
      "IncomeGroup      0\n",
      "dtype: int64\n"
     ]
    }
   ],
   "source": [
    "print(df.isnull().sum())"
   ]
  },
  {
   "cell_type": "code",
   "execution_count": 10,
   "id": "933eb929-cf5a-4219-89fa-095f94cf3ff3",
   "metadata": {},
   "outputs": [
    {
     "name": "stdout",
     "output_type": "stream",
     "text": [
      "            CountryName CountryCode  BirthRate  InternetUsers  \\\n",
      "0                 Aruba         ABW     10.244           78.9   \n",
      "1           Afghanistan         AFG     35.253            5.9   \n",
      "2                Angola         AGO     45.985           19.1   \n",
      "3               Albania         ALB     12.877           57.2   \n",
      "4  United Arab Emirates         ARE     11.044           88.0   \n",
      "\n",
      "           IncomeGroup  \n",
      "0          High income  \n",
      "1           Low income  \n",
      "2  Upper middle income  \n",
      "3  Upper middle income  \n",
      "4          High income  \n"
     ]
    }
   ],
   "source": [
    "print(df.head())"
   ]
  },
  {
   "cell_type": "code",
   "execution_count": 27,
   "id": "82774c9f-7e61-42a9-946c-bcf3300e47cb",
   "metadata": {},
   "outputs": [
    {
     "name": "stdout",
     "output_type": "stream",
     "text": [
      "   CountryName CountryCode  BirthRate  InternetUsers          IncomeGroup\n",
      "0        Aruba         ABW     10.244           78.9          High income\n",
      "1  Afghanistan         AFG     35.253            5.9           Low income\n",
      "2       Angola         AGO     45.985           19.1  Upper middle income\n"
     ]
    }
   ],
   "source": [
    "print(df.head(3))"
   ]
  },
  {
   "cell_type": "code",
   "execution_count": 28,
   "id": "f03d1f17-1fda-4a32-8191-7be4276dd9f0",
   "metadata": {},
   "outputs": [
    {
     "name": "stdout",
     "output_type": "stream",
     "text": [
      "            CountryName CountryCode  BirthRate  InternetUsers  \\\n",
      "0                 Aruba         ABW     10.244        78.9000   \n",
      "1           Afghanistan         AFG     35.253         5.9000   \n",
      "2                Angola         AGO     45.985        19.1000   \n",
      "3               Albania         ALB     12.877        57.2000   \n",
      "4  United Arab Emirates         ARE     11.044        88.0000   \n",
      "5             Argentina         ARG     17.716        59.9000   \n",
      "6               Armenia         ARM     13.308        41.9000   \n",
      "7   Antigua and Barbuda         ATG     16.447        63.4000   \n",
      "8             Australia         AUS     13.200        83.0000   \n",
      "9               Austria         AUT      9.400        80.6188   \n",
      "\n",
      "           IncomeGroup  \n",
      "0          High income  \n",
      "1           Low income  \n",
      "2  Upper middle income  \n",
      "3  Upper middle income  \n",
      "4          High income  \n",
      "5          High income  \n",
      "6  Lower middle income  \n",
      "7          High income  \n",
      "8          High income  \n",
      "9          High income  \n"
     ]
    }
   ],
   "source": [
    "print(df.head(10))"
   ]
  },
  {
   "cell_type": "code",
   "execution_count": 11,
   "id": "c65385f0-137a-468b-8a24-3ce1ac96ea95",
   "metadata": {},
   "outputs": [
    {
     "name": "stdout",
     "output_type": "stream",
     "text": [
      "          CountryName CountryCode  BirthRate  InternetUsers  \\\n",
      "190       Yemen, Rep.         YEM     32.947           20.0   \n",
      "191      South Africa         ZAF     20.850           46.5   \n",
      "192  Congo, Dem. Rep.         COD     42.394            2.2   \n",
      "193            Zambia         ZMB     40.471           15.4   \n",
      "194          Zimbabwe         ZWE     35.715           18.5   \n",
      "\n",
      "             IncomeGroup  \n",
      "190  Lower middle income  \n",
      "191  Upper middle income  \n",
      "192           Low income  \n",
      "193  Lower middle income  \n",
      "194           Low income  \n"
     ]
    }
   ],
   "source": [
    "print(df.tail())"
   ]
  },
  {
   "cell_type": "code",
   "execution_count": 12,
   "id": "c2d53281-65d1-423b-9048-b4d0b5583bad",
   "metadata": {},
   "outputs": [
    {
     "name": "stdout",
     "output_type": "stream",
     "text": [
      "CountryName       object\n",
      "CountryCode       object\n",
      "BirthRate        float64\n",
      "InternetUsers    float64\n",
      "IncomeGroup       object\n",
      "dtype: object\n"
     ]
    }
   ],
   "source": [
    "print(df.dtypes)"
   ]
  },
  {
   "cell_type": "code",
   "execution_count": 13,
   "id": "0e0f16c0-74fe-4f25-ad61-fc6df8e2a838",
   "metadata": {},
   "outputs": [
    {
     "name": "stdout",
     "output_type": "stream",
     "text": [
      "<class 'pandas.core.frame.DataFrame'>\n",
      "RangeIndex: 195 entries, 0 to 194\n",
      "Data columns (total 5 columns):\n",
      " #   Column         Non-Null Count  Dtype  \n",
      "---  ------         --------------  -----  \n",
      " 0   CountryName    195 non-null    object \n",
      " 1   CountryCode    195 non-null    object \n",
      " 2   BirthRate      195 non-null    float64\n",
      " 3   InternetUsers  195 non-null    float64\n",
      " 4   IncomeGroup    195 non-null    object \n",
      "dtypes: float64(2), object(3)\n",
      "memory usage: 7.7+ KB\n",
      "None\n"
     ]
    }
   ],
   "source": [
    "print(df.info())"
   ]
  },
  {
   "cell_type": "markdown",
   "id": "72584ce9-8524-4300-a2d3-dafc38ff6930",
   "metadata": {},
   "source": [
    "# Slicing in Dataframe"
   ]
  },
  {
   "cell_type": "code",
   "execution_count": 22,
   "id": "bca28c0f-07a5-4e41-9ba0-5729d53da584",
   "metadata": {},
   "outputs": [],
   "source": [
    "# Accessing Rows"
   ]
  },
  {
   "cell_type": "code",
   "execution_count": 14,
   "id": "c6ca16ae-1168-40f4-831e-e2c75fe45d99",
   "metadata": {},
   "outputs": [
    {
     "name": "stdout",
     "output_type": "stream",
     "text": [
      "              CountryName CountryCode  BirthRate  InternetUsers  \\\n",
      "0                   Aruba         ABW     10.244           78.9   \n",
      "1             Afghanistan         AFG     35.253            5.9   \n",
      "2                  Angola         AGO     45.985           19.1   \n",
      "3                 Albania         ALB     12.877           57.2   \n",
      "4    United Arab Emirates         ARE     11.044           88.0   \n",
      "..                    ...         ...        ...            ...   \n",
      "190           Yemen, Rep.         YEM     32.947           20.0   \n",
      "191          South Africa         ZAF     20.850           46.5   \n",
      "192      Congo, Dem. Rep.         COD     42.394            2.2   \n",
      "193                Zambia         ZMB     40.471           15.4   \n",
      "194              Zimbabwe         ZWE     35.715           18.5   \n",
      "\n",
      "             IncomeGroup  \n",
      "0            High income  \n",
      "1             Low income  \n",
      "2    Upper middle income  \n",
      "3    Upper middle income  \n",
      "4            High income  \n",
      "..                   ...  \n",
      "190  Lower middle income  \n",
      "191  Upper middle income  \n",
      "192           Low income  \n",
      "193  Lower middle income  \n",
      "194           Low income  \n",
      "\n",
      "[195 rows x 5 columns]\n"
     ]
    }
   ],
   "source": [
    "print(df[:])"
   ]
  },
  {
   "cell_type": "code",
   "execution_count": 15,
   "id": "85b4aa80-0abc-42b8-b3ae-fe129005b498",
   "metadata": {},
   "outputs": [
    {
     "name": "stdout",
     "output_type": "stream",
     "text": [
      "              CountryName CountryCode  BirthRate  InternetUsers  \\\n",
      "194              Zimbabwe         ZWE     35.715           18.5   \n",
      "193                Zambia         ZMB     40.471           15.4   \n",
      "192      Congo, Dem. Rep.         COD     42.394            2.2   \n",
      "191          South Africa         ZAF     20.850           46.5   \n",
      "190           Yemen, Rep.         YEM     32.947           20.0   \n",
      "..                    ...         ...        ...            ...   \n",
      "4    United Arab Emirates         ARE     11.044           88.0   \n",
      "3                 Albania         ALB     12.877           57.2   \n",
      "2                  Angola         AGO     45.985           19.1   \n",
      "1             Afghanistan         AFG     35.253            5.9   \n",
      "0                   Aruba         ABW     10.244           78.9   \n",
      "\n",
      "             IncomeGroup  \n",
      "194           Low income  \n",
      "193  Lower middle income  \n",
      "192           Low income  \n",
      "191  Upper middle income  \n",
      "190  Lower middle income  \n",
      "..                   ...  \n",
      "4            High income  \n",
      "3    Upper middle income  \n",
      "2    Upper middle income  \n",
      "1             Low income  \n",
      "0            High income  \n",
      "\n",
      "[195 rows x 5 columns]\n"
     ]
    }
   ],
   "source": [
    "print(df[::-1])"
   ]
  },
  {
   "cell_type": "code",
   "execution_count": 16,
   "id": "80541c4e-3e9e-41f7-829f-31e134ffda32",
   "metadata": {},
   "outputs": [
    {
     "name": "stdout",
     "output_type": "stream",
     "text": [
      "             CountryName CountryCode  BirthRate  InternetUsers  \\\n",
      "0                  Aruba         ABW     10.244        78.9000   \n",
      "1            Afghanistan         AFG     35.253         5.9000   \n",
      "2                 Angola         AGO     45.985        19.1000   \n",
      "3                Albania         ALB     12.877        57.2000   \n",
      "4   United Arab Emirates         ARE     11.044        88.0000   \n",
      "5              Argentina         ARG     17.716        59.9000   \n",
      "6                Armenia         ARM     13.308        41.9000   \n",
      "7    Antigua and Barbuda         ATG     16.447        63.4000   \n",
      "8              Australia         AUS     13.200        83.0000   \n",
      "9                Austria         AUT      9.400        80.6188   \n",
      "10            Azerbaijan         AZE     18.300        58.7000   \n",
      "\n",
      "            IncomeGroup  \n",
      "0           High income  \n",
      "1            Low income  \n",
      "2   Upper middle income  \n",
      "3   Upper middle income  \n",
      "4           High income  \n",
      "5           High income  \n",
      "6   Lower middle income  \n",
      "7           High income  \n",
      "8           High income  \n",
      "9           High income  \n",
      "10  Upper middle income  \n"
     ]
    }
   ],
   "source": [
    "print(df[:11])"
   ]
  },
  {
   "cell_type": "code",
   "execution_count": 17,
   "id": "7ce04d5d-f32c-471a-9840-a1617ff3dcaf",
   "metadata": {},
   "outputs": [
    {
     "name": "stdout",
     "output_type": "stream",
     "text": [
      "    CountryName CountryCode  BirthRate  InternetUsers          IncomeGroup\n",
      "0         Aruba         ABW     10.244      78.900000          High income\n",
      "50      Ecuador         ECU     21.070      40.353684  Upper middle income\n",
      "100       Libya         LBY     21.425      16.500000  Upper middle income\n",
      "150       Sudan         SDN     33.477      22.700000  Lower middle income\n"
     ]
    }
   ],
   "source": [
    "print(df[0:200:50])"
   ]
  },
  {
   "cell_type": "code",
   "execution_count": 23,
   "id": "921d72e9-eded-4113-93db-3f7be36de1e4",
   "metadata": {},
   "outputs": [],
   "source": [
    "# Accessing Columns"
   ]
  },
  {
   "cell_type": "code",
   "execution_count": 24,
   "id": "983b6cba-715a-4b6e-b45b-0a3c6a989b45",
   "metadata": {},
   "outputs": [
    {
     "name": "stdout",
     "output_type": "stream",
     "text": [
      "0                     Aruba\n",
      "1               Afghanistan\n",
      "2                    Angola\n",
      "3                   Albania\n",
      "4      United Arab Emirates\n",
      "               ...         \n",
      "190             Yemen, Rep.\n",
      "191            South Africa\n",
      "192        Congo, Dem. Rep.\n",
      "193                  Zambia\n",
      "194                Zimbabwe\n",
      "Name: CountryName, Length: 195, dtype: object\n"
     ]
    }
   ],
   "source": [
    "print(df['CountryName'])"
   ]
  },
  {
   "cell_type": "code",
   "execution_count": 25,
   "id": "d854a08b-47e3-499f-865a-0f5fc4a65322",
   "metadata": {},
   "outputs": [
    {
     "name": "stdout",
     "output_type": "stream",
     "text": [
      "              CountryName CountryCode\n",
      "0                   Aruba         ABW\n",
      "1             Afghanistan         AFG\n",
      "2                  Angola         AGO\n",
      "3                 Albania         ALB\n",
      "4    United Arab Emirates         ARE\n",
      "..                    ...         ...\n",
      "190           Yemen, Rep.         YEM\n",
      "191          South Africa         ZAF\n",
      "192      Congo, Dem. Rep.         COD\n",
      "193                Zambia         ZMB\n",
      "194              Zimbabwe         ZWE\n",
      "\n",
      "[195 rows x 2 columns]\n"
     ]
    }
   ],
   "source": [
    "print(df[['CountryName','CountryCode']])"
   ]
  },
  {
   "cell_type": "code",
   "execution_count": 26,
   "id": "e7190e60-6e31-41d8-b412-2a2cd3657621",
   "metadata": {},
   "outputs": [
    {
     "name": "stdout",
     "output_type": "stream",
     "text": [
      "              CountryName CountryCode  BirthRate\n",
      "0                   Aruba         ABW     10.244\n",
      "1             Afghanistan         AFG     35.253\n",
      "2                  Angola         AGO     45.985\n",
      "3                 Albania         ALB     12.877\n",
      "4    United Arab Emirates         ARE     11.044\n",
      "..                    ...         ...        ...\n",
      "190           Yemen, Rep.         YEM     32.947\n",
      "191          South Africa         ZAF     20.850\n",
      "192      Congo, Dem. Rep.         COD     42.394\n",
      "193                Zambia         ZMB     40.471\n",
      "194              Zimbabwe         ZWE     35.715\n",
      "\n",
      "[195 rows x 3 columns]\n"
     ]
    }
   ],
   "source": [
    "print(df[['CountryName','CountryCode','BirthRate']])"
   ]
  },
  {
   "cell_type": "markdown",
   "id": "473cbe30-8f3d-4b00-8a59-9c615896ddba",
   "metadata": {},
   "source": [
    "# Descriptive Statistics"
   ]
  },
  {
   "cell_type": "code",
   "execution_count": 30,
   "id": "168d9349-fcef-49d3-8953-3c8a8ee0c90d",
   "metadata": {},
   "outputs": [],
   "source": [
    "# Descriptive Statistics (shows only numerical data)"
   ]
  },
  {
   "cell_type": "code",
   "execution_count": 29,
   "id": "3ed07d2b-805b-454e-b115-2d0db9caf707",
   "metadata": {},
   "outputs": [
    {
     "name": "stdout",
     "output_type": "stream",
     "text": [
      "        BirthRate  InternetUsers\n",
      "count  195.000000     195.000000\n",
      "mean    21.469928      42.076471\n",
      "std     10.605467      29.030788\n",
      "min      7.900000       0.900000\n",
      "25%     12.120500      14.520000\n",
      "50%     19.680000      41.000000\n",
      "75%     29.759500      66.225000\n",
      "max     49.661000      96.546800\n"
     ]
    }
   ],
   "source": []
  },
  {
   "cell_type": "code",
   "execution_count": 36,
   "id": "5d0ddff3-aad3-4e6f-ab02-14deb914c0f9",
   "metadata": {},
   "outputs": [
    {
     "name": "stdout",
     "output_type": "stream",
     "text": [
      "              CountryName CountryCode  BirthRate\n",
      "0                   Aruba         ABW     10.244\n",
      "1             Afghanistan         AFG     35.253\n",
      "2                  Angola         AGO     45.985\n",
      "3                 Albania         ALB     12.877\n",
      "4    United Arab Emirates         ARE     11.044\n",
      "..                    ...         ...        ...\n",
      "190           Yemen, Rep.         YEM     32.947\n",
      "191          South Africa         ZAF     20.850\n",
      "192      Congo, Dem. Rep.         COD     42.394\n",
      "193                Zambia         ZMB     40.471\n",
      "194              Zimbabwe         ZWE     35.715\n",
      "\n",
      "[195 rows x 3 columns]\n"
     ]
    }
   ],
   "source": [
    "df_cat = df[['CountryName','CountryCode','BirthRate']]\n",
    "print(df_cat)"
   ]
  },
  {
   "cell_type": "code",
   "execution_count": 37,
   "id": "ec551e7e-c9b0-4ebc-bed6-5248aa4942c9",
   "metadata": {},
   "outputs": [
    {
     "name": "stdout",
     "output_type": "stream",
     "text": [
      "        BirthRate\n",
      "count  195.000000\n",
      "mean    21.469928\n",
      "std     10.605467\n",
      "min      7.900000\n",
      "25%     12.120500\n",
      "50%     19.680000\n",
      "75%     29.759500\n",
      "max     49.661000\n"
     ]
    }
   ],
   "source": [
    "print(df_cat.describe())"
   ]
  },
  {
   "cell_type": "code",
   "execution_count": 31,
   "id": "04570b0c-f199-4648-baec-99407c3bb81c",
   "metadata": {},
   "outputs": [
    {
     "name": "stdout",
     "output_type": "stream",
     "text": [
      "               count       mean        std  min      25%    50%      75%  \\\n",
      "BirthRate      195.0  21.469928  10.605467  7.9  12.1205  19.68  29.7595   \n",
      "InternetUsers  195.0  42.076471  29.030788  0.9  14.5200  41.00  66.2250   \n",
      "\n",
      "                   max  \n",
      "BirthRate      49.6610  \n",
      "InternetUsers  96.5468  \n"
     ]
    }
   ],
   "source": [
    "# TRANSPO\n",
    "# converts row into columns and columns into rows\n",
    "print(df.describe().T)\n"
   ]
  },
  {
   "cell_type": "code",
   "execution_count": null,
   "id": "ce86d61a-84be-468b-a921-802f75f1a0c3",
   "metadata": {},
   "outputs": [],
   "source": []
  }
 ],
 "metadata": {
  "kernelspec": {
   "display_name": "Python [conda env:base] *",
   "language": "python",
   "name": "conda-base-py"
  },
  "language_info": {
   "codemirror_mode": {
    "name": "ipython",
    "version": 3
   },
   "file_extension": ".py",
   "mimetype": "text/x-python",
   "name": "python",
   "nbconvert_exporter": "python",
   "pygments_lexer": "ipython3",
   "version": "3.12.7"
  }
 },
 "nbformat": 4,
 "nbformat_minor": 5
}
