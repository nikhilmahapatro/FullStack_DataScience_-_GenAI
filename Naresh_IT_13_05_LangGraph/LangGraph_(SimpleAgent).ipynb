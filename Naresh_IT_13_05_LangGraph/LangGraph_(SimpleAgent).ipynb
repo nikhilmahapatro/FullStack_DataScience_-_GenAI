{
  "cells": [
    {
      "cell_type": "code",
      "execution_count": 1,
      "metadata": {
        "colab": {
          "base_uri": "https://localhost:8080/"
        },
        "id": "b94yPzhDy2OU",
        "outputId": "f2f40d8d-0e87-41cd-bf9c-b1b701a2dcf1"
      },
      "outputs": [
        {
          "name": "stdout",
          "output_type": "stream",
          "text": [
            "Collecting langgraph\n",
            "  Downloading langgraph-0.6.7-py3-none-any.whl.metadata (6.8 kB)\n",
            "Requirement already satisfied: langsmith in /usr/local/lib/python3.12/dist-packages (0.4.28)\n",
            "Requirement already satisfied: langchain-core>=0.1 in /usr/local/lib/python3.12/dist-packages (from langgraph) (0.3.76)\n",
            "Collecting langgraph-checkpoint<3.0.0,>=2.1.0 (from langgraph)\n",
            "  Downloading langgraph_checkpoint-2.1.1-py3-none-any.whl.metadata (4.2 kB)\n",
            "Collecting langgraph-prebuilt<0.7.0,>=0.6.0 (from langgraph)\n",
            "  Downloading langgraph_prebuilt-0.6.4-py3-none-any.whl.metadata (4.5 kB)\n",
            "Collecting langgraph-sdk<0.3.0,>=0.2.2 (from langgraph)\n",
            "  Downloading langgraph_sdk-0.2.9-py3-none-any.whl.metadata (1.5 kB)\n",
            "Requirement already satisfied: pydantic>=2.7.4 in /usr/local/lib/python3.12/dist-packages (from langgraph) (2.11.9)\n",
            "Requirement already satisfied: xxhash>=3.5.0 in /usr/local/lib/python3.12/dist-packages (from langgraph) (3.5.0)\n",
            "Requirement already satisfied: httpx<1,>=0.23.0 in /usr/local/lib/python3.12/dist-packages (from langsmith) (0.28.1)\n",
            "Requirement already satisfied: orjson>=3.9.14 in /usr/local/lib/python3.12/dist-packages (from langsmith) (3.11.3)\n",
            "Requirement already satisfied: packaging>=23.2 in /usr/local/lib/python3.12/dist-packages (from langsmith) (25.0)\n",
            "Requirement already satisfied: requests-toolbelt>=1.0.0 in /usr/local/lib/python3.12/dist-packages (from langsmith) (1.0.0)\n",
            "Requirement already satisfied: requests>=2.0.0 in /usr/local/lib/python3.12/dist-packages (from langsmith) (2.32.4)\n",
            "Requirement already satisfied: zstandard>=0.23.0 in /usr/local/lib/python3.12/dist-packages (from langsmith) (0.25.0)\n",
            "Requirement already satisfied: anyio in /usr/local/lib/python3.12/dist-packages (from httpx<1,>=0.23.0->langsmith) (4.10.0)\n",
            "Requirement already satisfied: certifi in /usr/local/lib/python3.12/dist-packages (from httpx<1,>=0.23.0->langsmith) (2025.8.3)\n",
            "Requirement already satisfied: httpcore==1.* in /usr/local/lib/python3.12/dist-packages (from httpx<1,>=0.23.0->langsmith) (1.0.9)\n",
            "Requirement already satisfied: idna in /usr/local/lib/python3.12/dist-packages (from httpx<1,>=0.23.0->langsmith) (3.10)\n",
            "Requirement already satisfied: h11>=0.16 in /usr/local/lib/python3.12/dist-packages (from httpcore==1.*->httpx<1,>=0.23.0->langsmith) (0.16.0)\n",
            "Requirement already satisfied: tenacity!=8.4.0,<10.0.0,>=8.1.0 in /usr/local/lib/python3.12/dist-packages (from langchain-core>=0.1->langgraph) (8.5.0)\n",
            "Requirement already satisfied: jsonpatch<2.0,>=1.33 in /usr/local/lib/python3.12/dist-packages (from langchain-core>=0.1->langgraph) (1.33)\n",
            "Requirement already satisfied: PyYAML>=5.3 in /usr/local/lib/python3.12/dist-packages (from langchain-core>=0.1->langgraph) (6.0.2)\n",
            "Requirement already satisfied: typing-extensions>=4.7 in /usr/local/lib/python3.12/dist-packages (from langchain-core>=0.1->langgraph) (4.15.0)\n",
            "Collecting ormsgpack>=1.10.0 (from langgraph-checkpoint<3.0.0,>=2.1.0->langgraph)\n",
            "  Downloading ormsgpack-1.10.0-cp312-cp312-manylinux_2_17_x86_64.manylinux2014_x86_64.whl.metadata (43 kB)\n",
            "\u001b[2K     \u001b[90m━━━━━━━━━━━━━━━━━━━━━━━━━━━━━━━━━━━━━━━━\u001b[0m \u001b[32m43.7/43.7 kB\u001b[0m \u001b[31m1.6 MB/s\u001b[0m eta \u001b[36m0:00:00\u001b[0m\n",
            "\u001b[?25hRequirement already satisfied: annotated-types>=0.6.0 in /usr/local/lib/python3.12/dist-packages (from pydantic>=2.7.4->langgraph) (0.7.0)\n",
            "Requirement already satisfied: pydantic-core==2.33.2 in /usr/local/lib/python3.12/dist-packages (from pydantic>=2.7.4->langgraph) (2.33.2)\n",
            "Requirement already satisfied: typing-inspection>=0.4.0 in /usr/local/lib/python3.12/dist-packages (from pydantic>=2.7.4->langgraph) (0.4.1)\n",
            "Requirement already satisfied: charset_normalizer<4,>=2 in /usr/local/lib/python3.12/dist-packages (from requests>=2.0.0->langsmith) (3.4.3)\n",
            "Requirement already satisfied: urllib3<3,>=1.21.1 in /usr/local/lib/python3.12/dist-packages (from requests>=2.0.0->langsmith) (2.5.0)\n",
            "Requirement already satisfied: jsonpointer>=1.9 in /usr/local/lib/python3.12/dist-packages (from jsonpatch<2.0,>=1.33->langchain-core>=0.1->langgraph) (3.0.0)\n",
            "Requirement already satisfied: sniffio>=1.1 in /usr/local/lib/python3.12/dist-packages (from anyio->httpx<1,>=0.23.0->langsmith) (1.3.1)\n",
            "Downloading langgraph-0.6.7-py3-none-any.whl (153 kB)\n",
            "\u001b[2K   \u001b[90m━━━━━━━━━━━━━━━━━━━━━━━━━━━━━━━━━━━━━━━━\u001b[0m \u001b[32m153.3/153.3 kB\u001b[0m \u001b[31m4.8 MB/s\u001b[0m eta \u001b[36m0:00:00\u001b[0m\n",
            "\u001b[?25hDownloading langgraph_checkpoint-2.1.1-py3-none-any.whl (43 kB)\n",
            "\u001b[2K   \u001b[90m━━━━━━━━━━━━━━━━━━━━━━━━━━━━━━━━━━━━━━━━\u001b[0m \u001b[32m43.9/43.9 kB\u001b[0m \u001b[31m2.2 MB/s\u001b[0m eta \u001b[36m0:00:00\u001b[0m\n",
            "\u001b[?25hDownloading langgraph_prebuilt-0.6.4-py3-none-any.whl (28 kB)\n",
            "Downloading langgraph_sdk-0.2.9-py3-none-any.whl (56 kB)\n",
            "\u001b[2K   \u001b[90m━━━━━━━━━━━━━━━━━━━━━━━━━━━━━━━━━━━━━━━━\u001b[0m \u001b[32m56.8/56.8 kB\u001b[0m \u001b[31m2.8 MB/s\u001b[0m eta \u001b[36m0:00:00\u001b[0m\n",
            "\u001b[?25hDownloading ormsgpack-1.10.0-cp312-cp312-manylinux_2_17_x86_64.manylinux2014_x86_64.whl (216 kB)\n",
            "\u001b[2K   \u001b[90m━━━━━━━━━━━━━━━━━━━━━━━━━━━━━━━━━━━━━━━━\u001b[0m \u001b[32m216.7/216.7 kB\u001b[0m \u001b[31m11.3 MB/s\u001b[0m eta \u001b[36m0:00:00\u001b[0m\n",
            "\u001b[?25hInstalling collected packages: ormsgpack, langgraph-sdk, langgraph-checkpoint, langgraph-prebuilt, langgraph\n",
            "Successfully installed langgraph-0.6.7 langgraph-checkpoint-2.1.1 langgraph-prebuilt-0.6.4 langgraph-sdk-0.2.9 ormsgpack-1.10.0\n"
          ]
        }
      ],
      "source": [
        "!pip install langgraph langsmith"
      ]
    },
    {
      "cell_type": "code",
      "execution_count": 2,
      "metadata": {
        "colab": {
          "base_uri": "https://localhost:8080/"
        },
        "id": "zlNkcg_5y8Ya",
        "outputId": "d7517a69-c085-4774-cfbf-25f61011e5d0"
      },
      "outputs": [
        {
          "name": "stdout",
          "output_type": "stream",
          "text": [
            "Requirement already satisfied: langchain in /usr/local/lib/python3.12/dist-packages (0.3.27)\n",
            "Collecting langchain_groq\n",
            "  Downloading langchain_groq-0.3.8-py3-none-any.whl.metadata (2.6 kB)\n",
            "Collecting langchain_community\n",
            "  Downloading langchain_community-0.3.30-py3-none-any.whl.metadata (3.0 kB)\n",
            "Requirement already satisfied: langchain-core<1.0.0,>=0.3.72 in /usr/local/lib/python3.12/dist-packages (from langchain) (0.3.76)\n",
            "Requirement already satisfied: langchain-text-splitters<1.0.0,>=0.3.9 in /usr/local/lib/python3.12/dist-packages (from langchain) (0.3.11)\n",
            "Requirement already satisfied: langsmith>=0.1.17 in /usr/local/lib/python3.12/dist-packages (from langchain) (0.4.28)\n",
            "Requirement already satisfied: pydantic<3.0.0,>=2.7.4 in /usr/local/lib/python3.12/dist-packages (from langchain) (2.11.9)\n",
            "Requirement already satisfied: SQLAlchemy<3,>=1.4 in /usr/local/lib/python3.12/dist-packages (from langchain) (2.0.43)\n",
            "Requirement already satisfied: requests<3,>=2 in /usr/local/lib/python3.12/dist-packages (from langchain) (2.32.4)\n",
            "Requirement already satisfied: PyYAML>=5.3 in /usr/local/lib/python3.12/dist-packages (from langchain) (6.0.2)\n",
            "Collecting groq<1,>=0.30.0 (from langchain_groq)\n",
            "  Downloading groq-0.31.1-py3-none-any.whl.metadata (16 kB)\n",
            "Collecting requests<3,>=2 (from langchain)\n",
            "  Downloading requests-2.32.5-py3-none-any.whl.metadata (4.9 kB)\n",
            "Requirement already satisfied: aiohttp<4.0.0,>=3.8.3 in /usr/local/lib/python3.12/dist-packages (from langchain_community) (3.12.15)\n",
            "Requirement already satisfied: tenacity!=8.4.0,<10.0.0,>=8.1.0 in /usr/local/lib/python3.12/dist-packages (from langchain_community) (8.5.0)\n",
            "Collecting dataclasses-json<0.7.0,>=0.6.7 (from langchain_community)\n",
            "  Downloading dataclasses_json-0.6.7-py3-none-any.whl.metadata (25 kB)\n",
            "Requirement already satisfied: pydantic-settings<3.0.0,>=2.10.1 in /usr/local/lib/python3.12/dist-packages (from langchain_community) (2.10.1)\n",
            "Requirement already satisfied: httpx-sse<1.0.0,>=0.4.0 in /usr/local/lib/python3.12/dist-packages (from langchain_community) (0.4.1)\n",
            "Requirement already satisfied: numpy>=1.26.2 in /usr/local/lib/python3.12/dist-packages (from langchain_community) (2.0.2)\n",
            "Requirement already satisfied: aiohappyeyeballs>=2.5.0 in /usr/local/lib/python3.12/dist-packages (from aiohttp<4.0.0,>=3.8.3->langchain_community) (2.6.1)\n",
            "Requirement already satisfied: aiosignal>=1.4.0 in /usr/local/lib/python3.12/dist-packages (from aiohttp<4.0.0,>=3.8.3->langchain_community) (1.4.0)\n",
            "Requirement already satisfied: attrs>=17.3.0 in /usr/local/lib/python3.12/dist-packages (from aiohttp<4.0.0,>=3.8.3->langchain_community) (25.3.0)\n",
            "Requirement already satisfied: frozenlist>=1.1.1 in /usr/local/lib/python3.12/dist-packages (from aiohttp<4.0.0,>=3.8.3->langchain_community) (1.7.0)\n",
            "Requirement already satisfied: multidict<7.0,>=4.5 in /usr/local/lib/python3.12/dist-packages (from aiohttp<4.0.0,>=3.8.3->langchain_community) (6.6.4)\n",
            "Requirement already satisfied: propcache>=0.2.0 in /usr/local/lib/python3.12/dist-packages (from aiohttp<4.0.0,>=3.8.3->langchain_community) (0.3.2)\n",
            "Requirement already satisfied: yarl<2.0,>=1.17.0 in /usr/local/lib/python3.12/dist-packages (from aiohttp<4.0.0,>=3.8.3->langchain_community) (1.20.1)\n",
            "Collecting marshmallow<4.0.0,>=3.18.0 (from dataclasses-json<0.7.0,>=0.6.7->langchain_community)\n",
            "  Downloading marshmallow-3.26.1-py3-none-any.whl.metadata (7.3 kB)\n",
            "Collecting typing-inspect<1,>=0.4.0 (from dataclasses-json<0.7.0,>=0.6.7->langchain_community)\n",
            "  Downloading typing_inspect-0.9.0-py3-none-any.whl.metadata (1.5 kB)\n",
            "Requirement already satisfied: anyio<5,>=3.5.0 in /usr/local/lib/python3.12/dist-packages (from groq<1,>=0.30.0->langchain_groq) (4.10.0)\n",
            "Requirement already satisfied: distro<2,>=1.7.0 in /usr/local/lib/python3.12/dist-packages (from groq<1,>=0.30.0->langchain_groq) (1.9.0)\n",
            "Requirement already satisfied: httpx<1,>=0.23.0 in /usr/local/lib/python3.12/dist-packages (from groq<1,>=0.30.0->langchain_groq) (0.28.1)\n",
            "Requirement already satisfied: sniffio in /usr/local/lib/python3.12/dist-packages (from groq<1,>=0.30.0->langchain_groq) (1.3.1)\n",
            "Requirement already satisfied: typing-extensions<5,>=4.10 in /usr/local/lib/python3.12/dist-packages (from groq<1,>=0.30.0->langchain_groq) (4.15.0)\n",
            "Requirement already satisfied: jsonpatch<2.0,>=1.33 in /usr/local/lib/python3.12/dist-packages (from langchain-core<1.0.0,>=0.3.72->langchain) (1.33)\n",
            "Requirement already satisfied: packaging>=23.2 in /usr/local/lib/python3.12/dist-packages (from langchain-core<1.0.0,>=0.3.72->langchain) (25.0)\n",
            "Requirement already satisfied: orjson>=3.9.14 in /usr/local/lib/python3.12/dist-packages (from langsmith>=0.1.17->langchain) (3.11.3)\n",
            "Requirement already satisfied: requests-toolbelt>=1.0.0 in /usr/local/lib/python3.12/dist-packages (from langsmith>=0.1.17->langchain) (1.0.0)\n",
            "Requirement already satisfied: zstandard>=0.23.0 in /usr/local/lib/python3.12/dist-packages (from langsmith>=0.1.17->langchain) (0.25.0)\n",
            "Requirement already satisfied: annotated-types>=0.6.0 in /usr/local/lib/python3.12/dist-packages (from pydantic<3.0.0,>=2.7.4->langchain) (0.7.0)\n",
            "Requirement already satisfied: pydantic-core==2.33.2 in /usr/local/lib/python3.12/dist-packages (from pydantic<3.0.0,>=2.7.4->langchain) (2.33.2)\n",
            "Requirement already satisfied: typing-inspection>=0.4.0 in /usr/local/lib/python3.12/dist-packages (from pydantic<3.0.0,>=2.7.4->langchain) (0.4.1)\n",
            "Requirement already satisfied: python-dotenv>=0.21.0 in /usr/local/lib/python3.12/dist-packages (from pydantic-settings<3.0.0,>=2.10.1->langchain_community) (1.1.1)\n",
            "Requirement already satisfied: charset_normalizer<4,>=2 in /usr/local/lib/python3.12/dist-packages (from requests<3,>=2->langchain) (3.4.3)\n",
            "Requirement already satisfied: idna<4,>=2.5 in /usr/local/lib/python3.12/dist-packages (from requests<3,>=2->langchain) (3.10)\n",
            "Requirement already satisfied: urllib3<3,>=1.21.1 in /usr/local/lib/python3.12/dist-packages (from requests<3,>=2->langchain) (2.5.0)\n",
            "Requirement already satisfied: certifi>=2017.4.17 in /usr/local/lib/python3.12/dist-packages (from requests<3,>=2->langchain) (2025.8.3)\n",
            "Requirement already satisfied: greenlet>=1 in /usr/local/lib/python3.12/dist-packages (from SQLAlchemy<3,>=1.4->langchain) (3.2.4)\n",
            "Requirement already satisfied: httpcore==1.* in /usr/local/lib/python3.12/dist-packages (from httpx<1,>=0.23.0->groq<1,>=0.30.0->langchain_groq) (1.0.9)\n",
            "Requirement already satisfied: h11>=0.16 in /usr/local/lib/python3.12/dist-packages (from httpcore==1.*->httpx<1,>=0.23.0->groq<1,>=0.30.0->langchain_groq) (0.16.0)\n",
            "Requirement already satisfied: jsonpointer>=1.9 in /usr/local/lib/python3.12/dist-packages (from jsonpatch<2.0,>=1.33->langchain-core<1.0.0,>=0.3.72->langchain) (3.0.0)\n",
            "Collecting mypy-extensions>=0.3.0 (from typing-inspect<1,>=0.4.0->dataclasses-json<0.7.0,>=0.6.7->langchain_community)\n",
            "  Downloading mypy_extensions-1.1.0-py3-none-any.whl.metadata (1.1 kB)\n",
            "Downloading langchain_groq-0.3.8-py3-none-any.whl (16 kB)\n",
            "Downloading langchain_community-0.3.30-py3-none-any.whl (2.5 MB)\n",
            "\u001b[2K   \u001b[90m━━━━━━━━━━━━━━━━━━━━━━━━━━━━━━━━━━━━━━━━\u001b[0m \u001b[32m2.5/2.5 MB\u001b[0m \u001b[31m23.7 MB/s\u001b[0m eta \u001b[36m0:00:00\u001b[0m\n",
            "\u001b[?25hDownloading dataclasses_json-0.6.7-py3-none-any.whl (28 kB)\n",
            "Downloading groq-0.31.1-py3-none-any.whl (134 kB)\n",
            "\u001b[2K   \u001b[90m━━━━━━━━━━━━━━━━━━━━━━━━━━━━━━━━━━━━━━━━\u001b[0m \u001b[32m134.9/134.9 kB\u001b[0m \u001b[31m4.2 MB/s\u001b[0m eta \u001b[36m0:00:00\u001b[0m\n",
            "\u001b[?25hDownloading requests-2.32.5-py3-none-any.whl (64 kB)\n",
            "\u001b[2K   \u001b[90m━━━━━━━━━━━━━━━━━━━━━━━━━━━━━━━━━━━━━━━━\u001b[0m \u001b[32m64.7/64.7 kB\u001b[0m \u001b[31m4.0 MB/s\u001b[0m eta \u001b[36m0:00:00\u001b[0m\n",
            "\u001b[?25hDownloading marshmallow-3.26.1-py3-none-any.whl (50 kB)\n",
            "\u001b[2K   \u001b[90m━━━━━━━━━━━━━━━━━━━━━━━━━━━━━━━━━━━━━━━━\u001b[0m \u001b[32m50.9/50.9 kB\u001b[0m \u001b[31m2.4 MB/s\u001b[0m eta \u001b[36m0:00:00\u001b[0m\n",
            "\u001b[?25hDownloading typing_inspect-0.9.0-py3-none-any.whl (8.8 kB)\n",
            "Downloading mypy_extensions-1.1.0-py3-none-any.whl (5.0 kB)\n",
            "Installing collected packages: requests, mypy-extensions, marshmallow, typing-inspect, groq, dataclasses-json, langchain_groq, langchain_community\n",
            "  Attempting uninstall: requests\n",
            "    Found existing installation: requests 2.32.4\n",
            "    Uninstalling requests-2.32.4:\n",
            "      Successfully uninstalled requests-2.32.4\n",
            "\u001b[31mERROR: pip's dependency resolver does not currently take into account all the packages that are installed. This behaviour is the source of the following dependency conflicts.\n",
            "google-colab 1.0.0 requires requests==2.32.4, but you have requests 2.32.5 which is incompatible.\u001b[0m\u001b[31m\n",
            "\u001b[0mSuccessfully installed dataclasses-json-0.6.7 groq-0.31.1 langchain_community-0.3.30 langchain_groq-0.3.8 marshmallow-3.26.1 mypy-extensions-1.1.0 requests-2.32.5 typing-inspect-0.9.0\n"
          ]
        }
      ],
      "source": [
        "!pip install langchain langchain_groq langchain_community"
      ]
    },
    {
      "cell_type": "code",
      "execution_count": null,
      "metadata": {
        "id": "qcX_ESiAzBhI"
      },
      "outputs": [],
      "source": [
        "groq_api_key=\"your_api_key_here\"\n",
        "langsmith=\"your_api_key_here\""
      ]
    },
    {
      "cell_type": "code",
      "execution_count": 4,
      "metadata": {
        "id": "1C8Ohugb1Vgc"
      },
      "outputs": [],
      "source": [
        "from langchain_groq import ChatGroq"
      ]
    },
    {
      "cell_type": "code",
      "execution_count": 5,
      "metadata": {
        "colab": {
          "base_uri": "https://localhost:8080/"
        },
        "id": "Gq6GKM-r1YF4",
        "outputId": "5c6155fc-bca3-45ad-d65e-031c1325af66"
      },
      "outputs": [
        {
          "data": {
            "text/plain": [
              "ChatGroq(client=<groq.resources.chat.completions.Completions object at 0x7db6bdae5f40>, async_client=<groq.resources.chat.completions.AsyncCompletions object at 0x7db6bda5ce30>, model_name='Gemma2-9b-It', model_kwargs={}, groq_api_key=SecretStr('**********'))"
            ]
          },
          "execution_count": 5,
          "metadata": {},
          "output_type": "execute_result"
        }
      ],
      "source": [
        "llm=ChatGroq(groq_api_key=groq_api_key, model_name=\"Gemma2-9b-It\")\n",
        "llm"
      ]
    },
    {
      "cell_type": "code",
      "execution_count": 6,
      "metadata": {
        "id": "ZY5MokrK2FwR"
      },
      "outputs": [],
      "source": [
        "from typing import Annotated\n",
        "from typing_extensions import TypedDict\n",
        "from langgraph.graph import StateGraph,START,END\n",
        "from langgraph.graph.message import add_messages"
      ]
    },
    {
      "cell_type": "code",
      "execution_count": 7,
      "metadata": {
        "id": "viYSdL5b2KvV"
      },
      "outputs": [],
      "source": [
        "class State(TypedDict):\n",
        "  # Messages have the type \"list\". The `add_messages` function\n",
        "    # in the annotation defines how this state key should be updated\n",
        "    # (in this case, it appends messages to the list, rather than overwriting them)\n",
        "  messages:Annotated[list,add_messages]\n",
        "\n",
        "graph_builder=StateGraph(State)"
      ]
    },
    {
      "cell_type": "code",
      "execution_count": 8,
      "metadata": {
        "colab": {
          "base_uri": "https://localhost:8080/"
        },
        "id": "sbIAZ4-C2Nlf",
        "outputId": "3df1d9cc-fbf1-4add-8d4e-a186ce10c608"
      },
      "outputs": [
        {
          "data": {
            "text/plain": [
              "<langgraph.graph.state.StateGraph at 0x7db6bd5ad790>"
            ]
          },
          "execution_count": 8,
          "metadata": {},
          "output_type": "execute_result"
        }
      ],
      "source": [
        "graph_builder"
      ]
    },
    {
      "cell_type": "code",
      "execution_count": 9,
      "metadata": {
        "id": "PDLhSD_L2QE7"
      },
      "outputs": [],
      "source": [
        "def chatbot(state:State):\n",
        "  return {\"messages\":llm.invoke(state['messages'])}"
      ]
    },
    {
      "cell_type": "code",
      "execution_count": 10,
      "metadata": {
        "colab": {
          "base_uri": "https://localhost:8080/"
        },
        "id": "atnflsf22TYe",
        "outputId": "c1697dc8-536f-4471-d262-1f720a6f6cb8"
      },
      "outputs": [
        {
          "data": {
            "text/plain": [
              "<langgraph.graph.state.StateGraph at 0x7db6bd5ad790>"
            ]
          },
          "execution_count": 10,
          "metadata": {},
          "output_type": "execute_result"
        }
      ],
      "source": [
        "graph_builder.add_node(\"chatbot\",chatbot)"
      ]
    },
    {
      "cell_type": "code",
      "execution_count": 11,
      "metadata": {
        "colab": {
          "base_uri": "https://localhost:8080/"
        },
        "id": "OmZw-TEV2WCJ",
        "outputId": "4c7c86e0-2f77-49b1-ea72-99385b77bbbc"
      },
      "outputs": [
        {
          "data": {
            "text/plain": [
              "<langgraph.graph.state.StateGraph at 0x7db6bd5ad790>"
            ]
          },
          "execution_count": 11,
          "metadata": {},
          "output_type": "execute_result"
        }
      ],
      "source": [
        "graph_builder"
      ]
    },
    {
      "cell_type": "code",
      "execution_count": 12,
      "metadata": {
        "colab": {
          "base_uri": "https://localhost:8080/"
        },
        "id": "IaU8wfS92YpG",
        "outputId": "b8a646f3-b2d6-46eb-ae18-a9277c1feea0"
      },
      "outputs": [
        {
          "data": {
            "text/plain": [
              "<langgraph.graph.state.StateGraph at 0x7db6bd5ad790>"
            ]
          },
          "execution_count": 12,
          "metadata": {},
          "output_type": "execute_result"
        }
      ],
      "source": [
        "graph_builder.add_edge(START,\"chatbot\")\n",
        "graph_builder.add_edge(\"chatbot\",END)"
      ]
    },
    {
      "cell_type": "code",
      "execution_count": 13,
      "metadata": {
        "id": "ZLZya_PK2bH9"
      },
      "outputs": [],
      "source": [
        "graph=graph_builder.compile()"
      ]
    },
    {
      "cell_type": "code",
      "execution_count": 14,
      "metadata": {
        "colab": {
          "base_uri": "https://localhost:8080/",
          "height": 251
        },
        "id": "MeD5BzeG2dr1",
        "outputId": "11a03734-b7d5-4069-e006-7bca9ce5d8bb"
      },
      "outputs": [
        {
          "data": {
            "image/png": "[encoded data removed]",
            "text/plain": [
              "<IPython.core.display.Image object>"
            ]
          },
          "metadata": {},
          "output_type": "display_data"
        }
      ],
      "source": [
        "from IPython.display import Image, display\n",
        "try:\n",
        "  display(Image(graph.get_graph().draw_mermaid_png()))\n",
        "except Exception:\n",
        "  pass"
      ]
    },
    {
      "cell_type": "code",
      "execution_count": null,
      "metadata": {
        "colab": {
          "base_uri": "https://localhost:8080/"
        },
        "id": "32P8BYVv2hr2",
        "outputId": "a5e2a670-3bed-4c6c-aadf-3570f2976496"
      },
      "outputs": [
        {
          "name": "stdout",
          "output_type": "stream",
          "text": [
            "User: Omni-Man\n",
            "dict_values([{'messages': AIMessage(content=\"Omni-Man, also known as Nolan Grayson, is a fictional superhero appearing in the Image Comics series *Invincible* created by Robert Kirkman, Cory Walker, and Ryan Ottley. \\n\\nHere's a breakdown of his character:\\n\\n**Origin:**\\n\\n* **Viltrumite:** Omni-Man is a member of the Viltrumite race, a powerful alien species known for their superhuman strength, speed, durability, and flight.\\n\\n* **Mission:** He was sent to Earth on a mission to conquer it for Viltrumite rule.\\n\\n**Personality:**\\n\\n* **Charismatic and Deceptive:** Initially, Omni-Man presents himself as a heroic protector, quickly becoming a beloved figure and a symbol of hope. However, this is a carefully crafted facade to gain the trust of humanity before revealing his true intentions.\\n* **Ruthless and Cold:**  Beneath the charming exterior lies a ruthless and calculating alien warrior driven by his loyalty to his race and his belief in Viltrumite superiority. He is willing to kill and destroy anyone who stands in his way.\\n* **Loving Father:** Despite his villainous nature, Omni-Man genuinely cares for his son, Mark Grayson (Invincible),  and initially tries to guide him towards becoming a worthy Viltrumite warrior.\\n\\n**Powers and Abilities:**\\n\\n* **Extreme Superhuman Strength and Durability:** Viltrumites possess vast physical strength and durability far exceeding any human. Omni-Man can effortlessly lift massive objects, withstand extreme temperatures, and survive attacks that would obliterate ordinary beings.\\n* **Superhuman Speed and Flight:** Omni-Man can move and fly at supersonic speeds, making him virtually unbeatable in close combat.\\n* **Accelerated Healing:** Viltrumites heal from injuries at an accelerated rate.\\n\\n**Significance:**\\n\\n* **Moral Ambiguity:** Omni-Man represents the dangers of unchecked power and the complexities of morality. He is both a hero and a villain, a loving father and a ruthless conqueror, making him a compelling and thought-provoking character.\\n* **Exploration of Family Dynamics:**  The relationship between Omni-Man and Mark Grayson explores themes of father-son conflict, betrayal, and the struggle to reconcile conflicting ideologies.\\n* **Impact on the Genre:** Omni-Man's portrayal as a seemingly benevolent hero who turns out to be a villain has influenced superhero storytelling, challenging the traditional notions of good and evil.\\n\\n\\n\\nLet me know if you have any other questions about Omni-Man or *Invincible*!\\n\", additional_kwargs={}, response_metadata={'token_usage': {'completion_tokens': 512, 'prompt_tokens': 12, 'total_tokens': 524, 'completion_time': 0.930909091, 'prompt_time': 0.001172079, 'queue_time': 0.066025633, 'total_time': 0.93208117}, 'model_name': 'Gemma2-9b-It', 'system_fingerprint': 'fp_10c08bf97d', 'service_tier': 'on_demand', 'finish_reason': 'stop', 'logprobs': None}, id='run--7ff89570-a19c-4ee7-9112-7cbe770bb7ec-0', usage_metadata={'input_tokens': 12, 'output_tokens': 512, 'total_tokens': 524})}])\n",
            "content=\"Omni-Man, also known as Nolan Grayson, is a fictional superhero appearing in the Image Comics series *Invincible* created by Robert Kirkman, Cory Walker, and Ryan Ottley. \\n\\nHere's a breakdown of his character:\\n\\n**Origin:**\\n\\n* **Viltrumite:** Omni-Man is a member of the Viltrumite race, a powerful alien species known for their superhuman strength, speed, durability, and flight.\\n\\n* **Mission:** He was sent to Earth on a mission to conquer it for Viltrumite rule.\\n\\n**Personality:**\\n\\n* **Charismatic and Deceptive:** Initially, Omni-Man presents himself as a heroic protector, quickly becoming a beloved figure and a symbol of hope. However, this is a carefully crafted facade to gain the trust of humanity before revealing his true intentions.\\n* **Ruthless and Cold:**  Beneath the charming exterior lies a ruthless and calculating alien warrior driven by his loyalty to his race and his belief in Viltrumite superiority. He is willing to kill and destroy anyone who stands in his way.\\n* **Loving Father:** Despite his villainous nature, Omni-Man genuinely cares for his son, Mark Grayson (Invincible),  and initially tries to guide him towards becoming a worthy Viltrumite warrior.\\n\\n**Powers and Abilities:**\\n\\n* **Extreme Superhuman Strength and Durability:** Viltrumites possess vast physical strength and durability far exceeding any human. Omni-Man can effortlessly lift massive objects, withstand extreme temperatures, and survive attacks that would obliterate ordinary beings.\\n* **Superhuman Speed and Flight:** Omni-Man can move and fly at supersonic speeds, making him virtually unbeatable in close combat.\\n* **Accelerated Healing:** Viltrumites heal from injuries at an accelerated rate.\\n\\n**Significance:**\\n\\n* **Moral Ambiguity:** Omni-Man represents the dangers of unchecked power and the complexities of morality. He is both a hero and a villain, a loving father and a ruthless conqueror, making him a compelling and thought-provoking character.\\n* **Exploration of Family Dynamics:**  The relationship between Omni-Man and Mark Grayson explores themes of father-son conflict, betrayal, and the struggle to reconcile conflicting ideologies.\\n* **Impact on the Genre:** Omni-Man's portrayal as a seemingly benevolent hero who turns out to be a villain has influenced superhero storytelling, challenging the traditional notions of good and evil.\\n\\n\\n\\nLet me know if you have any other questions about Omni-Man or *Invincible*!\\n\" additional_kwargs={} response_metadata={'token_usage': {'completion_tokens': 512, 'prompt_tokens': 12, 'total_tokens': 524, 'completion_time': 0.930909091, 'prompt_time': 0.001172079, 'queue_time': 0.066025633, 'total_time': 0.93208117}, 'model_name': 'Gemma2-9b-It', 'system_fingerprint': 'fp_10c08bf97d', 'service_tier': 'on_demand', 'finish_reason': 'stop', 'logprobs': None} id='run--7ff89570-a19c-4ee7-9112-7cbe770bb7ec-0' usage_metadata={'input_tokens': 12, 'output_tokens': 512, 'total_tokens': 524}\n",
            "Assistant: Omni-Man, also known as Nolan Grayson, is a fictional superhero appearing in the Image Comics series *Invincible* created by Robert Kirkman, Cory Walker, and Ryan Ottley. \n",
            "\n",
            "Here's a breakdown of his character:\n",
            "\n",
            "**Origin:**\n",
            "\n",
            "* **Viltrumite:** Omni-Man is a member of the Viltrumite race, a powerful alien species known for their superhuman strength, speed, durability, and flight.\n",
            "\n",
            "* **Mission:** He was sent to Earth on a mission to conquer it for Viltrumite rule.\n",
            "\n",
            "**Personality:**\n",
            "\n",
            "* **Charismatic and Deceptive:** Initially, Omni-Man presents himself as a heroic protector, quickly becoming a beloved figure and a symbol of hope. However, this is a carefully crafted facade to gain the trust of humanity before revealing his true intentions.\n",
            "* **Ruthless and Cold:**  Beneath the charming exterior lies a ruthless and calculating alien warrior driven by his loyalty to his race and his belief in Viltrumite superiority. He is willing to kill and destroy anyone who stands in his way.\n",
            "* **Loving Father:** Despite his villainous nature, Omni-Man genuinely cares for his son, Mark Grayson (Invincible),  and initially tries to guide him towards becoming a worthy Viltrumite warrior.\n",
            "\n",
            "**Powers and Abilities:**\n",
            "\n",
            "* **Extreme Superhuman Strength and Durability:** Viltrumites possess vast physical strength and durability far exceeding any human. Omni-Man can effortlessly lift massive objects, withstand extreme temperatures, and survive attacks that would obliterate ordinary beings.\n",
            "* **Superhuman Speed and Flight:** Omni-Man can move and fly at supersonic speeds, making him virtually unbeatable in close combat.\n",
            "* **Accelerated Healing:** Viltrumites heal from injuries at an accelerated rate.\n",
            "\n",
            "**Significance:**\n",
            "\n",
            "* **Moral Ambiguity:** Omni-Man represents the dangers of unchecked power and the complexities of morality. He is both a hero and a villain, a loving father and a ruthless conqueror, making him a compelling and thought-provoking character.\n",
            "* **Exploration of Family Dynamics:**  The relationship between Omni-Man and Mark Grayson explores themes of father-son conflict, betrayal, and the struggle to reconcile conflicting ideologies.\n",
            "* **Impact on the Genre:** Omni-Man's portrayal as a seemingly benevolent hero who turns out to be a villain has influenced superhero storytelling, challenging the traditional notions of good and evil.\n",
            "\n",
            "\n",
            "\n",
            "Let me know if you have any other questions about Omni-Man or *Invincible*!\n",
            "\n",
            "User: Green lantern\n",
            "dict_values([{'messages': AIMessage(content=\"Ah, Green Lantern! \\n\\nIt sounds like you're interested in the legendary DC Comics superhero. To give you the best answer, I need a little more direction. What would you like to know about Green Lantern?\\n\\nFor example, are you curious about:\\n\\n* **Specific Green Lanterns:**  Like Hal Jordan, John Stewart, Guy Gardner, or Kyle Rayner?\\n* **The history of the Green Lantern Corps:**  Their origins, their powers, their enemies?\\n* **The different rings and colors of the Lantern Corps:**  The emotional spectrum, the different Lantern factions?\\n* **Green Lantern in other media:**  Movies, TV shows, video games?\\n\\nTell me what piques your interest, and I'll do my best to illuminate the world of Green Lantern for you!  \\n\\n\", additional_kwargs={}, response_metadata={'token_usage': {'completion_tokens': 171, 'prompt_tokens': 11, 'total_tokens': 182, 'completion_time': 0.310909091, 'prompt_time': 0.001240339, 'queue_time': 0.066143577, 'total_time': 0.31214943}, 'model_name': 'Gemma2-9b-It', 'system_fingerprint': 'fp_10c08bf97d', 'service_tier': 'on_demand', 'finish_reason': 'stop', 'logprobs': None}, id='run--9814fa71-f04c-449f-9c38-258e5d495024-0', usage_metadata={'input_tokens': 11, 'output_tokens': 171, 'total_tokens': 182})}])\n",
            "content=\"Ah, Green Lantern! \\n\\nIt sounds like you're interested in the legendary DC Comics superhero. To give you the best answer, I need a little more direction. What would you like to know about Green Lantern?\\n\\nFor example, are you curious about:\\n\\n* **Specific Green Lanterns:**  Like Hal Jordan, John Stewart, Guy Gardner, or Kyle Rayner?\\n* **The history of the Green Lantern Corps:**  Their origins, their powers, their enemies?\\n* **The different rings and colors of the Lantern Corps:**  The emotional spectrum, the different Lantern factions?\\n* **Green Lantern in other media:**  Movies, TV shows, video games?\\n\\nTell me what piques your interest, and I'll do my best to illuminate the world of Green Lantern for you!  \\n\\n\" additional_kwargs={} response_metadata={'token_usage': {'completion_tokens': 171, 'prompt_tokens': 11, 'total_tokens': 182, 'completion_time': 0.310909091, 'prompt_time': 0.001240339, 'queue_time': 0.066143577, 'total_time': 0.31214943}, 'model_name': 'Gemma2-9b-It', 'system_fingerprint': 'fp_10c08bf97d', 'service_tier': 'on_demand', 'finish_reason': 'stop', 'logprobs': None} id='run--9814fa71-f04c-449f-9c38-258e5d495024-0' usage_metadata={'input_tokens': 11, 'output_tokens': 171, 'total_tokens': 182}\n",
            "Assistant: Ah, Green Lantern! \n",
            "\n",
            "It sounds like you're interested in the legendary DC Comics superhero. To give you the best answer, I need a little more direction. What would you like to know about Green Lantern?\n",
            "\n",
            "For example, are you curious about:\n",
            "\n",
            "* **Specific Green Lanterns:**  Like Hal Jordan, John Stewart, Guy Gardner, or Kyle Rayner?\n",
            "* **The history of the Green Lantern Corps:**  Their origins, their powers, their enemies?\n",
            "* **The different rings and colors of the Lantern Corps:**  The emotional spectrum, the different Lantern factions?\n",
            "* **Green Lantern in other media:**  Movies, TV shows, video games?\n",
            "\n",
            "Tell me what piques your interest, and I'll do my best to illuminate the world of Green Lantern for you!  \n",
            "\n",
            "\n",
            "User: Good Bye\n",
            "dict_values([{'messages': AIMessage(content='Goodbye!\\n\\nIt was nice chatting with you.  \\n\\nHave a great day! 😊\\n', additional_kwargs={}, response_metadata={'token_usage': {'completion_tokens': 21, 'prompt_tokens': 11, 'total_tokens': 32, 'completion_time': 0.038181818, 'prompt_time': 0.001220599, 'queue_time': 0.065965989, 'total_time': 0.039402417}, 'model_name': 'Gemma2-9b-It', 'system_fingerprint': 'fp_10c08bf97d', 'service_tier': 'on_demand', 'finish_reason': 'stop', 'logprobs': None}, id='run--ef1fc5bd-4c91-4eed-b417-73da2ccf5a37-0', usage_metadata={'input_tokens': 11, 'output_tokens': 21, 'total_tokens': 32})}])\n",
            "content='Goodbye!\\n\\nIt was nice chatting with you.  \\n\\nHave a great day! 😊\\n' additional_kwargs={} response_metadata={'token_usage': {'completion_tokens': 21, 'prompt_tokens': 11, 'total_tokens': 32, 'completion_time': 0.038181818, 'prompt_time': 0.001220599, 'queue_time': 0.065965989, 'total_time': 0.039402417}, 'model_name': 'Gemma2-9b-It', 'system_fingerprint': 'fp_10c08bf97d', 'service_tier': 'on_demand', 'finish_reason': 'stop', 'logprobs': None} id='run--ef1fc5bd-4c91-4eed-b417-73da2ccf5a37-0' usage_metadata={'input_tokens': 11, 'output_tokens': 21, 'total_tokens': 32}\n",
            "Assistant: Goodbye!\n",
            "\n",
            "It was nice chatting with you.  \n",
            "\n",
            "Have a great day! 😊\n",
            "\n"
          ]
        }
      ],
      "source": [
        "while True:\n",
        "  user_input=input(\"User: \")\n",
        "  if user_input.lower() in [\"quit\",\"q\"]:\n",
        "    print(\"Good Bye\")\n",
        "    break\n",
        "  for event in graph.stream({'messages':(\"user\",user_input)}):\n",
        "    print(event.values())\n",
        "    for value in event.values():\n",
        "      print(value['messages'])\n",
        "      print(\"Assistant:\",value[\"messages\"].content)"
      ]
    },
    {
      "cell_type": "code",
      "execution_count": null,
      "metadata": {
        "id": "Hx5Fq8zk2vx2"
      },
      "outputs": [],
      "source": []
    }
  ],
  "metadata": {
    "colab": {
      "provenance": []
    },
    "kernelspec": {
      "display_name": "Python 3",
      "name": "python3"
    },
    "language_info": {
      "name": "python"
    }
  },
  "nbformat": 4,
  "nbformat_minor": 0
}
