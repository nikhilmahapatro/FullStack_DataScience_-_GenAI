{
 "cells": [
  {
   "cell_type": "markdown",
   "id": "f34bfc90-01a2-46d6-b61d-e23b6d7846e9",
   "metadata": {},
   "source": [
    "# FUNCTIONS"
   ]
  },
  {
   "cell_type": "code",
   "execution_count": 1,
   "id": "46e97c43-c0ed-4e95-a3a7-9dedd33d546d",
   "metadata": {},
   "outputs": [],
   "source": [
    "def greet():\n",
    "    print('hello')\n",
    "    print('good morning')\n",
    "    # when we run the code we won't get any output "
   ]
  },
  {
   "cell_type": "code",
   "execution_count": 2,
   "id": "53b007f5-8d62-4420-a1fc-3cc779068208",
   "metadata": {},
   "outputs": [
    {
     "name": "stdout",
     "output_type": "stream",
     "text": [
      "hello\n",
      "good morning\n"
     ]
    }
   ],
   "source": [
    "def greet():\n",
    "    print('hello')\n",
    "    print('good morning')\n",
    "    \n",
    "greet() "
   ]
  },
  {
   "cell_type": "code",
   "execution_count": 3,
   "id": "a9f723d0-64e8-41a7-b7c8-5c06d6f05a34",
   "metadata": {},
   "outputs": [
    {
     "name": "stdout",
     "output_type": "stream",
     "text": [
      "hello\n",
      "good noon\n",
      "hello\n",
      "good noon\n"
     ]
    }
   ],
   "source": [
    "def greet():\n",
    "    print('hello')\n",
    "    print('good noon')\n",
    "    \n",
    "greet()\n",
    "greet()"
   ]
  },
  {
   "cell_type": "code",
   "execution_count": 4,
   "id": "98609ce7-bcc2-45b0-8457-c832f23ae927",
   "metadata": {},
   "outputs": [
    {
     "name": "stdout",
     "output_type": "stream",
     "text": [
      "hello\n",
      "good noon\n",
      "\n",
      "hello\n",
      "good noon\n"
     ]
    }
   ],
   "source": [
    "def greet():\n",
    "    print('hello')\n",
    "    print('good noon')\n",
    "    \n",
    "greet()\n",
    "print()\n",
    "greet()"
   ]
  },
  {
   "cell_type": "code",
   "execution_count": 5,
   "id": "a07c52b3-17df-4355-a36c-9787c1b908e1",
   "metadata": {},
   "outputs": [
    {
     "name": "stdout",
     "output_type": "stream",
     "text": [
      "11\n"
     ]
    }
   ],
   "source": [
    "def add(x,y):\n",
    "    c=x+y\n",
    "    print(c)  \n",
    "    \n",
    "add(5,6)"
   ]
  },
  {
   "cell_type": "code",
   "execution_count": 6,
   "id": "ef867a80-b356-4b45-b304-1a6b3dad5904",
   "metadata": {},
   "outputs": [
    {
     "name": "stdout",
     "output_type": "stream",
     "text": [
      "10\n"
     ]
    }
   ],
   "source": [
    "def add(x,y,z):\n",
    "    c=x+y+z\n",
    "    print(c)  \n",
    "    \n",
    "add(1,4,5)"
   ]
  },
  {
   "cell_type": "code",
   "execution_count": 7,
   "id": "878e3f51-480a-400d-b377-901d46a45e60",
   "metadata": {},
   "outputs": [
    {
     "name": "stdout",
     "output_type": "stream",
     "text": [
      "hello\n",
      "good noon\n",
      "9\n",
      "4\n"
     ]
    }
   ],
   "source": [
    "# We can create mutliple function and call them as many time as you want\n",
    "\n",
    "def greet():\n",
    "    print('hello')\n",
    "    print('good noon')\n",
    "    \n",
    "def add(x,y):\n",
    "    c=x+y\n",
    "    print(c)\n",
    "\n",
    "def sub(x,y,z):\n",
    "    d = x-y-z\n",
    "    print(d)\n",
    "    \n",
    "greet()    \n",
    "add(5,4)\n",
    "sub(10,2,4)"
   ]
  },
  {
   "cell_type": "code",
   "execution_count": 8,
   "id": "03148367-f344-47ce-9a3f-13e9f52097aa",
   "metadata": {},
   "outputs": [
    {
     "name": "stdout",
     "output_type": "stream",
     "text": [
      "hello\n",
      "good noon\n",
      "12\n"
     ]
    }
   ],
   "source": [
    "def greet():\n",
    "    print('hello')\n",
    "    print('good noon')\n",
    "\n",
    "def add(x,y,z):\n",
    "    c=x+y+z\n",
    "    return c\n",
    "\n",
    "greet()\n",
    "\n",
    "result = add(5,4,3)\n",
    "print(result) "
   ]
  },
  {
   "cell_type": "code",
   "execution_count": 9,
   "id": "b523df5b-51f8-4fcd-8753-ecd1d8218284",
   "metadata": {},
   "outputs": [
    {
     "data": {
      "text/plain": [
       "(9, -1)"
      ]
     },
     "execution_count": 9,
     "metadata": {},
     "output_type": "execute_result"
    }
   ],
   "source": [
    "def add_sub(x,y): \n",
    "    c= x+y\n",
    "    d= x-y\n",
    "    return c, d \n",
    "    \n",
    "add_sub(4,5)"
   ]
  },
  {
   "cell_type": "code",
   "execution_count": 10,
   "id": "f4131693-e8c7-436f-8c4c-ca9b73f35105",
   "metadata": {},
   "outputs": [
    {
     "name": "stdout",
     "output_type": "stream",
     "text": [
      "(9, -1)\n",
      "<class 'tuple'>\n"
     ]
    }
   ],
   "source": [
    "def add_sub(x,y): \n",
    "    c= x+y\n",
    "    d= x-y\n",
    "    return c, d\n",
    "    \n",
    "result = add_sub(4,5)\n",
    "\n",
    "print(result)\n",
    "print(type(result))"
   ]
  },
  {
   "cell_type": "code",
   "execution_count": 11,
   "id": "81a20c85-7ad0-44bc-bd86-7076dac23a81",
   "metadata": {},
   "outputs": [
    {
     "name": "stdout",
     "output_type": "stream",
     "text": [
      "9 1\n",
      "<class 'int'>\n",
      "<class 'int'>\n"
     ]
    }
   ],
   "source": [
    "def add_sub(x,y):\n",
    "    c= x+y\n",
    "    d= x-y\n",
    "    return c, d\n",
    "\n",
    "result1,result2 = add_sub(5,4)\n",
    "\n",
    "print(result1,result2)\n",
    "\n",
    "print(type(result1))\n",
    "print(type(result2))"
   ]
  },
  {
   "cell_type": "code",
   "execution_count": 12,
   "id": "f9ebcc6d-3575-4614-b945-f74d09a223fd",
   "metadata": {},
   "outputs": [
    {
     "name": "stdout",
     "output_type": "stream",
     "text": [
      "8\n"
     ]
    }
   ],
   "source": [
    "def update(): \n",
    "    x = 8\n",
    "    print(x)\n",
    "\n",
    "# update(8) ---------error\n",
    "update()"
   ]
  },
  {
   "cell_type": "code",
   "execution_count": 13,
   "id": "d28b9f91-4138-4b48-b9f6-12f1d5a32ac7",
   "metadata": {},
   "outputs": [
    {
     "name": "stdout",
     "output_type": "stream",
     "text": [
      "8\n"
     ]
    }
   ],
   "source": [
    "def update(x):\n",
    "    x = 8\n",
    "    print(x)\n",
    "    \n",
    "update(10)"
   ]
  },
  {
   "cell_type": "code",
   "execution_count": 14,
   "id": "f55071f3-5946-4c6b-b49f-8ebf782eab5e",
   "metadata": {},
   "outputs": [
    {
     "name": "stdout",
     "output_type": "stream",
     "text": [
      "8\n",
      "10\n"
     ]
    }
   ],
   "source": [
    "def update(x):  \n",
    "    x = 8\n",
    "    print(x)\n",
    "    \n",
    "a = 10\n",
    "\n",
    "update(a)\n",
    "print(a)"
   ]
  },
  {
   "cell_type": "code",
   "execution_count": 15,
   "id": "68096b59-a718-49e2-a76e-c11e2e1b8d5a",
   "metadata": {},
   "outputs": [
    {
     "name": "stdout",
     "output_type": "stream",
     "text": [
      "10\n"
     ]
    }
   ],
   "source": [
    "def update(x):  \n",
    "    x = 8 \n",
    "    \n",
    "a = 10\n",
    "\n",
    "update(a)            # coz there is no return/print in the function       \n",
    "print(a) "
   ]
  },
  {
   "cell_type": "markdown",
   "id": "989886da-91d5-4a71-99f4-9951274697e8",
   "metadata": {},
   "source": [
    "### In python no concept called pass by value or pass by function "
   ]
  },
  {
   "cell_type": "code",
   "execution_count": 16,
   "id": "8b1c7701-38b1-4bb8-82ae-5b856cd590bf",
   "metadata": {},
   "outputs": [
    {
     "name": "stdout",
     "output_type": "stream",
     "text": [
      "x before calling: 10\n",
      "inside the fun a = 20\n",
      "x after calling: 10\n"
     ]
    }
   ],
   "source": [
    "def change(a):\n",
    "    a = a+ 10\n",
    "    print('inside the fun a =',a)\n",
    "    \n",
    "x = 10\n",
    "print('x before calling:', x)\n",
    "change(x)\n",
    "print('x after calling:', x)"
   ]
  },
  {
   "cell_type": "code",
   "execution_count": 17,
   "id": "b32eded2-99c6-473d-8969-7dded538cde4",
   "metadata": {},
   "outputs": [
    {
     "name": "stdout",
     "output_type": "stream",
     "text": [
      "a before calling: 10\n",
      "inside the fun a = 20\n",
      "a after calling: 10\n"
     ]
    }
   ],
   "source": [
    "def change(a):\n",
    "    a = a+ 10\n",
    "    print('inside the fun a =',a)\n",
    "    \n",
    "a = 10\n",
    "print('a before calling:', a)\n",
    "change(a)\n",
    "print('a after calling:', a)"
   ]
  },
  {
   "cell_type": "code",
   "execution_count": 18,
   "id": "6bba2d7f-e64d-4e86-8435-2d78bf10f83e",
   "metadata": {},
   "outputs": [
    {
     "name": "stdout",
     "output_type": "stream",
     "text": [
      "a before calling: 10\n",
      "This is main a: 140734076431064\n",
      "This is original a 140734076431064\n",
      "This is the new a = 20\n",
      "inside the fun a = 20\n",
      "a after calling: 10\n"
     ]
    }
   ],
   "source": [
    "def change(a):\n",
    "    print('This is original a',id(a))\n",
    "    a = a+ 10\n",
    "    print('This is the new a =',a)\n",
    "    print('inside the fun a =',a)\n",
    "    \n",
    "a = 10\n",
    "print('a before calling:', a)\n",
    "print('This is main a:',id(a))\n",
    "change(a)\n",
    "print('a after calling:', a)"
   ]
  },
  {
   "cell_type": "code",
   "execution_count": 19,
   "id": "10b68254-2a0c-4d0f-97e4-eb10dc0530a1",
   "metadata": {},
   "outputs": [
    {
     "name": "stdout",
     "output_type": "stream",
     "text": [
      "a before calling: 10\n",
      "This is main a: 140734076431064\n",
      "This is original a 140734076431064\n",
      "This is the new a = 140734076431384\n",
      "inside the fun a = 20\n",
      "a after calling: 10\n"
     ]
    }
   ],
   "source": [
    "def change(a):\n",
    "    print('This is original a',id(a))\n",
    "    a = a+ 10\n",
    "    print('This is the new a =',id(a))\n",
    "    print('inside the fun a =',a)\n",
    "    \n",
    "a = 10\n",
    "print('a before calling:', a)\n",
    "print('This is main a:',id(a))\n",
    "change(a)\n",
    "print('a after calling:', a)"
   ]
  },
  {
   "cell_type": "code",
   "execution_count": 20,
   "id": "83cedcf2-3918-43e4-870a-d58fd5b6f8ed",
   "metadata": {},
   "outputs": [
    {
     "name": "stdout",
     "output_type": "stream",
     "text": [
      "Before calling: [10]\n",
      "inside fun = [20]\n",
      "After calling: [20]\n"
     ]
    }
   ],
   "source": [
    "def change(lst):\n",
    "    lst[0] = lst[0]+10\n",
    "    print('inside fun =', lst)\n",
    "    \n",
    "lst = [10]\n",
    "print('Before calling:', lst)\n",
    "change(lst)\n",
    "print('After calling:',lst)"
   ]
  },
  {
   "cell_type": "code",
   "execution_count": 21,
   "id": "f9712560-2477-46c1-8e01-29ce5eb45436",
   "metadata": {},
   "outputs": [
    {
     "name": "stdout",
     "output_type": "stream",
     "text": [
      "x :  8\n",
      "a :  10\n"
     ]
    }
   ],
   "source": [
    "def update(x):   \n",
    "    x = 8\n",
    "    print('x : ', x)    \n",
    "\n",
    "a = 10\n",
    "update(a)\n",
    "print('a : ',a)"
   ]
  },
  {
   "cell_type": "code",
   "execution_count": 22,
   "id": "f23ed741-cf7f-4e99-b9d5-16d9b2567e9b",
   "metadata": {},
   "outputs": [
    {
     "name": "stdout",
     "output_type": "stream",
     "text": [
      "140734076431064\n",
      "140734076431064\n",
      "x:  8\n",
      "a:  10\n"
     ]
    }
   ],
   "source": [
    "def update(x):   \n",
    "    print(id(x))\n",
    "    x = 8\n",
    "    #print(id(x))\n",
    "    print('x: ', x)    \n",
    "\n",
    "a = 10\n",
    "print(id(a))\n",
    "update(a)\n",
    "print('a: ',a)"
   ]
  },
  {
   "cell_type": "code",
   "execution_count": 23,
   "id": "43fe1b0b-e607-4adf-ab0f-bcb6b343fff3",
   "metadata": {},
   "outputs": [
    {
     "name": "stdout",
     "output_type": "stream",
     "text": [
      "140734076431064\n",
      "140734076431000\n",
      "x:  8\n",
      "a:  10\n"
     ]
    }
   ],
   "source": [
    "def update(x):   \n",
    "    #print(id(x))\n",
    "    x = 8\n",
    "    print(id(x))\n",
    "    print('x: ', x)    \n",
    "\n",
    "a = 10\n",
    "print(id(a))\n",
    "update(a)\n",
    "print('a: ',a)"
   ]
  },
  {
   "cell_type": "code",
   "execution_count": 24,
   "id": "aa17fef1-307f-422e-bc02-6fb846fe5910",
   "metadata": {},
   "outputs": [
    {
     "name": "stdout",
     "output_type": "stream",
     "text": [
      "140734076431064\n",
      "140734076431064\n",
      "140734076431000\n",
      "x 8\n",
      "a 10\n"
     ]
    }
   ],
   "source": [
    "def update(x):   \n",
    "    print(id(x))\n",
    "    x = 8\n",
    "    print(id(x)) \n",
    "    print('x', x)    \n",
    "\n",
    "a = 10\n",
    "print(id(a))\n",
    "update(a)\n",
    "print('a',a)"
   ]
  },
  {
   "cell_type": "code",
   "execution_count": 25,
   "id": "eb3f2f5c-ddf4-4bcd-a664-96731111313b",
   "metadata": {},
   "outputs": [
    {
     "name": "stdout",
     "output_type": "stream",
     "text": [
      "[10, 20, 30]\n",
      "2176657081920\n",
      "2176657081920\n",
      "2176657081920\n",
      "x:  [10, 25, 30]\n",
      "lst:  [10, 25, 30]\n"
     ]
    }
   ],
   "source": [
    "def update(lst):   \n",
    "    print(id(lst))\n",
    "    \n",
    "    lst[1] = 25\n",
    "    print(id(lst))\n",
    "    print('x: ', lst)    \n",
    "\n",
    "lst = [10,20,30] \n",
    "\n",
    "print(lst)\n",
    "print(id(lst))\n",
    "update(lst)\n",
    "print('lst: ',lst)"
   ]
  },
  {
   "cell_type": "code",
   "execution_count": 26,
   "id": "5075680e-b382-49cd-b8a3-bb6e0525e5fa",
   "metadata": {},
   "outputs": [
    {
     "name": "stdout",
     "output_type": "stream",
     "text": [
      "Inside function: 10\n",
      "Outside function: 5\n"
     ]
    }
   ],
   "source": [
    "def modify_integer(x):\n",
    "    x = 10\n",
    "    print(\"Inside function:\", x)    \n",
    "    \n",
    "my_integer = 5\n",
    "modify_integer(my_integer)\n",
    "print(\"Outside function:\", my_integer)"
   ]
  },
  {
   "cell_type": "code",
   "execution_count": 27,
   "id": "fac27b35-b34e-481f-8374-048d01c6c4e2",
   "metadata": {},
   "outputs": [
    {
     "name": "stdout",
     "output_type": "stream",
     "text": [
      "Inside function: 10\n",
      "Inside function: 140734076431064\n",
      "Outside function: 5\n",
      "Outside function: 140734076431064\n"
     ]
    }
   ],
   "source": [
    "def modify_integer(x):\n",
    "    x = 10\n",
    "    print(\"Inside function:\", x)  \n",
    "    print('Inside function:',id(x))\n",
    "    \n",
    "my_integer = 5\n",
    "modify_integer(my_integer)\n",
    "print(\"Outside function:\", my_integer)\n",
    "print('Outside function:',id(x))"
   ]
  },
  {
   "cell_type": "code",
   "execution_count": 28,
   "id": "35779b07-0b61-409e-9c0d-12b5f8eb1068",
   "metadata": {},
   "outputs": [
    {
     "name": "stdout",
     "output_type": "stream",
     "text": [
      "original Inside function: 140734076430904\n",
      "Inside function: 10\n",
      "Inside function: 140734076431064\n",
      "Outside function: 5\n",
      "Outside function: 140734076431064\n"
     ]
    }
   ],
   "source": [
    "def modify_integer(x):\n",
    "    print('original Inside function:',id(x))\n",
    "    x = 10\n",
    "    print(\"Inside function:\", x)  \n",
    "    print('Inside function:',id(x))\n",
    "    \n",
    "my_integer = 5\n",
    "modify_integer(my_integer)\n",
    "print(\"Outside function:\", my_integer)\n",
    "print('Outside function:',id(x))"
   ]
  },
  {
   "cell_type": "code",
   "execution_count": 29,
   "id": "00488b6b-85dd-4850-8267-b6fde620cfe5",
   "metadata": {},
   "outputs": [
    {
     "name": "stdout",
     "output_type": "stream",
     "text": [
      "Inside function: [1, 2, 3, 4]\n",
      "Outside function: [1, 2, 3, 4]\n"
     ]
    }
   ],
   "source": [
    "def modify_list(my_list):\n",
    "    my_list.append(4)\n",
    "    print(\"Inside function:\", my_list)\n",
    "\n",
    "my_list = [1, 2, 3]\n",
    "modify_list(my_list)\n",
    "print(\"Outside function:\", my_list)"
   ]
  },
  {
   "cell_type": "code",
   "execution_count": 30,
   "id": "3aaec9df-ea75-4065-8754-a00892d2b9c2",
   "metadata": {},
   "outputs": [
    {
     "name": "stdout",
     "output_type": "stream",
     "text": [
      "original Inside function: 2176657086016\n",
      "Inside function: [1, 2, 3, 4]\n",
      "Inside function: 2176657086016\n",
      "Outside function: [1, 2, 3, 4]\n",
      "Outside function: 2176657086016\n"
     ]
    }
   ],
   "source": [
    "def modify_list(my_list):\n",
    "    print(\"original Inside function:\", id(my_list))\n",
    "    my_list.append(4)\n",
    "    print(\"Inside function:\", my_list)\n",
    "    print(\"Inside function:\", id(my_list))\n",
    "\n",
    "my_list = [1, 2, 3]\n",
    "modify_list(my_list)\n",
    "print(\"Outside function:\", my_list)\n",
    "print(\"Outside function:\", id(my_list))"
   ]
  },
  {
   "cell_type": "markdown",
   "id": "54206a3d-3c54-4a1a-9b9d-8346df4e03ff",
   "metadata": {},
   "source": [
    "## TYPE OF ARGUMENTS --> formal argument & actual argument"
   ]
  },
  {
   "cell_type": "code",
   "execution_count": 31,
   "id": "afe08d09-b7a1-44c8-9274-a45c5589eb16",
   "metadata": {},
   "outputs": [
    {
     "name": "stdout",
     "output_type": "stream",
     "text": [
      "11\n"
     ]
    }
   ],
   "source": [
    "def add(a,b):   # a & b are called formal argument\n",
    "    c = a+b\n",
    "    print(c)\n",
    "    \n",
    "add(5,6)        # 5 and 6 are called actual argument"
   ]
  },
  {
   "cell_type": "code",
   "execution_count": 32,
   "id": "68fa0fc2-1f24-4229-bcee-a8a40ad84231",
   "metadata": {},
   "outputs": [
    {
     "name": "stdout",
     "output_type": "stream",
     "text": [
      "18\n"
     ]
    }
   ],
   "source": [
    "def add(a,b,d,e):  # a,b,d,e are called formal argument\n",
    "    c = a+b+d\n",
    "    print(c)\n",
    "    \n",
    "add(5,6,7,8)       # 5,6,7,8 are called actual argument"
   ]
  },
  {
   "cell_type": "markdown",
   "id": "21addbe9-76c5-476a-ab04-3158931a9460",
   "metadata": {},
   "source": [
    "## ACTUAL ARGUMENTS --> Positional, Keyword, Default, Variable Length"
   ]
  },
  {
   "cell_type": "markdown",
   "id": "0aa179d2-71b8-4989-a1fb-9812c43dd547",
   "metadata": {},
   "source": [
    "### Postitional Arguments"
   ]
  },
  {
   "cell_type": "code",
   "execution_count": 44,
   "id": "5de73abe-fce8-4bc1-beee-4b47812648da",
   "metadata": {},
   "outputs": [
    {
     "name": "stdout",
     "output_type": "stream",
     "text": [
      "nit\n",
      "22\n"
     ]
    }
   ],
   "source": [
    "def person(name,age):\n",
    "    print(name)\n",
    "    print(age)\n",
    "    \n",
    "person('nit', 22)\n",
    "\n",
    "# This function call uses **positional arguments**.\n",
    "# 'nit' is assigned to the first parameter 'name', and 22 is assigned to 'age'.\n",
    "# The order in which arguments are passed **must** match the function's parameter order."
   ]
  },
  {
   "cell_type": "code",
   "execution_count": 45,
   "id": "da345109-1ae7-4a96-8df1-9064367091a7",
   "metadata": {},
   "outputs": [
    {
     "name": "stdout",
     "output_type": "stream",
     "text": [
      "nit\n",
      "15\n"
     ]
    }
   ],
   "source": [
    "'''\n",
    "def person(name,age):\n",
    "    print(name)\n",
    "    print(age-5)\n",
    "    \n",
    "person(22,'nit')\n",
    "'''\n",
    "\n",
    "# in this case we assigned name - 20 & age to 'nit'. \n",
    "# as we keep incorrect position this code trhoughs an error.\n",
    "\n",
    "def person(name,age):\n",
    "    print(name)\n",
    "    print(age-5)\n",
    "    \n",
    "person('nit',20)                    # correct format"
   ]
  },
  {
   "cell_type": "markdown",
   "id": "37ad4dfa-9bed-4ff3-bf54-b15b40fdd23d",
   "metadata": {},
   "source": [
    "### Keyword Arguments"
   ]
  },
  {
   "cell_type": "code",
   "execution_count": 46,
   "id": "e304581a-e7cb-40fe-b2ff-80db8b59f744",
   "metadata": {},
   "outputs": [
    {
     "name": "stdout",
     "output_type": "stream",
     "text": [
      "nit\n",
      "15\n"
     ]
    }
   ],
   "source": [
    "# If there are many parameters (say 10 or more), remembering the correct order becomes error-prone.\n",
    "# In such cases, using **keyword arguments** \n",
    "\n",
    "def person(name,age):\n",
    "    print(name)\n",
    "    print(age-5)\n",
    "    \n",
    "person(age = 20, name = 'nit') \n",
    "\n",
    "#this is called keyword arguments"
   ]
  },
  {
   "cell_type": "code",
   "execution_count": 47,
   "id": "0ea38435-15d0-468c-bbf8-6aba9d53c6cd",
   "metadata": {},
   "outputs": [
    {
     "name": "stdout",
     "output_type": "stream",
     "text": [
      "nit\n",
      "20\n",
      "10\n"
     ]
    }
   ],
   "source": [
    "def person(name, age, age2):\n",
    "    print(name)\n",
    "    print(age)\n",
    "    print(age2)\n",
    "    \n",
    "person(age = 20,  name = 'nit', age2 = 10) "
   ]
  },
  {
   "cell_type": "markdown",
   "id": "74c545fa-2d83-471f-95b1-abb2f4f12c5d",
   "metadata": {},
   "source": [
    "### Default Arguments"
   ]
  },
  {
   "cell_type": "code",
   "execution_count": 53,
   "id": "544eb527-5351-4e54-b472-06cb6ad76a51",
   "metadata": {},
   "outputs": [
    {
     "name": "stdout",
     "output_type": "stream",
     "text": [
      "nit\n",
      "24\n"
     ]
    }
   ],
   "source": [
    "def person(name,age = 18):           # by default the age is 18  \n",
    "    print(name)\n",
    "    print(age)\n",
    "    \n",
    "person('nit',24)                     # here bydefault override the existing default value"
   ]
  },
  {
   "cell_type": "markdown",
   "id": "3bcc53bc-9c8e-42b6-84e1-29f6bb92a943",
   "metadata": {},
   "source": [
    "### Variable Length Arguments"
   ]
  },
  {
   "cell_type": "code",
   "execution_count": 58,
   "id": "48dadef8-a8ad-4be4-b93a-d2ffaa8ffe75",
   "metadata": {},
   "outputs": [
    {
     "name": "stdout",
     "output_type": "stream",
     "text": [
      "<class 'int'>\n",
      "<class 'tuple'>\n"
     ]
    }
   ],
   "source": [
    "'''\n",
    "def sum(a, *b):\n",
    "    c = a+b\n",
    "    print(c)\n",
    "\n",
    "sum(5,6,7,8) '''\n",
    "# we get error as int & tuple error becuase a is integer & b is tuple\n",
    "\n",
    "\n",
    "def sum(a, *b):                        # 1st argument is fixed but for 2nd argument\n",
    "    #c = a+b\n",
    "    print(type(a))\n",
    "    print(type(b))\n",
    "\n",
    "sum(5,6,7,8) \n"
   ]
  },
  {
   "cell_type": "code",
   "execution_count": 59,
   "id": "b3bd352b-b244-47bf-be80-671fcce0b5e8",
   "metadata": {},
   "outputs": [
    {
     "name": "stdout",
     "output_type": "stream",
     "text": [
      "5\n",
      "(6, 7, 8)\n"
     ]
    }
   ],
   "source": [
    "def sum(a, *b):                        # 1st argument is fixed but for 2nd argument\n",
    "    #c = a+b\n",
    "    print(a)\n",
    "    print(b)\n",
    "\n",
    "sum(5,6,7,8) "
   ]
  },
  {
   "cell_type": "code",
   "execution_count": 55,
   "id": "426324e3-c9c7-4f57-bde6-40fa2fa797f1",
   "metadata": {},
   "outputs": [
    {
     "name": "stdout",
     "output_type": "stream",
     "text": [
      "26\n"
     ]
    }
   ],
   "source": [
    "# Everytime we cant add only 2 value we can also pass more the 3 values\n",
    "# you can define the function when the number of argument are not fixed\n",
    "\n",
    "def sum(a, *b):                        # 1st argument is fixed & we fetch each value from the tuple & we can add them. \n",
    "    c = a   \n",
    "    for i in b:\n",
    "        c = c + i \n",
    "    print(c)\n",
    "        \n",
    "sum(5,6,7,8) "
   ]
  },
  {
   "cell_type": "code",
   "execution_count": 60,
   "id": "4b1e7c82-50fc-450f-bd6d-76b827d542d1",
   "metadata": {},
   "outputs": [
    {
     "name": "stdout",
     "output_type": "stream",
     "text": [
      "35\n"
     ]
    }
   ],
   "source": [
    "def sum(a, *b): \n",
    "    \n",
    "    c = a \n",
    "    for i in b:\n",
    "        c = c + i \n",
    "    print(c)\n",
    "    \n",
    "sum(5,6,7,8,9) "
   ]
  },
  {
   "cell_type": "code",
   "execution_count": 61,
   "id": "d50d7e02-86f9-452e-870f-50b93859152e",
   "metadata": {},
   "outputs": [
    {
     "name": "stdout",
     "output_type": "stream",
     "text": [
      "21\n"
     ]
    }
   ],
   "source": [
    "def sum(a, *b): \n",
    "    \n",
    "    c = 0\n",
    "    \n",
    "    for i in b:\n",
    "        c = c + i \n",
    "    print(c)\n",
    "    \n",
    "sum(5,6,7,8) "
   ]
  },
  {
   "cell_type": "code",
   "execution_count": 62,
   "id": "9e403cc1-ad1d-4053-8d8d-3f3d7daec256",
   "metadata": {},
   "outputs": [
    {
     "name": "stdout",
     "output_type": "stream",
     "text": [
      "52\n"
     ]
    }
   ],
   "source": [
    "def sum(a, *b): \n",
    "    \n",
    "    c = 0\n",
    "    for i in b:\n",
    "        c = c + i \n",
    "    print(c)\n",
    "    \n",
    "sum(5,6,7,8,5,7,7,89,-100,23) "
   ]
  },
  {
   "cell_type": "markdown",
   "id": "78e5191b-ac9f-48f8-bcab-8db799f11cc8",
   "metadata": {},
   "source": [
    "## KWARGs (Key-Worded Variable length Arguments)"
   ]
  },
  {
   "cell_type": "code",
   "execution_count": 63,
   "id": "228892dc-9a9b-4a4a-a20a-96c425bd5f3b",
   "metadata": {},
   "outputs": [],
   "source": [
    "def person():\n",
    "    person('ALEX', 36, 'JOHN', 987767)"
   ]
  },
  {
   "cell_type": "code",
   "execution_count": 64,
   "id": "198bab9f-a356-408a-b7b1-803199adc263",
   "metadata": {},
   "outputs": [
    {
     "name": "stdout",
     "output_type": "stream",
     "text": [
      "ALEX\n",
      "(36, 'JOHN', 987767)\n"
     ]
    }
   ],
   "source": [
    "def person(name,*data):\n",
    "    print(name)\n",
    "    print(data)\n",
    "\n",
    "person('ALEX', 36, 'JOHN', 987767)"
   ]
  },
  {
   "cell_type": "code",
   "execution_count": 65,
   "id": "e4d54ab0-836d-49dc-a490-c95e2945ad67",
   "metadata": {},
   "outputs": [
    {
     "name": "stdout",
     "output_type": "stream",
     "text": [
      "mark\n",
      "{'age': 36, 'home_place': 'southcity', 'mob': 987767}\n"
     ]
    }
   ],
   "source": [
    "'''\n",
    "def person(name,*data):\n",
    "    print('name')\n",
    "    print(data)\n",
    "\n",
    "person('ALEX', age = 36, home_place ='southcity', mob =987767)\n",
    "'''\n",
    "# we get an error as 'keyword-argument', thats why we add another * -------- **kwargs\n",
    "\n",
    "def person(name, **data):\n",
    "    print(name)\n",
    "    print(data)\n",
    "\n",
    "person('mark', age = 36, home_place ='southcity', mob =987767)"
   ]
  },
  {
   "cell_type": "code",
   "execution_count": 66,
   "id": "199109bd-70cd-498a-b728-432c0b099491",
   "metadata": {},
   "outputs": [
    {
     "name": "stdout",
     "output_type": "stream",
     "text": [
      "name\n",
      "{'age': 36, 'home_place': 'southcity', 'mob': 987767, 'edu': 'phd', 'actor': 'john'}\n"
     ]
    }
   ],
   "source": [
    "def person(name,**data):\n",
    "    print('name')\n",
    "    print(data)\n",
    "\n",
    "person('mark', age = 36, home_place ='southcity', mob =987767, edu='phd', actor = 'john')"
   ]
  },
  {
   "cell_type": "code",
   "execution_count": 67,
   "id": "0ac40c8f-1fd5-4aa3-a586-6fc2707430ca",
   "metadata": {},
   "outputs": [
    {
     "name": "stdout",
     "output_type": "stream",
     "text": [
      "john\n",
      "age 36\n",
      "home_place southcity\n",
      "mob 987767\n",
      "place USA\n"
     ]
    }
   ],
   "source": [
    "def person(name, **data):\n",
    "    print(name)\n",
    "    \n",
    "    for i, j in data.items():\n",
    "        print(i, j)\n",
    "        \n",
    "person('john', age = 36, home_place ='southcity', mob =987767, place = 'USA')"
   ]
  },
  {
   "cell_type": "markdown",
   "id": "be7304b3-3ebc-4349-a1f1-0627fd8cd7b9",
   "metadata": {},
   "source": [
    "## Local VS Global variables"
   ]
  },
  {
   "cell_type": "code",
   "execution_count": 68,
   "id": "fe61982d-4cb8-4cb0-a17e-1c9f510a9a08",
   "metadata": {},
   "outputs": [],
   "source": [
    "a = 10                                     \n",
    "#-- global variable \n",
    "\n",
    "def something():\n",
    "    b = 15                              #local variable\n",
    "    print('in function',b)    \n",
    "    print('out function',a)    \n",
    "\n",
    "# in this code we are declaring 2 variable \n",
    "# first line of a is called outside of the function \n",
    "# inside the function is called local variable   "
   ]
  },
  {
   "cell_type": "code",
   "execution_count": 69,
   "id": "d8240428-1152-4b3b-96a0-e1e7d657e8f7",
   "metadata": {},
   "outputs": [
    {
     "name": "stdout",
     "output_type": "stream",
     "text": [
      "out function 10\n"
     ]
    }
   ],
   "source": [
    "a = 10  \n",
    "\n",
    "def something():\n",
    "    b = 15\n",
    "    print('in function',b)    \n",
    "    \n",
    "print('out function',a)    \n",
    "\n",
    "# first line of a is called outside of the function \n",
    "# inside the function is called local variable    "
   ]
  },
  {
   "cell_type": "code",
   "execution_count": 70,
   "id": "eb3a9c7c-1e78-4d3c-95ac-78df58c67480",
   "metadata": {},
   "outputs": [
    {
     "name": "stdout",
     "output_type": "stream",
     "text": [
      "in function 10\n",
      "out function 10\n"
     ]
    }
   ],
   "source": [
    "a = 10  \n",
    "\n",
    "def something():\n",
    "    a = 15\n",
    "    \n",
    "print('in function',a) \n",
    "  \n",
    "print('out function',a)\n",
    "\n",
    "# first line of a is called outside of the function \n",
    "# inside the function is called local variable  "
   ]
  },
  {
   "cell_type": "code",
   "execution_count": 72,
   "id": "d2156241-888e-4028-9972-7d1d9d295de3",
   "metadata": {},
   "outputs": [
    {
     "name": "stdout",
     "output_type": "stream",
     "text": [
      "10\n",
      "8\n",
      "15\n"
     ]
    }
   ],
   "source": [
    "a = 10  \n",
    "\n",
    "def something():\n",
    "    a = 15              # here 'a' is local variable \n",
    "    b = 8\n",
    "    print(b)\n",
    "    print(a)\n",
    "\n",
    "print(a)\n",
    "something()"
   ]
  },
  {
   "cell_type": "code",
   "execution_count": 73,
   "id": "a7b9f37b-8e11-4b09-9ceb-57f134a3c7aa",
   "metadata": {},
   "outputs": [
    {
     "name": "stdout",
     "output_type": "stream",
     "text": [
      "out function 10\n"
     ]
    }
   ],
   "source": [
    "a = 10  \n",
    "\n",
    "def something():\n",
    "    a = 15\n",
    "    print('in function',a)  # local variable\n",
    "    \n",
    "print('out function',a) #gloabl variable\n",
    "\n",
    "# In this code we ddint call the function "
   ]
  },
  {
   "cell_type": "code",
   "execution_count": 74,
   "id": "b531b667-7f9a-4ced-ac65-46c17e54b09b",
   "metadata": {},
   "outputs": [
    {
     "name": "stdout",
     "output_type": "stream",
     "text": [
      "in function 15\n",
      "out function 10\n"
     ]
    }
   ],
   "source": [
    "a = 10  \n",
    "\n",
    "def something():\n",
    "    b = 15\n",
    "    print('in function',b)  # local variable\n",
    " \n",
    "something()\n",
    "\n",
    "print('out function',a) #gloabl variable\n",
    "\n",
    "# 1st preference is always local variable "
   ]
  },
  {
   "cell_type": "code",
   "execution_count": 75,
   "id": "dd0b6ee7-9c62-48ef-8cf3-e85815b14205",
   "metadata": {},
   "outputs": [
    {
     "name": "stdout",
     "output_type": "stream",
     "text": [
      "in function 10\n",
      "out function 10\n"
     ]
    }
   ],
   "source": [
    "a = 10  \n",
    "\n",
    "def something():\n",
    "    #if we remove this variable then can befault it consider as global variable\n",
    "    print('in function',a)\n",
    "    \n",
    "something()\n",
    "print('out function',a)\n",
    "# if we dont assign any variable inside the functin bydefault both considerd as local variable"
   ]
  },
  {
   "cell_type": "code",
   "execution_count": null,
   "id": "8c46a926-5c50-436e-8177-fc4bd44127aa",
   "metadata": {},
   "outputs": [],
   "source": []
  }
 ],
 "metadata": {
  "kernelspec": {
   "display_name": "Python [conda env:base] *",
   "language": "python",
   "name": "conda-base-py"
  },
  "language_info": {
   "codemirror_mode": {
    "name": "ipython",
    "version": 3
   },
   "file_extension": ".py",
   "mimetype": "text/x-python",
   "name": "python",
   "nbconvert_exporter": "python",
   "pygments_lexer": "ipython3",
   "version": "3.12.7"
  }
 },
 "nbformat": 4,
 "nbformat_minor": 5
}
