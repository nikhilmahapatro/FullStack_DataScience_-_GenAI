{
 "cells": [
  {
   "cell_type": "markdown",
   "id": "f34bfc90-01a2-46d6-b61d-e23b6d7846e9",
   "metadata": {},
   "source": [
    "# FUNCTIONS"
   ]
  },
  {
   "cell_type": "code",
   "execution_count": 1,
   "id": "46e97c43-c0ed-4e95-a3a7-9dedd33d546d",
   "metadata": {},
   "outputs": [],
   "source": [
    "def greet():\n",
    "    print('hello')\n",
    "    print('good morning')\n",
    "    # when we run the code we won't get any output "
   ]
  },
  {
   "cell_type": "code",
   "execution_count": 2,
   "id": "53b007f5-8d62-4420-a1fc-3cc779068208",
   "metadata": {},
   "outputs": [
    {
     "name": "stdout",
     "output_type": "stream",
     "text": [
      "hello\n",
      "good morning\n"
     ]
    }
   ],
   "source": [
    "def greet():\n",
    "    print('hello')\n",
    "    print('good morning')\n",
    "    \n",
    "greet() "
   ]
  },
  {
   "cell_type": "code",
   "execution_count": 3,
   "id": "a9f723d0-64e8-41a7-b7c8-5c06d6f05a34",
   "metadata": {},
   "outputs": [
    {
     "name": "stdout",
     "output_type": "stream",
     "text": [
      "hello\n",
      "good noon\n",
      "hello\n",
      "good noon\n"
     ]
    }
   ],
   "source": [
    "def greet():\n",
    "    print('hello')\n",
    "    print('good noon')\n",
    "    \n",
    "greet()\n",
    "greet()"
   ]
  },
  {
   "cell_type": "code",
   "execution_count": 4,
   "id": "98609ce7-bcc2-45b0-8457-c832f23ae927",
   "metadata": {},
   "outputs": [
    {
     "name": "stdout",
     "output_type": "stream",
     "text": [
      "hello\n",
      "good noon\n",
      "\n",
      "hello\n",
      "good noon\n"
     ]
    }
   ],
   "source": [
    "def greet():\n",
    "    print('hello')\n",
    "    print('good noon')\n",
    "    \n",
    "greet()\n",
    "print()\n",
    "greet()"
   ]
  },
  {
   "cell_type": "code",
   "execution_count": 5,
   "id": "a07c52b3-17df-4355-a36c-9787c1b908e1",
   "metadata": {},
   "outputs": [
    {
     "name": "stdout",
     "output_type": "stream",
     "text": [
      "11\n"
     ]
    }
   ],
   "source": [
    "def add(x,y):\n",
    "    c=x+y\n",
    "    print(c)  \n",
    "    \n",
    "add(5,6)"
   ]
  },
  {
   "cell_type": "code",
   "execution_count": 6,
   "id": "ef867a80-b356-4b45-b304-1a6b3dad5904",
   "metadata": {},
   "outputs": [
    {
     "name": "stdout",
     "output_type": "stream",
     "text": [
      "10\n"
     ]
    }
   ],
   "source": [
    "def add(x,y,z):\n",
    "    c=x+y+z\n",
    "    print(c)  \n",
    "    \n",
    "add(1,4,5)"
   ]
  },
  {
   "cell_type": "code",
   "execution_count": 7,
   "id": "878e3f51-480a-400d-b377-901d46a45e60",
   "metadata": {},
   "outputs": [
    {
     "name": "stdout",
     "output_type": "stream",
     "text": [
      "hello\n",
      "good noon\n",
      "9\n",
      "4\n"
     ]
    }
   ],
   "source": [
    "# We can create mutliple function and call them as many time as you want\n",
    "\n",
    "def greet():\n",
    "    print('hello')\n",
    "    print('good noon')\n",
    "    \n",
    "def add(x,y):\n",
    "    c=x+y\n",
    "    print(c)\n",
    "\n",
    "def sub(x,y,z):\n",
    "    d = x-y-z\n",
    "    print(d)\n",
    "    \n",
    "greet()    \n",
    "add(5,4)\n",
    "sub(10,2,4)"
   ]
  },
  {
   "cell_type": "code",
   "execution_count": 8,
   "id": "03148367-f344-47ce-9a3f-13e9f52097aa",
   "metadata": {},
   "outputs": [
    {
     "name": "stdout",
     "output_type": "stream",
     "text": [
      "hello\n",
      "good noon\n",
      "12\n"
     ]
    }
   ],
   "source": [
    "def greet():\n",
    "    print('hello')\n",
    "    print('good noon')\n",
    "\n",
    "def add(x,y,z):\n",
    "    c=x+y+z\n",
    "    return c\n",
    "\n",
    "greet()\n",
    "\n",
    "result = add(5,4,3)\n",
    "print(result) "
   ]
  },
  {
   "cell_type": "code",
   "execution_count": 9,
   "id": "b523df5b-51f8-4fcd-8753-ecd1d8218284",
   "metadata": {},
   "outputs": [
    {
     "data": {
      "text/plain": [
       "(9, -1)"
      ]
     },
     "execution_count": 9,
     "metadata": {},
     "output_type": "execute_result"
    }
   ],
   "source": [
    "def add_sub(x,y): \n",
    "    c= x+y\n",
    "    d= x-y\n",
    "    return c, d \n",
    "    \n",
    "add_sub(4,5)"
   ]
  },
  {
   "cell_type": "code",
   "execution_count": 10,
   "id": "f4131693-e8c7-436f-8c4c-ca9b73f35105",
   "metadata": {},
   "outputs": [
    {
     "name": "stdout",
     "output_type": "stream",
     "text": [
      "(9, -1)\n",
      "<class 'tuple'>\n"
     ]
    }
   ],
   "source": [
    "def add_sub(x,y): \n",
    "    c= x+y\n",
    "    d= x-y\n",
    "    return c, d\n",
    "    \n",
    "result = add_sub(4,5)\n",
    "\n",
    "print(result)\n",
    "print(type(result))"
   ]
  },
  {
   "cell_type": "code",
   "execution_count": 11,
   "id": "81a20c85-7ad0-44bc-bd86-7076dac23a81",
   "metadata": {},
   "outputs": [
    {
     "name": "stdout",
     "output_type": "stream",
     "text": [
      "9 1\n",
      "<class 'int'>\n",
      "<class 'int'>\n"
     ]
    }
   ],
   "source": [
    "def add_sub(x,y):\n",
    "    c= x+y\n",
    "    d= x-y\n",
    "    return c, d\n",
    "\n",
    "result1,result2 = add_sub(5,4)\n",
    "\n",
    "print(result1,result2)\n",
    "\n",
    "print(type(result1))\n",
    "print(type(result2))"
   ]
  },
  {
   "cell_type": "code",
   "execution_count": 12,
   "id": "f9ebcc6d-3575-4614-b945-f74d09a223fd",
   "metadata": {},
   "outputs": [
    {
     "name": "stdout",
     "output_type": "stream",
     "text": [
      "8\n"
     ]
    }
   ],
   "source": [
    "def update(): \n",
    "    x = 8\n",
    "    print(x)\n",
    "\n",
    "# update(8) ---------error\n",
    "update()"
   ]
  },
  {
   "cell_type": "code",
   "execution_count": 13,
   "id": "d28b9f91-4138-4b48-b9f6-12f1d5a32ac7",
   "metadata": {},
   "outputs": [
    {
     "name": "stdout",
     "output_type": "stream",
     "text": [
      "8\n"
     ]
    }
   ],
   "source": [
    "def update(x):\n",
    "    x = 8\n",
    "    print(x)\n",
    "    \n",
    "update(10)"
   ]
  },
  {
   "cell_type": "code",
   "execution_count": 14,
   "id": "f55071f3-5946-4c6b-b49f-8ebf782eab5e",
   "metadata": {},
   "outputs": [
    {
     "name": "stdout",
     "output_type": "stream",
     "text": [
      "8\n",
      "10\n"
     ]
    }
   ],
   "source": [
    "def update(x):  \n",
    "    x = 8\n",
    "    print(x)\n",
    "    \n",
    "a = 10\n",
    "\n",
    "update(a)\n",
    "print(a)"
   ]
  },
  {
   "cell_type": "code",
   "execution_count": 15,
   "id": "68096b59-a718-49e2-a76e-c11e2e1b8d5a",
   "metadata": {},
   "outputs": [
    {
     "name": "stdout",
     "output_type": "stream",
     "text": [
      "10\n"
     ]
    }
   ],
   "source": [
    "def update(x):  \n",
    "    x = 8 \n",
    "    \n",
    "a = 10\n",
    "\n",
    "update(a)            # coz there is no return/print in the function       \n",
    "print(a) "
   ]
  },
  {
   "cell_type": "markdown",
   "id": "989886da-91d5-4a71-99f4-9951274697e8",
   "metadata": {},
   "source": [
    "### In python no concept called pass by value or pass by function "
   ]
  },
  {
   "cell_type": "code",
   "execution_count": 16,
   "id": "8b1c7701-38b1-4bb8-82ae-5b856cd590bf",
   "metadata": {},
   "outputs": [
    {
     "name": "stdout",
     "output_type": "stream",
     "text": [
      "x before calling: 10\n",
      "inside the fun a = 20\n",
      "x after calling: 10\n"
     ]
    }
   ],
   "source": [
    "def change(a):\n",
    "    a = a+ 10\n",
    "    print('inside the fun a =',a)\n",
    "    \n",
    "x = 10\n",
    "print('x before calling:', x)\n",
    "change(x)\n",
    "print('x after calling:', x)"
   ]
  },
  {
   "cell_type": "code",
   "execution_count": 17,
   "id": "b32eded2-99c6-473d-8969-7dded538cde4",
   "metadata": {},
   "outputs": [
    {
     "name": "stdout",
     "output_type": "stream",
     "text": [
      "a before calling: 10\n",
      "inside the fun a = 20\n",
      "a after calling: 10\n"
     ]
    }
   ],
   "source": [
    "def change(a):\n",
    "    a = a+ 10\n",
    "    print('inside the fun a =',a)\n",
    "    \n",
    "a = 10\n",
    "print('a before calling:', a)\n",
    "change(a)\n",
    "print('a after calling:', a)"
   ]
  },
  {
   "cell_type": "code",
   "execution_count": 18,
   "id": "6bba2d7f-e64d-4e86-8435-2d78bf10f83e",
   "metadata": {},
   "outputs": [
    {
     "name": "stdout",
     "output_type": "stream",
     "text": [
      "a before calling: 10\n",
      "This is main a: 140734236011224\n",
      "This is original a 140734236011224\n",
      "This is the new a = 20\n",
      "inside the fun a = 20\n",
      "a after calling: 10\n"
     ]
    }
   ],
   "source": [
    "def change(a):\n",
    "    print('This is original a',id(a))\n",
    "    a = a+ 10\n",
    "    print('This is the new a =',a)\n",
    "    print('inside the fun a =',a)\n",
    "    \n",
    "a = 10\n",
    "print('a before calling:', a)\n",
    "print('This is main a:',id(a))\n",
    "change(a)\n",
    "print('a after calling:', a)"
   ]
  },
  {
   "cell_type": "code",
   "execution_count": 19,
   "id": "10b68254-2a0c-4d0f-97e4-eb10dc0530a1",
   "metadata": {},
   "outputs": [
    {
     "name": "stdout",
     "output_type": "stream",
     "text": [
      "a before calling: 10\n",
      "This is main a: 140734236011224\n",
      "This is original a 140734236011224\n",
      "This is the new a = 140734236011544\n",
      "inside the fun a = 20\n",
      "a after calling: 10\n"
     ]
    }
   ],
   "source": [
    "def change(a):\n",
    "    print('This is original a',id(a))\n",
    "    a = a+ 10\n",
    "    print('This is the new a =',id(a))\n",
    "    print('inside the fun a =',a)\n",
    "    \n",
    "a = 10\n",
    "print('a before calling:', a)\n",
    "print('This is main a:',id(a))\n",
    "change(a)\n",
    "print('a after calling:', a)"
   ]
  },
  {
   "cell_type": "code",
   "execution_count": 20,
   "id": "83cedcf2-3918-43e4-870a-d58fd5b6f8ed",
   "metadata": {},
   "outputs": [
    {
     "name": "stdout",
     "output_type": "stream",
     "text": [
      "Before calling: [10]\n",
      "inside fun = [20]\n",
      "After calling: [20]\n"
     ]
    }
   ],
   "source": [
    "def change(lst):\n",
    "    lst[0] = lst[0]+10\n",
    "    print('inside fun =', lst)\n",
    "    \n",
    "lst = [10]\n",
    "print('Before calling:', lst)\n",
    "change(lst)\n",
    "print('After calling:',lst)"
   ]
  },
  {
   "cell_type": "code",
   "execution_count": 21,
   "id": "f9712560-2477-46c1-8e01-29ce5eb45436",
   "metadata": {},
   "outputs": [
    {
     "name": "stdout",
     "output_type": "stream",
     "text": [
      "x :  8\n",
      "a :  10\n"
     ]
    }
   ],
   "source": [
    "def update(x):   \n",
    "    x = 8\n",
    "    print('x : ', x)    \n",
    "\n",
    "a = 10\n",
    "update(a)\n",
    "print('a : ',a)"
   ]
  },
  {
   "cell_type": "code",
   "execution_count": 22,
   "id": "f23ed741-cf7f-4e99-b9d5-16d9b2567e9b",
   "metadata": {},
   "outputs": [
    {
     "name": "stdout",
     "output_type": "stream",
     "text": [
      "140734236011224\n",
      "140734236011224\n",
      "x:  8\n",
      "a:  10\n"
     ]
    }
   ],
   "source": [
    "def update(x):   \n",
    "    print(id(x))\n",
    "    x = 8\n",
    "    #print(id(x))\n",
    "    print('x: ', x)    \n",
    "\n",
    "a = 10\n",
    "print(id(a))\n",
    "update(a)\n",
    "print('a: ',a)"
   ]
  },
  {
   "cell_type": "code",
   "execution_count": 23,
   "id": "43fe1b0b-e607-4adf-ab0f-bcb6b343fff3",
   "metadata": {},
   "outputs": [
    {
     "name": "stdout",
     "output_type": "stream",
     "text": [
      "140734236011224\n",
      "140734236011160\n",
      "x:  8\n",
      "a:  10\n"
     ]
    }
   ],
   "source": [
    "def update(x):   \n",
    "    #print(id(x))\n",
    "    x = 8\n",
    "    print(id(x))\n",
    "    print('x: ', x)    \n",
    "\n",
    "a = 10\n",
    "print(id(a))\n",
    "update(a)\n",
    "print('a: ',a)"
   ]
  },
  {
   "cell_type": "code",
   "execution_count": 24,
   "id": "aa17fef1-307f-422e-bc02-6fb846fe5910",
   "metadata": {},
   "outputs": [
    {
     "name": "stdout",
     "output_type": "stream",
     "text": [
      "140734236011224\n",
      "140734236011224\n",
      "140734236011160\n",
      "x 8\n",
      "a 10\n"
     ]
    }
   ],
   "source": [
    "def update(x):   \n",
    "    print(id(x))\n",
    "    x = 8\n",
    "    print(id(x)) \n",
    "    print('x', x)    \n",
    "\n",
    "a = 10\n",
    "print(id(a))\n",
    "update(a)\n",
    "print('a',a)"
   ]
  },
  {
   "cell_type": "code",
   "execution_count": 25,
   "id": "eb3f2f5c-ddf4-4bcd-a664-96731111313b",
   "metadata": {},
   "outputs": [
    {
     "name": "stdout",
     "output_type": "stream",
     "text": [
      "[10, 20, 30]\n",
      "2265493985408\n",
      "2265493985408\n",
      "2265493985408\n",
      "x:  [10, 25, 30]\n",
      "lst:  [10, 25, 30]\n"
     ]
    }
   ],
   "source": [
    "def update(lst):   \n",
    "    print(id(lst))\n",
    "    \n",
    "    lst[1] = 25\n",
    "    print(id(lst))\n",
    "    print('x: ', lst)    \n",
    "\n",
    "lst = [10,20,30] \n",
    "\n",
    "print(lst)\n",
    "print(id(lst))\n",
    "update(lst)\n",
    "print('lst: ',lst)"
   ]
  },
  {
   "cell_type": "code",
   "execution_count": 26,
   "id": "5075680e-b382-49cd-b8a3-bb6e0525e5fa",
   "metadata": {},
   "outputs": [
    {
     "name": "stdout",
     "output_type": "stream",
     "text": [
      "Inside function: 10\n",
      "Outside function: 5\n"
     ]
    }
   ],
   "source": [
    "def modify_integer(x):\n",
    "    x = 10\n",
    "    print(\"Inside function:\", x)    \n",
    "    \n",
    "my_integer = 5\n",
    "modify_integer(my_integer)\n",
    "print(\"Outside function:\", my_integer)"
   ]
  },
  {
   "cell_type": "code",
   "execution_count": 27,
   "id": "fac27b35-b34e-481f-8374-048d01c6c4e2",
   "metadata": {},
   "outputs": [
    {
     "name": "stdout",
     "output_type": "stream",
     "text": [
      "Inside function: 10\n",
      "Inside function: 140734236011224\n",
      "Outside function: 5\n",
      "Outside function: 140734236011224\n"
     ]
    }
   ],
   "source": [
    "def modify_integer(x):\n",
    "    x = 10\n",
    "    print(\"Inside function:\", x)  \n",
    "    print('Inside function:',id(x))\n",
    "    \n",
    "my_integer = 5\n",
    "modify_integer(my_integer)\n",
    "print(\"Outside function:\", my_integer)\n",
    "print('Outside function:',id(x))"
   ]
  },
  {
   "cell_type": "code",
   "execution_count": 28,
   "id": "35779b07-0b61-409e-9c0d-12b5f8eb1068",
   "metadata": {},
   "outputs": [
    {
     "name": "stdout",
     "output_type": "stream",
     "text": [
      "original Inside function: 140734236011064\n",
      "Inside function: 10\n",
      "Inside function: 140734236011224\n",
      "Outside function: 5\n",
      "Outside function: 140734236011224\n"
     ]
    }
   ],
   "source": [
    "def modify_integer(x):\n",
    "    print('original Inside function:',id(x))\n",
    "    x = 10\n",
    "    print(\"Inside function:\", x)  \n",
    "    print('Inside function:',id(x))\n",
    "    \n",
    "my_integer = 5\n",
    "modify_integer(my_integer)\n",
    "print(\"Outside function:\", my_integer)\n",
    "print('Outside function:',id(x))"
   ]
  },
  {
   "cell_type": "code",
   "execution_count": 29,
   "id": "00488b6b-85dd-4850-8267-b6fde620cfe5",
   "metadata": {},
   "outputs": [
    {
     "name": "stdout",
     "output_type": "stream",
     "text": [
      "Inside function: [1, 2, 3, 4]\n",
      "Outside function: [1, 2, 3, 4]\n"
     ]
    }
   ],
   "source": [
    "def modify_list(my_list):\n",
    "    my_list.append(4)\n",
    "    print(\"Inside function:\", my_list)\n",
    "\n",
    "my_list = [1, 2, 3]\n",
    "modify_list(my_list)\n",
    "print(\"Outside function:\", my_list)"
   ]
  },
  {
   "cell_type": "code",
   "execution_count": 30,
   "id": "3aaec9df-ea75-4065-8754-a00892d2b9c2",
   "metadata": {},
   "outputs": [
    {
     "name": "stdout",
     "output_type": "stream",
     "text": [
      "original Inside function: 2265493996608\n",
      "Inside function: [1, 2, 3, 4]\n",
      "Inside function: 2265493996608\n",
      "Outside function: [1, 2, 3, 4]\n",
      "Outside function: 2265493996608\n"
     ]
    }
   ],
   "source": [
    "def modify_list(my_list):\n",
    "    print(\"original Inside function:\", id(my_list))\n",
    "    my_list.append(4)\n",
    "    print(\"Inside function:\", my_list)\n",
    "    print(\"Inside function:\", id(my_list))\n",
    "\n",
    "my_list = [1, 2, 3]\n",
    "modify_list(my_list)\n",
    "print(\"Outside function:\", my_list)\n",
    "print(\"Outside function:\", id(my_list))"
   ]
  },
  {
   "cell_type": "markdown",
   "id": "54206a3d-3c54-4a1a-9b9d-8346df4e03ff",
   "metadata": {},
   "source": [
    "## TYPE OF ARGUMENTS --> formal argument & actual argument"
   ]
  },
  {
   "cell_type": "code",
   "execution_count": 31,
   "id": "afe08d09-b7a1-44c8-9274-a45c5589eb16",
   "metadata": {},
   "outputs": [
    {
     "name": "stdout",
     "output_type": "stream",
     "text": [
      "11\n"
     ]
    }
   ],
   "source": [
    "def add(a,b):   # a & b are called formal argument\n",
    "    c = a+b\n",
    "    print(c)\n",
    "    \n",
    "add(5,6)        # 5 and 6 are called actual argument"
   ]
  },
  {
   "cell_type": "code",
   "execution_count": 32,
   "id": "68fa0fc2-1f24-4229-bcee-a8a40ad84231",
   "metadata": {},
   "outputs": [
    {
     "name": "stdout",
     "output_type": "stream",
     "text": [
      "18\n"
     ]
    }
   ],
   "source": [
    "def add(a,b,d,e):  # a,b,d,e are called formal argument\n",
    "    c = a+b+d\n",
    "    print(c)\n",
    "    \n",
    "add(5,6,7,8)       # 5,6,7,8 are called actual argument"
   ]
  },
  {
   "cell_type": "markdown",
   "id": "21addbe9-76c5-476a-ab04-3158931a9460",
   "metadata": {},
   "source": [
    "## ACTUAL ARGUMENTS --> Positional, Keyword, Default, Variable Length"
   ]
  },
  {
   "cell_type": "markdown",
   "id": "0aa179d2-71b8-4989-a1fb-9812c43dd547",
   "metadata": {},
   "source": [
    "### Postitional Arguments"
   ]
  },
  {
   "cell_type": "code",
   "execution_count": 33,
   "id": "5de73abe-fce8-4bc1-beee-4b47812648da",
   "metadata": {},
   "outputs": [
    {
     "name": "stdout",
     "output_type": "stream",
     "text": [
      "nit\n",
      "22\n"
     ]
    }
   ],
   "source": [
    "def person(name,age):\n",
    "    print(name)\n",
    "    print(age)\n",
    "    \n",
    "person('nit', 22)\n",
    "\n",
    "# This function call uses **positional arguments**.\n",
    "# 'nit' is assigned to the first parameter 'name', and 22 is assigned to 'age'.\n",
    "# The order in which arguments are passed **must** match the function's parameter order."
   ]
  },
  {
   "cell_type": "code",
   "execution_count": 34,
   "id": "da345109-1ae7-4a96-8df1-9064367091a7",
   "metadata": {},
   "outputs": [
    {
     "name": "stdout",
     "output_type": "stream",
     "text": [
      "nit\n",
      "15\n"
     ]
    }
   ],
   "source": [
    "'''\n",
    "def person(name,age):\n",
    "    print(name)\n",
    "    print(age-5)\n",
    "    \n",
    "person(22,'nit')\n",
    "'''\n",
    "\n",
    "# in this case we assigned name - 20 & age to 'nit'. \n",
    "# as we keep incorrect position this code trhoughs an error.\n",
    "\n",
    "def person(name,age):\n",
    "    print(name)\n",
    "    print(age-5)\n",
    "    \n",
    "person('nit',20)                    # correct format"
   ]
  },
  {
   "cell_type": "markdown",
   "id": "37ad4dfa-9bed-4ff3-bf54-b15b40fdd23d",
   "metadata": {},
   "source": [
    "### Keyword Arguments"
   ]
  },
  {
   "cell_type": "code",
   "execution_count": 35,
   "id": "e304581a-e7cb-40fe-b2ff-80db8b59f744",
   "metadata": {},
   "outputs": [
    {
     "name": "stdout",
     "output_type": "stream",
     "text": [
      "nit\n",
      "15\n"
     ]
    }
   ],
   "source": [
    "# If there are many parameters (say 10 or more), remembering the correct order becomes error-prone.\n",
    "# In such cases, using **keyword arguments** \n",
    "\n",
    "def person(name,age):\n",
    "    print(name)\n",
    "    print(age-5)\n",
    "    \n",
    "person(age = 20, name = 'nit') \n",
    "\n",
    "#this is called keyword arguments"
   ]
  },
  {
   "cell_type": "code",
   "execution_count": 36,
   "id": "0ea38435-15d0-468c-bbf8-6aba9d53c6cd",
   "metadata": {},
   "outputs": [
    {
     "name": "stdout",
     "output_type": "stream",
     "text": [
      "nit\n",
      "20\n",
      "10\n"
     ]
    }
   ],
   "source": [
    "def person(name, age, age2):\n",
    "    print(name)\n",
    "    print(age)\n",
    "    print(age2)\n",
    "    \n",
    "person(age = 20,  name = 'nit', age2 = 10) "
   ]
  },
  {
   "cell_type": "markdown",
   "id": "74c545fa-2d83-471f-95b1-abb2f4f12c5d",
   "metadata": {},
   "source": [
    "### Default Arguments"
   ]
  },
  {
   "cell_type": "code",
   "execution_count": 37,
   "id": "544eb527-5351-4e54-b472-06cb6ad76a51",
   "metadata": {},
   "outputs": [
    {
     "name": "stdout",
     "output_type": "stream",
     "text": [
      "nit\n",
      "24\n"
     ]
    }
   ],
   "source": [
    "def person(name,age = 18):           # by default the age is 18  \n",
    "    print(name)\n",
    "    print(age)\n",
    "    \n",
    "person('nit',24)                     # here bydefault override the existing default value"
   ]
  },
  {
   "cell_type": "markdown",
   "id": "3bcc53bc-9c8e-42b6-84e1-29f6bb92a943",
   "metadata": {},
   "source": [
    "### Variable Length Arguments"
   ]
  },
  {
   "cell_type": "code",
   "execution_count": 38,
   "id": "48dadef8-a8ad-4be4-b93a-d2ffaa8ffe75",
   "metadata": {},
   "outputs": [
    {
     "name": "stdout",
     "output_type": "stream",
     "text": [
      "<class 'int'>\n",
      "<class 'tuple'>\n"
     ]
    }
   ],
   "source": [
    "'''\n",
    "def sum(a, *b):\n",
    "    c = a+b\n",
    "    print(c)\n",
    "\n",
    "sum(5,6,7,8) '''\n",
    "# we get error as int & tuple error becuase a is integer & b is tuple\n",
    "\n",
    "\n",
    "def sum(a, *b):                        # 1st argument is fixed but for 2nd argument\n",
    "    #c = a+b\n",
    "    print(type(a))\n",
    "    print(type(b))\n",
    "\n",
    "sum(5,6,7,8) \n"
   ]
  },
  {
   "cell_type": "code",
   "execution_count": 39,
   "id": "b3bd352b-b244-47bf-be80-671fcce0b5e8",
   "metadata": {},
   "outputs": [
    {
     "name": "stdout",
     "output_type": "stream",
     "text": [
      "5\n",
      "(6, 7, 8)\n"
     ]
    }
   ],
   "source": [
    "def sum(a, *b):                        # 1st argument is fixed but for 2nd argument\n",
    "    #c = a+b\n",
    "    print(a)\n",
    "    print(b)\n",
    "\n",
    "sum(5,6,7,8) "
   ]
  },
  {
   "cell_type": "code",
   "execution_count": 40,
   "id": "426324e3-c9c7-4f57-bde6-40fa2fa797f1",
   "metadata": {},
   "outputs": [
    {
     "name": "stdout",
     "output_type": "stream",
     "text": [
      "26\n"
     ]
    }
   ],
   "source": [
    "# Everytime we cant add only 2 value we can also pass more the 3 values\n",
    "# you can define the function when the number of argument are not fixed\n",
    "\n",
    "def sum(a, *b):                        # 1st argument is fixed & we fetch each value from the tuple & we can add them. \n",
    "    c = a   \n",
    "    for i in b:\n",
    "        c = c + i \n",
    "    print(c)\n",
    "        \n",
    "sum(5,6,7,8) "
   ]
  },
  {
   "cell_type": "code",
   "execution_count": 41,
   "id": "4b1e7c82-50fc-450f-bd6d-76b827d542d1",
   "metadata": {},
   "outputs": [
    {
     "name": "stdout",
     "output_type": "stream",
     "text": [
      "35\n"
     ]
    }
   ],
   "source": [
    "def sum(a, *b): \n",
    "    \n",
    "    c = a \n",
    "    for i in b:\n",
    "        c = c + i \n",
    "    print(c)\n",
    "    \n",
    "sum(5,6,7,8,9) "
   ]
  },
  {
   "cell_type": "code",
   "execution_count": 42,
   "id": "d50d7e02-86f9-452e-870f-50b93859152e",
   "metadata": {},
   "outputs": [
    {
     "name": "stdout",
     "output_type": "stream",
     "text": [
      "21\n"
     ]
    }
   ],
   "source": [
    "def sum(a, *b): \n",
    "    \n",
    "    c = 0\n",
    "    \n",
    "    for i in b:\n",
    "        c = c + i \n",
    "    print(c)\n",
    "    \n",
    "sum(5,6,7,8) "
   ]
  },
  {
   "cell_type": "code",
   "execution_count": 43,
   "id": "9e403cc1-ad1d-4053-8d8d-3f3d7daec256",
   "metadata": {},
   "outputs": [
    {
     "name": "stdout",
     "output_type": "stream",
     "text": [
      "52\n"
     ]
    }
   ],
   "source": [
    "def sum(a, *b): \n",
    "    \n",
    "    c = 0\n",
    "    for i in b:\n",
    "        c = c + i \n",
    "    print(c)\n",
    "    \n",
    "sum(5,6,7,8,5,7,7,89,-100,23) "
   ]
  },
  {
   "cell_type": "markdown",
   "id": "78e5191b-ac9f-48f8-bcab-8db799f11cc8",
   "metadata": {},
   "source": [
    "## KWARGs (Key-Worded Variable length Arguments)"
   ]
  },
  {
   "cell_type": "code",
   "execution_count": 44,
   "id": "228892dc-9a9b-4a4a-a20a-96c425bd5f3b",
   "metadata": {},
   "outputs": [],
   "source": [
    "def person():\n",
    "    person('ALEX', 36, 'JOHN', 987767)"
   ]
  },
  {
   "cell_type": "code",
   "execution_count": 45,
   "id": "198bab9f-a356-408a-b7b1-803199adc263",
   "metadata": {},
   "outputs": [
    {
     "name": "stdout",
     "output_type": "stream",
     "text": [
      "ALEX\n",
      "(36, 'JOHN', 987767)\n"
     ]
    }
   ],
   "source": [
    "def person(name,*data):\n",
    "    print(name)\n",
    "    print(data)\n",
    "\n",
    "person('ALEX', 36, 'JOHN', 987767)"
   ]
  },
  {
   "cell_type": "code",
   "execution_count": 46,
   "id": "e4d54ab0-836d-49dc-a490-c95e2945ad67",
   "metadata": {},
   "outputs": [
    {
     "name": "stdout",
     "output_type": "stream",
     "text": [
      "mark\n",
      "{'age': 36, 'home_place': 'southcity', 'mob': 987767}\n"
     ]
    }
   ],
   "source": [
    "'''\n",
    "def person(name,*data):\n",
    "    print('name')\n",
    "    print(data)\n",
    "\n",
    "person('ALEX', age = 36, home_place ='southcity', mob =987767)\n",
    "'''\n",
    "# we get an error as 'keyword-argument', thats why we add another * -------- **kwargs\n",
    "\n",
    "def person(name, **data):\n",
    "    print(name)\n",
    "    print(data)\n",
    "\n",
    "person('mark', age = 36, home_place ='southcity', mob =987767)"
   ]
  },
  {
   "cell_type": "code",
   "execution_count": 47,
   "id": "199109bd-70cd-498a-b728-432c0b099491",
   "metadata": {},
   "outputs": [
    {
     "name": "stdout",
     "output_type": "stream",
     "text": [
      "name\n",
      "{'age': 36, 'home_place': 'southcity', 'mob': 987767, 'edu': 'phd', 'actor': 'john'}\n"
     ]
    }
   ],
   "source": [
    "def person(name,**data):\n",
    "    print('name')\n",
    "    print(data)\n",
    "\n",
    "person('mark', age = 36, home_place ='southcity', mob =987767, edu='phd', actor = 'john')"
   ]
  },
  {
   "cell_type": "code",
   "execution_count": 48,
   "id": "0ac40c8f-1fd5-4aa3-a586-6fc2707430ca",
   "metadata": {},
   "outputs": [
    {
     "name": "stdout",
     "output_type": "stream",
     "text": [
      "john\n",
      "age 36\n",
      "home_place southcity\n",
      "mob 987767\n",
      "place USA\n"
     ]
    }
   ],
   "source": [
    "def person(name, **data):\n",
    "    print(name)\n",
    "    \n",
    "    for i, j in data.items():\n",
    "        print(i, j)\n",
    "        \n",
    "person('john', age = 36, home_place ='southcity', mob =987767, place = 'USA')"
   ]
  },
  {
   "cell_type": "markdown",
   "id": "be7304b3-3ebc-4349-a1f1-0627fd8cd7b9",
   "metadata": {},
   "source": [
    "## Local VS Global variables"
   ]
  },
  {
   "cell_type": "code",
   "execution_count": 49,
   "id": "fe61982d-4cb8-4cb0-a17e-1c9f510a9a08",
   "metadata": {},
   "outputs": [],
   "source": [
    "a = 10                                     \n",
    "#-- global variable \n",
    "\n",
    "def something():\n",
    "    b = 15                              #local variable\n",
    "    print('in function',b)    \n",
    "    print('out function',a)    \n",
    "\n",
    "# in this code we are declaring 2 variable \n",
    "# first line of a is called outside of the function \n",
    "# inside the function is called local variable   "
   ]
  },
  {
   "cell_type": "code",
   "execution_count": 50,
   "id": "d8240428-1152-4b3b-96a0-e1e7d657e8f7",
   "metadata": {},
   "outputs": [
    {
     "name": "stdout",
     "output_type": "stream",
     "text": [
      "out function 10\n"
     ]
    }
   ],
   "source": [
    "a = 10  \n",
    "\n",
    "def something():\n",
    "    b = 15\n",
    "    print('in function',b)    \n",
    "    \n",
    "print('out function',a)    \n",
    "\n",
    "# first line of a is called outside of the function \n",
    "# inside the function is called local variable    "
   ]
  },
  {
   "cell_type": "code",
   "execution_count": 51,
   "id": "eb3a9c7c-1e78-4d3c-95ac-78df58c67480",
   "metadata": {},
   "outputs": [
    {
     "name": "stdout",
     "output_type": "stream",
     "text": [
      "in function 10\n",
      "out function 10\n"
     ]
    }
   ],
   "source": [
    "a = 10  \n",
    "\n",
    "def something():\n",
    "    a = 15\n",
    "    \n",
    "print('in function',a) \n",
    "  \n",
    "print('out function',a)\n",
    "\n",
    "# first line of a is called outside of the function \n",
    "# inside the function is called local variable  "
   ]
  },
  {
   "cell_type": "code",
   "execution_count": 52,
   "id": "d2156241-888e-4028-9972-7d1d9d295de3",
   "metadata": {},
   "outputs": [
    {
     "name": "stdout",
     "output_type": "stream",
     "text": [
      "10\n",
      "8\n",
      "15\n"
     ]
    }
   ],
   "source": [
    "a = 10  \n",
    "\n",
    "def something():\n",
    "    a = 15              # here 'a' is local variable \n",
    "    b = 8\n",
    "    print(b)\n",
    "    print(a)\n",
    "\n",
    "print(a)\n",
    "something()"
   ]
  },
  {
   "cell_type": "code",
   "execution_count": 53,
   "id": "a7b9f37b-8e11-4b09-9ceb-57f134a3c7aa",
   "metadata": {},
   "outputs": [
    {
     "name": "stdout",
     "output_type": "stream",
     "text": [
      "out function 10\n"
     ]
    }
   ],
   "source": [
    "a = 10  \n",
    "\n",
    "def something():\n",
    "    a = 15\n",
    "    print('in function',a)  # local variable\n",
    "    \n",
    "print('out function',a) #gloabl variable\n",
    "\n",
    "# In this code we ddint call the function "
   ]
  },
  {
   "cell_type": "code",
   "execution_count": 54,
   "id": "b531b667-7f9a-4ced-ac65-46c17e54b09b",
   "metadata": {},
   "outputs": [
    {
     "name": "stdout",
     "output_type": "stream",
     "text": [
      "in function 15\n",
      "out function 10\n"
     ]
    }
   ],
   "source": [
    "a = 10  \n",
    "\n",
    "def something():\n",
    "    b = 15\n",
    "    print('in function',b)  # local variable\n",
    " \n",
    "something()\n",
    "\n",
    "print('out function',a) #gloabl variable\n",
    "\n",
    "# 1st preference is always local variable "
   ]
  },
  {
   "cell_type": "code",
   "execution_count": 55,
   "id": "dd0b6ee7-9c62-48ef-8cf3-e85815b14205",
   "metadata": {},
   "outputs": [
    {
     "name": "stdout",
     "output_type": "stream",
     "text": [
      "in function 10\n",
      "out function 10\n"
     ]
    }
   ],
   "source": [
    "a = 10  \n",
    "\n",
    "def something():\n",
    "    # if we remove this variable then can befault it consider as global variable\n",
    "    print('in function',a)\n",
    "    \n",
    "something()\n",
    "print('out function',a)\n",
    "# if we dont assign any variable inside the functin bydefault both considerd as local variable"
   ]
  },
  {
   "cell_type": "code",
   "execution_count": 56,
   "id": "8c46a926-5c50-436e-8177-fc4bd44127aa",
   "metadata": {},
   "outputs": [
    {
     "name": "stdout",
     "output_type": "stream",
     "text": [
      "in function 15\n",
      "gloabl variable 10\n",
      "out function 10\n"
     ]
    }
   ],
   "source": [
    "#  Defining global variabel inside the function \n",
    "\n",
    "a = 10  \n",
    "\n",
    "def something():\n",
    "    global a \n",
    "    b = 15                  # 15 is converted to local when user assigned global a \n",
    "    print('in function',b)\n",
    "    print('gloabl variable', a)\n",
    "    \n",
    "something()\n",
    "\n",
    "print('out function',a)\n",
    "\n",
    "# now in this case we dont have local variable & all variables are global variable."
   ]
  },
  {
   "cell_type": "code",
   "execution_count": 57,
   "id": "541283bc-39bf-4f44-87e6-537ecf7c27db",
   "metadata": {},
   "outputs": [
    {
     "name": "stdout",
     "output_type": "stream",
     "text": [
      "in function 15\n",
      "out function 9\n"
     ]
    }
   ],
   "source": [
    "a = 20  \n",
    "\n",
    "def something():\n",
    "    global a\n",
    "    a = 15     # we refered local to global \n",
    "    print('in function',a)\n",
    "    \n",
    "    a = 9 # i want a to be local variable \n",
    "        #can we assigned loca variabel in the function answer is not cuz bydefault it will treate as global\n",
    "        # can we declare local & gloabl inside th function \n",
    "something()\n",
    "\n",
    "print('out function',a)"
   ]
  },
  {
   "cell_type": "code",
   "execution_count": 58,
   "id": "c876eb89-5f12-4397-a8c5-f0702aa3702e",
   "metadata": {},
   "outputs": [
    {
     "name": "stdout",
     "output_type": "stream",
     "text": [
      "140734236011224\n",
      "140734236011224\n",
      "in function 9\n",
      "out function 10\n"
     ]
    }
   ],
   "source": [
    "# if we used local & global in the same function this is not good idea thats wy introduced to GLOBALS\n",
    "\n",
    "a = 10  \n",
    "print(id(a))\n",
    "\n",
    "def something():\n",
    "    a = 9\n",
    "    x = globals()['a'] # globals can give you all the globals \n",
    "    \n",
    "    print(id(x))\n",
    "    print('in function',a)\n",
    "    \n",
    "        \n",
    "something()\n",
    "print('out function',a)"
   ]
  },
  {
   "cell_type": "code",
   "execution_count": 59,
   "id": "94152e96-5920-4e63-88ee-0eb0c43cc31c",
   "metadata": {},
   "outputs": [
    {
     "name": "stdout",
     "output_type": "stream",
     "text": [
      "140734236011224\n",
      "2265450124928\n",
      "in function 9\n",
      "out function 15\n"
     ]
    }
   ],
   "source": [
    "# now lets introduce special function called globals & using globals we can access global variable address\n",
    "\n",
    "a = 10 \n",
    "print(id(a))\n",
    "\n",
    "def something():\n",
    "    a = 9\n",
    "    x = globals() # if i dont mention a then it will creat new memory\n",
    "    \n",
    "    print(id(x))\n",
    "    print('in function',a)\n",
    "    \n",
    "    globals()['a'] = 15\n",
    "    \n",
    "        \n",
    "something()\n",
    "print('out function',a)"
   ]
  },
  {
   "cell_type": "markdown",
   "id": "061e4856-c423-4767-b161-2cd71361da78",
   "metadata": {},
   "source": [
    "##### The global keyword is used inside a function to indicate that a variable refers to a global variable, not a local one."
   ]
  },
  {
   "cell_type": "code",
   "execution_count": 61,
   "id": "dc7eee9b-3818-4f1a-94bf-6b2621df4ce0",
   "metadata": {},
   "outputs": [
    {
     "name": "stdout",
     "output_type": "stream",
     "text": [
      "15\n"
     ]
    }
   ],
   "source": [
    "x = 10  # Global variable\n",
    "\n",
    "def update_x():\n",
    "    global x  # Declare that we are using the global variable x\n",
    "    x += 5    # Modify the global variable\n",
    "\n",
    "update_x()\n",
    "print(x)  "
   ]
  },
  {
   "cell_type": "markdown",
   "id": "1a5b051f-b3cb-42fd-931e-38c9637c1de2",
   "metadata": {},
   "source": [
    "##### globals() is a built-in function that returns a dictionary representing the current global symbol table. It allows you to access and modify global variables programmatically."
   ]
  },
  {
   "cell_type": "code",
   "execution_count": 63,
   "id": "6eb1a00e-e34e-4279-b8bc-ece6c03947c1",
   "metadata": {},
   "outputs": [
    {
     "name": "stdout",
     "output_type": "stream",
     "text": [
      "17\n"
     ]
    }
   ],
   "source": [
    "x = 10  # Global variable\n",
    "\n",
    "def update_x():\n",
    "    globals()['x'] += 7  # Access and modify the global variable using the dictionary\n",
    "\n",
    "update_x()\n",
    "print(x)  # Output: 15"
   ]
  },
  {
   "cell_type": "markdown",
   "id": "0ac8c4a2-1a29-4f1f-b517-b36f8332aaf5",
   "metadata": {},
   "source": [
    "### Passing list to function "
   ]
  },
  {
   "cell_type": "code",
   "execution_count": 64,
   "id": "4ce237ba-6b18-4f2b-b99f-1f9892022abf",
   "metadata": {},
   "outputs": [
    {
     "name": "stdout",
     "output_type": "stream",
     "text": [
      "2\n",
      "3\n"
     ]
    }
   ],
   "source": [
    "def count(lst):\n",
    "    \n",
    "    even = 0\n",
    "    odd = 0\n",
    "    \n",
    "    for i in lst:\n",
    "        if i%2 == 0:\n",
    "            even += 1\n",
    "        else:\n",
    "            odd +=1 \n",
    "    return even,odd\n",
    "\n",
    "lst = [1, 2, 3, 4, 5 ]\n",
    "even, odd = count(lst)         \n",
    "\n",
    "print(even)\n",
    "print(odd)"
   ]
  },
  {
   "cell_type": "code",
   "execution_count": 65,
   "id": "b7220f3a-7bf4-4ee9-a3a2-0faddd8adbb1",
   "metadata": {},
   "outputs": [
    {
     "name": "stdout",
     "output_type": "stream",
     "text": [
      "Even Number: 6 and odd Number : 7\n"
     ]
    }
   ],
   "source": [
    "def count(lst):\n",
    "    \n",
    "    even = 0\n",
    "    odd = 0\n",
    "    \n",
    "    for i in lst:\n",
    "        if i%2 == 0:\n",
    "            even += 1\n",
    "        else:\n",
    "            odd +=1 \n",
    "    return even,odd\n",
    "\n",
    "lst = [1, 2, 3, 4, 5, 6, 7, 8, 9, 10,11,12,13]\n",
    "even,odd = count(lst)         \n",
    "\n",
    "print(\"Even Number: {} and odd Number : {}\".format(even,odd)) \n",
    "#format is function belongs to string & bydefault you need to pass any parameter"
   ]
  },
  {
   "cell_type": "markdown",
   "id": "b6b56e5a-412a-428a-abcb-38ac0829d8dd",
   "metadata": {},
   "source": [
    "### Fibonacci Sequence"
   ]
  },
  {
   "cell_type": "code",
   "execution_count": 66,
   "id": "dbcc21c9-b6ae-4795-8dae-56f26f38b3d7",
   "metadata": {},
   "outputs": [
    {
     "name": "stdout",
     "output_type": "stream",
     "text": [
      "0\n",
      "1\n",
      "1\n",
      "2\n",
      "3\n",
      "5\n",
      "8\n",
      "13\n",
      "21\n",
      "34\n",
      "55\n",
      "89\n"
     ]
    }
   ],
   "source": [
    "def fib(n):\n",
    "    a = 0\n",
    "    b = 1\n",
    "    \n",
    "    print(a)\n",
    "    print(b)\n",
    "    \n",
    "    for i in range(0, n):\n",
    "        c = a + b\n",
    "        a = b\n",
    "        b = c\n",
    "        \n",
    "        print(c)\n",
    "        \n",
    "fib(10)"
   ]
  },
  {
   "cell_type": "markdown",
   "id": "465391e3-5caf-4d0c-ab45-aae0e779cd01",
   "metadata": {},
   "source": [
    "### Factorial of a number"
   ]
  },
  {
   "cell_type": "code",
   "execution_count": 67,
   "id": "b7481d5f-da8d-443b-bf9d-32de7d62b4e7",
   "metadata": {},
   "outputs": [
    {
     "name": "stdout",
     "output_type": "stream",
     "text": [
      "24\n"
     ]
    }
   ],
   "source": [
    "def fact(n):\n",
    "    f = 1\n",
    "    for i in range(1, n+1):\n",
    "        f = f*i\n",
    "        \n",
    "    return f\n",
    "\n",
    "x = 4\n",
    "result = fact(x)\n",
    "print(result) "
   ]
  },
  {
   "cell_type": "markdown",
   "id": "81a567c3-195e-498a-8996-70624143462e",
   "metadata": {},
   "source": [
    "## Recursion"
   ]
  },
  {
   "cell_type": "code",
   "execution_count": 68,
   "id": "84e104ee-82e6-4f03-b300-9ee5ede8799d",
   "metadata": {},
   "outputs": [
    {
     "name": "stdout",
     "output_type": "stream",
     "text": [
      "hello\n",
      "hello\n"
     ]
    }
   ],
   "source": [
    "# i want to cal the hello multiple time\n",
    "# it will execute maximum 1000 time & in below code wish is calling by itself\n",
    "# bydefault we have 1000 limitation can we extend the recurssion limitation yes we can \n",
    "\n",
    "def wish(): #---------> 2-greeting function will executed\n",
    "    print('hello') \n",
    "    \n",
    "wish() # What if i call the function again #3---------> function calls itself is called recurssion\n",
    "\n",
    "wish() #------------> 1-at this point we are calling wish() function \n",
    "\n",
    "# it will print infinity time cuz recursion its own function "
   ]
  },
  {
   "cell_type": "code",
   "execution_count": 69,
   "id": "08961664-01ee-4d8b-a8ee-207e88037a7e",
   "metadata": {},
   "outputs": [
    {
     "name": "stdout",
     "output_type": "stream",
     "text": [
      "150\n",
      "hello 1\n",
      "hello 2\n",
      "hello 3\n",
      "hello 4\n",
      "hello 5\n",
      "hello 6\n",
      "hello 7\n",
      "hello 8\n",
      "hello 9\n",
      "hello 10\n",
      "hello 11\n",
      "hello 12\n",
      "hello 13\n",
      "hello 14\n",
      "hello 15\n",
      "hello 16\n",
      "hello 17\n",
      "hello 18\n",
      "hello 19\n",
      "hello 20\n",
      "hello 21\n",
      "hello 22\n",
      "hello 23\n",
      "hello 24\n",
      "hello 25\n",
      "hello 26\n",
      "hello 27\n",
      "hello 28\n",
      "hello 29\n",
      "hello 30\n",
      "hello 31\n",
      "hello 32\n",
      "hello 33\n",
      "hello 34\n",
      "hello 35\n",
      "hello 36\n",
      "hello 37\n",
      "hello 38\n",
      "hello 39\n",
      "hello 40\n",
      "hello 41\n",
      "hello 42\n",
      "hello 43\n",
      "hello 44\n",
      "hello 45\n",
      "hello 46\n",
      "hello 47\n",
      "hello 48\n",
      "hello 49\n",
      "hello 50\n",
      "hello 51\n",
      "hello 52\n",
      "hello 53\n",
      "hello 54\n",
      "hello 55\n",
      "hello 56\n",
      "hello 57\n",
      "hello 58\n",
      "hello 59\n",
      "hello 60\n",
      "hello 61\n",
      "hello 62\n",
      "hello 63\n",
      "hello 64\n",
      "hello 65\n",
      "hello 66\n",
      "hello 67\n",
      "hello 68\n",
      "hello 69\n",
      "hello 70\n",
      "hello 71\n",
      "hello 72\n",
      "hello 73\n",
      "hello 74\n",
      "hello 75\n",
      "hello 76\n",
      "hello 77\n",
      "hello 78\n",
      "hello 79\n",
      "hello 80\n",
      "hello 81\n",
      "hello 82\n",
      "hello 83\n",
      "hello 84\n",
      "hello 85\n",
      "hello 86\n",
      "hello 87\n",
      "hello 88\n",
      "hello 89\n",
      "hello 90\n",
      "hello 91\n",
      "hello 92\n",
      "hello 93\n",
      "hello 94\n",
      "hello 95\n",
      "hello 96\n",
      "hello 97\n",
      "hello 98\n",
      "hello 99\n",
      "hello 100\n",
      "hello 101\n",
      "hello 102\n",
      "hello 103\n",
      "hello 104\n",
      "hello 105\n",
      "hello 106\n",
      "hello 107\n",
      "hello 108\n",
      "hello 109\n",
      "hello 110\n",
      "hello 111\n",
      "hello 112\n",
      "hello 113\n",
      "hello 114\n",
      "hello 115\n",
      "hello 116\n",
      "hello 117\n",
      "hello 118\n",
      "hello 119\n",
      "hello 120\n",
      "hello 121\n",
      "hello 122\n",
      "hello 123\n",
      "hello 124\n",
      "hello 125\n"
     ]
    },
    {
     "ename": "RecursionError",
     "evalue": "maximum recursion depth exceeded",
     "output_type": "error",
     "traceback": [
      "\u001b[1;31m---------------------------------------------------------------------------\u001b[0m",
      "\u001b[1;31mRecursionError\u001b[0m                            Traceback (most recent call last)",
      "Cell \u001b[1;32mIn[69], line 12\u001b[0m\n\u001b[0;32m     10\u001b[0m     \u001b[38;5;28mprint\u001b[39m(\u001b[38;5;124m'\u001b[39m\u001b[38;5;124mhello\u001b[39m\u001b[38;5;124m'\u001b[39m, i)\n\u001b[0;32m     11\u001b[0m     wish()\n\u001b[1;32m---> 12\u001b[0m wish()\n",
      "Cell \u001b[1;32mIn[69], line 11\u001b[0m, in \u001b[0;36mwish\u001b[1;34m()\u001b[0m\n\u001b[0;32m      9\u001b[0m i \u001b[38;5;241m+\u001b[39m\u001b[38;5;241m=\u001b[39m \u001b[38;5;241m1\u001b[39m\n\u001b[0;32m     10\u001b[0m \u001b[38;5;28mprint\u001b[39m(\u001b[38;5;124m'\u001b[39m\u001b[38;5;124mhello\u001b[39m\u001b[38;5;124m'\u001b[39m, i)\n\u001b[1;32m---> 11\u001b[0m wish()\n",
      "Cell \u001b[1;32mIn[69], line 11\u001b[0m, in \u001b[0;36mwish\u001b[1;34m()\u001b[0m\n\u001b[0;32m      9\u001b[0m i \u001b[38;5;241m+\u001b[39m\u001b[38;5;241m=\u001b[39m \u001b[38;5;241m1\u001b[39m\n\u001b[0;32m     10\u001b[0m \u001b[38;5;28mprint\u001b[39m(\u001b[38;5;124m'\u001b[39m\u001b[38;5;124mhello\u001b[39m\u001b[38;5;124m'\u001b[39m, i)\n\u001b[1;32m---> 11\u001b[0m wish()\n",
      "    \u001b[1;31m[... skipping similar frames: wish at line 11 (122 times)]\u001b[0m\n",
      "Cell \u001b[1;32mIn[69], line 11\u001b[0m, in \u001b[0;36mwish\u001b[1;34m()\u001b[0m\n\u001b[0;32m      9\u001b[0m i \u001b[38;5;241m+\u001b[39m\u001b[38;5;241m=\u001b[39m \u001b[38;5;241m1\u001b[39m\n\u001b[0;32m     10\u001b[0m \u001b[38;5;28mprint\u001b[39m(\u001b[38;5;124m'\u001b[39m\u001b[38;5;124mhello\u001b[39m\u001b[38;5;124m'\u001b[39m, i)\n\u001b[1;32m---> 11\u001b[0m wish()\n",
      "Cell \u001b[1;32mIn[69], line 10\u001b[0m, in \u001b[0;36mwish\u001b[1;34m()\u001b[0m\n\u001b[0;32m      8\u001b[0m \u001b[38;5;28;01mglobal\u001b[39;00m  i\n\u001b[0;32m      9\u001b[0m i \u001b[38;5;241m+\u001b[39m\u001b[38;5;241m=\u001b[39m \u001b[38;5;241m1\u001b[39m\n\u001b[1;32m---> 10\u001b[0m \u001b[38;5;28mprint\u001b[39m(\u001b[38;5;124m'\u001b[39m\u001b[38;5;124mhello\u001b[39m\u001b[38;5;124m'\u001b[39m, i)\n\u001b[0;32m     11\u001b[0m wish()\n",
      "File \u001b[1;32m~\\anaconda3\\Lib\\site-packages\\ipykernel\\iostream.py:649\u001b[0m, in \u001b[0;36mOutStream.write\u001b[1;34m(self, string)\u001b[0m\n\u001b[0;32m    646\u001b[0m     msg \u001b[38;5;241m=\u001b[39m \u001b[38;5;124m\"\u001b[39m\u001b[38;5;124mI/O operation on closed file\u001b[39m\u001b[38;5;124m\"\u001b[39m\n\u001b[0;32m    647\u001b[0m     \u001b[38;5;28;01mraise\u001b[39;00m \u001b[38;5;167;01mValueError\u001b[39;00m(msg)\n\u001b[1;32m--> 649\u001b[0m is_child \u001b[38;5;241m=\u001b[39m \u001b[38;5;129;01mnot\u001b[39;00m \u001b[38;5;28mself\u001b[39m\u001b[38;5;241m.\u001b[39m_is_master_process()\n\u001b[0;32m    650\u001b[0m \u001b[38;5;66;03m# only touch the buffer in the IO thread to avoid races\u001b[39;00m\n\u001b[0;32m    651\u001b[0m \u001b[38;5;28;01mwith\u001b[39;00m \u001b[38;5;28mself\u001b[39m\u001b[38;5;241m.\u001b[39m_buffer_lock:\n",
      "\u001b[1;31mRecursionError\u001b[0m: maximum recursion depth exceeded"
     ]
    }
   ],
   "source": [
    "import sys\n",
    "sys.setrecursionlimit(150)\n",
    "print(sys.getrecursionlimit())\n",
    "\n",
    "i = 0\n",
    "\n",
    "def wish():\n",
    "    global  i\n",
    "    i += 1\n",
    "    print('hello', i)\n",
    "    wish()\n",
    "wish()"
   ]
  },
  {
   "cell_type": "markdown",
   "id": "fe76e670-48e9-4cd0-9585-be44d360872b",
   "metadata": {},
   "source": [
    "### Factorial (using recursion)"
   ]
  },
  {
   "cell_type": "code",
   "execution_count": 71,
   "id": "a67dece5-8368-42fe-a1d5-3625ecbfc3b6",
   "metadata": {},
   "outputs": [
    {
     "data": {
      "text/plain": [
       "720"
      ]
     },
     "execution_count": 71,
     "metadata": {},
     "output_type": "execute_result"
    }
   ],
   "source": [
    "def fact(n):\n",
    "    if n==0:\n",
    "        return 1\n",
    "    return n * fact(n-1)\n",
    "\n",
    "result = fact(6)\n",
    "\n",
    "result"
   ]
  },
  {
   "cell_type": "markdown",
   "id": "4030397a-36b7-46ba-8c96-c0bd27e31c4f",
   "metadata": {},
   "source": [
    "## Lambda Functions"
   ]
  },
  {
   "cell_type": "code",
   "execution_count": 72,
   "id": "247c7005-cd57-49a3-b36f-c4d8551639a4",
   "metadata": {},
   "outputs": [
    {
     "name": "stdout",
     "output_type": "stream",
     "text": [
      "25\n"
     ]
    }
   ],
   "source": [
    "def square(a):\n",
    "    return a * a\n",
    "    \n",
    "result = square(5)\n",
    "print(result)\n",
    "# what if i dont want to call square() multiple times "
   ]
  },
  {
   "cell_type": "code",
   "execution_count": 75,
   "id": "c8c7a124-b8d2-40be-8756-08ab8be8e4f2",
   "metadata": {},
   "outputs": [
    {
     "data": {
      "text/plain": [
       "25"
      ]
     },
     "execution_count": 75,
     "metadata": {},
     "output_type": "execute_result"
    }
   ],
   "source": [
    "# lambda expresion or lambda function\n",
    "# They're just anonymous one-liner functions—basically, a quick way to define a function without giving it a name or using the full def syntax.\n",
    "f = lambda a : a * a # hear a is an argument & operation in the argument is a * a\n",
    "result = f(5)\n",
    "result\n",
    "\n",
    "# hear anonymous function is called lambda \n",
    "# remember lambda alway you need to assgin as function cuz function are object in python"
   ]
  },
  {
   "cell_type": "code",
   "execution_count": 77,
   "id": "d67a6411-a440-46ee-9468-9fb654788683",
   "metadata": {},
   "outputs": [
    {
     "name": "stdout",
     "output_type": "stream",
     "text": [
      "5\n",
      "-1\n"
     ]
    }
   ],
   "source": [
    "# lets define function which will add 2 number\n",
    "# we are defining a function whcih doesnt have name\n",
    "# lambda expresion or lambda function\n",
    "\n",
    "f = lambda a, b : a + b\n",
    "f1 = lambda a, b : a - b\n",
    "\n",
    "result = f(1,4)\n",
    "result1 = f1(2, 3)\n",
    "\n",
    "print(result)\n",
    "print(result1)"
   ]
  },
  {
   "cell_type": "code",
   "execution_count": null,
   "id": "60d0954a-78ac-4eba-8b0a-9c0b3d56c280",
   "metadata": {},
   "outputs": [],
   "source": []
  }
 ],
 "metadata": {
  "kernelspec": {
   "display_name": "Python [conda env:base] *",
   "language": "python",
   "name": "conda-base-py"
  },
  "language_info": {
   "codemirror_mode": {
    "name": "ipython",
    "version": 3
   },
   "file_extension": ".py",
   "mimetype": "text/x-python",
   "name": "python",
   "nbconvert_exporter": "python",
   "pygments_lexer": "ipython3",
   "version": "3.12.7"
  }
 },
 "nbformat": 4,
 "nbformat_minor": 5
}
