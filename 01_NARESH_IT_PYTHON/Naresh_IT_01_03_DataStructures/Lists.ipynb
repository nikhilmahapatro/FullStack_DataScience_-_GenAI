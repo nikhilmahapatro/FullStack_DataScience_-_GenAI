{
 "cells": [
  {
   "cell_type": "markdown",
   "id": "fc28a41c-2741-4b4b-859a-16be304f38d9",
   "metadata": {},
   "source": [
    "# LISTS"
   ]
  },
  {
   "cell_type": "code",
   "execution_count": 1,
   "id": "4b8211ee-0927-4472-982d-0f1fc0c3c62f",
   "metadata": {},
   "outputs": [],
   "source": [
    "# Duplicates allowed\n",
    "# Mutable\n",
    "# Can store multiple datatypes and nested lists,etc"
   ]
  },
  {
   "cell_type": "code",
   "execution_count": 4,
   "id": "e1ca4428-1de7-4c0f-89d7-979054dca8af",
   "metadata": {},
   "outputs": [
    {
     "name": "stdout",
     "output_type": "stream",
     "text": [
      "<class 'list'>\n"
     ]
    }
   ],
   "source": [
    "# Empty List\n",
    "L=[]      \n",
    "print(type(L))"
   ]
  },
  {
   "cell_type": "code",
   "execution_count": 5,
   "id": "75f1c1b9-d79d-47d5-9bdd-7e8056d44d63",
   "metadata": {},
   "outputs": [
    {
     "name": "stdout",
     "output_type": "stream",
     "text": [
      "<class 'list'>\n",
      "13\n"
     ]
    }
   ],
   "source": [
    "L1=[5,4,6,8,9,4,6,8,7,1,4,5,9]\n",
    "print(type(L1))\n",
    "print(len(L1))"
   ]
  },
  {
   "cell_type": "code",
   "execution_count": 6,
   "id": "c4a2ce8d-757f-47a6-a115-541acfd84883",
   "metadata": {},
   "outputs": [
    {
     "name": "stdout",
     "output_type": "stream",
     "text": [
      "9\n",
      "1\n",
      "76\n"
     ]
    }
   ],
   "source": [
    "print(max(L1))\n",
    "print(min(L1))\n",
    "print(sum(L1))"
   ]
  },
  {
   "cell_type": "code",
   "execution_count": 7,
   "id": "77ffa8fb-7227-4f1e-b5d2-ce81503828e0",
   "metadata": {},
   "outputs": [
    {
     "name": "stdout",
     "output_type": "stream",
     "text": [
      "(0, 5)\n",
      "(1, 4)\n",
      "(2, 6)\n",
      "(3, 8)\n",
      "(4, 9)\n",
      "(5, 4)\n",
      "(6, 6)\n",
      "(7, 8)\n",
      "(8, 7)\n",
      "(9, 1)\n",
      "(10, 4)\n",
      "(11, 5)\n",
      "(12, 9)\n"
     ]
    }
   ],
   "source": [
    "for i in enumerate(L1):\n",
    "    print(i)"
   ]
  },
  {
   "cell_type": "code",
   "execution_count": 8,
   "id": "64582fbb-5f5e-4fd9-8a8f-bad89ca68996",
   "metadata": {},
   "outputs": [
    {
     "name": "stdout",
     "output_type": "stream",
     "text": [
      "False\n",
      "True\n"
     ]
    }
   ],
   "source": [
    "# List Membership\n",
    "\n",
    "print(200 in L1)                       # False\n",
    "print(1 in L1)                         # True"
   ]
  },
  {
   "cell_type": "code",
   "execution_count": 9,
   "id": "dadfc735-a3dd-4360-8ad4-5d89ca4957f9",
   "metadata": {},
   "outputs": [
    {
     "name": "stdout",
     "output_type": "stream",
     "text": [
      "[9, 4, 7, 6, 5, 2, 8]\n",
      "9\n",
      "4\n",
      "7\n",
      "6\n"
     ]
    }
   ],
   "source": [
    "# Nested List Indexing\n",
    "\n",
    "l = ['str', 4, 6.7, [9,4,7,6,5,2,8], 5+8j]\n",
    "print(l[3])\n",
    "print(l[3][0])\n",
    "print(l[3][1])\n",
    "print(l[3][2])\n",
    "print(l[3][3])"
   ]
  },
  {
   "cell_type": "markdown",
   "id": "886a37a2-70af-49c3-b8e0-3b853abf9edd",
   "metadata": {},
   "source": [
    "# List Methods"
   ]
  },
  {
   "cell_type": "code",
   "execution_count": 10,
   "id": "e80869ce-2174-492a-ad81-ebfe20476f11",
   "metadata": {},
   "outputs": [],
   "source": [
    "L2= [3,9,2,'trdhs', 6+2j, 3,True, 7.5, False]\n",
    "L3= [4,6,8,9,8,956,7,56,5,62,5,1]\n",
    "L4= [5,6,8,4,6,4,6,2,5,8,1,9,6,3,5,3,1]\n",
    "L5= [4,7,8,9,8,5,4,9,5,4,8,5,3,5,5,1,8,2,9,1]"
   ]
  },
  {
   "cell_type": "code",
   "execution_count": 11,
   "id": "53c96e49-ad0b-4a3f-9547-2caee6de4032",
   "metadata": {},
   "outputs": [
    {
     "name": "stdout",
     "output_type": "stream",
     "text": [
      "temp_L2= [3, 9, 2, 'trdhs', (6+2j), 3, True, 7.5, False]\n"
     ]
    }
   ],
   "source": [
    "# copies 1 list into another\n",
    "\n",
    "temp_L2=L2.copy()                        \n",
    "print('temp_L2= ' + str(temp_L2))"
   ]
  },
  {
   "cell_type": "code",
   "execution_count": 12,
   "id": "eb6d4d9e-e038-49b6-9706-94675338d0da",
   "metadata": {},
   "outputs": [
    {
     "name": "stdout",
     "output_type": "stream",
     "text": [
      "[3, 9, 2, 'trdhs', (6+2j), 3, True, 7.5, False, 7]\n"
     ]
    }
   ],
   "source": [
    "# adds element to the end of the list\n",
    "\n",
    "L2.append(7)                            \n",
    "print(L2)"
   ]
  },
  {
   "cell_type": "code",
   "execution_count": 13,
   "id": "d13be4c3-fc3f-4117-8b67-f53e8d915c8b",
   "metadata": {},
   "outputs": [
    {
     "name": "stdout",
     "output_type": "stream",
     "text": [
      "2\n"
     ]
    }
   ],
   "source": [
    "# counts the no of occurances of element\n",
    "\n",
    "print(L2.count(3)) "
   ]
  },
  {
   "cell_type": "code",
   "execution_count": 14,
   "id": "52bc9fb6-a279-4a83-a184-fa8398221ade",
   "metadata": {},
   "outputs": [
    {
     "name": "stdout",
     "output_type": "stream",
     "text": [
      "7\n"
     ]
    }
   ],
   "source": [
    "# prints the index of first occurance of element\n",
    "\n",
    "print(L2.index(7.5)) "
   ]
  },
  {
   "cell_type": "code",
   "execution_count": 15,
   "id": "451b26ca-470f-4921-8efc-092d434e8d7d",
   "metadata": {},
   "outputs": [
    {
     "name": "stdout",
     "output_type": "stream",
     "text": [
      "[1, 3, 5, 3, 6, 9, 1, 8, 5, 2, 6, 4, 6, 4, 8, 6, 5]\n"
     ]
    }
   ],
   "source": [
    " # reverses a list\n",
    "\n",
    "L4.reverse()                            \n",
    "print(L4)"
   ]
  },
  {
   "cell_type": "code",
   "execution_count": 16,
   "id": "8533fd91-da40-4212-b145-b607aa471366",
   "metadata": {},
   "outputs": [
    {
     "name": "stdout",
     "output_type": "stream",
     "text": [
      "[4, 6, 8, 9, 8, 956, 7, 56, 5, 62, 5, 1, 1, 3, 5, 3, 6, 9, 1, 8, 5, 2, 6, 4, 6, 4, 8, 6, 5]\n"
     ]
    }
   ],
   "source": [
    " # concatenates 2 lists\n",
    "\n",
    "L3.extend(L4)                           \n",
    "print(L3)"
   ]
  },
  {
   "cell_type": "code",
   "execution_count": 17,
   "id": "6c69c6c3-3372-4183-8fd4-0745a63c61c0",
   "metadata": {},
   "outputs": [
    {
     "name": "stdout",
     "output_type": "stream",
     "text": [
      "[4, 6, 8, 9, 8, 956, 7, 56, 5, 62, 5, 1, 1, 3, 5, 3, 6, 9, 1, 8, 5, 2, 6, 4, 6, 4, 8, 6]\n",
      "[4, 6, 8, 9, 8, 7, 56, 5, 62, 5, 1, 1, 3, 5, 3, 6, 9, 1, 8, 5, 2, 6, 4, 6, 4, 8, 6]\n"
     ]
    }
   ],
   "source": [
    " # removes last element from the list by default\n",
    "L3.pop()     \n",
    "print(L3)\n",
    "\n",
    "# removes element at index 'i'\n",
    "L3.pop(5)   \n",
    "print(L3)"
   ]
  },
  {
   "cell_type": "code",
   "execution_count": 22,
   "id": "fad1454f-39d3-40f2-8d5c-78eff1a3fc14",
   "metadata": {},
   "outputs": [
    {
     "name": "stdout",
     "output_type": "stream",
     "text": [
      "[1, 1, 3, 4, 4, 5, 5, 5, 6, 6, 6, 6, 8, 8, 9]\n"
     ]
    }
   ],
   "source": [
    "# removes the element from the list\n",
    "\n",
    "L4.remove(3)                            \n",
    "print(L4)"
   ]
  },
  {
   "cell_type": "code",
   "execution_count": 23,
   "id": "deb6668e-e87d-496c-90c3-9c6d6d0524a5",
   "metadata": {},
   "outputs": [
    {
     "name": "stdout",
     "output_type": "stream",
     "text": [
      "[1, 1, 3, 4, 4, 5, 5, 5, 6, 6, 6, 6, 8, 8, 9]\n"
     ]
    }
   ],
   "source": [
    "# sorts in Ascending order\n",
    "\n",
    "L4.sort() \n",
    "print(L4)"
   ]
  },
  {
   "cell_type": "code",
   "execution_count": 25,
   "id": "1d0178dc-8cac-433d-ba00-a6878bda5e0f",
   "metadata": {},
   "outputs": [
    {
     "name": "stdout",
     "output_type": "stream",
     "text": [
      "[1, 1, 1, 2, 3, 3, 4, 4, 4, 5, 5, 5, 5, 6, 6, 6, 6, 6, 7, 8, 8, 8, 8, 9, 9, 56, 62]\n",
      "[9, 9, 9, 8, 8, 8, 8, 7, 5, 5, 5, 5, 5, 4, 4, 4, 3, 2, 1, 1]\n"
     ]
    }
   ],
   "source": [
    "# sorts in Ascending order\n",
    "L3.sort(reverse=False)                   \n",
    "print(L3)\n",
    "\n",
    "# sorts in Descending order\n",
    "L5.sort(reverse=True)                    \n",
    "print(L5)"
   ]
  },
  {
   "cell_type": "code",
   "execution_count": 26,
   "id": "f0daea83-5d71-43ef-a3df-0cca3e413737",
   "metadata": {},
   "outputs": [
    {
     "name": "stdout",
     "output_type": "stream",
     "text": [
      "[]\n"
     ]
    }
   ],
   "source": [
    "# removes all elements from the list\n",
    "\n",
    "L4.clear()                              \n",
    "print(L4)"
   ]
  },
  {
   "cell_type": "code",
   "execution_count": 27,
   "id": "33f33a7a-ffa7-4ebf-a6e4-9ed40442a0e6",
   "metadata": {},
   "outputs": [],
   "source": [
    "# Deletes the List\n",
    "\n",
    "del L5                                "
   ]
  },
  {
   "cell_type": "code",
   "execution_count": 28,
   "id": "b24f993a-8a7d-4de2-83c8-aa4366d536b1",
   "metadata": {},
   "outputs": [],
   "source": [
    "L6= [3,9,2,'trdhs', 6+2j, 3,True, 7.5, False]\n",
    "L7= [0, False, 0+0j, 0.0]\n",
    "L8= [4, 8, 3, 4, 8.2, 'yoyo', True]"
   ]
  },
  {
   "cell_type": "code",
   "execution_count": 29,
   "id": "c6478ba8-7b93-4512-a32c-34685ec65c31",
   "metadata": {},
   "outputs": [
    {
     "name": "stdout",
     "output_type": "stream",
     "text": [
      "True\n",
      "False\n",
      "True\n",
      "False\n",
      "False\n",
      "True\n"
     ]
    }
   ],
   "source": [
    " # Checks if any one element in the list is True/non-zero\n",
    "print(any(L6))                          \n",
    "print(any(L7))\n",
    "print(any(L8))\n",
    "\n",
    "# Checks if all the elements in the list are True/non-zero\n",
    "print(all(L6))                           \n",
    "print(all(L7))\n",
    "print(all(L8))"
   ]
  },
  {
   "cell_type": "code",
   "execution_count": 30,
   "id": "dfff4e3f-f5ca-48ae-9683-d7894bb4a719",
   "metadata": {},
   "outputs": [
    {
     "name": "stdout",
     "output_type": "stream",
     "text": [
      "[5, 7, 9, 2, 8, 25, 6, 43, 2, 1, 4, 7, 5, 7, 9, 2, 8, 25, 6, 43, 2, 1, 4, 7]\n"
     ]
    }
   ],
   "source": [
    "# List is duplicable\n",
    "L9=[5,7,9,2,8,25,6,43,2,1,4,7]\n",
    "L10=L9*2\n",
    "print(L10)                               # [5, 7, 9, 2, 8, 25, 6, 43, 2, 1, 4, 7, 5, 7, 9, 2, 8, 25, 6, 43, 2, 1, 4, 7]\n"
   ]
  },
  {
   "cell_type": "code",
   "execution_count": null,
   "id": "fc146b43-c13f-4f67-b398-68142547fd5c",
   "metadata": {},
   "outputs": [],
   "source": [
    "\n",
    "L9[5]='jit'\n",
    "print(L9)"
   ]
  }
 ],
 "metadata": {
  "kernelspec": {
   "display_name": "Python [conda env:base] *",
   "language": "python",
   "name": "conda-base-py"
  },
  "language_info": {
   "codemirror_mode": {
    "name": "ipython",
    "version": 3
   },
   "file_extension": ".py",
   "mimetype": "text/x-python",
   "name": "python",
   "nbconvert_exporter": "python",
   "pygments_lexer": "ipython3",
   "version": "3.12.7"
  }
 },
 "nbformat": 4,
 "nbformat_minor": 5
}
