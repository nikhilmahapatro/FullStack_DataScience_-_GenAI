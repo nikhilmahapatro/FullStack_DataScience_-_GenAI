{
 "cells": [
  {
   "cell_type": "markdown",
   "id": "65fda8aa-18b4-480c-a969-a5cdf909ca72",
   "metadata": {},
   "source": [
    "# STRING BASICS"
   ]
  },
  {
   "cell_type": "code",
   "execution_count": 1,
   "id": "24c20136-9a25-489e-94ff-09591213da50",
   "metadata": {},
   "outputs": [
    {
     "name": "stdout",
     "output_type": "stream",
     "text": [
      "P\n",
      "1\n"
     ]
    }
   ],
   "source": [
    "# Single line comment\n",
    "\n",
    "letter = 'P'                # A string could be a single character or a bunch of texts\n",
    "print(letter)               # P\n",
    "print(len(letter))          # 1"
   ]
  },
  {
   "cell_type": "code",
   "execution_count": 2,
   "id": "65b7dffe-7450-46e9-b63b-17e3c9dda658",
   "metadata": {},
   "outputs": [
    {
     "name": "stdout",
     "output_type": "stream",
     "text": [
      "Hello, World!\n",
      "13\n"
     ]
    }
   ],
   "source": [
    "greeting = 'Hello, World!'  # String could be  a single or double quote,\"Hello, World!\"\n",
    "print(greeting)             # Hello, World!\n",
    "print(len(greeting))"
   ]
  },
  {
   "cell_type": "code",
   "execution_count": 3,
   "id": "fd7be451-b649-47e9-a3ad-1e1ad642da70",
   "metadata": {},
   "outputs": [
    {
     "name": "stdout",
     "output_type": "stream",
     "text": [
      "I hope you are enjoying 30 days of python challenge\n"
     ]
    }
   ],
   "source": [
    "sentence = \"I hope you are enjoying 30 days of python challenge\"\n",
    "print(sentence)"
   ]
  },
  {
   "cell_type": "code",
   "execution_count": 4,
   "id": "74199e99-981b-44d6-b49b-1cf4e5dd5c61",
   "metadata": {},
   "outputs": [
    {
     "name": "stdout",
     "output_type": "stream",
     "text": [
      "I am a teacher and enjoy teaching.\n",
      "I didn't find anything as rewarding as empowering people.\n",
      "That is why I created 30 days of python.\n"
     ]
    }
   ],
   "source": [
    "# Multiline String\n",
    "multiline_string = '''I am a teacher and enjoy teaching.\n",
    "I didn't find anything as rewarding as empowering people.\n",
    "That is why I created 30 days of python.'''\n",
    "print(multiline_string)"
   ]
  },
  {
   "cell_type": "code",
   "execution_count": 5,
   "id": "62518222-fe37-4f48-a683-6a0e5972e253",
   "metadata": {},
   "outputs": [
    {
     "name": "stdout",
     "output_type": "stream",
     "text": [
      "I am a teacher and enjoy teaching.\n",
      "I didn't find anything as rewarding as empowering people.\n",
      "That is why I created 30 days of python.\n"
     ]
    }
   ],
   "source": [
    "# Another way of doing the same thing\n",
    "multiline_string = \"\"\"I am a teacher and enjoy teaching.\n",
    "I didn't find anything as rewarding as empowering people.\n",
    "That is why I created 30 days of python.\"\"\"\n",
    "print(multiline_string)"
   ]
  },
  {
   "cell_type": "code",
   "execution_count": 6,
   "id": "223bf3fa-887f-41bd-9a25-85cc064a585d",
   "metadata": {},
   "outputs": [
    {
     "name": "stdout",
     "output_type": "stream",
     "text": [
      "prakash senapati\n"
     ]
    }
   ],
   "source": [
    "# String Concatenation\n",
    "first_name = 'prakash'\n",
    "last_name = 'senapati'\n",
    "space = ' '\n",
    "full_name = first_name  +  space + last_name\n",
    "print(full_name)"
   ]
  },
  {
   "cell_type": "code",
   "execution_count": 7,
   "id": "fe185ead-e6e3-456b-9d28-59b186d9da2a",
   "metadata": {},
   "outputs": [
    {
     "name": "stdout",
     "output_type": "stream",
     "text": [
      "7\n",
      "8\n",
      "False\n",
      "16\n"
     ]
    }
   ],
   "source": [
    "# Checking length of a string using len() builtin function\n",
    "print(len(first_name))                  # 8\n",
    "print(len(last_name))                   # 7\n",
    "print(len(first_name) > len(last_name)) # True\n",
    "print(len(full_name))                   # 16"
   ]
  },
  {
   "cell_type": "code",
   "execution_count": 8,
   "id": "98f447ab-0441-4b73-9b65-dab5392978c7",
   "metadata": {},
   "outputs": [
    {
     "name": "stdout",
     "output_type": "stream",
     "text": [
      "P\n",
      "y\n",
      "t\n",
      "h\n",
      "o\n",
      "n\n"
     ]
    }
   ],
   "source": [
    "# Unpacking characters\n",
    "language = 'Python'\n",
    "a,b,c,d,e,f = language # unpacking sequence characters into variables\n",
    "print(a) # P\n",
    "print(b) # y\n",
    "print(c) # t\n",
    "print(d) # h\n",
    "print(e) # o\n",
    "print(f) # n"
   ]
  },
  {
   "cell_type": "code",
   "execution_count": 9,
   "id": "0568e549-ef9b-404f-b679-7502ecedb00e",
   "metadata": {},
   "outputs": [
    {
     "name": "stdout",
     "output_type": "stream",
     "text": [
      "P\n",
      "y\n",
      "n\n"
     ]
    }
   ],
   "source": [
    "# Accessing characters in strings by index\n",
    "language = 'Python'\n",
    "first_letter = language[0]\n",
    "print(first_letter) # P\n",
    "second_letter = language[1]\n",
    "print(second_letter) # y\n",
    "last_index = len(language) - 1\n",
    "last_letter = language[last_index]\n",
    "print(last_letter) # n"
   ]
  },
  {
   "cell_type": "code",
   "execution_count": 10,
   "id": "cc148923-1610-4efd-b76a-b1533f1964e2",
   "metadata": {},
   "outputs": [
    {
     "name": "stdout",
     "output_type": "stream",
     "text": [
      "n\n",
      "o\n"
     ]
    }
   ],
   "source": [
    "# If we want to start from right end we can use negative indexing. -1 is the last index\n",
    "language = 'Python'\n",
    "last_letter = language[-1]\n",
    "print(last_letter) # n\n",
    "second_last = language[-2]\n",
    "print(second_last) # o"
   ]
  },
  {
   "cell_type": "markdown",
   "id": "3f789a84-4b87-4177-86dc-a546df381a03",
   "metadata": {},
   "source": [
    "# String Slicing"
   ]
  },
  {
   "cell_type": "code",
   "execution_count": 11,
   "id": "9ffd453b-7281-498b-9176-ffed04f4e3b1",
   "metadata": {},
   "outputs": [
    {
     "name": "stdout",
     "output_type": "stream",
     "text": [
      "hon\n"
     ]
    }
   ],
   "source": [
    "# Slicing\n",
    "language = 'Python'\n",
    "first_three = language[0:3] # starts at zero index and up to 3 but not include 3\n",
    "last_three = language[3:6]\n",
    "print(last_three)           # hon"
   ]
  },
  {
   "cell_type": "code",
   "execution_count": 13,
   "id": "a482ecf8-270f-4bc3-bb42-00aad411da67",
   "metadata": {},
   "outputs": [
    {
     "name": "stdout",
     "output_type": "stream",
     "text": [
      "hon\n",
      "hon\n"
     ]
    }
   ],
   "source": [
    "last_three = language[-3:]\n",
    "print(last_three)           # hon\n",
    "last_three = language[3:]\n",
    "print(last_three)           # hon"
   ]
  },
  {
   "cell_type": "code",
   "execution_count": 14,
   "id": "b7a362d2-1d5b-40d6-8658-9082b645e72a",
   "metadata": {},
   "outputs": [
    {
     "name": "stdout",
     "output_type": "stream",
     "text": [
      "Pto\n"
     ]
    }
   ],
   "source": [
    "# Skipping character while splitting Python strings\n",
    "language = 'Python'\n",
    "pto = language[0:6:2] \n",
    "print(pto)                  # pto"
   ]
  },
  {
   "cell_type": "markdown",
   "id": "6242d47e-307f-468b-96ea-153b379222c9",
   "metadata": {},
   "source": [
    "# Escape sequence"
   ]
  },
  {
   "cell_type": "code",
   "execution_count": 15,
   "id": "7e09f9ed-f424-45ef-a8b9-e3065635cafe",
   "metadata": {},
   "outputs": [
    {
     "name": "stdout",
     "output_type": "stream",
     "text": [
      "I hope every one enjoying the python challenge.\n",
      "Do you ?\n"
     ]
    }
   ],
   "source": [
    "print('I hope every one enjoying the python challenge.\\nDo you ?') # line break"
   ]
  },
  {
   "cell_type": "code",
   "execution_count": 16,
   "id": "9b13e3e6-a657-4afc-bd9b-bdcba25f1299",
   "metadata": {},
   "outputs": [
    {
     "name": "stdout",
     "output_type": "stream",
     "text": [
      "Days\tTopics\tExercises\n",
      "Day 1\t3\t5\n",
      "Day 2\t3\t5\n",
      "Day 3\t3\t5\n",
      "Day 4\t3\t5\n"
     ]
    }
   ],
   "source": [
    "print('Days\\tTopics\\tExercises')\n",
    "print('Day 1\\t3\\t5')\n",
    "print('Day 2\\t3\\t5')\n",
    "print('Day 3\\t3\\t5')\n",
    "print('Day 4\\t3\\t5')"
   ]
  },
  {
   "cell_type": "code",
   "execution_count": 17,
   "id": "af6c9f92-1121-4ca5-b556-70f224ffd413",
   "metadata": {},
   "outputs": [
    {
     "name": "stdout",
     "output_type": "stream",
     "text": [
      "This is a back slash  symbol (\\)\n"
     ]
    }
   ],
   "source": [
    "print('This is a back slash  symbol (\\\\)') # To write a back slash"
   ]
  },
  {
   "cell_type": "code",
   "execution_count": 18,
   "id": "63021755-c68c-476f-8e0e-0253e821e682",
   "metadata": {},
   "outputs": [
    {
     "name": "stdout",
     "output_type": "stream",
     "text": [
      "In every programming language it starts with \"Hello, World!\"\n"
     ]
    }
   ],
   "source": [
    "print('In every programming language it starts with \\\"Hello, World!\\\"')"
   ]
  },
  {
   "cell_type": "code",
   "execution_count": null,
   "id": "50a5569a-26de-434c-a2ae-6995c7f91fc1",
   "metadata": {},
   "outputs": [],
   "source": []
  }
 ],
 "metadata": {
  "kernelspec": {
   "display_name": "Python [conda env:base] *",
   "language": "python",
   "name": "conda-base-py"
  },
  "language_info": {
   "codemirror_mode": {
    "name": "ipython",
    "version": 3
   },
   "file_extension": ".py",
   "mimetype": "text/x-python",
   "name": "python",
   "nbconvert_exporter": "python",
   "pygments_lexer": "ipython3",
   "version": "3.12.7"
  }
 },
 "nbformat": 4,
 "nbformat_minor": 5
}
