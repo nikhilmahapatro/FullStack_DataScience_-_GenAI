{
 "cells": [
  {
   "cell_type": "markdown",
   "id": "f383f6cf-9a1c-4784-a199-0ff26940137d",
   "metadata": {},
   "source": [
    "# Class, Object, Method, Self"
   ]
  },
  {
   "cell_type": "code",
   "execution_count": 1,
   "id": "49ced70b-8366-41ca-9e33-2dd1143e22d7",
   "metadata": {},
   "outputs": [
    {
     "name": "stdout",
     "output_type": "stream",
     "text": [
      "<class 'int'>\n"
     ]
    }
   ],
   "source": [
    "# Inbuilt Class\n",
    "a = 5\n",
    "print(type(a))"
   ]
  },
  {
   "cell_type": "code",
   "execution_count": 2,
   "id": "39727518-b8bc-4c3b-b220-3e465f75f85d",
   "metadata": {},
   "outputs": [
    {
     "name": "stdout",
     "output_type": "stream",
     "text": [
      "<class 'list'>\n"
     ]
    }
   ],
   "source": [
    "# Inbuilt Class\n",
    "l = [1,2,3,]\n",
    "print(type(l))"
   ]
  },
  {
   "cell_type": "code",
   "execution_count": 3,
   "id": "54558057-29bf-4e06-a72a-74a030df8a5d",
   "metadata": {},
   "outputs": [
    {
     "name": "stdout",
     "output_type": "stream",
     "text": [
      "i5 8gb\n"
     ]
    }
   ],
   "source": [
    "def config():   \n",
    "    print('i5', '8gb')\n",
    "config()\n",
    "\n",
    "# Here config() is a function"
   ]
  },
  {
   "cell_type": "code",
   "execution_count": 4,
   "id": "ac9d786b-2a3d-4031-98e9-1dc6bf36efa8",
   "metadata": {},
   "outputs": [
    {
     "name": "stdout",
     "output_type": "stream",
     "text": [
      "i8 hp 8\n",
      "i12 dell 16\n"
     ]
    }
   ],
   "source": [
    "class laptop():\n",
    "    def config(): \n",
    "        print('i8', 'hp', 8)\n",
    "        print('i12', 'dell', 16)\n",
    "\n",
    "lap1 = laptop()                # lap1 is an object of laptop() class\n",
    "\n",
    "laptop.config()                # class.method()\n",
    "\n",
    "# Here config is a method"
   ]
  },
  {
   "cell_type": "code",
   "execution_count": 5,
   "id": "99734659-0fc9-4e26-b265-1a15178727a1",
   "metadata": {},
   "outputs": [
    {
     "ename": "TypeError",
     "evalue": "laptop.config() takes 0 positional arguments but 1 was given",
     "output_type": "error",
     "traceback": [
      "\u001b[1;31m---------------------------------------------------------------------------\u001b[0m",
      "\u001b[1;31mTypeError\u001b[0m                                 Traceback (most recent call last)",
      "Cell \u001b[1;32mIn[5], line 7\u001b[0m\n\u001b[0;32m      4\u001b[0m         \u001b[38;5;28mprint\u001b[39m(\u001b[38;5;124m'\u001b[39m\u001b[38;5;124mi12\u001b[39m\u001b[38;5;124m'\u001b[39m, \u001b[38;5;124m'\u001b[39m\u001b[38;5;124mdell\u001b[39m\u001b[38;5;124m'\u001b[39m, \u001b[38;5;241m16\u001b[39m)\n\u001b[0;32m      6\u001b[0m lap1 \u001b[38;5;241m=\u001b[39m laptop()  \n\u001b[1;32m----> 7\u001b[0m lap1\u001b[38;5;241m.\u001b[39mconfig()\n",
      "\u001b[1;31mTypeError\u001b[0m: laptop.config() takes 0 positional arguments but 1 was given"
     ]
    }
   ],
   "source": [
    "class laptop():\n",
    "    def config(): \n",
    "        print('i8', 'hp', 8)\n",
    "        print('i12', 'dell', 16)\n",
    "\n",
    "lap1 = laptop()  \n",
    "lap1.config()"
   ]
  },
  {
   "cell_type": "code",
   "execution_count": 6,
   "id": "86bf50d2-9b38-4210-855f-6c7072ec6e00",
   "metadata": {},
   "outputs": [
    {
     "name": "stdout",
     "output_type": "stream",
     "text": [
      "i8 hp 8\n",
      "i12 dell 16\n"
     ]
    }
   ],
   "source": [
    "class laptop():\n",
    "    def config(self):                         # 'self' acts as an argument\n",
    "        print('i8', 'hp', 8)\n",
    "        print('i12', 'dell', 16)\n",
    "\n",
    "lap1 = laptop()  \n",
    "laptop.config(lap1)"
   ]
  },
  {
   "cell_type": "code",
   "execution_count": 7,
   "id": "824ca96a-b14e-41cd-9120-cc6ba38693f3",
   "metadata": {},
   "outputs": [
    {
     "name": "stdout",
     "output_type": "stream",
     "text": [
      "i8 hp 8\n",
      "i12 dell 16\n",
      "i8 hp 8\n",
      "i12 dell 16\n",
      "i8 hp 8\n",
      "i12 dell 16\n"
     ]
    }
   ],
   "source": [
    "class laptop():\n",
    "    def config(self): \n",
    "        print('i8', 'hp', 8)\n",
    "        print('i12', 'dell', 16)\n",
    "\n",
    "lap1 = laptop()  \n",
    "lap2 = laptop()\n",
    "lap3 = laptop()\n",
    "\n",
    "lap1.config()\n",
    "lap2.config()\n",
    "lap3.config()"
   ]
  },
  {
   "cell_type": "code",
   "execution_count": 8,
   "id": "8c3596cd-7586-46da-b524-95ac4ff06b74",
   "metadata": {},
   "outputs": [
    {
     "name": "stdout",
     "output_type": "stream",
     "text": [
      "<class 'float'>\n",
      "<class '__main__.computer'>\n"
     ]
    }
   ],
   "source": [
    "class computer:       \n",
    "    def config():      \n",
    "        print('i5', '8gb') \n",
    "    \n",
    "a = 8.8\n",
    "print(type(a))                           # Inbuilt class\n",
    "\n",
    "com1 = computer()                        # User-defined class\n",
    "print(type(com1))  "
   ]
  },
  {
   "cell_type": "markdown",
   "id": "12dcf18c-a26e-4328-b4f4-67e4fb1f65cb",
   "metadata": {},
   "source": [
    " # __name__, __init__"
   ]
  },
  {
   "cell_type": "code",
   "execution_count": 9,
   "id": "fb0954e0-5a48-4bd6-b287-e42f810265e2",
   "metadata": {},
   "outputs": [],
   "source": [
    "## __name__ = main function/main module\n",
    "## __init__ = special method, constructor"
   ]
  },
  {
   "cell_type": "code",
   "execution_count": 10,
   "id": "42fa6ee3-74ee-4c7b-bc06-80bd97c315cc",
   "metadata": {},
   "outputs": [],
   "source": [
    "class laptop():\n",
    "    def config(): \n",
    "        print('i8', 'hp', 8)\n",
    "        print('i12', 'dell', 16)\n",
    "\n",
    "lap1 = laptop()"
   ]
  },
  {
   "cell_type": "code",
   "execution_count": 11,
   "id": "a734bac8-036f-4af5-b106-5649b873d6fc",
   "metadata": {},
   "outputs": [
    {
     "name": "stdout",
     "output_type": "stream",
     "text": [
      "i8 hp 8\n",
      "i12 dell 16\n"
     ]
    }
   ],
   "source": [
    "class laptop():\n",
    "    def __init__(self):                 # __init__ = constructor\n",
    "        print('i8', 'hp', 8)\n",
    "        print('i12', 'dell', 16)\n",
    "\n",
    "lap = laptop()"
   ]
  },
  {
   "cell_type": "code",
   "execution_count": 12,
   "id": "3370fb8a-7867-4c3d-a41d-2d8fe0975a32",
   "metadata": {},
   "outputs": [
    {
     "name": "stdout",
     "output_type": "stream",
     "text": [
      "i8 hp 8\n",
      "i12 dell 16\n",
      "\n",
      "i8 hp 8\n",
      "i12 dell 16\n",
      "\n",
      "i8 hp 8\n",
      "i12 dell 16\n"
     ]
    }
   ],
   "source": [
    "class laptop():\n",
    "    def __init__(self): \n",
    "        print('i8', 'hp', 8)\n",
    "        print('i12', 'dell', 16)\n",
    "\n",
    "lap = laptop()\n",
    "print()\n",
    "lap3 = laptop()\n",
    "print()\n",
    "lap3.__init__()"
   ]
  },
  {
   "cell_type": "code",
   "execution_count": 13,
   "id": "8aae710b-1284-4752-aae3-38f02d1152bb",
   "metadata": {},
   "outputs": [
    {
     "name": "stdout",
     "output_type": "stream",
     "text": [
      "in init\n",
      "in init\n",
      "in init\n"
     ]
    }
   ],
   "source": [
    "class computer:        \n",
    "    \n",
    "    def __init__(self): #__init__ means initialize the varible\n",
    "        print('in init')\n",
    "        \n",
    "com1 = computer()\n",
    "com2 = computer()\n",
    "com3 = computer()"
   ]
  },
  {
   "cell_type": "code",
   "execution_count": 14,
   "id": "40db7e63-170f-42c5-bc7c-bcf767aa3518",
   "metadata": {},
   "outputs": [
    {
     "name": "stdout",
     "output_type": "stream",
     "text": [
      "in init\n",
      "i5 8gb\n"
     ]
    }
   ],
   "source": [
    "class computer():        \n",
    "    \n",
    "    def __init__(self):\n",
    "        print('in init')\n",
    "    \n",
    "    def config(self):     \n",
    "        print('i5', '8gb')\n",
    "\n",
    "com1 = computer()\n",
    "\n",
    "com1.config() "
   ]
  },
  {
   "cell_type": "code",
   "execution_count": 15,
   "id": "77fc4630-6f22-4230-938b-cfd777196bcb",
   "metadata": {},
   "outputs": [
    {
     "name": "stdout",
     "output_type": "stream",
     "text": [
      "in init\n",
      "in init\n",
      "i5 8gb\n"
     ]
    }
   ],
   "source": [
    "class computer():        \n",
    "    \n",
    "    def __init__(self):\n",
    "        print('in init')\n",
    "    \n",
    "    def config(self):     \n",
    "        print('i5', '8gb')\n",
    "\n",
    "com1 = computer()\n",
    "com2 = computer()\n",
    "\n",
    "com1.config() "
   ]
  },
  {
   "cell_type": "code",
   "execution_count": 16,
   "id": "4179f76c-5cd4-42d1-b983-ea20b0aa8cf1",
   "metadata": {},
   "outputs": [
    {
     "name": "stdout",
     "output_type": "stream",
     "text": [
      "in init\n",
      "in init\n",
      "i5 8gb\n",
      "i5 8gb\n"
     ]
    }
   ],
   "source": [
    "class computer():        \n",
    "    \n",
    "    def __init__(self):          # idea behind init is it will call automatically\n",
    "        print('in init')         # i define a function called init & i am not calling init\n",
    "    \n",
    "    def config(self):            # i m calling config cuz i want to execute\n",
    "        print('i5', '8gb')\n",
    "\n",
    "com1 = computer() # as we create 2 object automatically init called 2 times\n",
    "com2 = computer()\n",
    "\n",
    "com1.config() \n",
    "com2.config()"
   ]
  },
  {
   "cell_type": "code",
   "execution_count": 17,
   "id": "4c432a31-ec3c-4580-96ae-006c4af277d1",
   "metadata": {},
   "outputs": [
    {
     "ename": "TypeError",
     "evalue": "computer.__init__() takes 1 positional argument but 3 were given",
     "output_type": "error",
     "traceback": [
      "\u001b[1;31m---------------------------------------------------------------------------\u001b[0m",
      "\u001b[1;31mTypeError\u001b[0m                                 Traceback (most recent call last)",
      "Cell \u001b[1;32mIn[17], line 9\u001b[0m\n\u001b[0;32m      6\u001b[0m     \u001b[38;5;28;01mdef\u001b[39;00m \u001b[38;5;21mconfig\u001b[39m(\u001b[38;5;28mself\u001b[39m):     \n\u001b[0;32m      7\u001b[0m         \u001b[38;5;28mprint\u001b[39m(\u001b[38;5;124m'\u001b[39m\u001b[38;5;124mi5\u001b[39m\u001b[38;5;124m'\u001b[39m, \u001b[38;5;124m'\u001b[39m\u001b[38;5;124m8gb\u001b[39m\u001b[38;5;124m'\u001b[39m)\n\u001b[1;32m----> 9\u001b[0m lap1 \u001b[38;5;241m=\u001b[39m computer(\u001b[38;5;124m'\u001b[39m\u001b[38;5;124mi5\u001b[39m\u001b[38;5;124m'\u001b[39m, \u001b[38;5;241m8\u001b[39m)               \u001b[38;5;66;03m# com1 has cpu i5 & ram is 8 \u001b[39;00m\n\u001b[0;32m     10\u001b[0m lap2 \u001b[38;5;241m=\u001b[39m computer(\u001b[38;5;124m'\u001b[39m\u001b[38;5;124mi7\u001b[39m\u001b[38;5;124m'\u001b[39m, \u001b[38;5;241m16\u001b[39m)              \u001b[38;5;66;03m# com2 has cpu intel 5 & ram is 8 as we have 2 computer we have different ram & cpt\u001b[39;00m\n\u001b[0;32m     12\u001b[0m lap1\u001b[38;5;241m.\u001b[39mconfig() \n",
      "\u001b[1;31mTypeError\u001b[0m: computer.__init__() takes 1 positional argument but 3 were given"
     ]
    }
   ],
   "source": [
    "class computer():        \n",
    "    \n",
    "    def __init__(self):                #__init__ means to initialize the variable\n",
    "        print('in init')\n",
    "    \n",
    "    def config(self):     \n",
    "        print('i5', '8gb')\n",
    "\n",
    "lap1 = computer('i5', 8)               # com1 has cpu i5 & ram is 8 \n",
    "lap2 = computer('i7', 16)              # com2 has cpu intel 5 & ram is 8 as we have 2 computer we have different ram & cpt\n",
    "\n",
    "lap1.config() \n",
    "lap2.config()"
   ]
  },
  {
   "cell_type": "code",
   "execution_count": 18,
   "id": "c6b21e5d-512a-4012-8772-e28de40ba129",
   "metadata": {},
   "outputs": [
    {
     "name": "stdout",
     "output_type": "stream",
     "text": [
      "in init\n",
      "in init\n",
      "i5 8gb\n",
      "i7 16gb\n",
      "i5 8gb\n",
      "i7 16gb\n"
     ]
    }
   ],
   "source": [
    "class computer():        \n",
    "    \n",
    "    def __init__(self,cpu,ram): #__init__ means to initialize the variable\n",
    "        print('in init')\n",
    "    \n",
    "    def config(self):     \n",
    "        print('i5', '8gb')\n",
    "        print('i7', '16gb')\n",
    "\n",
    "lap1 = computer('i5', 8) # com1 has cpu i5 & ram is 8 \n",
    "lap2 = computer('i7', 16) # com2 has cpu intel 5 & ram is 8 as we have 2 computer we have different ram & cpt\n",
    "\n",
    "lap1.config() \n",
    "lap2.config()"
   ]
  },
  {
   "cell_type": "code",
   "execution_count": 19,
   "id": "f9e23b87-c757-4538-9842-12f81088cd06",
   "metadata": {},
   "outputs": [
    {
     "name": "stdout",
     "output_type": "stream",
     "text": [
      "laptop config is:  i5 8 32000\n",
      "laptop config is:  i7 16 64000\n",
      "1915284034800\n",
      "1915287793792\n"
     ]
    }
   ],
   "source": [
    "class computer():        \n",
    "    \n",
    "    def __init__(self,cpu, ram, price): # cpu & ram as argument\n",
    "        self.cpu = cpu #hear self is the object & we need to refer to the object\n",
    "        self.ram = ram \n",
    "        self.price = price \n",
    "\n",
    "    def config(self):     \n",
    "        print('laptop config is: ', self.cpu, self.ram, self.price)\n",
    "\n",
    "com1 = computer('i5', 8, 32000)\n",
    "com2 = computer('i7', 16, 64000)\n",
    "\n",
    "\n",
    "com1.config() \n",
    "com2.config()\n",
    "\n",
    "print(id(com1))\n",
    "print(id(com2))"
   ]
  },
  {
   "cell_type": "markdown",
   "id": "cb7911d8-6388-485f-bf6e-a45c614ab2d5",
   "metadata": {},
   "source": [
    "# --------------------------------------------------------------------------------------"
   ]
  },
  {
   "cell_type": "code",
   "execution_count": 20,
   "id": "c65e998d-8453-42f6-87dd-2e865daa8dc2",
   "metadata": {},
   "outputs": [
    {
     "ename": "IndentationError",
     "evalue": "expected an indented block after class definition on line 1 (1763855309.py, line 3)",
     "output_type": "error",
     "traceback": [
      "\u001b[1;36m  Cell \u001b[1;32mIn[20], line 3\u001b[1;36m\u001b[0m\n\u001b[1;33m    c1 = computer()\u001b[0m\n\u001b[1;37m    ^\u001b[0m\n\u001b[1;31mIndentationError\u001b[0m\u001b[1;31m:\u001b[0m expected an indented block after class definition on line 1\n"
     ]
    }
   ],
   "source": [
    "class computer:  \n",
    "   \n",
    "c1 = computer() \n",
    "print(id(c1))\n",
    "\n",
    "# No method, so class won't run"
   ]
  },
  {
   "cell_type": "code",
   "execution_count": null,
   "id": "9e4f9cb5-9ecb-4426-99aa-4d1a1f94fa5b",
   "metadata": {},
   "outputs": [],
   "source": [
    "class computer:  \n",
    "    pass\n",
    "   \n",
    "c1 = computer() \n",
    "print(id(c1))"
   ]
  },
  {
   "cell_type": "code",
   "execution_count": null,
   "id": "c956afa2-e319-46a4-9f38-fa06ce8d1453",
   "metadata": {},
   "outputs": [],
   "source": [
    "class computer:\n",
    "    pass\n",
    "\n",
    "c1 = computer()\n",
    "c2 = computer()\n",
    "\n",
    "print(id(c1))\n",
    "print(id(c2))\n",
    "\n",
    "# Different addrresses "
   ]
  },
  {
   "cell_type": "code",
   "execution_count": null,
   "id": "993080f5-1ced-4030-a24d-267795f331d2",
   "metadata": {},
   "outputs": [],
   "source": [
    "class computer:\n",
    "    def __init__(self):\n",
    "        self.name = 'akash'\n",
    "        self.age = 37\n",
    "\n",
    "c1 = computer()\n",
    "c2 = computer()\n",
    "\n",
    "print(c1.name,c1.age)\n",
    "print(c2.name)"
   ]
  },
  {
   "cell_type": "code",
   "execution_count": 21,
   "id": "409ac6cf-c41d-46d0-a20c-859cc3a89140",
   "metadata": {},
   "outputs": [
    {
     "name": "stdout",
     "output_type": "stream",
     "text": [
      "Sonny 37\n",
      "Tyler 40\n"
     ]
    }
   ],
   "source": [
    "class computer:\n",
    "    def __init__(self):\n",
    "        self.name = 'akash'\n",
    "        self.age = 37\n",
    "\n",
    "c1 = computer()\n",
    "c2 = computer()\n",
    "\n",
    "c2.name = 'Tyler'\n",
    "c2.age = 40\n",
    "c1.name = 'Sonny'\n",
    "c1.age = 37\n",
    "\n",
    "\n",
    "print(c1.name, c1.age)\n",
    "print(c2.name, c2.age)"
   ]
  },
  {
   "cell_type": "markdown",
   "id": "421dcdb9-b8ca-4373-a794-eb9cb9b52755",
   "metadata": {},
   "source": [
    "# Encapsulation"
   ]
  },
  {
   "cell_type": "code",
   "execution_count": 22,
   "id": "0900002f-6c1b-4ce8-9306-4e9db1a88bb0",
   "metadata": {},
   "outputs": [
    {
     "name": "stdout",
     "output_type": "stream",
     "text": [
      "bmw 10\n",
      "bmw 10\n",
      "1915290047536\n",
      "1915284039072\n"
     ]
    }
   ],
   "source": [
    "class car:\n",
    "    def __init__(self):\n",
    "        self.mil = 10                # Instance Variable\n",
    "        self.com = 'bmw'             # Instance Variable\n",
    "        \n",
    "c1 = car()\n",
    "c2 = car()\n",
    "\n",
    "print(c1.com, c1.mil)\n",
    "print(c2.com, c2.mil)\n",
    "\n",
    "print(id(c1))\n",
    "print(id(c2))"
   ]
  },
  {
   "cell_type": "code",
   "execution_count": 23,
   "id": "e0693c2f-2994-4703-8401-260588d07306",
   "metadata": {},
   "outputs": [
    {
     "name": "stdout",
     "output_type": "stream",
     "text": [
      "maruti 20\n",
      "bmw 10\n",
      "1915290773616\n",
      "1915290047536\n"
     ]
    }
   ],
   "source": [
    "class car:\n",
    "    def __init__(self):\n",
    "        self.mil = 10\n",
    "        self.com = 'bmw'\n",
    "        \n",
    "c1 = car()\n",
    "c2 = car()\n",
    "\n",
    "c1.com = 'maruti'\n",
    "c1.mil = 20 \n",
    "\n",
    "print(c1.com, c1.mil)\n",
    "print(c2.com, c2.mil)\n",
    "\n",
    "print(id(c1))\n",
    "print(id(c2))"
   ]
  },
  {
   "cell_type": "code",
   "execution_count": 24,
   "id": "cddb5219-40a2-4040-affd-34c237d076d3",
   "metadata": {},
   "outputs": [
    {
     "name": "stdout",
     "output_type": "stream",
     "text": [
      "bmw 10 5\n",
      "bmw 8 5\n"
     ]
    }
   ],
   "source": [
    "class car:\n",
    "    \n",
    "    wheels = 5                                  # Class Variable\n",
    "    \n",
    "    def __init__(self):\n",
    "        self.mil = 10                           # Instance Variable\n",
    "        self.com = 'bmw'                        # Instance Variable\n",
    "        \n",
    "c1 = car()\n",
    "c2 = car()\n",
    "\n",
    "c2.mil = 8\n",
    "\n",
    "print(c1.com, c1.mil, c1.wheels)\n",
    "print(c2.com, c2.mil, c2.wheels)"
   ]
  },
  {
   "cell_type": "code",
   "execution_count": 25,
   "id": "e5d7f7be-02a6-44b2-bc3e-06c2543b1edf",
   "metadata": {},
   "outputs": [
    {
     "name": "stdout",
     "output_type": "stream",
     "text": [
      "bmw 10 6\n",
      "bmw 8 7\n"
     ]
    }
   ],
   "source": [
    "class car:\n",
    "    wheels = 6\n",
    "    \n",
    "    def __init__(self):\n",
    "        self.mil = 10\n",
    "        self.com = 'bmw'\n",
    "        \n",
    "c1 = car()\n",
    "c2 = car()\n",
    "\n",
    "c2.mil = 8\n",
    "c2.wheels = 7\n",
    "\n",
    "print(c1.com, c1.mil, c1.wheels)\n",
    "print(c2.com, c2.mil, c2.wheels)"
   ]
  },
  {
   "cell_type": "code",
   "execution_count": 26,
   "id": "ced6f608-07a0-4f19-b6e6-6dffceed83e8",
   "metadata": {},
   "outputs": [
    {
     "name": "stdout",
     "output_type": "stream",
     "text": [
      "20.0\n",
      "10.0\n"
     ]
    }
   ],
   "source": [
    "class student: \n",
    "        \n",
    "    school = 'nit'                   #school is class variable\n",
    "    \n",
    "    def __init__(self, m1, m2, m3) : # here i pass 3 variable (m1,m2,m3 are instance variable)\n",
    "        self.m1 = m1\n",
    "        self.m2 = m2\n",
    "        self.m3 = m3\n",
    "        \n",
    "    # lets create a method to calculate average of the marks \n",
    "    def avg(self):                   # ------> here this average is INSTANCE METHOD \n",
    "        return (self.m1+self.m2+self.m3)/3\n",
    "    \n",
    "# lets create  object here as we created s1, s2 we created 2 object & also i want to pass value in this  \n",
    "s1 = student(10, 20, 30)\n",
    "s2 = student(5, 15, 10)\n",
    "\n",
    "print(s1.avg())\n",
    "print(s2.avg())"
   ]
  },
  {
   "cell_type": "code",
   "execution_count": 27,
   "id": "24992b06-2a0f-44e3-9d61-cd7abfec72b0",
   "metadata": {},
   "outputs": [
    {
     "name": "stdout",
     "output_type": "stream",
     "text": [
      "20.0\n",
      "10.0\n",
      "10\n"
     ]
    }
   ],
   "source": [
    "class student: \n",
    "        \n",
    "    school = 'nit'\n",
    "    \n",
    "    def __init__(self, m1, m2, m3) : # hear i pass 3 variable \n",
    "        self.m1 = m1\n",
    "        self.m2 = m2\n",
    "        self.m3 = m3\n",
    "    #lets create a method to calculate the average of the marks \n",
    "    def avg(self):                   # ------> here this average is an INSTANCE METHOD \n",
    "        return (self.m1+self.m2+self.m3)/3\n",
    "    \n",
    "# lets create  object hear as we created s1, s2 we created 2 object & also i want to pass value in this  \n",
    "s1 = student(10, 20, 30)\n",
    "s2 = student(5, 15, 10)\n",
    "\n",
    "print(s1.avg())\n",
    "print(s2.avg())\n",
    "\n",
    "# we also get the value like this & rather we can print like this we also define method \n",
    "print(s1.m1)\n"
   ]
  },
  {
   "cell_type": "code",
   "execution_count": 28,
   "id": "f5e451a9-99dd-439d-985d-64580f41ad00",
   "metadata": {},
   "outputs": [
    {
     "name": "stdout",
     "output_type": "stream",
     "text": [
      "20.0\n",
      "10.0\n",
      "nit\n",
      "nit\n"
     ]
    }
   ],
   "source": [
    "class student: \n",
    "        \n",
    "    school = 'nit'\n",
    "    \n",
    "    def __init__(self, m1, m2, m3) : # here i pass 3 variable \n",
    "        self.m1 = m1\n",
    "        self.m2 = m2\n",
    "        self.m3 = m3\n",
    "    # Let's create a method to calculate the average of the marks \n",
    "    def avg(self):                   # ------> here this average is INSTANCE METHOD \n",
    "        return (self.m1+self.m2+self.m3)/3\n",
    "    \n",
    "    def info(cls):                   # user needs to define cls - for class variable \n",
    "        return cls.school \n",
    "        \n",
    "# lets create  object hear as we created s1, s2 we created 2 object & also i want to pass value in this  \n",
    "s1 = student(10, 20, 30)\n",
    "s2 = student(5, 15, 10)\n",
    "\n",
    "print(s1.avg())\n",
    "print(s2.avg())\n",
    "\n",
    "print(s1.info())\n",
    "print(s2.info())"
   ]
  },
  {
   "cell_type": "markdown",
   "id": "8e7d2379-2fd8-4cf1-bcd1-a90644a569f7",
   "metadata": {},
   "source": [
    "#### Decorator (used to create Class Method)"
   ]
  },
  {
   "cell_type": "code",
   "execution_count": 29,
   "id": "0aec5324-99a7-49de-85b3-cb6e4dd01831",
   "metadata": {},
   "outputs": [
    {
     "name": "stdout",
     "output_type": "stream",
     "text": [
      "20.0\n",
      "10.0\n",
      "nit\n",
      "nit\n"
     ]
    },
    {
     "ename": "TypeError",
     "evalue": "student.info() missing 1 required positional argument: 'cls'",
     "output_type": "error",
     "traceback": [
      "\u001b[1;31m---------------------------------------------------------------------------\u001b[0m",
      "\u001b[1;31mTypeError\u001b[0m                                 Traceback (most recent call last)",
      "Cell \u001b[1;32mIn[29], line 26\u001b[0m\n\u001b[0;32m     23\u001b[0m \u001b[38;5;28mprint\u001b[39m(s1\u001b[38;5;241m.\u001b[39minfo())\n\u001b[0;32m     24\u001b[0m \u001b[38;5;28mprint\u001b[39m(s2\u001b[38;5;241m.\u001b[39minfo())\n\u001b[1;32m---> 26\u001b[0m \u001b[38;5;28mprint\u001b[39m(student\u001b[38;5;241m.\u001b[39minfo())\n\u001b[0;32m     27\u001b[0m \u001b[38;5;28mprint\u001b[39m(student\u001b[38;5;241m.\u001b[39minfo())\n",
      "\u001b[1;31mTypeError\u001b[0m: student.info() missing 1 required positional argument: 'cls'"
     ]
    }
   ],
   "source": [
    "class student: \n",
    "        \n",
    "    school = 'nit'\n",
    "    \n",
    "    def __init__(self, m1, m2, m3) : # here i pass 3 variable \n",
    "        self.m1 = m1\n",
    "        self.m2 = m2\n",
    "        self.m3 = m3\n",
    "    # Let's create a method to calculate the average of the marks \n",
    "    def avg(self):                   # ------> here this average is INSTANCE METHOD \n",
    "        return (self.m1+self.m2+self.m3)/3\n",
    "    \n",
    "    def info(cls):                   # user needs to define cls - for class variable \n",
    "        return cls.school \n",
    "        \n",
    "# lets create  object hear as we created s1, s2 we created 2 object & also i want to pass value in this  \n",
    "s1 = student(10, 20, 30)\n",
    "s2 = student(5, 15, 10)\n",
    "\n",
    "print(s1.avg())\n",
    "print(s2.avg())\n",
    "\n",
    "print(s1.info())\n",
    "print(s2.info())\n",
    "\n",
    "print(student.info())\n",
    "print(student.info())"
   ]
  },
  {
   "cell_type": "code",
   "execution_count": null,
   "id": "dc7a4735-4ea4-4f8f-8377-4980028a87cc",
   "metadata": {},
   "outputs": [],
   "source": [
    "class student: \n",
    "        \n",
    "    school = 'nit'\n",
    "    \n",
    "    def __init__(self, m1, m2, m3) : # here i pass 3 variable \n",
    "        self.m1 = m1\n",
    "        self.m2 = m2\n",
    "        self.m3 = m3\n",
    "    # Let's create a method to calculate the average of the marks \n",
    "    def avg(self):                   # ------> here this average is INSTANCE METHOD \n",
    "        return (self.m1+self.m2+self.m3)/3\n",
    "\n",
    "    @classmethod                     # DECORATOR\n",
    "    def info(cls):                   # user needs to define cls - for class variable \n",
    "        return cls.school \n",
    "        \n",
    "# lets create  object hear as we created s1, s2 we created 2 object & also i want to pass value in this  \n",
    "s1 = student(10, 20, 30)\n",
    "s2 = student(5, 15, 10)\n",
    "\n",
    "print(s1.avg())\n",
    "print(s2.avg())\n",
    "\n",
    "print(s1.info())\n",
    "print(s2.info())\n",
    "\n",
    "print(student.info())\n",
    "print(student.info())"
   ]
  },
  {
   "cell_type": "code",
   "execution_count": null,
   "id": "48c1182d-935e-4b35-90c6-4c277f07a8c8",
   "metadata": {},
   "outputs": [],
   "source": [
    "class student: \n",
    "        \n",
    "    school = 'nit'\n",
    "    \n",
    "    def __init__(self, m1, m2, m3) : # hear i pass 3 variable \n",
    "        self.m1 = m1\n",
    "        self.m2 = m2\n",
    "        self.m3 = m3\n",
    "    # lets create a method to calculate average of the marks \n",
    "    def avg(self):                   # ------> here this average is INSTANCE METHOD \n",
    "        return (self.m1+self.m2+self.m3)/3\n",
    "    \n",
    "    @classmethod\n",
    "    def getSchool(cls):\n",
    "        return cls.school\n",
    "    \n",
    "    @staticmethod                    # this student class nothing to do any class & for that also u need to pass speciasl decorator\n",
    "    def info():\n",
    "        print('this is student class') \n",
    "        \n",
    "# lets create  object hear as we created s1, s2 we created 2 object & also i want to pass value in this  \n",
    "s1 = student(10, 20, 30)\n",
    "s2 = student(5, 15, 10)\n",
    "\n",
    "print(s1.avg())\n",
    "print(s2.avg())\n",
    "\n",
    "print(student.getSchool())\n",
    "\n",
    "student.info()"
   ]
  },
  {
   "cell_type": "markdown",
   "id": "2ec8def9-69c6-47e3-a1ab-0f2ebc82af26",
   "metadata": {},
   "source": [
    "#### Inner Class (class inside class)"
   ]
  },
  {
   "cell_type": "code",
   "execution_count": null,
   "id": "34588e7d-f602-4e21-8759-952fed8c7a3d",
   "metadata": {},
   "outputs": [],
   "source": [
    "class student:\n",
    "    def __init__(self, name, rollno):\n",
    "        self.name = name\n",
    "        self.rollno = rollno\n",
    "     \n",
    "s1 = student('a',1)\n",
    "s2 = student('b',2)\n",
    "\n",
    "print(s1.name, s1.rollno) \n",
    "print(s2.name, s2.rollno) "
   ]
  },
  {
   "cell_type": "code",
   "execution_count": null,
   "id": "929bf842-dc00-45ec-9bfb-c12f4a0f8ca1",
   "metadata": {},
   "outputs": [],
   "source": [
    "class student:\n",
    "    def __init__(self, name, rollno, laptop, cpu, ram):\n",
    "        self.name = name\n",
    "        self.rollno = rollno\n",
    "        self.laptop = laptop\n",
    "        self.cpu = cpu\n",
    "        self.ram = ram\n",
    "        \n",
    "    def show(self):\n",
    "        print(s1.name, s1.rollno,s1.laptop, s1.cpu, s1.ram)\n",
    "        print(s2.name, s2.rollno,s2.laptop, s2.cpu, s2.ram)\n",
    "\n",
    "s1 = student('a',1,'lenovo','i5',8) # the moment when we assign the variable we need to assign the class as well \n",
    "s2 = student('b',2,'hp','i7',16)\n",
    "\n",
    "s2.show()"
   ]
  },
  {
   "cell_type": "code",
   "execution_count": 30,
   "id": "2a587a44-a22b-4392-b5c1-4834b154cd75",
   "metadata": {},
   "outputs": [
    {
     "name": "stdout",
     "output_type": "stream",
     "text": [
      "a 1\n",
      "b 2\n",
      "1915304653600\n",
      "1915304656048\n"
     ]
    }
   ],
   "source": [
    "class student:\n",
    "    def __init__(self, name, rollno):\n",
    "        self.name = name\n",
    "        self.rollno = rollno\n",
    "        \n",
    "        self.lap = self.LAPTOP()           # in outerclass we define the variable\n",
    "        \n",
    "    def show(self):\n",
    "        print(self.name, self.rollno)\n",
    "\n",
    "    # INNER CLASS\n",
    "    class LAPTOP:\n",
    "        def __init__(self):\n",
    "            self.brand = 'hp'\n",
    "            self.cpu = 'i5'\n",
    "            self.ram = 8\n",
    "     \n",
    "s1 = student('a',1)                       # the moment when we assign the variable we need to assign the class as well \n",
    "s2 = student('b',2)\n",
    "\n",
    "s1.show()\n",
    "s2.show()\n",
    "\n",
    "\n",
    "lap1 = s1.lap\n",
    "lap2 = s2.lap\n",
    "\n",
    "\n",
    "print(id(lap1))\n",
    "print(id(lap2))"
   ]
  },
  {
   "cell_type": "markdown",
   "id": "d45abbd6-1a3b-4db9-a390-6117442437ad",
   "metadata": {},
   "source": [
    "# --------------------------------------------------------------------------------------"
   ]
  },
  {
   "cell_type": "markdown",
   "id": "d2c54093-ec35-4209-903c-8d9cec3b7ff4",
   "metadata": {},
   "source": [
    "# Inheritence "
   ]
  },
  {
   "cell_type": "code",
   "execution_count": 31,
   "id": "fc4e0718-e654-4c0f-9930-04d32baebfa4",
   "metadata": {},
   "outputs": [
    {
     "name": "stdout",
     "output_type": "stream",
     "text": [
      "feature1 is hi\n",
      "feature2 is hi\n"
     ]
    }
   ],
   "source": [
    "class A() : \n",
    "    def feature1(self):                 # lets take example class A has 2 feature1 & feature 2\n",
    "        print('feature1 is hi')\n",
    "    def feature2(self):\n",
    "        print('feature2 is hi')\n",
    "\n",
    "    # you access the feature via objects\n",
    "\n",
    "a1 = A()                                # a1 is the object & A is constructor & using a1 we can call the feature1 & feature 2\n",
    "\n",
    "a1.feature1()\n",
    "a1.feature2()"
   ]
  },
  {
   "cell_type": "code",
   "execution_count": 32,
   "id": "e2faf029-439b-4610-afce-b4b191796908",
   "metadata": {},
   "outputs": [
    {
     "name": "stdout",
     "output_type": "stream",
     "text": [
      "feature1 is hi\n",
      "feature2 is hi\n",
      "feature3 is hello\n"
     ]
    }
   ],
   "source": [
    "# SINGLE LEVEL INHERITENCE (1 Parent, 1 Child)\n",
    "\n",
    "class A() : \n",
    "    def feature1(self):                 # lets take example class A has 2 feature1 & feature 2\n",
    "        print('feature1 is hi')\n",
    "    def feature2(self):\n",
    "        print('feature2 is hi')\n",
    "\n",
    "class B(A):\n",
    "    def feature3(self):\n",
    "        print('feature3 is hello')\n",
    "    def feature4(self):\n",
    "        print('feature4 is hello')      \n",
    "\n",
    "    # you access the feature via objects\n",
    "\n",
    "a1 = A()                                # a1 is the object & A is constructor & using a1 we can call the feature1 & feature 2\n",
    "b1 = B()\n",
    "\n",
    "a1.feature1()\n",
    "b1.feature2()\n",
    "b1.feature3()"
   ]
  },
  {
   "cell_type": "code",
   "execution_count": 33,
   "id": "10ddff27-83c2-4989-8570-edeb374984e5",
   "metadata": {},
   "outputs": [
    {
     "name": "stdout",
     "output_type": "stream",
     "text": [
      "feature1 is hi\n",
      "feature2 is hallo\n",
      "feature3 is how are you\n"
     ]
    }
   ],
   "source": [
    "# MULTI LEVEL INHERITENCE (A--->B--->C)\n",
    "\n",
    "class A:\n",
    "    def feature1(self):\n",
    "        print(\"feature1 is hi\")\n",
    "\n",
    "class B(A):   # B inherits from A\n",
    "    def feature2(self):\n",
    "        print(\"feature2 is hallo\")\n",
    "\n",
    "class C(B):   # C inherits from B (and indirectly A)\n",
    "    def feature3(self):\n",
    "        print(\"feature3 is how are you\")\n",
    "\n",
    "c1 = C()\n",
    "c1.feature1()  # from A\n",
    "c1.feature2()  # from B\n",
    "c1.feature3()  # from C\n"
   ]
  },
  {
   "cell_type": "code",
   "execution_count": 34,
   "id": "244b424e-2220-49b8-9ca4-f9e8f50b58c2",
   "metadata": {},
   "outputs": [
    {
     "name": "stdout",
     "output_type": "stream",
     "text": [
      "feature1 from A\n",
      "feature2 from B\n",
      "feature3 from C\n"
     ]
    }
   ],
   "source": [
    "# MULTIPLE INHERITENCE (1 Child, multiple Parents)\n",
    "\n",
    "class A:\n",
    "    def feature1(self):\n",
    "        print(\"feature1 from A\")\n",
    "\n",
    "class B:\n",
    "    def feature2(self):\n",
    "        print(\"feature2 from B\")\n",
    "\n",
    "class C(A, B):   # inherits from both A and B\n",
    "    def feature3(self):\n",
    "        print(\"feature3 from C\")\n",
    "\n",
    "c1 = C()\n",
    "c1.feature1()   # from A\n",
    "c1.feature2()   # from B\n",
    "c1.feature3()   # from C"
   ]
  },
  {
   "cell_type": "code",
   "execution_count": 35,
   "id": "cef300e7-d9b2-45b7-b412-d2da4886cee3",
   "metadata": {},
   "outputs": [
    {
     "name": "stdout",
     "output_type": "stream",
     "text": [
      "feature1 from A\n",
      "feature2 from B\n",
      "feature1 from A\n",
      "feature3 from C\n"
     ]
    }
   ],
   "source": [
    "# HIERARCHICAL INHERITENCE (1 Parent, multiple Childs)\n",
    "\n",
    "class A:\n",
    "    def feature1(self):\n",
    "        print(\"feature1 from A\")\n",
    "\n",
    "class B(A):   # child 1\n",
    "    def feature2(self):\n",
    "        print(\"feature2 from B\")\n",
    "\n",
    "class C(A):   # child 2\n",
    "    def feature3(self):\n",
    "        print(\"feature3 from C\")\n",
    "\n",
    "b1 = B()\n",
    "c1 = C()\n",
    "\n",
    "b1.feature1()  # from A\n",
    "b1.feature2()  # from B\n",
    "c1.feature1()  # from A\n",
    "c1.feature3()  # from C"
   ]
  },
  {
   "cell_type": "markdown",
   "id": "91bd5d06-0605-4bb2-994f-c82c06435d3f",
   "metadata": {},
   "source": [
    "#### Constructor Inheritence"
   ]
  },
  {
   "cell_type": "code",
   "execution_count": 36,
   "id": "a3a13ab5-d6dc-4b9b-97e0-121900dffda7",
   "metadata": {},
   "outputs": [
    {
     "name": "stdout",
     "output_type": "stream",
     "text": [
      "in A init\n",
      "in A init\n"
     ]
    }
   ],
   "source": [
    "class A():\n",
    "    def __init__(self):                 # __init__\n",
    "        print('in A init')\n",
    "    def feature1(self):         \n",
    "        print('feature1 is hi')\n",
    "    def feature2(self):\n",
    "        print('feature2 is hi')\n",
    "\n",
    "class B(A):\n",
    "    def feature3(self):         \n",
    "        print('feature3 is hallo')\n",
    "    def feature4(self):\n",
    "        print('feature4 is hallo')\n",
    "        \n",
    "a1 = A()                                # A is a constructor\n",
    "b1 = B()                                # B is a constructor"
   ]
  },
  {
   "cell_type": "code",
   "execution_count": 37,
   "id": "40cb9213-2f37-4579-ad0c-58339b1b851e",
   "metadata": {},
   "outputs": [
    {
     "name": "stdout",
     "output_type": "stream",
     "text": [
      "in A init\n"
     ]
    }
   ],
   "source": [
    "class A():\n",
    "    def __init__(self):                 # __init__\n",
    "        print('in A init')\n",
    "    def feature1(self):         \n",
    "        print('feature1 is hi')\n",
    "    def feature2(self):\n",
    "        print('feature2 is hi')\n",
    "\n",
    "class B(A):\n",
    "    def feature3(self):         \n",
    "        print('feature3 is hallo')\n",
    "    def feature4(self):\n",
    "        print('feature4 is hallo')\n",
    "        \n",
    "b1 = B()                                # B is a constructor\n",
    "# When the Child class DOESNT have __init__ then the __init__ of the Parent class IS inherited to the Child class"
   ]
  },
  {
   "cell_type": "code",
   "execution_count": 38,
   "id": "4819333c-5c02-4cfa-8524-3aa56e39729a",
   "metadata": {},
   "outputs": [
    {
     "name": "stdout",
     "output_type": "stream",
     "text": [
      "in A init\n",
      "in B init\n"
     ]
    }
   ],
   "source": [
    "class A() :\n",
    "    def __init__(self):\n",
    "        print('in A init')\n",
    "    def feature1(self):         \n",
    "        print('feature1 is hi')\n",
    "    def feature2(self):\n",
    "        print('feature2 is hi')\n",
    "\n",
    "class B():\n",
    "    def __init__(self):\n",
    "        print('in B init')\n",
    "    def feature3(self):         \n",
    "        print('feature3 is hallo')\n",
    "    def feature4(self):\n",
    "        print('feature4 is hallo')\n",
    "\n",
    "a1 = A()\n",
    "b1 = B() "
   ]
  },
  {
   "cell_type": "code",
   "execution_count": 39,
   "id": "e12caa52-d2c9-4634-bde8-3113c23e3358",
   "metadata": {},
   "outputs": [
    {
     "name": "stdout",
     "output_type": "stream",
     "text": [
      "in A init\n",
      "in B init\n"
     ]
    }
   ],
   "source": [
    "class A() :\n",
    "    def __init__(self):\n",
    "        print('in A init')\n",
    "    def feature1(self):         \n",
    "        print('feature1 is hi')\n",
    "    def feature2(self):\n",
    "        print('feature2 is hi')\n",
    "\n",
    "class B(A):\n",
    "    def __init__(self):\n",
    "        print('in B init')\n",
    "    def feature3(self):         \n",
    "        print('feature3 is hallo')\n",
    "    def feature4(self):\n",
    "        print('feature4 is hallo')\n",
    "\n",
    "a1 = A()\n",
    "b1 = B() "
   ]
  },
  {
   "cell_type": "code",
   "execution_count": 40,
   "id": "8bf5d825-6840-49fe-ae4e-96a04a157187",
   "metadata": {},
   "outputs": [
    {
     "name": "stdout",
     "output_type": "stream",
     "text": [
      "in B init\n"
     ]
    }
   ],
   "source": [
    "class A() :\n",
    "    def __init__(self):\n",
    "        print('in A init')\n",
    "    def feature1(self):         \n",
    "        print('feature1 is hi')\n",
    "    def feature2(self):\n",
    "        print('feature2 is hi')\n",
    "\n",
    "class B(A):\n",
    "    def __init__(self):\n",
    "        print('in B init')\n",
    "    def feature3(self):         \n",
    "        print('feature3 is hallo')\n",
    "    def feature4(self):\n",
    "        print('feature4 is hallo')\n",
    "\n",
    "b1 = B() \n",
    "# When the child class doesnt have __init__ then the __init__ of the Parent class is inherited to the Child class\n",
    "# But when the Child class itself has an __init__ then the __init__ of the Parent Class ISNT inherited"
   ]
  },
  {
   "cell_type": "markdown",
   "id": "eb38e9e4-162d-4621-95fb-a091eeba7376",
   "metadata": {},
   "source": [
    "#### super() function"
   ]
  },
  {
   "cell_type": "code",
   "execution_count": 41,
   "id": "f5d6cd69-bfbc-40cd-8160-d1b93a624619",
   "metadata": {},
   "outputs": [
    {
     "name": "stdout",
     "output_type": "stream",
     "text": [
      "in A init\n",
      "in B init\n"
     ]
    }
   ],
   "source": [
    "# Super Function ensures that the __init of the Parent class is inherited first when the Child class also has an __init__\n",
    "\n",
    "class A() :\n",
    "    def __init__(self):\n",
    "        print('in A init')\n",
    "    def feature1(self):         \n",
    "        print('feature1 is hi')\n",
    "    def feature2(self):\n",
    "        print('feature2 is hi')\n",
    "\n",
    "class B(A):\n",
    "    def __init__(self):\n",
    "        super().__init__()                          # SUPER FUNCTION\n",
    "        print('in B init')\n",
    "    def feature3(self):         \n",
    "        print('feature3 is hallo')\n",
    "    def feature4(self):\n",
    "        print('feature4 is hallo')\n",
    "\n",
    "b1 = B() "
   ]
  },
  {
   "cell_type": "markdown",
   "id": "716092df-5982-4b3e-ba4a-3d642d50cba7",
   "metadata": {},
   "source": [
    "# Polymorphism"
   ]
  },
  {
   "cell_type": "markdown",
   "id": "069798b9-1399-45b3-b1eb-016553990b3c",
   "metadata": {},
   "source": [
    "#### Duck Test/Duck Typing"
   ]
  },
  {
   "cell_type": "code",
   "execution_count": 42,
   "id": "d160a5b9-a4c1-4ee0-bf8a-758a6042100f",
   "metadata": {},
   "outputs": [
    {
     "name": "stdout",
     "output_type": "stream",
     "text": [
      "i am duck & i can swim\n",
      "quack quack\n",
      "informatation\n"
     ]
    }
   ],
   "source": [
    "class duck:\n",
    "    def swim(self):\n",
    "        print('i am duck & i can swim')\n",
    "    def speaks(self):\n",
    "        print('quack quack')\n",
    "\n",
    "class dog:\n",
    "    def swim(self):\n",
    "        print('i am dog & i can swim')\n",
    "    def speaks(self):\n",
    "        print('woof woof')\n",
    "\n",
    "\n",
    "def display(duck):                      # we define outside of the class\n",
    "    duck.swim()\n",
    "    duck.speaks()\n",
    "    print('informatation')\n",
    "\n",
    "d = duck()\n",
    "display(d)       "
   ]
  },
  {
   "cell_type": "code",
   "execution_count": 43,
   "id": "94db7951-217d-48d4-9cab-aa07b3e0912a",
   "metadata": {},
   "outputs": [
    {
     "ename": "AttributeError",
     "evalue": "'person' object has no attribute 'swim'",
     "output_type": "error",
     "traceback": [
      "\u001b[1;31m---------------------------------------------------------------------------\u001b[0m",
      "\u001b[1;31mAttributeError\u001b[0m                            Traceback (most recent call last)",
      "Cell \u001b[1;32mIn[43], line 26\u001b[0m\n\u001b[0;32m     23\u001b[0m dg \u001b[38;5;241m=\u001b[39m dog()\n\u001b[0;32m     24\u001b[0m p \u001b[38;5;241m=\u001b[39m person()\n\u001b[1;32m---> 26\u001b[0m display(p)\n",
      "Cell \u001b[1;32mIn[43], line 18\u001b[0m, in \u001b[0;36mdisplay\u001b[1;34m(obj)\u001b[0m\n\u001b[0;32m     17\u001b[0m \u001b[38;5;28;01mdef\u001b[39;00m \u001b[38;5;21mdisplay\u001b[39m(obj):                      \u001b[38;5;66;03m# we define outside of the class\u001b[39;00m\n\u001b[1;32m---> 18\u001b[0m     obj\u001b[38;5;241m.\u001b[39mswim()\n\u001b[0;32m     19\u001b[0m     obj\u001b[38;5;241m.\u001b[39mspeaks()\n\u001b[0;32m     20\u001b[0m     obj\u001b[38;5;241m.\u001b[39mperson()\n",
      "\u001b[1;31mAttributeError\u001b[0m: 'person' object has no attribute 'swim'"
     ]
    }
   ],
   "source": [
    "class duck:\n",
    "    def swim(self):\n",
    "        print('i am duck & i can swim')\n",
    "    def speaks(self):\n",
    "        print('quack quack')\n",
    "\n",
    "class dog:\n",
    "    def swim(self):\n",
    "        print('i am dog & i can swim')\n",
    "    def speaks(self):\n",
    "        print('woof woof')\n",
    "\n",
    "class person:\n",
    "    def speaks(self):\n",
    "        print('attend more interview to get placed')\n",
    "        \n",
    "def display(obj):                      # we define outside of the class\n",
    "    obj.swim()\n",
    "    obj.speaks()\n",
    "    obj.person()\n",
    "    \n",
    "d = duck()\n",
    "dg = dog()\n",
    "p = person()\n",
    "\n",
    "display(p)   "
   ]
  },
  {
   "cell_type": "code",
   "execution_count": null,
   "id": "8495c826-744b-4913-95e4-596d4541560a",
   "metadata": {},
   "outputs": [],
   "source": [
    "class duck:\n",
    "    def swim(self):\n",
    "        print('i am duck & i can swim')\n",
    "    def speaks(self):\n",
    "        print('quack quack')\n",
    "\n",
    "class dog:\n",
    "    def swim(self):\n",
    "        print('i am dog & i can swim')\n",
    "    def speaks(self):\n",
    "        print('woof woof')\n",
    "\n",
    "class person:\n",
    "    def speaks(self):\n",
    "        print('attend more interview to get placed')\n",
    "    def swim(self):\n",
    "        print('need to learn for swimming')\n",
    "         \n",
    "def display(obj): # we define outside of the class\n",
    "    obj.swim()\n",
    "    obj.speaks()\n",
    "    \n",
    "d = duck()\n",
    "dg = dog()\n",
    "p = person()\n",
    "\n",
    "display(p)   "
   ]
  },
  {
   "cell_type": "code",
   "execution_count": null,
   "id": "3ee513a1-0928-47a8-9376-7d9e1ef8c10c",
   "metadata": {},
   "outputs": [],
   "source": [
    "class Dog:\n",
    "    def speak(self):\n",
    "        return \"Woof!\"\n",
    "\n",
    "class Cat:\n",
    "    def speak(self):\n",
    "        return \"Meow!\"\n",
    "\n",
    "class Duck:\n",
    "    def speak(self):\n",
    "        return \"Quack!\"\n",
    "\n",
    "def animal_sound(animal):\n",
    "    return animal.speak()\n",
    "\n",
    "# Using duck typing\n",
    "dog = Dog()\n",
    "cat = Cat()\n",
    "duck = Duck()\n",
    "\n",
    "print(animal_sound(dog))  # Output: Woof!\n",
    "print(animal_sound(cat))  # Output: Meow!\n",
    "print(animal_sound(duck)) # Output: Quack!\n"
   ]
  },
  {
   "cell_type": "markdown",
   "id": "cdc6942a-2831-40f3-9ec8-8d9e0d12214b",
   "metadata": {},
   "source": [
    "# Operator Overloading"
   ]
  },
  {
   "cell_type": "code",
   "execution_count": null,
   "id": "e5d46c32-1fca-4278-8ab0-6a6adbbe53a4",
   "metadata": {},
   "outputs": [],
   "source": [
    "a, b = 5, 6\n",
    "\n",
    "print(type(a))\n",
    "print (a+b)"
   ]
  },
  {
   "cell_type": "code",
   "execution_count": null,
   "id": "adcb139f-1dfa-4a3f-9619-dd93e2ae1ae6",
   "metadata": {},
   "outputs": [],
   "source": [
    "int.__add__(5,6)              # MAGIC METHODS"
   ]
  },
  {
   "cell_type": "code",
   "execution_count": null,
   "id": "afb1c65d-481b-46e6-afbb-408e6881b4ce",
   "metadata": {},
   "outputs": [],
   "source": [
    "int.__sub__(4,5)              # MAGIC METHODS"
   ]
  },
  {
   "cell_type": "code",
   "execution_count": null,
   "id": "5cacdf98-070b-499c-9fd1-894883285b0e",
   "metadata": {},
   "outputs": [],
   "source": [
    "int.__mul__(4,5)              # MAGIC METHODS"
   ]
  },
  {
   "cell_type": "code",
   "execution_count": null,
   "id": "e65a3d3b-f0ba-4bbe-adf2-e96347e09f13",
   "metadata": {},
   "outputs": [],
   "source": [
    "class student:\n",
    "    def __init__(self,m1,m2):\n",
    "        self.m1 = m1\n",
    "        self.m2 = m2\n",
    "\n",
    "      \n",
    "s1 = student(60,70)\n",
    "s2 = student(80,90)\n",
    "\n",
    "s3 = s1 + s2 # is it possible to use add operator with the class ?"
   ]
  },
  {
   "cell_type": "code",
   "execution_count": 56,
   "id": "4ddde65d-0a28-40c7-bc84-e9c3ddaa65df",
   "metadata": {},
   "outputs": [
    {
     "name": "stdout",
     "output_type": "stream",
     "text": [
      "140\n",
      "160\n"
     ]
    }
   ],
   "source": [
    "class student:\n",
    "    def __init__(self,m1,m2):\n",
    "        self.m1 = m1\n",
    "        self.m2 = m2\n",
    "        \n",
    "    def __add__(self, other): ## WE DEFINE THE ADD METHOD . THIS CONCEPT IS CALLED OPERATOR OVERLOADING\n",
    "        m1 = self.m1 + other.m1\n",
    "        m2 = self.m2 + other.m2\n",
    "        s3 = student(m1,m2)\n",
    "        \n",
    "        return s3   \n",
    " \n",
    "s1 = student(60,70)\n",
    "s2 = student(80,90)\n",
    "\n",
    "s3 = s1 + s2 \n",
    "# when we create add method in above behind the memory s1 & s2 will convert to self & other respectivly\n",
    "print(s3.m1)\n",
    "print(s3.m2)\n",
    "\n",
    "# if you want to add 2 student then operator need to overload "
   ]
  },
  {
   "cell_type": "markdown",
   "id": "93dc92b5-5d0c-4f7d-9040-e851a6447efe",
   "metadata": {},
   "source": [
    "# --------------------------------------------------------------------------------------"
   ]
  },
  {
   "cell_type": "markdown",
   "id": "c3917155-12db-4f1f-a04d-a12347a8a286",
   "metadata": {},
   "source": [
    "# Polymorphism"
   ]
  },
  {
   "cell_type": "markdown",
   "id": "931a4bda-3adc-4ed2-b32f-86d2279f330c",
   "metadata": {},
   "source": [
    "### Method Overloading"
   ]
  },
  {
   "cell_type": "code",
   "execution_count": 44,
   "id": "30df384e-9e66-4a78-8e04-e9bdf4805191",
   "metadata": {},
   "outputs": [
    {
     "ename": "TypeError",
     "evalue": "demo.add() missing 1 required positional argument: 'c'",
     "output_type": "error",
     "traceback": [
      "\u001b[1;31m---------------------------------------------------------------------------\u001b[0m",
      "\u001b[1;31mTypeError\u001b[0m                                 Traceback (most recent call last)",
      "Cell \u001b[1;32mIn[44], line 13\u001b[0m\n\u001b[0;32m      9\u001b[0m         \u001b[38;5;28;01mreturn\u001b[39;00m a\u001b[38;5;241m+\u001b[39mb\u001b[38;5;241m+\u001b[39mc\n\u001b[0;32m     11\u001b[0m d \u001b[38;5;241m=\u001b[39m demo()\n\u001b[1;32m---> 13\u001b[0m \u001b[38;5;28mprint\u001b[39m(d\u001b[38;5;241m.\u001b[39madd(\u001b[38;5;241m2\u001b[39m,\u001b[38;5;241m3\u001b[39m))\n\u001b[0;32m     14\u001b[0m \u001b[38;5;28mprint\u001b[39m(d\u001b[38;5;241m.\u001b[39madd(\u001b[38;5;241m4\u001b[39m,\u001b[38;5;241m5\u001b[39m,\u001b[38;5;241m6\u001b[39m))\n",
      "\u001b[1;31mTypeError\u001b[0m: demo.add() missing 1 required positional argument: 'c'"
     ]
    }
   ],
   "source": [
    "# Method Overloading (same method different argument)\n",
    "\n",
    "class demo:\n",
    "    \n",
    "    def add(self,a,b):\n",
    "        return a+b\n",
    "\n",
    "    def add(self,a,b,c):\n",
    "        return a+b+c\n",
    "\n",
    "d = demo()\n",
    "\n",
    "print(d.add(2,3))\n",
    "print(d.add(4,5,6))\n",
    "\n",
    "#it always consider latest one"
   ]
  },
  {
   "cell_type": "code",
   "execution_count": 45,
   "id": "ea4b46f9-5fec-477e-8373-cfb10202a161",
   "metadata": {},
   "outputs": [
    {
     "name": "stdout",
     "output_type": "stream",
     "text": [
      "5\n",
      "15\n",
      "15\n"
     ]
    }
   ],
   "source": [
    "# There are many ways to achieve Method Overloading\n",
    "# Default Arguments\n",
    "\n",
    "class demo:\n",
    "    \n",
    "    def add(self,a,b,c=0,d=0):\n",
    "        return a+b+c\n",
    "\n",
    "d = demo()\n",
    "\n",
    "print(d.add(2,3))\n",
    "print(d.add(4,5,6))\n",
    "print(d.add(4,5,6,7))"
   ]
  },
  {
   "cell_type": "code",
   "execution_count": 46,
   "id": "d5219744-934f-43ab-b907-eb099456e098",
   "metadata": {},
   "outputs": [
    {
     "name": "stdout",
     "output_type": "stream",
     "text": [
      "5\n",
      "15\n",
      "34\n"
     ]
    }
   ],
   "source": [
    "# There are many ways to achieve Method Overloading\n",
    "# Positional Arguments\n",
    "\n",
    "class demo:\n",
    "    \n",
    "    def add(self,*arg):\n",
    "        total = 0\n",
    "        for i in arg:\n",
    "            total = total + i\n",
    "        return total\n",
    "\n",
    "d = demo()\n",
    "\n",
    "print(d.add(2,3))\n",
    "print(d.add(4,5,6))\n",
    "print(d.add(1,2,3,4,8,6,7,3))"
   ]
  },
  {
   "cell_type": "code",
   "execution_count": 47,
   "id": "02803459-c7a7-4c34-993a-38405875eb68",
   "metadata": {},
   "outputs": [
    {
     "name": "stdout",
     "output_type": "stream",
     "text": [
      "10\n",
      "30\n",
      "60\n",
      "40\n"
     ]
    }
   ],
   "source": [
    "# There are many ways to achieve Method Overloading\n",
    "\n",
    "class student:\n",
    "    def __init__(self,m1,m2):\n",
    "        self.m1 = m1\n",
    "        self.m2 = m2\n",
    "        \n",
    "    def sum(self, a=None, b=None,c=None):\n",
    "        if a!=None and b!=None and c!=None:\n",
    "            s = a +b +c\n",
    "        elif a!=None and b!=None:\n",
    "            s = a+b\n",
    "        elif a!= None and c!= None:\n",
    "            s = a + c\n",
    "        else:\n",
    "            s = a\n",
    "            \n",
    "        return s\n",
    "    \n",
    "s1 = student(50, 60)\n",
    "\n",
    "print(s1.sum(10))          # here we can pass 1 parameter\n",
    "print(s1.sum(10,20))       # here we can pass 2 parameter\n",
    "print(s1.sum(10,20,30))    # here we can pass 3 parameter\n",
    "print(s1.sum(10,30))\n",
    "#print(s1.sum(10,20,30,40))"
   ]
  },
  {
   "cell_type": "markdown",
   "id": "eebe2263-0792-40d2-ac0a-813ee2993c49",
   "metadata": {},
   "source": [
    "### Method Overriding"
   ]
  },
  {
   "cell_type": "code",
   "execution_count": 48,
   "id": "55b8ecee-a546-4ae3-97df-b40fa13038fc",
   "metadata": {},
   "outputs": [
    {
     "name": "stdout",
     "output_type": "stream",
     "text": [
      "in A show\n"
     ]
    }
   ],
   "source": [
    "class A():  # --------------- parent class \n",
    "    def show(self):\n",
    "        print('in A show')\n",
    "        \n",
    "class B(): #-------------------child class \n",
    "    pass\n",
    "        \n",
    "s1 = A()\n",
    "s1.show()"
   ]
  },
  {
   "cell_type": "code",
   "execution_count": 49,
   "id": "a389f0e3-8eac-4693-95ff-361a4c14554a",
   "metadata": {},
   "outputs": [
    {
     "name": "stdout",
     "output_type": "stream",
     "text": [
      "in A show\n"
     ]
    }
   ],
   "source": [
    "class A():  # --------------- parent class \n",
    "    def show(self):\n",
    "        print('in A show')\n",
    "        \n",
    "class B(A): #-------------------child class \n",
    "    pass\n",
    "        \n",
    "s2 = B()\n",
    "s2.show()"
   ]
  },
  {
   "cell_type": "code",
   "execution_count": 50,
   "id": "29a4f3f1-f68d-4ec6-93a5-38ba461b6ef0",
   "metadata": {},
   "outputs": [
    {
     "name": "stdout",
     "output_type": "stream",
     "text": [
      "in B show\n"
     ]
    }
   ],
   "source": [
    "class A:  # --------------- parent class \n",
    "    def show(self):\n",
    "        print('in A show')\n",
    "        \n",
    "class B(A): #-------------------child class & lets use inheritence concept\n",
    "    def show(self):\n",
    "        print('in B show')\n",
    "        \n",
    "        \n",
    "s2 = B()\n",
    "s2.show()"
   ]
  },
  {
   "cell_type": "markdown",
   "id": "915a5dbb-366f-42ef-bd2d-d021dbb18362",
   "metadata": {},
   "source": [
    "# Abstraction"
   ]
  },
  {
   "cell_type": "code",
   "execution_count": 51,
   "id": "e957f991-297b-498f-b119-301e34a758fe",
   "metadata": {},
   "outputs": [],
   "source": [
    "# User-defined Method\n",
    "\n",
    "class computer:\n",
    "    def process(self):         # declaration \n",
    "        print('running')       # defination "
   ]
  },
  {
   "cell_type": "code",
   "execution_count": 52,
   "id": "4938263c-2b54-43b2-a7db-60703c56da97",
   "metadata": {},
   "outputs": [],
   "source": [
    "# Abstract Method (Declaration, but NO Definition)..................... process\n",
    "# Abstract Class (Class which carries the Abs Method).................. computer1\n",
    "\n",
    "class computer1:\n",
    "    def process(self):\n",
    "        pass   "
   ]
  },
  {
   "cell_type": "code",
   "execution_count": 53,
   "id": "736ee0e8-0440-455b-9a2e-cf3d503f8b13",
   "metadata": {},
   "outputs": [],
   "source": [
    "# By default Python doesnt support abstract class & abstract method\n",
    "# Python supports Abstractions with ABC (Abstract Base Class) module\n",
    "\n",
    "from abc import ABC, abstractmethod\n",
    "\n",
    "class vehicle:                            # ABSTRACT CLASS\n",
    "    def __init__(self):\n",
    "        self.no_of_types_vehicle = n \n",
    "    @abstractmethod\n",
    "    def start(self):                      # ABSTRACT METHOD\n",
    "        pass\n",
    "\n",
    "class bike:\n",
    "    def __init__(self):\n",
    "        self.no_of_tyres = 2\n",
    "    def start(self):\n",
    "        print('start with kick')\n",
    "        \n",
    "class activa:\n",
    "    def __init__(self):\n",
    "        self.no_of_tyres = 2\n",
    "    def start(self):\n",
    "        print('self start')\n",
    "        \n",
    "class car:\n",
    "    def __init__(self):\n",
    "        self.no_of_tyres = 4\n",
    "    def start(self):\n",
    "        print('start with key')"
   ]
  },
  {
   "cell_type": "code",
   "execution_count": 54,
   "id": "72c77431-7bc0-4b2d-ad42-d61b3b610fcf",
   "metadata": {},
   "outputs": [],
   "source": [
    "class computer:\n",
    "    def process(self):\n",
    "        pass\n",
    "    \n",
    "com = computer()\n",
    "com.process()\n",
    "# this is not an abstract class for that we need to import ABC"
   ]
  },
  {
   "cell_type": "code",
   "execution_count": 55,
   "id": "7e831da7-c864-4406-8d3f-19a441f022cd",
   "metadata": {},
   "outputs": [
    {
     "ename": "TypeError",
     "evalue": "Can't instantiate abstract class vehicle without an implementation for abstract method 'start'",
     "output_type": "error",
     "traceback": [
      "\u001b[1;31m---------------------------------------------------------------------------\u001b[0m",
      "\u001b[1;31mTypeError\u001b[0m                                 Traceback (most recent call last)",
      "Cell \u001b[1;32mIn[55], line 11\u001b[0m\n\u001b[0;32m      7\u001b[0m     \u001b[38;5;129m@abstractmethod\u001b[39m\n\u001b[0;32m      8\u001b[0m     \u001b[38;5;28;01mdef\u001b[39;00m \u001b[38;5;21mstart\u001b[39m(\u001b[38;5;28mself\u001b[39m): \u001b[38;5;66;03m# we just declare but not define that means nothing to do with start method hear\u001b[39;00m\n\u001b[0;32m      9\u001b[0m         \u001b[38;5;28;01mpass\u001b[39;00m\n\u001b[1;32m---> 11\u001b[0m v\u001b[38;5;241m=\u001b[39m vehicle()\n",
      "\u001b[1;31mTypeError\u001b[0m: Can't instantiate abstract class vehicle without an implementation for abstract method 'start'"
     ]
    }
   ],
   "source": [
    "from abc import ABC, abstractmethod\n",
    "\n",
    "class vehicle(ABC):\n",
    "    def __init__(self,n):\n",
    "        self.no_of_types_vehicle = n \n",
    "        \n",
    "    @abstractmethod\n",
    "    def start(self): # we just declare but not define that means nothing to do with start method hear\n",
    "        pass\n",
    "\n",
    "v= vehicle() \n",
    "# You cant create object of the abstract class"
   ]
  },
  {
   "cell_type": "code",
   "execution_count": 56,
   "id": "fa4da590-d912-416f-a4fd-47b32e9d6afe",
   "metadata": {},
   "outputs": [
    {
     "name": "stdout",
     "output_type": "stream",
     "text": [
      "its working\n",
      "its not working\n"
     ]
    }
   ],
   "source": [
    "from abc import ABC, abstractmethod\n",
    "\n",
    "class computer(ABC):            #---computer is abstract class which inherits from ABC()\n",
    "    @abstractmethod\n",
    "    def process(self):          # --- abstract method \n",
    "        pass\n",
    "\n",
    "class Laptop():                 #------ laptop  is subclass of computer \n",
    "    def process(self):\n",
    "        print('its working')\n",
    "        print('its not working')\n",
    "com1 = Laptop()\n",
    "#com = computer()\n",
    "#com.process()\n",
    "\n",
    "com1.process()\n",
    "\n",
    "# this is how we create abstract class & we create abstract method"
   ]
  },
  {
   "cell_type": "code",
   "execution_count": 57,
   "id": "958a73c1-cd4c-4b83-9809-09c2156fa722",
   "metadata": {},
   "outputs": [
    {
     "name": "stdout",
     "output_type": "stream",
     "text": [
      "Circle Area: 78.5\n",
      "Square Area: 16\n"
     ]
    }
   ],
   "source": [
    "from abc import ABC, abstractmethod\n",
    "\n",
    "class Shape(ABC):\n",
    "    @abstractmethod\n",
    "    def area(self):\n",
    "        pass\n",
    "\n",
    "class Circle(Shape):\n",
    "    def __init__(self, radius):\n",
    "        self.radius = radius\n",
    "\n",
    "    def area(self):\n",
    "        return 3.14 * self.radius * self.radius\n",
    "\n",
    "class Square(Shape):\n",
    "    def __init__(self, side_length):\n",
    "        self.side_length = side_length\n",
    "\n",
    "    def area(self):\n",
    "        return self.side_length * self.side_length\n",
    "\n",
    "# You cannot create an instance of the abstract class Shape\n",
    "# shape = Shape()------------------------------------ This will raise a TypeError\n",
    "\n",
    "circle = Circle(5)\n",
    "print(\"Circle Area:\", circle.area())\n",
    "\n",
    "square = Square(4)\n",
    "print(\"Square Area:\", square.area())\n"
   ]
  },
  {
   "cell_type": "markdown",
   "id": "34274551-ff42-4b55-9082-d393e8335a23",
   "metadata": {},
   "source": [
    "# Iterator"
   ]
  },
  {
   "cell_type": "code",
   "execution_count": 58,
   "id": "496b7c5c-d180-4715-b6cb-4bf8a7ded4c8",
   "metadata": {},
   "outputs": [
    {
     "name": "stdout",
     "output_type": "stream",
     "text": [
      "7\n",
      "8\n",
      "9\n",
      "5\n"
     ]
    },
    {
     "ename": "IndexError",
     "evalue": "list index out of range",
     "output_type": "error",
     "traceback": [
      "\u001b[1;31m---------------------------------------------------------------------------\u001b[0m",
      "\u001b[1;31mIndexError\u001b[0m                                Traceback (most recent call last)",
      "Cell \u001b[1;32mIn[58], line 7\u001b[0m\n\u001b[0;32m      5\u001b[0m \u001b[38;5;28mprint\u001b[39m(nums[\u001b[38;5;241m2\u001b[39m])\n\u001b[0;32m      6\u001b[0m \u001b[38;5;28mprint\u001b[39m(nums[\u001b[38;5;241m3\u001b[39m])\n\u001b[1;32m----> 7\u001b[0m \u001b[38;5;28mprint\u001b[39m(nums[\u001b[38;5;241m4\u001b[39m])\n",
      "\u001b[1;31mIndexError\u001b[0m: list index out of range"
     ]
    }
   ],
   "source": [
    "nums = [7, 8, 9, 5]\n",
    "\n",
    "print(nums[0]) # if we pass the index value \n",
    "print(nums[1])\n",
    "print(nums[2])\n",
    "print(nums[3])\n",
    "print(nums[4])"
   ]
  },
  {
   "cell_type": "code",
   "execution_count": 59,
   "id": "5e206d91-026c-40b5-89ac-21fca2f25973",
   "metadata": {},
   "outputs": [
    {
     "name": "stdout",
     "output_type": "stream",
     "text": [
      "7\n",
      "8\n",
      "9\n",
      "5\n"
     ]
    }
   ],
   "source": [
    "# the other way to print the values \n",
    "for i in nums:\n",
    "    print(i)"
   ]
  },
  {
   "cell_type": "code",
   "execution_count": 60,
   "id": "8c0db8fd-e93c-4b62-b871-6616de79fbf1",
   "metadata": {},
   "outputs": [
    {
     "name": "stdout",
     "output_type": "stream",
     "text": [
      "<list_iterator object at 0x000001BDF2BCEE30>\n"
     ]
    }
   ],
   "source": [
    "nums = [7, 8, 9, 5]\n",
    "\n",
    "it = iter(nums)      # iter is the inbuild function which covert list into iterator\n",
    "print(it)            # iteratre doesnot give all values it will give the value 1 by 1"
   ]
  },
  {
   "cell_type": "code",
   "execution_count": 61,
   "id": "e4b346a9-7735-4b9f-926e-6b1efaf883e7",
   "metadata": {},
   "outputs": [
    {
     "name": "stdout",
     "output_type": "stream",
     "text": [
      "7\n"
     ]
    }
   ],
   "source": [
    "print(it.__next__()) "
   ]
  },
  {
   "cell_type": "code",
   "execution_count": 62,
   "id": "99fc4b9d-190a-4d2e-a437-789ce57df156",
   "metadata": {},
   "outputs": [
    {
     "name": "stdout",
     "output_type": "stream",
     "text": [
      "8\n"
     ]
    }
   ],
   "source": [
    "print(it.__next__()) "
   ]
  },
  {
   "cell_type": "code",
   "execution_count": 63,
   "id": "21c23b94-4dc7-4178-be25-7b6e39904041",
   "metadata": {},
   "outputs": [
    {
     "name": "stdout",
     "output_type": "stream",
     "text": [
      "9\n"
     ]
    }
   ],
   "source": [
    "print(it.__next__()) "
   ]
  },
  {
   "cell_type": "code",
   "execution_count": 64,
   "id": "f76b3b1b-beec-457d-99d0-6930dc557573",
   "metadata": {},
   "outputs": [
    {
     "name": "stdout",
     "output_type": "stream",
     "text": [
      "5\n"
     ]
    }
   ],
   "source": [
    "print(it.__next__()) "
   ]
  },
  {
   "cell_type": "code",
   "execution_count": 65,
   "id": "a5141834-bea5-474b-8dd9-3b54b146c584",
   "metadata": {},
   "outputs": [
    {
     "ename": "StopIteration",
     "evalue": "",
     "output_type": "error",
     "traceback": [
      "\u001b[1;31m---------------------------------------------------------------------------\u001b[0m",
      "\u001b[1;31mStopIteration\u001b[0m                             Traceback (most recent call last)",
      "Cell \u001b[1;32mIn[65], line 1\u001b[0m\n\u001b[1;32m----> 1\u001b[0m \u001b[38;5;28mprint\u001b[39m(it\u001b[38;5;241m.\u001b[39m\u001b[38;5;21m__next__\u001b[39m())\n",
      "\u001b[1;31mStopIteration\u001b[0m: "
     ]
    }
   ],
   "source": [
    "print(it.__next__()) "
   ]
  },
  {
   "cell_type": "code",
   "execution_count": null,
   "id": "a6620266-c915-4498-b87d-2f4990bb3daa",
   "metadata": {},
   "outputs": [],
   "source": [
    "# I WANT TO PRINT TOP 10 VALUE usint 2 method iter() & next()\n",
    "\n",
    "# Infinity loop dont nun\n",
    "\n",
    "class topten:\n",
    "    \n",
    "    def __init__(self):\n",
    "        self.num = 1\n",
    "        \n",
    "    def __iter__(self):\n",
    "        return self\n",
    "    \n",
    "    def __next__(self):\n",
    "        val = self.num\n",
    "        self.num += 1\n",
    "        return val\n",
    "    \n",
    "values = topten()\n",
    "    \n",
    "for i in values:\n",
    "    print(i)\n",
    "#if you execute this you will get infinite loop but we want top 10 "
   ]
  },
  {
   "cell_type": "code",
   "execution_count": 66,
   "id": "727aa935-70ee-4da5-8b22-8ece9d836815",
   "metadata": {},
   "outputs": [
    {
     "name": "stdout",
     "output_type": "stream",
     "text": [
      "1\n",
      "2\n",
      "3\n",
      "4\n",
      "5\n",
      "6\n",
      "7\n",
      "8\n",
      "9\n",
      "10\n",
      "11\n",
      "12\n",
      "13\n"
     ]
    }
   ],
   "source": [
    "# I WANT TO PRINT TOP 10 VALUE usint 2 method iter() & next()\n",
    "\n",
    "class topten:\n",
    "    \n",
    "    def __init__(self):\n",
    "        self.num = 1\n",
    "        \n",
    "    def __iter__(self):\n",
    "        return self\n",
    "    \n",
    "    def __next__(self):\n",
    "        val = self.num\n",
    "        self.num += 1\n",
    "        return val\n",
    "    \n",
    "values = topten()\n",
    "\n",
    "print(values.__next__())\n",
    "    \n",
    "print(values.__next__())\n",
    "\n",
    "print(values.__next__())\n",
    "\n",
    "print(values.__next__())\n",
    "\n",
    "print(values.__next__())\n",
    "\n",
    "print(values.__next__())\n",
    "\n",
    "print(values.__next__())\n",
    "\n",
    "print(values.__next__())\n",
    "\n",
    "print(values.__next__())\n",
    "\n",
    "print(values.__next__())\n",
    "\n",
    "print(values.__next__())\n",
    "\n",
    "print(values.__next__())\n",
    "\n",
    "print(values.__next__())"
   ]
  },
  {
   "cell_type": "code",
   "execution_count": null,
   "id": "b1f1310a-3bb6-4f60-a24c-9d8a89644ef2",
   "metadata": {},
   "outputs": [],
   "source": [
    "# I WANT TO PRINT TOP 10 VALUE usint 2 method iter() & next()\n",
    "\n",
    "# Infinite Loop, do not run\n",
    "\n",
    "# we will get NONE after 10 iter\n",
    "\n",
    "class topten:\n",
    "    \n",
    "    def __init__(self):\n",
    "        self.num = 1\n",
    "        \n",
    "    def __iter__(self):\n",
    "        return self\n",
    "    \n",
    "    def __next__(self):\n",
    "        if self.num <= 10:\n",
    "            val = self.num\n",
    "            self.num += 1\n",
    "            return val\n",
    "            \n",
    "    \n",
    "values = topten()\n",
    "\n",
    "for i in values:\n",
    "    print(i)"
   ]
  },
  {
   "cell_type": "markdown",
   "id": "62a18b3b-89e7-4e53-9e44-09f05a02c067",
   "metadata": {},
   "source": [
    "# Generators"
   ]
  },
  {
   "cell_type": "code",
   "execution_count": 67,
   "id": "d1359ea8-8792-4468-a749-a87f1ba007bc",
   "metadata": {},
   "outputs": [
    {
     "name": "stdout",
     "output_type": "stream",
     "text": [
      "5\n"
     ]
    }
   ],
   "source": [
    "def topten():\n",
    "    return 5\n",
    "    \n",
    "values = topten()\n",
    "\n",
    "print(values) "
   ]
  },
  {
   "cell_type": "code",
   "execution_count": 68,
   "id": "9ac11567-cb79-46c4-b6d8-147e04c8b3d8",
   "metadata": {},
   "outputs": [
    {
     "name": "stdout",
     "output_type": "stream",
     "text": [
      "<generator object topten at 0x000001BDF397B5E0>\n"
     ]
    }
   ],
   "source": [
    "def topten():\n",
    "    yield 5                    # GENERATOR\n",
    "    \n",
    "values = topten()\n",
    "\n",
    "print(values) "
   ]
  },
  {
   "cell_type": "code",
   "execution_count": 69,
   "id": "9bb2542f-b335-4301-b3be-2a4c35f6c81b",
   "metadata": {},
   "outputs": [
    {
     "name": "stdout",
     "output_type": "stream",
     "text": [
      "5\n",
      "4\n",
      "3\n"
     ]
    }
   ],
   "source": [
    "# Generator works like an Iterator\n",
    "\n",
    "def topten():\n",
    "    yield 5\n",
    "    yield 4\n",
    "    yield 3 \n",
    "\n",
    "values = topten()\n",
    "\n",
    "print(values.__next__())\n",
    "print(values.__next__())\n",
    "print(values.__next__())"
   ]
  },
  {
   "cell_type": "markdown",
   "id": "fdef44e1-25ad-433e-b7b3-a54848d442b9",
   "metadata": {},
   "source": [
    "# Multithreading"
   ]
  },
  {
   "cell_type": "code",
   "execution_count": 70,
   "id": "8d4c1db5-31a3-460e-ae41-1f422cc70900",
   "metadata": {},
   "outputs": [],
   "source": [
    "# Assigning the work in multiple core processors to speed up code deployment"
   ]
  },
  {
   "cell_type": "code",
   "execution_count": 71,
   "id": "92128375-d2c8-44b3-b581-814c2fde6452",
   "metadata": {},
   "outputs": [
    {
     "name": "stdout",
     "output_type": "stream",
     "text": [
      "hello\n",
      "hello\n",
      "hello\n",
      "hello\n",
      "hello\n",
      "hi\n",
      "hi\n",
      "hi\n",
      "hi\n",
      "hi\n"
     ]
    }
   ],
   "source": [
    "class hello:\n",
    "    def run(self):\n",
    "        for i in range(5):\n",
    "            print('hello')\n",
    "class hi:\n",
    "    def run(self):\n",
    "        for i in range(5):\n",
    "            print('hi')\n",
    "\n",
    "t1 = hello()     \n",
    "t2 = hi()        \n",
    "\n",
    "t1.run()\n",
    "t2.run()"
   ]
  },
  {
   "cell_type": "code",
   "execution_count": 72,
   "id": "dadb5504-05f0-4703-ac95-d30d72019404",
   "metadata": {},
   "outputs": [
    {
     "name": "stdout",
     "output_type": "stream",
     "text": [
      "hello\n",
      "hello\n",
      "hello\n",
      "hello\n",
      "hello\n",
      "hello\n",
      "hello\n",
      "hello\n",
      "hello\n",
      "hello\n",
      "hello\n",
      "hello\n",
      "hello\n",
      "hello\n",
      "hello\n",
      "hello\n",
      "hello\n",
      "hello\n",
      "hello\n",
      "hello\n",
      "hello\n",
      "hello\n",
      "hello\n",
      "hello\n",
      "hello\n",
      "hello\n",
      "hello\n",
      "hello\n",
      "hello\n",
      "hello\n",
      "hello\n",
      "hello\n",
      "hello\n",
      "hello\n",
      "hello\n",
      "hello\n",
      "hello\n",
      "hello\n",
      "hello\n",
      "hello\n",
      "hello\n",
      "hello\n",
      "hello\n",
      "hello\n",
      "hello\n",
      "hello\n",
      "hello\n",
      "hello\n",
      "hello\n",
      "hello\n",
      "hello\n",
      "hello\n",
      "hello\n",
      "hello\n",
      "hello\n",
      "hello\n",
      "hello\n",
      "hello\n",
      "hello\n",
      "hello\n",
      "hello\n",
      "hello\n",
      "hello\n",
      "hello\n",
      "hello\n",
      "hello\n",
      "hello\n",
      "hello\n",
      "hello\n",
      "hello\n",
      "hello\n",
      "hello\n",
      "hello\n",
      "hello\n",
      "hello\n",
      "hello\n",
      "hello\n",
      "hello\n",
      "hello\n",
      "hello\n",
      "hello\n",
      "hello\n",
      "hello\n",
      "hello\n",
      "hello\n",
      "hello\n",
      "hello\n",
      "hello\n",
      "hello\n",
      "hello\n",
      "hello\n",
      "hello\n",
      "hello\n",
      "hello\n",
      "hello\n",
      "hello\n",
      "hello\n",
      "hello\n",
      "hello\n",
      "hello\n",
      "hi\n",
      "hi\n",
      "hi\n",
      "hi\n",
      "hi\n",
      "hi\n",
      "hi\n",
      "hi\n",
      "hi\n",
      "hi\n",
      "hi\n",
      "hi\n",
      "hi\n",
      "hi\n",
      "hi\n",
      "hi\n",
      "hi\n",
      "hi\n",
      "hi\n",
      "hi\n",
      "hi\n",
      "hi\n",
      "hi\n",
      "hi\n",
      "hi\n",
      "hi\n",
      "hi\n",
      "hi\n",
      "hi\n",
      "hi\n",
      "hi\n",
      "hi\n",
      "hi\n",
      "hi\n",
      "hi\n",
      "hi\n",
      "hi\n",
      "hi\n",
      "hi\n",
      "hi\n",
      "hi\n",
      "hi\n",
      "hi\n",
      "hi\n",
      "hi\n",
      "hi\n",
      "hi\n",
      "hi\n",
      "hi\n",
      "hi\n",
      "hi\n",
      "hi\n",
      "hi\n",
      "hi\n",
      "hi\n",
      "hi\n",
      "hi\n",
      "hi\n",
      "hi\n",
      "hi\n",
      "hi\n",
      "hi\n",
      "hi\n",
      "hi\n",
      "hi\n",
      "hi\n",
      "hi\n",
      "hi\n",
      "hi\n",
      "hi\n",
      "hi\n",
      "hi\n",
      "hi\n",
      "hi\n",
      "hi\n",
      "hi\n",
      "hi\n",
      "hi\n",
      "hi\n",
      "hi\n",
      "hi\n",
      "hi\n",
      "hi\n",
      "hi\n",
      "hi\n",
      "hi\n",
      "hi\n",
      "hi\n",
      "hi\n",
      "hi\n",
      "hi\n",
      "hi\n",
      "hi\n",
      "hi\n",
      "hi\n",
      "hi\n",
      "hi\n",
      "hi\n",
      "hi\n",
      "hi\n"
     ]
    }
   ],
   "source": [
    "# Multithreading\n",
    "\n",
    "from threading import *\n",
    "\n",
    "class hello(Thread):\n",
    "    def run(self):\n",
    "        for i in range(100):\n",
    "            print('hello')\n",
    "            \n",
    "class hi(Thread):\n",
    "    def run(self):\n",
    "        for i in range(100):\n",
    "            print('hi')\n",
    "\n",
    "t1 = hello() \n",
    "t2 = hi()   \n",
    "\n",
    "t1.start()\n",
    "t2.start()"
   ]
  },
  {
   "cell_type": "code",
   "execution_count": 74,
   "id": "33ba6b57-ce8d-4622-8891-910e1770372c",
   "metadata": {},
   "outputs": [
    {
     "name": "stdout",
     "output_type": "stream",
     "text": [
      "hello\n",
      "hi\n",
      "Bye\n"
     ]
    }
   ],
   "source": [
    "from time import sleep\n",
    "from threading import *\n",
    "\n",
    "class hello(Thread):\n",
    "    def run(self):\n",
    "        for i in range(50):\n",
    "            print('hello')\n",
    "            sleep(1)\n",
    "class hi(Thread):\n",
    "    def run(self):\n",
    "        for i in range(50):\n",
    "            print('hi')\n",
    "            sleep(1)\n",
    "\n",
    "t1 = hello() \n",
    "t2 = hi()   \n",
    "\n",
    "t1.start()\n",
    "sleep(0.2)\n",
    "t2.start()\n",
    "\n",
    "print('Bye')"
   ]
  },
  {
   "cell_type": "code",
   "execution_count": null,
   "id": "e4ef8efb-d4f8-48b0-afd0-96fe60c0207f",
   "metadata": {},
   "outputs": [],
   "source": []
  }
 ],
 "metadata": {
  "kernelspec": {
   "display_name": "Python [conda env:base] *",
   "language": "python",
   "name": "conda-base-py"
  },
  "language_info": {
   "codemirror_mode": {
    "name": "ipython",
    "version": 3
   },
   "file_extension": ".py",
   "mimetype": "text/x-python",
   "name": "python",
   "nbconvert_exporter": "python",
   "pygments_lexer": "ipython3",
   "version": "3.12.7"
  }
 },
 "nbformat": 4,
 "nbformat_minor": 5
}
