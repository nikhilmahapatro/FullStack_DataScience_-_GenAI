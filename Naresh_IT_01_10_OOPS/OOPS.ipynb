{
 "cells": [
  {
   "cell_type": "markdown",
   "id": "f383f6cf-9a1c-4784-a199-0ff26940137d",
   "metadata": {},
   "source": [
    "# Class, Object, Method, Self"
   ]
  },
  {
   "cell_type": "code",
   "execution_count": 9,
   "id": "49ced70b-8366-41ca-9e33-2dd1143e22d7",
   "metadata": {},
   "outputs": [
    {
     "name": "stdout",
     "output_type": "stream",
     "text": [
      "<class 'int'>\n"
     ]
    }
   ],
   "source": [
    "# Inbuilt Class\n",
    "a = 5\n",
    "print(type(a))"
   ]
  },
  {
   "cell_type": "code",
   "execution_count": 10,
   "id": "39727518-b8bc-4c3b-b220-3e465f75f85d",
   "metadata": {},
   "outputs": [
    {
     "name": "stdout",
     "output_type": "stream",
     "text": [
      "<class 'list'>\n"
     ]
    }
   ],
   "source": [
    "# Inbuilt Class\n",
    "l = [1,2,3,]\n",
    "print(type(l))"
   ]
  },
  {
   "cell_type": "code",
   "execution_count": 11,
   "id": "54558057-29bf-4e06-a72a-74a030df8a5d",
   "metadata": {},
   "outputs": [
    {
     "name": "stdout",
     "output_type": "stream",
     "text": [
      "i5 8gb\n"
     ]
    }
   ],
   "source": [
    "def config():   \n",
    "    print('i5', '8gb')\n",
    "config()\n",
    "\n",
    "# Here config() is a function"
   ]
  },
  {
   "cell_type": "code",
   "execution_count": 12,
   "id": "ac9d786b-2a3d-4031-98e9-1dc6bf36efa8",
   "metadata": {},
   "outputs": [
    {
     "name": "stdout",
     "output_type": "stream",
     "text": [
      "i8 hp 8\n",
      "i12 dell 16\n"
     ]
    }
   ],
   "source": [
    "class laptop():\n",
    "    def config(): \n",
    "        print('i8', 'hp', 8)\n",
    "        print('i12', 'dell', 16)\n",
    "\n",
    "lap1 = laptop()                # lap1 is an object of laptop() class\n",
    "\n",
    "laptop.config()                # class.method()\n",
    "\n",
    "# Here config is a method"
   ]
  },
  {
   "cell_type": "code",
   "execution_count": 13,
   "id": "99734659-0fc9-4e26-b265-1a15178727a1",
   "metadata": {},
   "outputs": [
    {
     "ename": "TypeError",
     "evalue": "laptop.config() takes 0 positional arguments but 1 was given",
     "output_type": "error",
     "traceback": [
      "\u001b[1;31m---------------------------------------------------------------------------\u001b[0m",
      "\u001b[1;31mTypeError\u001b[0m                                 Traceback (most recent call last)",
      "Cell \u001b[1;32mIn[13], line 7\u001b[0m\n\u001b[0;32m      4\u001b[0m         \u001b[38;5;28mprint\u001b[39m(\u001b[38;5;124m'\u001b[39m\u001b[38;5;124mi12\u001b[39m\u001b[38;5;124m'\u001b[39m, \u001b[38;5;124m'\u001b[39m\u001b[38;5;124mdell\u001b[39m\u001b[38;5;124m'\u001b[39m, \u001b[38;5;241m16\u001b[39m)\n\u001b[0;32m      6\u001b[0m lap1 \u001b[38;5;241m=\u001b[39m laptop()  \n\u001b[1;32m----> 7\u001b[0m lap1\u001b[38;5;241m.\u001b[39mconfig()\n",
      "\u001b[1;31mTypeError\u001b[0m: laptop.config() takes 0 positional arguments but 1 was given"
     ]
    }
   ],
   "source": [
    "class laptop():\n",
    "    def config(): \n",
    "        print('i8', 'hp', 8)\n",
    "        print('i12', 'dell', 16)\n",
    "\n",
    "lap1 = laptop()  \n",
    "lap1.config()"
   ]
  },
  {
   "cell_type": "code",
   "execution_count": 14,
   "id": "86bf50d2-9b38-4210-855f-6c7072ec6e00",
   "metadata": {},
   "outputs": [
    {
     "name": "stdout",
     "output_type": "stream",
     "text": [
      "i8 hp 8\n",
      "i12 dell 16\n"
     ]
    }
   ],
   "source": [
    "class laptop():\n",
    "    def config(self):                         # 'self' acts as an argument\n",
    "        print('i8', 'hp', 8)\n",
    "        print('i12', 'dell', 16)\n",
    "\n",
    "lap1 = laptop()  \n",
    "laptop.config(lap1)"
   ]
  },
  {
   "cell_type": "code",
   "execution_count": 15,
   "id": "824ca96a-b14e-41cd-9120-cc6ba38693f3",
   "metadata": {},
   "outputs": [
    {
     "name": "stdout",
     "output_type": "stream",
     "text": [
      "i8 hp 8\n",
      "i12 dell 16\n",
      "i8 hp 8\n",
      "i12 dell 16\n",
      "i8 hp 8\n",
      "i12 dell 16\n"
     ]
    }
   ],
   "source": [
    "class laptop():\n",
    "    def config(self): \n",
    "        print('i8', 'hp', 8)\n",
    "        print('i12', 'dell', 16)\n",
    "\n",
    "lap1 = laptop()  \n",
    "lap2 = laptop()\n",
    "lap3 = laptop()\n",
    "\n",
    "lap1.config()\n",
    "lap2.config()\n",
    "lap3.config()"
   ]
  },
  {
   "cell_type": "code",
   "execution_count": 16,
   "id": "8c3596cd-7586-46da-b524-95ac4ff06b74",
   "metadata": {},
   "outputs": [
    {
     "name": "stdout",
     "output_type": "stream",
     "text": [
      "<class 'float'>\n",
      "<class '__main__.computer'>\n"
     ]
    }
   ],
   "source": [
    "class computer:       \n",
    "    def config():      \n",
    "        print('i5', '8gb') \n",
    "    \n",
    "a = 8.8\n",
    "print(type(a))                           # Inbuilt class\n",
    "\n",
    "com1 = computer()                        # User-defined class\n",
    "print(type(com1))  "
   ]
  },
  {
   "cell_type": "markdown",
   "id": "12dcf18c-a26e-4328-b4f4-67e4fb1f65cb",
   "metadata": {},
   "source": [
    " # __name__, __init__"
   ]
  },
  {
   "cell_type": "code",
   "execution_count": 17,
   "id": "fb0954e0-5a48-4bd6-b287-e42f810265e2",
   "metadata": {},
   "outputs": [],
   "source": [
    "## __name__ = main function/main module\n",
    "## __init__ = special method, constructor"
   ]
  },
  {
   "cell_type": "code",
   "execution_count": 18,
   "id": "42fa6ee3-74ee-4c7b-bc06-80bd97c315cc",
   "metadata": {},
   "outputs": [],
   "source": [
    "class laptop():\n",
    "    def config(): \n",
    "        print('i8', 'hp', 8)\n",
    "        print('i12', 'dell', 16)\n",
    "\n",
    "lap1 = laptop()"
   ]
  },
  {
   "cell_type": "code",
   "execution_count": 19,
   "id": "a734bac8-036f-4af5-b106-5649b873d6fc",
   "metadata": {},
   "outputs": [
    {
     "name": "stdout",
     "output_type": "stream",
     "text": [
      "i8 hp 8\n",
      "i12 dell 16\n"
     ]
    }
   ],
   "source": [
    "class laptop():\n",
    "    def __init__(self):                 # __init__ = constructor\n",
    "        print('i8', 'hp', 8)\n",
    "        print('i12', 'dell', 16)\n",
    "\n",
    "lap = laptop()"
   ]
  },
  {
   "cell_type": "code",
   "execution_count": 20,
   "id": "3370fb8a-7867-4c3d-a41d-2d8fe0975a32",
   "metadata": {},
   "outputs": [
    {
     "name": "stdout",
     "output_type": "stream",
     "text": [
      "i8 hp 8\n",
      "i12 dell 16\n",
      "\n",
      "i8 hp 8\n",
      "i12 dell 16\n",
      "\n",
      "i8 hp 8\n",
      "i12 dell 16\n"
     ]
    }
   ],
   "source": [
    "class laptop():\n",
    "    def __init__(self): \n",
    "        print('i8', 'hp', 8)\n",
    "        print('i12', 'dell', 16)\n",
    "\n",
    "lap = laptop()\n",
    "print()\n",
    "lap3 = laptop()\n",
    "print()\n",
    "lap3.__init__()"
   ]
  },
  {
   "cell_type": "code",
   "execution_count": 21,
   "id": "8aae710b-1284-4752-aae3-38f02d1152bb",
   "metadata": {},
   "outputs": [
    {
     "name": "stdout",
     "output_type": "stream",
     "text": [
      "in init\n",
      "in init\n",
      "in init\n"
     ]
    }
   ],
   "source": [
    "class computer:        \n",
    "    \n",
    "    def __init__(self): #__init__ means initialize the varible\n",
    "        print('in init')\n",
    "        \n",
    "com1 = computer()\n",
    "com2 = computer()\n",
    "com3 = computer()"
   ]
  },
  {
   "cell_type": "code",
   "execution_count": 22,
   "id": "40db7e63-170f-42c5-bc7c-bcf767aa3518",
   "metadata": {},
   "outputs": [
    {
     "name": "stdout",
     "output_type": "stream",
     "text": [
      "in init\n",
      "i5 8gb\n"
     ]
    }
   ],
   "source": [
    "class computer():        \n",
    "    \n",
    "    def __init__(self):\n",
    "        print('in init')\n",
    "    \n",
    "    def config(self):     \n",
    "        print('i5', '8gb')\n",
    "\n",
    "com1 = computer()\n",
    "\n",
    "com1.config() "
   ]
  },
  {
   "cell_type": "code",
   "execution_count": 23,
   "id": "77fc4630-6f22-4230-938b-cfd777196bcb",
   "metadata": {},
   "outputs": [
    {
     "name": "stdout",
     "output_type": "stream",
     "text": [
      "in init\n",
      "in init\n",
      "i5 8gb\n"
     ]
    }
   ],
   "source": [
    "class computer():        \n",
    "    \n",
    "    def __init__(self):\n",
    "        print('in init')\n",
    "    \n",
    "    def config(self):     \n",
    "        print('i5', '8gb')\n",
    "\n",
    "com1 = computer()\n",
    "com2 = computer()\n",
    "\n",
    "com1.config() "
   ]
  },
  {
   "cell_type": "code",
   "execution_count": 24,
   "id": "4179f76c-5cd4-42d1-b983-ea20b0aa8cf1",
   "metadata": {},
   "outputs": [
    {
     "name": "stdout",
     "output_type": "stream",
     "text": [
      "in init\n",
      "in init\n",
      "i5 8gb\n",
      "i5 8gb\n"
     ]
    }
   ],
   "source": [
    "class computer():        \n",
    "    \n",
    "    def __init__(self):          # idea behind init is it will call automatically\n",
    "        print('in init')         # i define a function called init & i am not calling init\n",
    "    \n",
    "    def config(self):            # i m calling config cuz i want to execute\n",
    "        print('i5', '8gb')\n",
    "\n",
    "com1 = computer() # as we create 2 object automatically init called 2 times\n",
    "com2 = computer()\n",
    "\n",
    "com1.config() \n",
    "com2.config()"
   ]
  },
  {
   "cell_type": "code",
   "execution_count": 25,
   "id": "4c432a31-ec3c-4580-96ae-006c4af277d1",
   "metadata": {},
   "outputs": [
    {
     "ename": "TypeError",
     "evalue": "computer.__init__() takes 1 positional argument but 3 were given",
     "output_type": "error",
     "traceback": [
      "\u001b[1;31m---------------------------------------------------------------------------\u001b[0m",
      "\u001b[1;31mTypeError\u001b[0m                                 Traceback (most recent call last)",
      "Cell \u001b[1;32mIn[25], line 9\u001b[0m\n\u001b[0;32m      6\u001b[0m     \u001b[38;5;28;01mdef\u001b[39;00m \u001b[38;5;21mconfig\u001b[39m(\u001b[38;5;28mself\u001b[39m):     \n\u001b[0;32m      7\u001b[0m         \u001b[38;5;28mprint\u001b[39m(\u001b[38;5;124m'\u001b[39m\u001b[38;5;124mi5\u001b[39m\u001b[38;5;124m'\u001b[39m, \u001b[38;5;124m'\u001b[39m\u001b[38;5;124m8gb\u001b[39m\u001b[38;5;124m'\u001b[39m)\n\u001b[1;32m----> 9\u001b[0m lap1 \u001b[38;5;241m=\u001b[39m computer(\u001b[38;5;124m'\u001b[39m\u001b[38;5;124mi5\u001b[39m\u001b[38;5;124m'\u001b[39m, \u001b[38;5;241m8\u001b[39m)               \u001b[38;5;66;03m# com1 has cpu i5 & ram is 8 \u001b[39;00m\n\u001b[0;32m     10\u001b[0m lap2 \u001b[38;5;241m=\u001b[39m computer(\u001b[38;5;124m'\u001b[39m\u001b[38;5;124mi7\u001b[39m\u001b[38;5;124m'\u001b[39m, \u001b[38;5;241m16\u001b[39m)              \u001b[38;5;66;03m# com2 has cpu intel 5 & ram is 8 as we have 2 computer we have different ram & cpt\u001b[39;00m\n\u001b[0;32m     12\u001b[0m lap1\u001b[38;5;241m.\u001b[39mconfig() \n",
      "\u001b[1;31mTypeError\u001b[0m: computer.__init__() takes 1 positional argument but 3 were given"
     ]
    }
   ],
   "source": [
    "class computer():        \n",
    "    \n",
    "    def __init__(self):                #__init__ means to initialize the variable\n",
    "        print('in init')\n",
    "    \n",
    "    def config(self):     \n",
    "        print('i5', '8gb')\n",
    "\n",
    "lap1 = computer('i5', 8)               # com1 has cpu i5 & ram is 8 \n",
    "lap2 = computer('i7', 16)              # com2 has cpu intel 5 & ram is 8 as we have 2 computer we have different ram & cpt\n",
    "\n",
    "lap1.config() \n",
    "lap2.config()"
   ]
  },
  {
   "cell_type": "code",
   "execution_count": 26,
   "id": "c6b21e5d-512a-4012-8772-e28de40ba129",
   "metadata": {},
   "outputs": [
    {
     "name": "stdout",
     "output_type": "stream",
     "text": [
      "in init\n",
      "in init\n",
      "i5 8gb\n",
      "i7 16gb\n",
      "i5 8gb\n",
      "i7 16gb\n"
     ]
    }
   ],
   "source": [
    "class computer():        \n",
    "    \n",
    "    def __init__(self,cpu,ram): #__init__ means to initialize the variable\n",
    "        print('in init')\n",
    "    \n",
    "    def config(self):     \n",
    "        print('i5', '8gb')\n",
    "        print('i7', '16gb')\n",
    "\n",
    "lap1 = computer('i5', 8) # com1 has cpu i5 & ram is 8 \n",
    "lap2 = computer('i7', 16) # com2 has cpu intel 5 & ram is 8 as we have 2 computer we have different ram & cpt\n",
    "\n",
    "lap1.config() \n",
    "lap2.config()"
   ]
  },
  {
   "cell_type": "code",
   "execution_count": 27,
   "id": "f9e23b87-c757-4538-9842-12f81088cd06",
   "metadata": {},
   "outputs": [
    {
     "name": "stdout",
     "output_type": "stream",
     "text": [
      "laptop config is:  i5 8 32000\n",
      "laptop config is:  i7 16 64000\n",
      "2388826376576\n",
      "2388820306992\n"
     ]
    }
   ],
   "source": [
    "class computer():        \n",
    "    \n",
    "    def __init__(self,cpu, ram, price): # cpu & ram as argument\n",
    "        self.cpu = cpu #hear self is the object & we need to refer to the object\n",
    "        self.ram = ram \n",
    "        self.price = price \n",
    "\n",
    "    def config(self):     \n",
    "        print('laptop config is: ', self.cpu, self.ram, self.price)\n",
    "\n",
    "com1 = computer('i5', 8, 32000)\n",
    "com2 = computer('i7', 16, 64000)\n",
    "\n",
    "\n",
    "com1.config() \n",
    "com2.config()\n",
    "\n",
    "print(id(com1))\n",
    "print(id(com2))"
   ]
  },
  {
   "cell_type": "markdown",
   "id": "cb7911d8-6388-485f-bf6e-a45c614ab2d5",
   "metadata": {},
   "source": [
    "# --------------------------------------------------------------------------------------"
   ]
  },
  {
   "cell_type": "code",
   "execution_count": 31,
   "id": "c65e998d-8453-42f6-87dd-2e865daa8dc2",
   "metadata": {},
   "outputs": [
    {
     "ename": "IndentationError",
     "evalue": "expected an indented block after class definition on line 1 (1763855309.py, line 3)",
     "output_type": "error",
     "traceback": [
      "\u001b[1;36m  Cell \u001b[1;32mIn[31], line 3\u001b[1;36m\u001b[0m\n\u001b[1;33m    c1 = computer()\u001b[0m\n\u001b[1;37m    ^\u001b[0m\n\u001b[1;31mIndentationError\u001b[0m\u001b[1;31m:\u001b[0m expected an indented block after class definition on line 1\n"
     ]
    }
   ],
   "source": [
    "class computer:  \n",
    "   \n",
    "c1 = computer() \n",
    "print(id(c1))\n",
    "\n",
    "# No method, so class won't run"
   ]
  },
  {
   "cell_type": "code",
   "execution_count": 32,
   "id": "9e4f9cb5-9ecb-4426-99aa-4d1a1f94fa5b",
   "metadata": {},
   "outputs": [
    {
     "name": "stdout",
     "output_type": "stream",
     "text": [
      "2388829848304\n"
     ]
    }
   ],
   "source": [
    "class computer:  \n",
    "    pass\n",
    "   \n",
    "c1 = computer() \n",
    "print(id(c1))"
   ]
  },
  {
   "cell_type": "code",
   "execution_count": 33,
   "id": "c956afa2-e319-46a4-9f38-fa06ce8d1453",
   "metadata": {},
   "outputs": [
    {
     "name": "stdout",
     "output_type": "stream",
     "text": [
      "2388832627760\n",
      "2388832925552\n"
     ]
    }
   ],
   "source": [
    "class computer:\n",
    "    pass\n",
    "\n",
    "c1 = computer()\n",
    "c2 = computer()\n",
    "\n",
    "print(id(c1))\n",
    "print(id(c2))\n",
    "\n",
    "# Different addrresses "
   ]
  },
  {
   "cell_type": "code",
   "execution_count": 34,
   "id": "993080f5-1ced-4030-a24d-267795f331d2",
   "metadata": {},
   "outputs": [
    {
     "name": "stdout",
     "output_type": "stream",
     "text": [
      "akash 37\n",
      "akash\n"
     ]
    }
   ],
   "source": [
    "class computer:\n",
    "    def __init__(self):\n",
    "        self.name = 'akash'\n",
    "        self.age = 37\n",
    "\n",
    "c1 = computer()\n",
    "c2 = computer()\n",
    "\n",
    "print(c1.name,c1.age)\n",
    "print(c2.name)"
   ]
  },
  {
   "cell_type": "code",
   "execution_count": 35,
   "id": "409ac6cf-c41d-46d0-a20c-859cc3a89140",
   "metadata": {},
   "outputs": [
    {
     "name": "stdout",
     "output_type": "stream",
     "text": [
      "Sonny 37\n",
      "Tyler 40\n"
     ]
    }
   ],
   "source": [
    "class computer:\n",
    "    def __init__(self):\n",
    "        self.name = 'akash'\n",
    "        self.age = 37\n",
    "\n",
    "c1 = computer()\n",
    "c2 = computer()\n",
    "\n",
    "c2.name = 'Tyler'\n",
    "c2.age = 40\n",
    "c1.name = 'Sonny'\n",
    "c1.age = 37\n",
    "\n",
    "\n",
    "print(c1.name, c1.age)\n",
    "print(c2.name, c2.age)"
   ]
  },
  {
   "cell_type": "markdown",
   "id": "421dcdb9-b8ca-4373-a794-eb9cb9b52755",
   "metadata": {},
   "source": [
    "# Encapsulation"
   ]
  },
  {
   "cell_type": "code",
   "execution_count": 36,
   "id": "0900002f-6c1b-4ce8-9306-4e9db1a88bb0",
   "metadata": {},
   "outputs": [
    {
     "name": "stdout",
     "output_type": "stream",
     "text": [
      "bmw 10\n",
      "bmw 10\n",
      "2388834709632\n",
      "2388832925552\n"
     ]
    }
   ],
   "source": [
    "class car:\n",
    "    def __init__(self):\n",
    "        self.mil = 10                # Instance Variable\n",
    "        self.com = 'bmw'             # Instance Variable\n",
    "        \n",
    "c1 = car()\n",
    "c2 = car()\n",
    "\n",
    "print(c1.com, c1.mil)\n",
    "print(c2.com, c2.mil)\n",
    "\n",
    "print(id(c1))\n",
    "print(id(c2))"
   ]
  },
  {
   "cell_type": "code",
   "execution_count": 37,
   "id": "e0693c2f-2994-4703-8401-260588d07306",
   "metadata": {},
   "outputs": [
    {
     "name": "stdout",
     "output_type": "stream",
     "text": [
      "maruti 20\n",
      "bmw 10\n",
      "2388832108464\n",
      "2388834709632\n"
     ]
    }
   ],
   "source": [
    "class car:\n",
    "    def __init__(self):\n",
    "        self.mil = 10\n",
    "        self.com = 'bmw'\n",
    "        \n",
    "c1 = car()\n",
    "c2 = car()\n",
    "\n",
    "c1.com = 'maruti'\n",
    "c1.mil = 20 \n",
    "\n",
    "print(c1.com, c1.mil)\n",
    "print(c2.com, c2.mil)\n",
    "\n",
    "print(id(c1))\n",
    "print(id(c2))"
   ]
  },
  {
   "cell_type": "code",
   "execution_count": 38,
   "id": "cddb5219-40a2-4040-affd-34c237d076d3",
   "metadata": {},
   "outputs": [
    {
     "name": "stdout",
     "output_type": "stream",
     "text": [
      "bmw 10 5\n",
      "bmw 8 5\n"
     ]
    }
   ],
   "source": [
    "class car:\n",
    "    \n",
    "    wheels = 5                                  # Class Variable\n",
    "    \n",
    "    def __init__(self):\n",
    "        self.mil = 10                           # Instance Variable\n",
    "        self.com = 'bmw'                        # Instance Variable\n",
    "        \n",
    "c1 = car()\n",
    "c2 = car()\n",
    "\n",
    "c2.mil = 8\n",
    "\n",
    "print(c1.com, c1.mil, c1.wheels)\n",
    "print(c2.com, c2.mil, c2.wheels)"
   ]
  },
  {
   "cell_type": "code",
   "execution_count": 39,
   "id": "e5d7f7be-02a6-44b2-bc3e-06c2543b1edf",
   "metadata": {},
   "outputs": [
    {
     "name": "stdout",
     "output_type": "stream",
     "text": [
      "bmw 10 6\n",
      "bmw 8 7\n"
     ]
    }
   ],
   "source": [
    "class car:\n",
    "    wheels = 6\n",
    "    \n",
    "    def __init__(self):\n",
    "        self.mil = 10\n",
    "        self.com = 'bmw'\n",
    "        \n",
    "c1 = car()\n",
    "c2 = car()\n",
    "\n",
    "c2.mil = 8\n",
    "c2.wheels = 7\n",
    "\n",
    "print(c1.com, c1.mil, c1.wheels)\n",
    "print(c2.com, c2.mil, c2.wheels)"
   ]
  },
  {
   "cell_type": "code",
   "execution_count": 40,
   "id": "ced6f608-07a0-4f19-b6e6-6dffceed83e8",
   "metadata": {},
   "outputs": [
    {
     "name": "stdout",
     "output_type": "stream",
     "text": [
      "20.0\n",
      "10.0\n"
     ]
    }
   ],
   "source": [
    "class student: \n",
    "        \n",
    "    school = 'nit'                   #school is class variable\n",
    "    \n",
    "    def __init__(self, m1, m2, m3) : # here i pass 3 variable (m1,m2,m3 are instance variable)\n",
    "        self.m1 = m1\n",
    "        self.m2 = m2\n",
    "        self.m3 = m3\n",
    "        \n",
    "    # lets create a method to calculate average of the marks \n",
    "    def avg(self):                   # ------> here this average is INSTANCE METHOD \n",
    "        return (self.m1+self.m2+self.m3)/3\n",
    "    \n",
    "# lets create  object here as we created s1, s2 we created 2 object & also i want to pass value in this  \n",
    "s1 = student(10, 20, 30)\n",
    "s2 = student(5, 15, 10)\n",
    "\n",
    "print(s1.avg())\n",
    "print(s2.avg())"
   ]
  },
  {
   "cell_type": "code",
   "execution_count": 41,
   "id": "24992b06-2a0f-44e3-9d61-cd7abfec72b0",
   "metadata": {},
   "outputs": [
    {
     "name": "stdout",
     "output_type": "stream",
     "text": [
      "20.0\n",
      "10.0\n",
      "10\n"
     ]
    }
   ],
   "source": [
    "class student: \n",
    "        \n",
    "    school = 'nit'\n",
    "    \n",
    "    def __init__(self, m1, m2, m3) : # hear i pass 3 variable \n",
    "        self.m1 = m1\n",
    "        self.m2 = m2\n",
    "        self.m3 = m3\n",
    "    #lets create a method to calculate the average of the marks \n",
    "    def avg(self):                   # ------> here this average is an INSTANCE METHOD \n",
    "        return (self.m1+self.m2+self.m3)/3\n",
    "    \n",
    "# lets create  object hear as we created s1, s2 we created 2 object & also i want to pass value in this  \n",
    "s1 = student(10, 20, 30)\n",
    "s2 = student(5, 15, 10)\n",
    "\n",
    "print(s1.avg())\n",
    "print(s2.avg())\n",
    "\n",
    "# we also get the value like this & rather we can print like this we also define method \n",
    "print(s1.m1)\n"
   ]
  },
  {
   "cell_type": "code",
   "execution_count": 43,
   "id": "f5e451a9-99dd-439d-985d-64580f41ad00",
   "metadata": {},
   "outputs": [
    {
     "name": "stdout",
     "output_type": "stream",
     "text": [
      "20.0\n",
      "10.0\n",
      "nit\n",
      "nit\n"
     ]
    }
   ],
   "source": [
    "class student: \n",
    "        \n",
    "    school = 'nit'\n",
    "    \n",
    "    def __init__(self, m1, m2, m3) : # here i pass 3 variable \n",
    "        self.m1 = m1\n",
    "        self.m2 = m2\n",
    "        self.m3 = m3\n",
    "    # Let's create a method to calculate the average of the marks \n",
    "    def avg(self):                   # ------> here this average is INSTANCE METHOD \n",
    "        return (self.m1+self.m2+self.m3)/3\n",
    "    \n",
    "    def info(cls):                   # user needs to define cls - for class variable \n",
    "        return cls.school \n",
    "        \n",
    "# lets create  object hear as we created s1, s2 we created 2 object & also i want to pass value in this  \n",
    "s1 = student(10, 20, 30)\n",
    "s2 = student(5, 15, 10)\n",
    "\n",
    "print(s1.avg())\n",
    "print(s2.avg())\n",
    "\n",
    "print(s1.info())\n",
    "print(s2.info())"
   ]
  },
  {
   "cell_type": "markdown",
   "id": "8e7d2379-2fd8-4cf1-bcd1-a90644a569f7",
   "metadata": {},
   "source": [
    "#### Decorator (used to create Class Method)"
   ]
  },
  {
   "cell_type": "code",
   "execution_count": 46,
   "id": "0aec5324-99a7-49de-85b3-cb6e4dd01831",
   "metadata": {},
   "outputs": [
    {
     "name": "stdout",
     "output_type": "stream",
     "text": [
      "20.0\n",
      "10.0\n",
      "nit\n",
      "nit\n"
     ]
    },
    {
     "ename": "TypeError",
     "evalue": "student.info() missing 1 required positional argument: 'cls'",
     "output_type": "error",
     "traceback": [
      "\u001b[1;31m---------------------------------------------------------------------------\u001b[0m",
      "\u001b[1;31mTypeError\u001b[0m                                 Traceback (most recent call last)",
      "Cell \u001b[1;32mIn[46], line 26\u001b[0m\n\u001b[0;32m     23\u001b[0m \u001b[38;5;28mprint\u001b[39m(s1\u001b[38;5;241m.\u001b[39minfo())\n\u001b[0;32m     24\u001b[0m \u001b[38;5;28mprint\u001b[39m(s2\u001b[38;5;241m.\u001b[39minfo())\n\u001b[1;32m---> 26\u001b[0m \u001b[38;5;28mprint\u001b[39m(student\u001b[38;5;241m.\u001b[39minfo())\n\u001b[0;32m     27\u001b[0m \u001b[38;5;28mprint\u001b[39m(student\u001b[38;5;241m.\u001b[39minfo())\n",
      "\u001b[1;31mTypeError\u001b[0m: student.info() missing 1 required positional argument: 'cls'"
     ]
    }
   ],
   "source": [
    "class student: \n",
    "        \n",
    "    school = 'nit'\n",
    "    \n",
    "    def __init__(self, m1, m2, m3) : # here i pass 3 variable \n",
    "        self.m1 = m1\n",
    "        self.m2 = m2\n",
    "        self.m3 = m3\n",
    "    # Let's create a method to calculate the average of the marks \n",
    "    def avg(self):                   # ------> here this average is INSTANCE METHOD \n",
    "        return (self.m1+self.m2+self.m3)/3\n",
    "    \n",
    "    def info(cls):                   # user needs to define cls - for class variable \n",
    "        return cls.school \n",
    "        \n",
    "# lets create  object hear as we created s1, s2 we created 2 object & also i want to pass value in this  \n",
    "s1 = student(10, 20, 30)\n",
    "s2 = student(5, 15, 10)\n",
    "\n",
    "print(s1.avg())\n",
    "print(s2.avg())\n",
    "\n",
    "print(s1.info())\n",
    "print(s2.info())\n",
    "\n",
    "print(student.info())\n",
    "print(student.info())"
   ]
  },
  {
   "cell_type": "code",
   "execution_count": 47,
   "id": "dc7a4735-4ea4-4f8f-8377-4980028a87cc",
   "metadata": {},
   "outputs": [
    {
     "name": "stdout",
     "output_type": "stream",
     "text": [
      "20.0\n",
      "10.0\n",
      "nit\n",
      "nit\n",
      "nit\n",
      "nit\n"
     ]
    }
   ],
   "source": [
    "class student: \n",
    "        \n",
    "    school = 'nit'\n",
    "    \n",
    "    def __init__(self, m1, m2, m3) : # here i pass 3 variable \n",
    "        self.m1 = m1\n",
    "        self.m2 = m2\n",
    "        self.m3 = m3\n",
    "    # Let's create a method to calculate the average of the marks \n",
    "    def avg(self):                   # ------> here this average is INSTANCE METHOD \n",
    "        return (self.m1+self.m2+self.m3)/3\n",
    "\n",
    "    @classmethod                     # DECORATOR\n",
    "    def info(cls):                   # user needs to define cls - for class variable \n",
    "        return cls.school \n",
    "        \n",
    "# lets create  object hear as we created s1, s2 we created 2 object & also i want to pass value in this  \n",
    "s1 = student(10, 20, 30)\n",
    "s2 = student(5, 15, 10)\n",
    "\n",
    "print(s1.avg())\n",
    "print(s2.avg())\n",
    "\n",
    "print(s1.info())\n",
    "print(s2.info())\n",
    "\n",
    "print(student.info())\n",
    "print(student.info())"
   ]
  },
  {
   "cell_type": "code",
   "execution_count": 48,
   "id": "48c1182d-935e-4b35-90c6-4c277f07a8c8",
   "metadata": {},
   "outputs": [
    {
     "name": "stdout",
     "output_type": "stream",
     "text": [
      "20.0\n",
      "10.0\n",
      "nit\n",
      "this is student class\n"
     ]
    }
   ],
   "source": [
    "class student: \n",
    "        \n",
    "    school = 'nit'\n",
    "    \n",
    "    def __init__(self, m1, m2, m3) : # hear i pass 3 variable \n",
    "        self.m1 = m1\n",
    "        self.m2 = m2\n",
    "        self.m3 = m3\n",
    "    # lets create a method to calculate average of the marks \n",
    "    def avg(self):                   # ------> here this average is INSTANCE METHOD \n",
    "        return (self.m1+self.m2+self.m3)/3\n",
    "    \n",
    "    @classmethod\n",
    "    def getSchool(cls):\n",
    "        return cls.school\n",
    "    \n",
    "    @staticmethod                    # this student class nothing to do any class & for that also u need to pass speciasl decorator\n",
    "    def info():\n",
    "        print('this is student class') \n",
    "        \n",
    "# lets create  object hear as we created s1, s2 we created 2 object & also i want to pass value in this  \n",
    "s1 = student(10, 20, 30)\n",
    "s2 = student(5, 15, 10)\n",
    "\n",
    "print(s1.avg())\n",
    "print(s2.avg())\n",
    "\n",
    "print(student.getSchool())\n",
    "\n",
    "student.info()"
   ]
  },
  {
   "cell_type": "markdown",
   "id": "2ec8def9-69c6-47e3-a1ab-0f2ebc82af26",
   "metadata": {},
   "source": [
    "#### Inner Class (class inside class)"
   ]
  },
  {
   "cell_type": "code",
   "execution_count": 49,
   "id": "34588e7d-f602-4e21-8759-952fed8c7a3d",
   "metadata": {},
   "outputs": [
    {
     "name": "stdout",
     "output_type": "stream",
     "text": [
      "a 1\n",
      "b 2\n"
     ]
    }
   ],
   "source": [
    "class student:\n",
    "    def __init__(self, name, rollno):\n",
    "        self.name = name\n",
    "        self.rollno = rollno\n",
    "     \n",
    "s1 = student('a',1)\n",
    "s2 = student('b',2)\n",
    "\n",
    "print(s1.name, s1.rollno) \n",
    "print(s2.name, s2.rollno) "
   ]
  },
  {
   "cell_type": "code",
   "execution_count": 50,
   "id": "929bf842-dc00-45ec-9bfb-c12f4a0f8ca1",
   "metadata": {},
   "outputs": [
    {
     "name": "stdout",
     "output_type": "stream",
     "text": [
      "a 1 lenovo i5 8\n",
      "b 2 hp i7 16\n"
     ]
    }
   ],
   "source": [
    "class student:\n",
    "    def __init__(self, name, rollno, laptop, cpu, ram):\n",
    "        self.name = name\n",
    "        self.rollno = rollno\n",
    "        self.laptop = laptop\n",
    "        self.cpu = cpu\n",
    "        self.ram = ram\n",
    "        \n",
    "    def show(self):\n",
    "        print(s1.name, s1.rollno,s1.laptop, s1.cpu, s1.ram)\n",
    "        print(s2.name, s2.rollno,s2.laptop, s2.cpu, s2.ram)\n",
    "\n",
    "s1 = student('a',1,'lenovo','i5',8) # the moment when we assign the variable we need to assign the class as well \n",
    "s2 = student('b',2,'hp','i7',16)\n",
    "\n",
    "s2.show()"
   ]
  },
  {
   "cell_type": "code",
   "execution_count": 55,
   "id": "2a587a44-a22b-4392-b5c1-4834b154cd75",
   "metadata": {},
   "outputs": [
    {
     "name": "stdout",
     "output_type": "stream",
     "text": [
      "a 1\n",
      "b 2\n",
      "2388866849808\n",
      "2388866845632\n"
     ]
    }
   ],
   "source": [
    "class student:\n",
    "    def __init__(self, name, rollno):\n",
    "        self.name = name\n",
    "        self.rollno = rollno\n",
    "        \n",
    "        self.lap = self.LAPTOP()           # in outerclass we define the variable\n",
    "        \n",
    "    def show(self):\n",
    "        print(self.name, self.rollno)\n",
    "\n",
    "    # INNER CLASS\n",
    "    class LAPTOP:\n",
    "        def __init__(self):\n",
    "            self.brand = 'hp'\n",
    "            self.cpu = 'i5'\n",
    "            self.ram = 8\n",
    "     \n",
    "s1 = student('a',1)                       # the moment when we assign the variable we need to assign the class as well \n",
    "s2 = student('b',2)\n",
    "\n",
    "s1.show()\n",
    "s2.show()\n",
    "\n",
    "\n",
    "lap1 = s1.lap\n",
    "lap2 = s2.lap\n",
    "\n",
    "\n",
    "print(id(lap1))\n",
    "print(id(lap2))"
   ]
  },
  {
   "cell_type": "code",
   "execution_count": null,
   "id": "a2ac9612-31c8-4d97-9e0b-bc9c6dddda38",
   "metadata": {},
   "outputs": [],
   "source": []
  }
 ],
 "metadata": {
  "kernelspec": {
   "display_name": "Python [conda env:base] *",
   "language": "python",
   "name": "conda-base-py"
  },
  "language_info": {
   "codemirror_mode": {
    "name": "ipython",
    "version": 3
   },
   "file_extension": ".py",
   "mimetype": "text/x-python",
   "name": "python",
   "nbconvert_exporter": "python",
   "pygments_lexer": "ipython3",
   "version": "3.12.7"
  }
 },
 "nbformat": 4,
 "nbformat_minor": 5
}
