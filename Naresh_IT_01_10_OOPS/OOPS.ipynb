{
 "cells": [
  {
   "cell_type": "markdown",
   "id": "f383f6cf-9a1c-4784-a199-0ff26940137d",
   "metadata": {},
   "source": [
    "# Class, Object, Method, Self"
   ]
  },
  {
   "cell_type": "code",
   "execution_count": 1,
   "id": "49ced70b-8366-41ca-9e33-2dd1143e22d7",
   "metadata": {},
   "outputs": [
    {
     "name": "stdout",
     "output_type": "stream",
     "text": [
      "<class 'int'>\n"
     ]
    }
   ],
   "source": [
    "# Inbuilt Class\n",
    "a = 5\n",
    "print(type(a))"
   ]
  },
  {
   "cell_type": "code",
   "execution_count": 2,
   "id": "39727518-b8bc-4c3b-b220-3e465f75f85d",
   "metadata": {},
   "outputs": [
    {
     "name": "stdout",
     "output_type": "stream",
     "text": [
      "<class 'list'>\n"
     ]
    }
   ],
   "source": [
    "# Inbuilt Class\n",
    "l = [1,2,3,]\n",
    "print(type(l))"
   ]
  },
  {
   "cell_type": "code",
   "execution_count": 3,
   "id": "54558057-29bf-4e06-a72a-74a030df8a5d",
   "metadata": {},
   "outputs": [
    {
     "name": "stdout",
     "output_type": "stream",
     "text": [
      "i5 8gb\n"
     ]
    }
   ],
   "source": [
    "def config():   \n",
    "    print('i5', '8gb')\n",
    "config()\n",
    "\n",
    "# Here config() is a function"
   ]
  },
  {
   "cell_type": "code",
   "execution_count": 4,
   "id": "ac9d786b-2a3d-4031-98e9-1dc6bf36efa8",
   "metadata": {},
   "outputs": [
    {
     "name": "stdout",
     "output_type": "stream",
     "text": [
      "i8 hp 8\n",
      "i12 dell 16\n"
     ]
    }
   ],
   "source": [
    "class laptop():\n",
    "    def config(): \n",
    "        print('i8', 'hp', 8)\n",
    "        print('i12', 'dell', 16)\n",
    "\n",
    "lap1 = laptop()                # lap1 is an object of laptop() class\n",
    "\n",
    "laptop.config()                # class.method()\n",
    "\n",
    "# Here config is a method"
   ]
  },
  {
   "cell_type": "code",
   "execution_count": 5,
   "id": "99734659-0fc9-4e26-b265-1a15178727a1",
   "metadata": {},
   "outputs": [
    {
     "ename": "TypeError",
     "evalue": "laptop.config() takes 0 positional arguments but 1 was given",
     "output_type": "error",
     "traceback": [
      "\u001b[1;31m---------------------------------------------------------------------------\u001b[0m",
      "\u001b[1;31mTypeError\u001b[0m                                 Traceback (most recent call last)",
      "Cell \u001b[1;32mIn[5], line 7\u001b[0m\n\u001b[0;32m      4\u001b[0m         \u001b[38;5;28mprint\u001b[39m(\u001b[38;5;124m'\u001b[39m\u001b[38;5;124mi12\u001b[39m\u001b[38;5;124m'\u001b[39m, \u001b[38;5;124m'\u001b[39m\u001b[38;5;124mdell\u001b[39m\u001b[38;5;124m'\u001b[39m, \u001b[38;5;241m16\u001b[39m)\n\u001b[0;32m      6\u001b[0m lap1 \u001b[38;5;241m=\u001b[39m laptop()  \n\u001b[1;32m----> 7\u001b[0m lap1\u001b[38;5;241m.\u001b[39mconfig()\n",
      "\u001b[1;31mTypeError\u001b[0m: laptop.config() takes 0 positional arguments but 1 was given"
     ]
    }
   ],
   "source": [
    "class laptop():\n",
    "    def config(): \n",
    "        print('i8', 'hp', 8)\n",
    "        print('i12', 'dell', 16)\n",
    "\n",
    "lap1 = laptop()  \n",
    "lap1.config()"
   ]
  },
  {
   "cell_type": "code",
   "execution_count": 6,
   "id": "86bf50d2-9b38-4210-855f-6c7072ec6e00",
   "metadata": {},
   "outputs": [
    {
     "name": "stdout",
     "output_type": "stream",
     "text": [
      "i8 hp 8\n",
      "i12 dell 16\n"
     ]
    }
   ],
   "source": [
    "class laptop():\n",
    "    def config(self):                         # 'self' acts as an argument\n",
    "        print('i8', 'hp', 8)\n",
    "        print('i12', 'dell', 16)\n",
    "\n",
    "lap1 = laptop()  \n",
    "laptop.config(lap1)"
   ]
  },
  {
   "cell_type": "code",
   "execution_count": 7,
   "id": "824ca96a-b14e-41cd-9120-cc6ba38693f3",
   "metadata": {},
   "outputs": [
    {
     "name": "stdout",
     "output_type": "stream",
     "text": [
      "i8 hp 8\n",
      "i12 dell 16\n",
      "i8 hp 8\n",
      "i12 dell 16\n",
      "i8 hp 8\n",
      "i12 dell 16\n"
     ]
    }
   ],
   "source": [
    "class laptop():\n",
    "    def config(self): \n",
    "        print('i8', 'hp', 8)\n",
    "        print('i12', 'dell', 16)\n",
    "\n",
    "lap1 = laptop()  \n",
    "lap2 = laptop()\n",
    "lap3 = laptop()\n",
    "\n",
    "lap1.config()\n",
    "lap2.config()\n",
    "lap3.config()"
   ]
  },
  {
   "cell_type": "code",
   "execution_count": 8,
   "id": "8c3596cd-7586-46da-b524-95ac4ff06b74",
   "metadata": {},
   "outputs": [
    {
     "name": "stdout",
     "output_type": "stream",
     "text": [
      "<class 'float'>\n",
      "<class '__main__.computer'>\n"
     ]
    }
   ],
   "source": [
    "class computer:       \n",
    "    def config():      \n",
    "        print('i5', '8gb') \n",
    "    \n",
    "a = 8.8\n",
    "print(type(a))                           # Inbuilt class\n",
    "\n",
    "com1 = computer()                        # User-defined class\n",
    "print(type(com1))  "
   ]
  },
  {
   "cell_type": "markdown",
   "id": "12dcf18c-a26e-4328-b4f4-67e4fb1f65cb",
   "metadata": {},
   "source": [
    " # __name__, __init__"
   ]
  },
  {
   "cell_type": "code",
   "execution_count": 9,
   "id": "fb0954e0-5a48-4bd6-b287-e42f810265e2",
   "metadata": {},
   "outputs": [],
   "source": [
    "## __name__ = main function/main module\n",
    "## __init__ = special method, constructor"
   ]
  },
  {
   "cell_type": "code",
   "execution_count": 10,
   "id": "42fa6ee3-74ee-4c7b-bc06-80bd97c315cc",
   "metadata": {},
   "outputs": [],
   "source": [
    "class laptop():\n",
    "    def config(): \n",
    "        print('i8', 'hp', 8)\n",
    "        print('i12', 'dell', 16)\n",
    "\n",
    "lap1 = laptop()"
   ]
  },
  {
   "cell_type": "code",
   "execution_count": 11,
   "id": "a734bac8-036f-4af5-b106-5649b873d6fc",
   "metadata": {},
   "outputs": [
    {
     "name": "stdout",
     "output_type": "stream",
     "text": [
      "i8 hp 8\n",
      "i12 dell 16\n"
     ]
    }
   ],
   "source": [
    "class laptop():\n",
    "    def __init__(self):                 # __init__ = constructor\n",
    "        print('i8', 'hp', 8)\n",
    "        print('i12', 'dell', 16)\n",
    "\n",
    "lap = laptop()"
   ]
  },
  {
   "cell_type": "code",
   "execution_count": 12,
   "id": "3370fb8a-7867-4c3d-a41d-2d8fe0975a32",
   "metadata": {},
   "outputs": [
    {
     "name": "stdout",
     "output_type": "stream",
     "text": [
      "i8 hp 8\n",
      "i12 dell 16\n",
      "\n",
      "i8 hp 8\n",
      "i12 dell 16\n",
      "\n",
      "i8 hp 8\n",
      "i12 dell 16\n"
     ]
    }
   ],
   "source": [
    "class laptop():\n",
    "    def __init__(self): \n",
    "        print('i8', 'hp', 8)\n",
    "        print('i12', 'dell', 16)\n",
    "\n",
    "lap = laptop()\n",
    "print()\n",
    "lap3 = laptop()\n",
    "print()\n",
    "lap3.__init__()"
   ]
  },
  {
   "cell_type": "code",
   "execution_count": 13,
   "id": "8aae710b-1284-4752-aae3-38f02d1152bb",
   "metadata": {},
   "outputs": [
    {
     "name": "stdout",
     "output_type": "stream",
     "text": [
      "in init\n",
      "in init\n",
      "in init\n"
     ]
    }
   ],
   "source": [
    "class computer:        \n",
    "    \n",
    "    def __init__(self): #__init__ means initialize the varible\n",
    "        print('in init')\n",
    "        \n",
    "com1 = computer()\n",
    "com2 = computer()\n",
    "com3 = computer()"
   ]
  },
  {
   "cell_type": "code",
   "execution_count": 14,
   "id": "40db7e63-170f-42c5-bc7c-bcf767aa3518",
   "metadata": {},
   "outputs": [
    {
     "name": "stdout",
     "output_type": "stream",
     "text": [
      "in init\n",
      "i5 8gb\n"
     ]
    }
   ],
   "source": [
    "class computer():        \n",
    "    \n",
    "    def __init__(self):\n",
    "        print('in init')\n",
    "    \n",
    "    def config(self):     \n",
    "        print('i5', '8gb')\n",
    "\n",
    "com1 = computer()\n",
    "\n",
    "com1.config() "
   ]
  },
  {
   "cell_type": "code",
   "execution_count": 15,
   "id": "77fc4630-6f22-4230-938b-cfd777196bcb",
   "metadata": {},
   "outputs": [
    {
     "name": "stdout",
     "output_type": "stream",
     "text": [
      "in init\n",
      "in init\n",
      "i5 8gb\n"
     ]
    }
   ],
   "source": [
    "class computer():        \n",
    "    \n",
    "    def __init__(self):\n",
    "        print('in init')\n",
    "    \n",
    "    def config(self):     \n",
    "        print('i5', '8gb')\n",
    "\n",
    "com1 = computer()\n",
    "com2 = computer()\n",
    "\n",
    "com1.config() "
   ]
  },
  {
   "cell_type": "code",
   "execution_count": 16,
   "id": "4179f76c-5cd4-42d1-b983-ea20b0aa8cf1",
   "metadata": {},
   "outputs": [
    {
     "name": "stdout",
     "output_type": "stream",
     "text": [
      "in init\n",
      "in init\n",
      "i5 8gb\n",
      "i5 8gb\n"
     ]
    }
   ],
   "source": [
    "class computer():        \n",
    "    \n",
    "    def __init__(self):          # idea behind init is it will call automatically\n",
    "        print('in init')         # i define a function called init & i am not calling init\n",
    "    \n",
    "    def config(self):            # i m calling config cuz i want to execute\n",
    "        print('i5', '8gb')\n",
    "\n",
    "com1 = computer() # as we create 2 object automatically init called 2 times\n",
    "com2 = computer()\n",
    "\n",
    "com1.config() \n",
    "com2.config()"
   ]
  },
  {
   "cell_type": "code",
   "execution_count": 17,
   "id": "4c432a31-ec3c-4580-96ae-006c4af277d1",
   "metadata": {},
   "outputs": [
    {
     "ename": "TypeError",
     "evalue": "computer.__init__() takes 1 positional argument but 3 were given",
     "output_type": "error",
     "traceback": [
      "\u001b[1;31m---------------------------------------------------------------------------\u001b[0m",
      "\u001b[1;31mTypeError\u001b[0m                                 Traceback (most recent call last)",
      "Cell \u001b[1;32mIn[17], line 9\u001b[0m\n\u001b[0;32m      6\u001b[0m     \u001b[38;5;28;01mdef\u001b[39;00m \u001b[38;5;21mconfig\u001b[39m(\u001b[38;5;28mself\u001b[39m):     \n\u001b[0;32m      7\u001b[0m         \u001b[38;5;28mprint\u001b[39m(\u001b[38;5;124m'\u001b[39m\u001b[38;5;124mi5\u001b[39m\u001b[38;5;124m'\u001b[39m, \u001b[38;5;124m'\u001b[39m\u001b[38;5;124m8gb\u001b[39m\u001b[38;5;124m'\u001b[39m)\n\u001b[1;32m----> 9\u001b[0m lap1 \u001b[38;5;241m=\u001b[39m computer(\u001b[38;5;124m'\u001b[39m\u001b[38;5;124mi5\u001b[39m\u001b[38;5;124m'\u001b[39m, \u001b[38;5;241m8\u001b[39m)               \u001b[38;5;66;03m# com1 has cpu i5 & ram is 8 \u001b[39;00m\n\u001b[0;32m     10\u001b[0m lap2 \u001b[38;5;241m=\u001b[39m computer(\u001b[38;5;124m'\u001b[39m\u001b[38;5;124mi7\u001b[39m\u001b[38;5;124m'\u001b[39m, \u001b[38;5;241m16\u001b[39m)              \u001b[38;5;66;03m# com2 has cpu intel 5 & ram is 8 as we have 2 computer we have different ram & cpt\u001b[39;00m\n\u001b[0;32m     12\u001b[0m lap1\u001b[38;5;241m.\u001b[39mconfig() \n",
      "\u001b[1;31mTypeError\u001b[0m: computer.__init__() takes 1 positional argument but 3 were given"
     ]
    }
   ],
   "source": [
    "class computer():        \n",
    "    \n",
    "    def __init__(self):                #__init__ means to initialize the variable\n",
    "        print('in init')\n",
    "    \n",
    "    def config(self):     \n",
    "        print('i5', '8gb')\n",
    "\n",
    "lap1 = computer('i5', 8)               # com1 has cpu i5 & ram is 8 \n",
    "lap2 = computer('i7', 16)              # com2 has cpu intel 5 & ram is 8 as we have 2 computer we have different ram & cpt\n",
    "\n",
    "lap1.config() \n",
    "lap2.config()"
   ]
  },
  {
   "cell_type": "code",
   "execution_count": 18,
   "id": "c6b21e5d-512a-4012-8772-e28de40ba129",
   "metadata": {},
   "outputs": [
    {
     "name": "stdout",
     "output_type": "stream",
     "text": [
      "in init\n",
      "in init\n",
      "i5 8gb\n",
      "i7 16gb\n",
      "i5 8gb\n",
      "i7 16gb\n"
     ]
    }
   ],
   "source": [
    "class computer():        \n",
    "    \n",
    "    def __init__(self,cpu,ram): #__init__ means to initialize the variable\n",
    "        print('in init')\n",
    "    \n",
    "    def config(self):     \n",
    "        print('i5', '8gb')\n",
    "        print('i7', '16gb')\n",
    "\n",
    "lap1 = computer('i5', 8) # com1 has cpu i5 & ram is 8 \n",
    "lap2 = computer('i7', 16) # com2 has cpu intel 5 & ram is 8 as we have 2 computer we have different ram & cpt\n",
    "\n",
    "lap1.config() \n",
    "lap2.config()"
   ]
  },
  {
   "cell_type": "code",
   "execution_count": 19,
   "id": "f9e23b87-c757-4538-9842-12f81088cd06",
   "metadata": {},
   "outputs": [
    {
     "name": "stdout",
     "output_type": "stream",
     "text": [
      "laptop config is:  i5 8 32000\n",
      "laptop config is:  i7 16 64000\n",
      "2288754209952\n",
      "2288751979568\n"
     ]
    }
   ],
   "source": [
    "class computer():        \n",
    "    \n",
    "    def __init__(self,cpu, ram, price): # cpu & ram as argument\n",
    "        self.cpu = cpu #hear self is the object & we need to refer to the object\n",
    "        self.ram = ram \n",
    "        self.price = price \n",
    "\n",
    "    def config(self):     \n",
    "        print('laptop config is: ', self.cpu, self.ram, self.price)\n",
    "\n",
    "com1 = computer('i5', 8, 32000)\n",
    "com2 = computer('i7', 16, 64000)\n",
    "\n",
    "\n",
    "com1.config() \n",
    "com2.config()\n",
    "\n",
    "print(id(com1))\n",
    "print(id(com2))"
   ]
  },
  {
   "cell_type": "markdown",
   "id": "cb7911d8-6388-485f-bf6e-a45c614ab2d5",
   "metadata": {},
   "source": [
    "# --------------------------------------------------------------------------------------"
   ]
  },
  {
   "cell_type": "code",
   "execution_count": 20,
   "id": "c65e998d-8453-42f6-87dd-2e865daa8dc2",
   "metadata": {},
   "outputs": [
    {
     "ename": "IndentationError",
     "evalue": "expected an indented block after class definition on line 1 (1763855309.py, line 3)",
     "output_type": "error",
     "traceback": [
      "\u001b[1;36m  Cell \u001b[1;32mIn[20], line 3\u001b[1;36m\u001b[0m\n\u001b[1;33m    c1 = computer()\u001b[0m\n\u001b[1;37m    ^\u001b[0m\n\u001b[1;31mIndentationError\u001b[0m\u001b[1;31m:\u001b[0m expected an indented block after class definition on line 1\n"
     ]
    }
   ],
   "source": [
    "class computer:  \n",
    "   \n",
    "c1 = computer() \n",
    "print(id(c1))\n",
    "\n",
    "# No method, so class won't run"
   ]
  },
  {
   "cell_type": "code",
   "execution_count": 21,
   "id": "9e4f9cb5-9ecb-4426-99aa-4d1a1f94fa5b",
   "metadata": {},
   "outputs": [
    {
     "name": "stdout",
     "output_type": "stream",
     "text": [
      "2288756238112\n"
     ]
    }
   ],
   "source": [
    "class computer:  \n",
    "    pass\n",
    "   \n",
    "c1 = computer() \n",
    "print(id(c1))"
   ]
  },
  {
   "cell_type": "code",
   "execution_count": 22,
   "id": "c956afa2-e319-46a4-9f38-fa06ce8d1453",
   "metadata": {},
   "outputs": [
    {
     "name": "stdout",
     "output_type": "stream",
     "text": [
      "2288755388736\n",
      "2288756238112\n"
     ]
    }
   ],
   "source": [
    "class computer:\n",
    "    pass\n",
    "\n",
    "c1 = computer()\n",
    "c2 = computer()\n",
    "\n",
    "print(id(c1))\n",
    "print(id(c2))\n",
    "\n",
    "# Different addrresses "
   ]
  },
  {
   "cell_type": "code",
   "execution_count": 23,
   "id": "993080f5-1ced-4030-a24d-267795f331d2",
   "metadata": {},
   "outputs": [
    {
     "name": "stdout",
     "output_type": "stream",
     "text": [
      "akash 37\n",
      "akash\n"
     ]
    }
   ],
   "source": [
    "class computer:\n",
    "    def __init__(self):\n",
    "        self.name = 'akash'\n",
    "        self.age = 37\n",
    "\n",
    "c1 = computer()\n",
    "c2 = computer()\n",
    "\n",
    "print(c1.name,c1.age)\n",
    "print(c2.name)"
   ]
  },
  {
   "cell_type": "code",
   "execution_count": 24,
   "id": "409ac6cf-c41d-46d0-a20c-859cc3a89140",
   "metadata": {},
   "outputs": [
    {
     "name": "stdout",
     "output_type": "stream",
     "text": [
      "Sonny 37\n",
      "Tyler 40\n"
     ]
    }
   ],
   "source": [
    "class computer:\n",
    "    def __init__(self):\n",
    "        self.name = 'akash'\n",
    "        self.age = 37\n",
    "\n",
    "c1 = computer()\n",
    "c2 = computer()\n",
    "\n",
    "c2.name = 'Tyler'\n",
    "c2.age = 40\n",
    "c1.name = 'Sonny'\n",
    "c1.age = 37\n",
    "\n",
    "\n",
    "print(c1.name, c1.age)\n",
    "print(c2.name, c2.age)"
   ]
  },
  {
   "cell_type": "markdown",
   "id": "421dcdb9-b8ca-4373-a794-eb9cb9b52755",
   "metadata": {},
   "source": [
    "# Encapsulation"
   ]
  },
  {
   "cell_type": "code",
   "execution_count": 25,
   "id": "0900002f-6c1b-4ce8-9306-4e9db1a88bb0",
   "metadata": {},
   "outputs": [
    {
     "name": "stdout",
     "output_type": "stream",
     "text": [
      "bmw 10\n",
      "bmw 10\n",
      "2288758061200\n",
      "2288757584192\n"
     ]
    }
   ],
   "source": [
    "class car:\n",
    "    def __init__(self):\n",
    "        self.mil = 10                # Instance Variable\n",
    "        self.com = 'bmw'             # Instance Variable\n",
    "        \n",
    "c1 = car()\n",
    "c2 = car()\n",
    "\n",
    "print(c1.com, c1.mil)\n",
    "print(c2.com, c2.mil)\n",
    "\n",
    "print(id(c1))\n",
    "print(id(c2))"
   ]
  },
  {
   "cell_type": "code",
   "execution_count": 26,
   "id": "e0693c2f-2994-4703-8401-260588d07306",
   "metadata": {},
   "outputs": [
    {
     "name": "stdout",
     "output_type": "stream",
     "text": [
      "maruti 20\n",
      "bmw 10\n",
      "2288756228416\n",
      "2288758061200\n"
     ]
    }
   ],
   "source": [
    "class car:\n",
    "    def __init__(self):\n",
    "        self.mil = 10\n",
    "        self.com = 'bmw'\n",
    "        \n",
    "c1 = car()\n",
    "c2 = car()\n",
    "\n",
    "c1.com = 'maruti'\n",
    "c1.mil = 20 \n",
    "\n",
    "print(c1.com, c1.mil)\n",
    "print(c2.com, c2.mil)\n",
    "\n",
    "print(id(c1))\n",
    "print(id(c2))"
   ]
  },
  {
   "cell_type": "code",
   "execution_count": 27,
   "id": "cddb5219-40a2-4040-affd-34c237d076d3",
   "metadata": {},
   "outputs": [
    {
     "name": "stdout",
     "output_type": "stream",
     "text": [
      "bmw 10 5\n",
      "bmw 8 5\n"
     ]
    }
   ],
   "source": [
    "class car:\n",
    "    \n",
    "    wheels = 5                                  # Class Variable\n",
    "    \n",
    "    def __init__(self):\n",
    "        self.mil = 10                           # Instance Variable\n",
    "        self.com = 'bmw'                        # Instance Variable\n",
    "        \n",
    "c1 = car()\n",
    "c2 = car()\n",
    "\n",
    "c2.mil = 8\n",
    "\n",
    "print(c1.com, c1.mil, c1.wheels)\n",
    "print(c2.com, c2.mil, c2.wheels)"
   ]
  },
  {
   "cell_type": "code",
   "execution_count": 28,
   "id": "e5d7f7be-02a6-44b2-bc3e-06c2543b1edf",
   "metadata": {},
   "outputs": [
    {
     "name": "stdout",
     "output_type": "stream",
     "text": [
      "bmw 10 6\n",
      "bmw 8 7\n"
     ]
    }
   ],
   "source": [
    "class car:\n",
    "    wheels = 6\n",
    "    \n",
    "    def __init__(self):\n",
    "        self.mil = 10\n",
    "        self.com = 'bmw'\n",
    "        \n",
    "c1 = car()\n",
    "c2 = car()\n",
    "\n",
    "c2.mil = 8\n",
    "c2.wheels = 7\n",
    "\n",
    "print(c1.com, c1.mil, c1.wheels)\n",
    "print(c2.com, c2.mil, c2.wheels)"
   ]
  },
  {
   "cell_type": "code",
   "execution_count": 29,
   "id": "ced6f608-07a0-4f19-b6e6-6dffceed83e8",
   "metadata": {},
   "outputs": [
    {
     "name": "stdout",
     "output_type": "stream",
     "text": [
      "20.0\n",
      "10.0\n"
     ]
    }
   ],
   "source": [
    "class student: \n",
    "        \n",
    "    school = 'nit'                   #school is class variable\n",
    "    \n",
    "    def __init__(self, m1, m2, m3) : # here i pass 3 variable (m1,m2,m3 are instance variable)\n",
    "        self.m1 = m1\n",
    "        self.m2 = m2\n",
    "        self.m3 = m3\n",
    "        \n",
    "    # lets create a method to calculate average of the marks \n",
    "    def avg(self):                   # ------> here this average is INSTANCE METHOD \n",
    "        return (self.m1+self.m2+self.m3)/3\n",
    "    \n",
    "# lets create  object here as we created s1, s2 we created 2 object & also i want to pass value in this  \n",
    "s1 = student(10, 20, 30)\n",
    "s2 = student(5, 15, 10)\n",
    "\n",
    "print(s1.avg())\n",
    "print(s2.avg())"
   ]
  },
  {
   "cell_type": "code",
   "execution_count": 30,
   "id": "24992b06-2a0f-44e3-9d61-cd7abfec72b0",
   "metadata": {},
   "outputs": [
    {
     "name": "stdout",
     "output_type": "stream",
     "text": [
      "20.0\n",
      "10.0\n",
      "10\n"
     ]
    }
   ],
   "source": [
    "class student: \n",
    "        \n",
    "    school = 'nit'\n",
    "    \n",
    "    def __init__(self, m1, m2, m3) : # hear i pass 3 variable \n",
    "        self.m1 = m1\n",
    "        self.m2 = m2\n",
    "        self.m3 = m3\n",
    "    #lets create a method to calculate the average of the marks \n",
    "    def avg(self):                   # ------> here this average is an INSTANCE METHOD \n",
    "        return (self.m1+self.m2+self.m3)/3\n",
    "    \n",
    "# lets create  object hear as we created s1, s2 we created 2 object & also i want to pass value in this  \n",
    "s1 = student(10, 20, 30)\n",
    "s2 = student(5, 15, 10)\n",
    "\n",
    "print(s1.avg())\n",
    "print(s2.avg())\n",
    "\n",
    "# we also get the value like this & rather we can print like this we also define method \n",
    "print(s1.m1)\n"
   ]
  },
  {
   "cell_type": "code",
   "execution_count": 31,
   "id": "f5e451a9-99dd-439d-985d-64580f41ad00",
   "metadata": {},
   "outputs": [
    {
     "name": "stdout",
     "output_type": "stream",
     "text": [
      "20.0\n",
      "10.0\n",
      "nit\n",
      "nit\n"
     ]
    }
   ],
   "source": [
    "class student: \n",
    "        \n",
    "    school = 'nit'\n",
    "    \n",
    "    def __init__(self, m1, m2, m3) : # here i pass 3 variable \n",
    "        self.m1 = m1\n",
    "        self.m2 = m2\n",
    "        self.m3 = m3\n",
    "    # Let's create a method to calculate the average of the marks \n",
    "    def avg(self):                   # ------> here this average is INSTANCE METHOD \n",
    "        return (self.m1+self.m2+self.m3)/3\n",
    "    \n",
    "    def info(cls):                   # user needs to define cls - for class variable \n",
    "        return cls.school \n",
    "        \n",
    "# lets create  object hear as we created s1, s2 we created 2 object & also i want to pass value in this  \n",
    "s1 = student(10, 20, 30)\n",
    "s2 = student(5, 15, 10)\n",
    "\n",
    "print(s1.avg())\n",
    "print(s2.avg())\n",
    "\n",
    "print(s1.info())\n",
    "print(s2.info())"
   ]
  },
  {
   "cell_type": "markdown",
   "id": "8e7d2379-2fd8-4cf1-bcd1-a90644a569f7",
   "metadata": {},
   "source": [
    "#### Decorator (used to create Class Method)"
   ]
  },
  {
   "cell_type": "code",
   "execution_count": 32,
   "id": "0aec5324-99a7-49de-85b3-cb6e4dd01831",
   "metadata": {},
   "outputs": [
    {
     "name": "stdout",
     "output_type": "stream",
     "text": [
      "20.0\n",
      "10.0\n",
      "nit\n",
      "nit\n"
     ]
    },
    {
     "ename": "TypeError",
     "evalue": "student.info() missing 1 required positional argument: 'cls'",
     "output_type": "error",
     "traceback": [
      "\u001b[1;31m---------------------------------------------------------------------------\u001b[0m",
      "\u001b[1;31mTypeError\u001b[0m                                 Traceback (most recent call last)",
      "Cell \u001b[1;32mIn[32], line 26\u001b[0m\n\u001b[0;32m     23\u001b[0m \u001b[38;5;28mprint\u001b[39m(s1\u001b[38;5;241m.\u001b[39minfo())\n\u001b[0;32m     24\u001b[0m \u001b[38;5;28mprint\u001b[39m(s2\u001b[38;5;241m.\u001b[39minfo())\n\u001b[1;32m---> 26\u001b[0m \u001b[38;5;28mprint\u001b[39m(student\u001b[38;5;241m.\u001b[39minfo())\n\u001b[0;32m     27\u001b[0m \u001b[38;5;28mprint\u001b[39m(student\u001b[38;5;241m.\u001b[39minfo())\n",
      "\u001b[1;31mTypeError\u001b[0m: student.info() missing 1 required positional argument: 'cls'"
     ]
    }
   ],
   "source": [
    "class student: \n",
    "        \n",
    "    school = 'nit'\n",
    "    \n",
    "    def __init__(self, m1, m2, m3) : # here i pass 3 variable \n",
    "        self.m1 = m1\n",
    "        self.m2 = m2\n",
    "        self.m3 = m3\n",
    "    # Let's create a method to calculate the average of the marks \n",
    "    def avg(self):                   # ------> here this average is INSTANCE METHOD \n",
    "        return (self.m1+self.m2+self.m3)/3\n",
    "    \n",
    "    def info(cls):                   # user needs to define cls - for class variable \n",
    "        return cls.school \n",
    "        \n",
    "# lets create  object hear as we created s1, s2 we created 2 object & also i want to pass value in this  \n",
    "s1 = student(10, 20, 30)\n",
    "s2 = student(5, 15, 10)\n",
    "\n",
    "print(s1.avg())\n",
    "print(s2.avg())\n",
    "\n",
    "print(s1.info())\n",
    "print(s2.info())\n",
    "\n",
    "print(student.info())\n",
    "print(student.info())"
   ]
  },
  {
   "cell_type": "code",
   "execution_count": 33,
   "id": "dc7a4735-4ea4-4f8f-8377-4980028a87cc",
   "metadata": {},
   "outputs": [
    {
     "name": "stdout",
     "output_type": "stream",
     "text": [
      "20.0\n",
      "10.0\n",
      "nit\n",
      "nit\n",
      "nit\n",
      "nit\n"
     ]
    }
   ],
   "source": [
    "class student: \n",
    "        \n",
    "    school = 'nit'\n",
    "    \n",
    "    def __init__(self, m1, m2, m3) : # here i pass 3 variable \n",
    "        self.m1 = m1\n",
    "        self.m2 = m2\n",
    "        self.m3 = m3\n",
    "    # Let's create a method to calculate the average of the marks \n",
    "    def avg(self):                   # ------> here this average is INSTANCE METHOD \n",
    "        return (self.m1+self.m2+self.m3)/3\n",
    "\n",
    "    @classmethod                     # DECORATOR\n",
    "    def info(cls):                   # user needs to define cls - for class variable \n",
    "        return cls.school \n",
    "        \n",
    "# lets create  object hear as we created s1, s2 we created 2 object & also i want to pass value in this  \n",
    "s1 = student(10, 20, 30)\n",
    "s2 = student(5, 15, 10)\n",
    "\n",
    "print(s1.avg())\n",
    "print(s2.avg())\n",
    "\n",
    "print(s1.info())\n",
    "print(s2.info())\n",
    "\n",
    "print(student.info())\n",
    "print(student.info())"
   ]
  },
  {
   "cell_type": "code",
   "execution_count": 34,
   "id": "48c1182d-935e-4b35-90c6-4c277f07a8c8",
   "metadata": {},
   "outputs": [
    {
     "name": "stdout",
     "output_type": "stream",
     "text": [
      "20.0\n",
      "10.0\n",
      "nit\n",
      "this is student class\n"
     ]
    }
   ],
   "source": [
    "class student: \n",
    "        \n",
    "    school = 'nit'\n",
    "    \n",
    "    def __init__(self, m1, m2, m3) : # hear i pass 3 variable \n",
    "        self.m1 = m1\n",
    "        self.m2 = m2\n",
    "        self.m3 = m3\n",
    "    # lets create a method to calculate average of the marks \n",
    "    def avg(self):                   # ------> here this average is INSTANCE METHOD \n",
    "        return (self.m1+self.m2+self.m3)/3\n",
    "    \n",
    "    @classmethod\n",
    "    def getSchool(cls):\n",
    "        return cls.school\n",
    "    \n",
    "    @staticmethod                    # this student class nothing to do any class & for that also u need to pass speciasl decorator\n",
    "    def info():\n",
    "        print('this is student class') \n",
    "        \n",
    "# lets create  object hear as we created s1, s2 we created 2 object & also i want to pass value in this  \n",
    "s1 = student(10, 20, 30)\n",
    "s2 = student(5, 15, 10)\n",
    "\n",
    "print(s1.avg())\n",
    "print(s2.avg())\n",
    "\n",
    "print(student.getSchool())\n",
    "\n",
    "student.info()"
   ]
  },
  {
   "cell_type": "markdown",
   "id": "2ec8def9-69c6-47e3-a1ab-0f2ebc82af26",
   "metadata": {},
   "source": [
    "#### Inner Class (class inside class)"
   ]
  },
  {
   "cell_type": "code",
   "execution_count": 35,
   "id": "34588e7d-f602-4e21-8759-952fed8c7a3d",
   "metadata": {},
   "outputs": [
    {
     "name": "stdout",
     "output_type": "stream",
     "text": [
      "a 1\n",
      "b 2\n"
     ]
    }
   ],
   "source": [
    "class student:\n",
    "    def __init__(self, name, rollno):\n",
    "        self.name = name\n",
    "        self.rollno = rollno\n",
    "     \n",
    "s1 = student('a',1)\n",
    "s2 = student('b',2)\n",
    "\n",
    "print(s1.name, s1.rollno) \n",
    "print(s2.name, s2.rollno) "
   ]
  },
  {
   "cell_type": "code",
   "execution_count": 36,
   "id": "929bf842-dc00-45ec-9bfb-c12f4a0f8ca1",
   "metadata": {},
   "outputs": [
    {
     "name": "stdout",
     "output_type": "stream",
     "text": [
      "a 1 lenovo i5 8\n",
      "b 2 hp i7 16\n"
     ]
    }
   ],
   "source": [
    "class student:\n",
    "    def __init__(self, name, rollno, laptop, cpu, ram):\n",
    "        self.name = name\n",
    "        self.rollno = rollno\n",
    "        self.laptop = laptop\n",
    "        self.cpu = cpu\n",
    "        self.ram = ram\n",
    "        \n",
    "    def show(self):\n",
    "        print(s1.name, s1.rollno,s1.laptop, s1.cpu, s1.ram)\n",
    "        print(s2.name, s2.rollno,s2.laptop, s2.cpu, s2.ram)\n",
    "\n",
    "s1 = student('a',1,'lenovo','i5',8) # the moment when we assign the variable we need to assign the class as well \n",
    "s2 = student('b',2,'hp','i7',16)\n",
    "\n",
    "s2.show()"
   ]
  },
  {
   "cell_type": "code",
   "execution_count": 37,
   "id": "2a587a44-a22b-4392-b5c1-4834b154cd75",
   "metadata": {},
   "outputs": [
    {
     "name": "stdout",
     "output_type": "stream",
     "text": [
      "a 1\n",
      "b 2\n",
      "2288766805408\n",
      "2288766261664\n"
     ]
    }
   ],
   "source": [
    "class student:\n",
    "    def __init__(self, name, rollno):\n",
    "        self.name = name\n",
    "        self.rollno = rollno\n",
    "        \n",
    "        self.lap = self.LAPTOP()           # in outerclass we define the variable\n",
    "        \n",
    "    def show(self):\n",
    "        print(self.name, self.rollno)\n",
    "\n",
    "    # INNER CLASS\n",
    "    class LAPTOP:\n",
    "        def __init__(self):\n",
    "            self.brand = 'hp'\n",
    "            self.cpu = 'i5'\n",
    "            self.ram = 8\n",
    "     \n",
    "s1 = student('a',1)                       # the moment when we assign the variable we need to assign the class as well \n",
    "s2 = student('b',2)\n",
    "\n",
    "s1.show()\n",
    "s2.show()\n",
    "\n",
    "\n",
    "lap1 = s1.lap\n",
    "lap2 = s2.lap\n",
    "\n",
    "\n",
    "print(id(lap1))\n",
    "print(id(lap2))"
   ]
  },
  {
   "cell_type": "markdown",
   "id": "d45abbd6-1a3b-4db9-a390-6117442437ad",
   "metadata": {},
   "source": [
    "# --------------------------------------------------------------------------------------"
   ]
  },
  {
   "cell_type": "markdown",
   "id": "d2c54093-ec35-4209-903c-8d9cec3b7ff4",
   "metadata": {},
   "source": [
    "# Inheritence "
   ]
  },
  {
   "cell_type": "code",
   "execution_count": 38,
   "id": "fc4e0718-e654-4c0f-9930-04d32baebfa4",
   "metadata": {},
   "outputs": [
    {
     "name": "stdout",
     "output_type": "stream",
     "text": [
      "feature1 is hi\n",
      "feature2 is hi\n"
     ]
    }
   ],
   "source": [
    "class A() : \n",
    "    def feature1(self):                 # lets take example class A has 2 feature1 & feature 2\n",
    "        print('feature1 is hi')\n",
    "    def feature2(self):\n",
    "        print('feature2 is hi')\n",
    "\n",
    "    # you access the feature via objects\n",
    "\n",
    "a1 = A()                                # a1 is the object & A is constructor & using a1 we can call the feature1 & feature 2\n",
    "\n",
    "a1.feature1()\n",
    "a1.feature2()"
   ]
  },
  {
   "cell_type": "code",
   "execution_count": 45,
   "id": "e2faf029-439b-4610-afce-b4b191796908",
   "metadata": {},
   "outputs": [
    {
     "name": "stdout",
     "output_type": "stream",
     "text": [
      "feature1 is hi\n",
      "feature2 is hi\n",
      "feature3 is hello\n"
     ]
    }
   ],
   "source": [
    "# SINGLE LEVEL INHERITENCE (1 Parent, 1 Child)\n",
    "\n",
    "class A() : \n",
    "    def feature1(self):                 # lets take example class A has 2 feature1 & feature 2\n",
    "        print('feature1 is hi')\n",
    "    def feature2(self):\n",
    "        print('feature2 is hi')\n",
    "\n",
    "class B(A):\n",
    "    def feature3(self):\n",
    "        print('feature3 is hello')\n",
    "    def feature4(self):\n",
    "        print('feature4 is hello')      \n",
    "\n",
    "    # you access the feature via objects\n",
    "\n",
    "a1 = A()                                # a1 is the object & A is constructor & using a1 we can call the feature1 & feature 2\n",
    "b1 = B()\n",
    "\n",
    "a1.feature1()\n",
    "b1.feature2()\n",
    "b1.feature3()"
   ]
  },
  {
   "cell_type": "code",
   "execution_count": 48,
   "id": "10ddff27-83c2-4989-8570-edeb374984e5",
   "metadata": {},
   "outputs": [
    {
     "name": "stdout",
     "output_type": "stream",
     "text": [
      "feature1 is hi\n",
      "feature2 is hallo\n",
      "feature3 is how are you\n"
     ]
    }
   ],
   "source": [
    "# MULTI LEVEL INHERITENCE (A--->B--->C)\n",
    "\n",
    "class A:\n",
    "    def feature1(self):\n",
    "        print(\"feature1 is hi\")\n",
    "\n",
    "class B(A):   # B inherits from A\n",
    "    def feature2(self):\n",
    "        print(\"feature2 is hallo\")\n",
    "\n",
    "class C(B):   # C inherits from B (and indirectly A)\n",
    "    def feature3(self):\n",
    "        print(\"feature3 is how are you\")\n",
    "\n",
    "c1 = C()\n",
    "c1.feature1()  # from A\n",
    "c1.feature2()  # from B\n",
    "c1.feature3()  # from C\n"
   ]
  },
  {
   "cell_type": "code",
   "execution_count": 50,
   "id": "244b424e-2220-49b8-9ca4-f9e8f50b58c2",
   "metadata": {},
   "outputs": [
    {
     "name": "stdout",
     "output_type": "stream",
     "text": [
      "feature1 from A\n",
      "feature2 from B\n",
      "feature3 from C\n"
     ]
    }
   ],
   "source": [
    "# MULTIPLE INHERITENCE (1 Child, multiple Parents)\n",
    "\n",
    "class A:\n",
    "    def feature1(self):\n",
    "        print(\"feature1 from A\")\n",
    "\n",
    "class B:\n",
    "    def feature2(self):\n",
    "        print(\"feature2 from B\")\n",
    "\n",
    "class C(A, B):   # inherits from both A and B\n",
    "    def feature3(self):\n",
    "        print(\"feature3 from C\")\n",
    "\n",
    "c1 = C()\n",
    "c1.feature1()   # from A\n",
    "c1.feature2()   # from B\n",
    "c1.feature3()   # from C"
   ]
  },
  {
   "cell_type": "code",
   "execution_count": 51,
   "id": "cef300e7-d9b2-45b7-b412-d2da4886cee3",
   "metadata": {},
   "outputs": [
    {
     "name": "stdout",
     "output_type": "stream",
     "text": [
      "feature1 from A\n",
      "feature2 from B\n",
      "feature1 from A\n",
      "feature3 from C\n"
     ]
    }
   ],
   "source": [
    "# HIERARCHICAL INHERITENCE (1 Parent, multiple Childs)\n",
    "\n",
    "class A:\n",
    "    def feature1(self):\n",
    "        print(\"feature1 from A\")\n",
    "\n",
    "class B(A):   # child 1\n",
    "    def feature2(self):\n",
    "        print(\"feature2 from B\")\n",
    "\n",
    "class C(A):   # child 2\n",
    "    def feature3(self):\n",
    "        print(\"feature3 from C\")\n",
    "\n",
    "b1 = B()\n",
    "c1 = C()\n",
    "\n",
    "b1.feature1()  # from A\n",
    "b1.feature2()  # from B\n",
    "c1.feature1()  # from A\n",
    "c1.feature3()  # from C"
   ]
  },
  {
   "cell_type": "markdown",
   "id": "91bd5d06-0605-4bb2-994f-c82c06435d3f",
   "metadata": {},
   "source": [
    "#### Constructor Inheritence"
   ]
  },
  {
   "cell_type": "code",
   "execution_count": 53,
   "id": "a3a13ab5-d6dc-4b9b-97e0-121900dffda7",
   "metadata": {},
   "outputs": [
    {
     "name": "stdout",
     "output_type": "stream",
     "text": [
      "in A init\n",
      "in A init\n"
     ]
    }
   ],
   "source": [
    "class A():\n",
    "    def __init__(self):                 # __init__\n",
    "        print('in A init')\n",
    "    def feature1(self):         \n",
    "        print('feature1 is hi')\n",
    "    def feature2(self):\n",
    "        print('feature2 is hi')\n",
    "\n",
    "class B(A):\n",
    "    def feature3(self):         \n",
    "        print('feature3 is hallo')\n",
    "    def feature4(self):\n",
    "        print('feature4 is hallo')\n",
    "        \n",
    "a1 = A()                                # A is a constructor\n",
    "b1 = B()                                # B is a constructor"
   ]
  },
  {
   "cell_type": "code",
   "execution_count": 62,
   "id": "40cb9213-2f37-4579-ad0c-58339b1b851e",
   "metadata": {},
   "outputs": [
    {
     "name": "stdout",
     "output_type": "stream",
     "text": [
      "in A init\n"
     ]
    }
   ],
   "source": [
    "class A():\n",
    "    def __init__(self):                 # __init__\n",
    "        print('in A init')\n",
    "    def feature1(self):         \n",
    "        print('feature1 is hi')\n",
    "    def feature2(self):\n",
    "        print('feature2 is hi')\n",
    "\n",
    "class B(A):\n",
    "    def feature3(self):         \n",
    "        print('feature3 is hallo')\n",
    "    def feature4(self):\n",
    "        print('feature4 is hallo')\n",
    "        \n",
    "b1 = B()                                # B is a constructor\n",
    "# When the Child class DOESNT have __init__ then the __init__ of the Parent class IS inherited to the Child class"
   ]
  },
  {
   "cell_type": "code",
   "execution_count": 63,
   "id": "4819333c-5c02-4cfa-8524-3aa56e39729a",
   "metadata": {},
   "outputs": [
    {
     "name": "stdout",
     "output_type": "stream",
     "text": [
      "in A init\n",
      "in B init\n"
     ]
    }
   ],
   "source": [
    "class A() :\n",
    "    def __init__(self):\n",
    "        print('in A init')\n",
    "    def feature1(self):         \n",
    "        print('feature1 is hi')\n",
    "    def feature2(self):\n",
    "        print('feature2 is hi')\n",
    "\n",
    "class B():\n",
    "    def __init__(self):\n",
    "        print('in B init')\n",
    "    def feature3(self):         \n",
    "        print('feature3 is hallo')\n",
    "    def feature4(self):\n",
    "        print('feature4 is hallo')\n",
    "\n",
    "a1 = A()\n",
    "b1 = B() "
   ]
  },
  {
   "cell_type": "code",
   "execution_count": 64,
   "id": "e12caa52-d2c9-4634-bde8-3113c23e3358",
   "metadata": {},
   "outputs": [
    {
     "name": "stdout",
     "output_type": "stream",
     "text": [
      "in A init\n",
      "in B init\n"
     ]
    }
   ],
   "source": [
    "class A() :\n",
    "    def __init__(self):\n",
    "        print('in A init')\n",
    "    def feature1(self):         \n",
    "        print('feature1 is hi')\n",
    "    def feature2(self):\n",
    "        print('feature2 is hi')\n",
    "\n",
    "class B(A):\n",
    "    def __init__(self):\n",
    "        print('in B init')\n",
    "    def feature3(self):         \n",
    "        print('feature3 is hallo')\n",
    "    def feature4(self):\n",
    "        print('feature4 is hallo')\n",
    "\n",
    "a1 = A()\n",
    "b1 = B() "
   ]
  },
  {
   "cell_type": "code",
   "execution_count": 65,
   "id": "8bf5d825-6840-49fe-ae4e-96a04a157187",
   "metadata": {},
   "outputs": [
    {
     "name": "stdout",
     "output_type": "stream",
     "text": [
      "in B init\n"
     ]
    }
   ],
   "source": [
    "class A() :\n",
    "    def __init__(self):\n",
    "        print('in A init')\n",
    "    def feature1(self):         \n",
    "        print('feature1 is hi')\n",
    "    def feature2(self):\n",
    "        print('feature2 is hi')\n",
    "\n",
    "class B(A):\n",
    "    def __init__(self):\n",
    "        print('in B init')\n",
    "    def feature3(self):         \n",
    "        print('feature3 is hallo')\n",
    "    def feature4(self):\n",
    "        print('feature4 is hallo')\n",
    "\n",
    "b1 = B() \n",
    "# When the child class doesnt have __init__ then the __init__ of the Parent class is inherited to the Child class\n",
    "# But when the Child class itself has an __init__ then the __init__ of the Parent Class ISNT inherited"
   ]
  },
  {
   "cell_type": "markdown",
   "id": "eb38e9e4-162d-4621-95fb-a091eeba7376",
   "metadata": {},
   "source": [
    "#### super() function"
   ]
  },
  {
   "cell_type": "code",
   "execution_count": 68,
   "id": "f5d6cd69-bfbc-40cd-8160-d1b93a624619",
   "metadata": {},
   "outputs": [
    {
     "name": "stdout",
     "output_type": "stream",
     "text": [
      "in A init\n",
      "in B init\n"
     ]
    }
   ],
   "source": [
    "# Super Function ensures that the __init of the Parent class is inherited first when the Child class also has an __init__\n",
    "\n",
    "class A() :\n",
    "    def __init__(self):\n",
    "        print('in A init')\n",
    "    def feature1(self):         \n",
    "        print('feature1 is hi')\n",
    "    def feature2(self):\n",
    "        print('feature2 is hi')\n",
    "\n",
    "class B(A):\n",
    "    def __init__(self):\n",
    "        super().__init__()                          # SUPER FUNCTION\n",
    "        print('in B init')\n",
    "    def feature3(self):         \n",
    "        print('feature3 is hallo')\n",
    "    def feature4(self):\n",
    "        print('feature4 is hallo')\n",
    "\n",
    "b1 = B() "
   ]
  },
  {
   "cell_type": "markdown",
   "id": "716092df-5982-4b3e-ba4a-3d642d50cba7",
   "metadata": {},
   "source": [
    "# Polymorphism"
   ]
  },
  {
   "cell_type": "markdown",
   "id": "069798b9-1399-45b3-b1eb-016553990b3c",
   "metadata": {},
   "source": [
    "#### Duck Test/Duck Typing"
   ]
  },
  {
   "cell_type": "code",
   "execution_count": 70,
   "id": "d160a5b9-a4c1-4ee0-bf8a-758a6042100f",
   "metadata": {},
   "outputs": [
    {
     "name": "stdout",
     "output_type": "stream",
     "text": [
      "i am duck & i can swim\n",
      "quack quack\n",
      "informatation\n"
     ]
    }
   ],
   "source": [
    "class duck:\n",
    "    def swim(self):\n",
    "        print('i am duck & i can swim')\n",
    "    def speaks(self):\n",
    "        print('quack quack')\n",
    "\n",
    "class dog:\n",
    "    def swim(self):\n",
    "        print('i am dog & i can swim')\n",
    "    def speaks(self):\n",
    "        print('woof woof')\n",
    "\n",
    "\n",
    "def display(duck):                      # we define outside of the class\n",
    "    duck.swim()\n",
    "    duck.speaks()\n",
    "    print('informatation')\n",
    "\n",
    "d = duck()\n",
    "display(d)       "
   ]
  },
  {
   "cell_type": "code",
   "execution_count": 71,
   "id": "94db7951-217d-48d4-9cab-aa07b3e0912a",
   "metadata": {},
   "outputs": [
    {
     "ename": "AttributeError",
     "evalue": "'person' object has no attribute 'swim'",
     "output_type": "error",
     "traceback": [
      "\u001b[1;31m---------------------------------------------------------------------------\u001b[0m",
      "\u001b[1;31mAttributeError\u001b[0m                            Traceback (most recent call last)",
      "Cell \u001b[1;32mIn[71], line 26\u001b[0m\n\u001b[0;32m     23\u001b[0m dg \u001b[38;5;241m=\u001b[39m dog()\n\u001b[0;32m     24\u001b[0m p \u001b[38;5;241m=\u001b[39m person()\n\u001b[1;32m---> 26\u001b[0m display(p)\n",
      "Cell \u001b[1;32mIn[71], line 18\u001b[0m, in \u001b[0;36mdisplay\u001b[1;34m(obj)\u001b[0m\n\u001b[0;32m     17\u001b[0m \u001b[38;5;28;01mdef\u001b[39;00m \u001b[38;5;21mdisplay\u001b[39m(obj):                      \u001b[38;5;66;03m# we define outside of the class\u001b[39;00m\n\u001b[1;32m---> 18\u001b[0m     obj\u001b[38;5;241m.\u001b[39mswim()\n\u001b[0;32m     19\u001b[0m     obj\u001b[38;5;241m.\u001b[39mspeaks()\n\u001b[0;32m     20\u001b[0m     obj\u001b[38;5;241m.\u001b[39mperson()\n",
      "\u001b[1;31mAttributeError\u001b[0m: 'person' object has no attribute 'swim'"
     ]
    }
   ],
   "source": [
    "class duck:\n",
    "    def swim(self):\n",
    "        print('i am duck & i can swim')\n",
    "    def speaks(self):\n",
    "        print('quack quack')\n",
    "\n",
    "class dog:\n",
    "    def swim(self):\n",
    "        print('i am dog & i can swim')\n",
    "    def speaks(self):\n",
    "        print('woof woof')\n",
    "\n",
    "class person:\n",
    "    def speaks(self):\n",
    "        print('attend more interview to get placed')\n",
    "        \n",
    "def display(obj):                      # we define outside of the class\n",
    "    obj.swim()\n",
    "    obj.speaks()\n",
    "    obj.person()\n",
    "    \n",
    "d = duck()\n",
    "dg = dog()\n",
    "p = person()\n",
    "\n",
    "display(p)   "
   ]
  },
  {
   "cell_type": "code",
   "execution_count": 74,
   "id": "8495c826-744b-4913-95e4-596d4541560a",
   "metadata": {},
   "outputs": [
    {
     "name": "stdout",
     "output_type": "stream",
     "text": [
      "need to learn for swimming\n",
      "attend more interview to get placed\n"
     ]
    }
   ],
   "source": [
    "class duck:\n",
    "    def swim(self):\n",
    "        print('i am duck & i can swim')\n",
    "    def speaks(self):\n",
    "        print('quack quack')\n",
    "\n",
    "class dog:\n",
    "    def swim(self):\n",
    "        print('i am dog & i can swim')\n",
    "    def speaks(self):\n",
    "        print('woof woof')\n",
    "\n",
    "class person:\n",
    "    def speaks(self):\n",
    "        print('attend more interview to get placed')\n",
    "    def swim(self):\n",
    "        print('need to learn for swimming')\n",
    "         \n",
    "def display(obj): # we define outside of the class\n",
    "    obj.swim()\n",
    "    obj.speaks()\n",
    "    \n",
    "d = duck()\n",
    "dg = dog()\n",
    "p = person()\n",
    "\n",
    "display(p)   "
   ]
  },
  {
   "cell_type": "code",
   "execution_count": 75,
   "id": "3ee513a1-0928-47a8-9376-7d9e1ef8c10c",
   "metadata": {},
   "outputs": [
    {
     "name": "stdout",
     "output_type": "stream",
     "text": [
      "Woof!\n",
      "Meow!\n",
      "Quack!\n"
     ]
    }
   ],
   "source": [
    "class Dog:\n",
    "    def speak(self):\n",
    "        return \"Woof!\"\n",
    "\n",
    "class Cat:\n",
    "    def speak(self):\n",
    "        return \"Meow!\"\n",
    "\n",
    "class Duck:\n",
    "    def speak(self):\n",
    "        return \"Quack!\"\n",
    "\n",
    "def animal_sound(animal):\n",
    "    return animal.speak()\n",
    "\n",
    "# Using duck typing\n",
    "dog = Dog()\n",
    "cat = Cat()\n",
    "duck = Duck()\n",
    "\n",
    "print(animal_sound(dog))  # Output: Woof!\n",
    "print(animal_sound(cat))  # Output: Meow!\n",
    "print(animal_sound(duck)) # Output: Quack!\n"
   ]
  },
  {
   "cell_type": "markdown",
   "id": "cdc6942a-2831-40f3-9ec8-8d9e0d12214b",
   "metadata": {},
   "source": [
    "# Operator Overloading"
   ]
  },
  {
   "cell_type": "code",
   "execution_count": 76,
   "id": "e5d46c32-1fca-4278-8ab0-6a6adbbe53a4",
   "metadata": {},
   "outputs": [
    {
     "name": "stdout",
     "output_type": "stream",
     "text": [
      "<class 'int'>\n",
      "11\n"
     ]
    }
   ],
   "source": [
    "a, b = 5, 6\n",
    "\n",
    "print(type(a))\n",
    "print (a+b)"
   ]
  },
  {
   "cell_type": "code",
   "execution_count": 77,
   "id": "adcb139f-1dfa-4a3f-9619-dd93e2ae1ae6",
   "metadata": {},
   "outputs": [
    {
     "data": {
      "text/plain": [
       "11"
      ]
     },
     "execution_count": 77,
     "metadata": {},
     "output_type": "execute_result"
    }
   ],
   "source": [
    "int.__add__(5,6)              # MAGIC METHODS"
   ]
  },
  {
   "cell_type": "code",
   "execution_count": 78,
   "id": "afb1c65d-481b-46e6-afbb-408e6881b4ce",
   "metadata": {},
   "outputs": [
    {
     "data": {
      "text/plain": [
       "-1"
      ]
     },
     "execution_count": 78,
     "metadata": {},
     "output_type": "execute_result"
    }
   ],
   "source": [
    "int.__sub__(4,5)              # MAGIC METHODS"
   ]
  },
  {
   "cell_type": "code",
   "execution_count": 81,
   "id": "5cacdf98-070b-499c-9fd1-894883285b0e",
   "metadata": {},
   "outputs": [
    {
     "data": {
      "text/plain": [
       "20"
      ]
     },
     "execution_count": 81,
     "metadata": {},
     "output_type": "execute_result"
    }
   ],
   "source": [
    "int.__mul__(4,5)              # MAGIC METHODS"
   ]
  },
  {
   "cell_type": "code",
   "execution_count": 82,
   "id": "e65a3d3b-f0ba-4bbe-adf2-e96347e09f13",
   "metadata": {},
   "outputs": [
    {
     "ename": "TypeError",
     "evalue": "unsupported operand type(s) for +: 'student' and 'student'",
     "output_type": "error",
     "traceback": [
      "\u001b[1;31m---------------------------------------------------------------------------\u001b[0m",
      "\u001b[1;31mTypeError\u001b[0m                                 Traceback (most recent call last)",
      "Cell \u001b[1;32mIn[82], line 10\u001b[0m\n\u001b[0;32m      7\u001b[0m s1 \u001b[38;5;241m=\u001b[39m student(\u001b[38;5;241m60\u001b[39m,\u001b[38;5;241m70\u001b[39m)\n\u001b[0;32m      8\u001b[0m s2 \u001b[38;5;241m=\u001b[39m student(\u001b[38;5;241m80\u001b[39m,\u001b[38;5;241m90\u001b[39m)\n\u001b[1;32m---> 10\u001b[0m s3 \u001b[38;5;241m=\u001b[39m s1 \u001b[38;5;241m+\u001b[39m s2\n",
      "\u001b[1;31mTypeError\u001b[0m: unsupported operand type(s) for +: 'student' and 'student'"
     ]
    }
   ],
   "source": [
    "class student:\n",
    "    def __init__(self,m1,m2):\n",
    "        self.m1 = m1\n",
    "        self.m2 = m2\n",
    "\n",
    "      \n",
    "s1 = student(60,70)\n",
    "s2 = student(80,90)\n",
    "\n",
    "s3 = s1 + s2 # is it possible to use add operator with the class ?"
   ]
  },
  {
   "cell_type": "code",
   "execution_count": 83,
   "id": "4ddde65d-0a28-40c7-bc84-e9c3ddaa65df",
   "metadata": {},
   "outputs": [
    {
     "name": "stdout",
     "output_type": "stream",
     "text": [
      "140\n",
      "160\n"
     ]
    }
   ],
   "source": [
    "class student:\n",
    "    def __init__(self,m1,m2):\n",
    "        self.m1 = m1\n",
    "        self.m2 = m2\n",
    "        \n",
    "    def __add__(self, other): ## WE DEFINE THE ADD METHOD . THIS CONCEPT IS CALLED OPERATOR OVERLOADING\n",
    "        m1 = self.m1 + other.m1\n",
    "        m2 = self.m2 + other.m2\n",
    "        s3 = student(m1,m2)\n",
    "        \n",
    "        return s3   \n",
    " \n",
    "s1 = student(60,70)\n",
    "s2 = student(80,90)\n",
    "\n",
    "s3 = s1 + s2 \n",
    "# when we create add method in above behind the memory s1 & s2 will convert to self & other respectivly\n",
    "print(s3.m1)\n",
    "print(s3.m2)\n",
    "\n",
    "# if you want to add 2 student then operator need to overload "
   ]
  },
  {
   "cell_type": "code",
   "execution_count": null,
   "id": "a8188ca4-900b-4609-9567-741d3d7c880d",
   "metadata": {},
   "outputs": [],
   "source": []
  }
 ],
 "metadata": {
  "kernelspec": {
   "display_name": "Python [conda env:base] *",
   "language": "python",
   "name": "conda-base-py"
  },
  "language_info": {
   "codemirror_mode": {
    "name": "ipython",
    "version": 3
   },
   "file_extension": ".py",
   "mimetype": "text/x-python",
   "name": "python",
   "nbconvert_exporter": "python",
   "pygments_lexer": "ipython3",
   "version": "3.12.7"
  }
 },
 "nbformat": 4,
 "nbformat_minor": 5
}
