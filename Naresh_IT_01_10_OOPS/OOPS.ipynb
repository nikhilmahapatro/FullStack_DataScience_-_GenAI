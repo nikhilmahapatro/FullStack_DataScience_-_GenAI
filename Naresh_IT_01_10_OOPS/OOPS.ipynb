{
 "cells": [
  {
   "cell_type": "markdown",
   "id": "f383f6cf-9a1c-4784-a199-0ff26940137d",
   "metadata": {},
   "source": [
    "# Class, Object, Method, Self"
   ]
  },
  {
   "cell_type": "code",
   "execution_count": 1,
   "id": "49ced70b-8366-41ca-9e33-2dd1143e22d7",
   "metadata": {},
   "outputs": [
    {
     "name": "stdout",
     "output_type": "stream",
     "text": [
      "<class 'int'>\n"
     ]
    }
   ],
   "source": [
    "# Inbuilt Class\n",
    "a = 5\n",
    "print(type(a))"
   ]
  },
  {
   "cell_type": "code",
   "execution_count": 2,
   "id": "39727518-b8bc-4c3b-b220-3e465f75f85d",
   "metadata": {},
   "outputs": [
    {
     "name": "stdout",
     "output_type": "stream",
     "text": [
      "<class 'list'>\n"
     ]
    }
   ],
   "source": [
    "# Inbuilt Class\n",
    "l = [1,2,3,]\n",
    "print(type(l))"
   ]
  },
  {
   "cell_type": "code",
   "execution_count": 4,
   "id": "54558057-29bf-4e06-a72a-74a030df8a5d",
   "metadata": {},
   "outputs": [
    {
     "name": "stdout",
     "output_type": "stream",
     "text": [
      "i5 8gb\n"
     ]
    }
   ],
   "source": [
    "def config():   \n",
    "    print('i5', '8gb')\n",
    "config()\n",
    "\n",
    "# Here config() is a function"
   ]
  },
  {
   "cell_type": "code",
   "execution_count": 6,
   "id": "ac9d786b-2a3d-4031-98e9-1dc6bf36efa8",
   "metadata": {},
   "outputs": [
    {
     "name": "stdout",
     "output_type": "stream",
     "text": [
      "i8 hp 8\n",
      "i12 dell 16\n"
     ]
    }
   ],
   "source": [
    "class laptop():\n",
    "    def config(): \n",
    "        print('i8', 'hp', 8)\n",
    "        print('i12', 'dell', 16)\n",
    "\n",
    "lap1 = laptop()                # lap1 is an object of laptop() class\n",
    "\n",
    "laptop.config()                # class.method()\n",
    "\n",
    "# Here config is a method"
   ]
  },
  {
   "cell_type": "code",
   "execution_count": 7,
   "id": "99734659-0fc9-4e26-b265-1a15178727a1",
   "metadata": {},
   "outputs": [
    {
     "ename": "TypeError",
     "evalue": "laptop.config() takes 0 positional arguments but 1 was given",
     "output_type": "error",
     "traceback": [
      "\u001b[1;31m---------------------------------------------------------------------------\u001b[0m",
      "\u001b[1;31mTypeError\u001b[0m                                 Traceback (most recent call last)",
      "Cell \u001b[1;32mIn[7], line 7\u001b[0m\n\u001b[0;32m      4\u001b[0m         \u001b[38;5;28mprint\u001b[39m(\u001b[38;5;124m'\u001b[39m\u001b[38;5;124mi12\u001b[39m\u001b[38;5;124m'\u001b[39m, \u001b[38;5;124m'\u001b[39m\u001b[38;5;124mdell\u001b[39m\u001b[38;5;124m'\u001b[39m, \u001b[38;5;241m16\u001b[39m)\n\u001b[0;32m      6\u001b[0m lap1 \u001b[38;5;241m=\u001b[39m laptop()  \n\u001b[1;32m----> 7\u001b[0m lap1\u001b[38;5;241m.\u001b[39mconfig()\n",
      "\u001b[1;31mTypeError\u001b[0m: laptop.config() takes 0 positional arguments but 1 was given"
     ]
    }
   ],
   "source": [
    "class laptop():\n",
    "    def config(): \n",
    "        print('i8', 'hp', 8)\n",
    "        print('i12', 'dell', 16)\n",
    "\n",
    "lap1 = laptop()  \n",
    "lap1.config()"
   ]
  },
  {
   "cell_type": "code",
   "execution_count": 21,
   "id": "86bf50d2-9b38-4210-855f-6c7072ec6e00",
   "metadata": {},
   "outputs": [
    {
     "name": "stdout",
     "output_type": "stream",
     "text": [
      "i8 hp 8\n",
      "i12 dell 16\n"
     ]
    }
   ],
   "source": [
    "class laptop():\n",
    "    def config(self):                         # 'self' acts as an argument\n",
    "        print('i8', 'hp', 8)\n",
    "        print('i12', 'dell', 16)\n",
    "\n",
    "lap1 = laptop()  \n",
    "laptop.config(lap1)"
   ]
  },
  {
   "cell_type": "code",
   "execution_count": 10,
   "id": "824ca96a-b14e-41cd-9120-cc6ba38693f3",
   "metadata": {},
   "outputs": [
    {
     "name": "stdout",
     "output_type": "stream",
     "text": [
      "i8 hp 8\n",
      "i12 dell 16\n",
      "i8 hp 8\n",
      "i12 dell 16\n",
      "i8 hp 8\n",
      "i12 dell 16\n"
     ]
    }
   ],
   "source": [
    "class laptop():\n",
    "    def config(self): \n",
    "        print('i8', 'hp', 8)\n",
    "        print('i12', 'dell', 16)\n",
    "\n",
    "lap1 = laptop()  \n",
    "lap2 = laptop()\n",
    "lap3 = laptop()\n",
    "\n",
    "lap1.config()\n",
    "lap2.config()\n",
    "lap3.config()"
   ]
  },
  {
   "cell_type": "code",
   "execution_count": 11,
   "id": "8c3596cd-7586-46da-b524-95ac4ff06b74",
   "metadata": {},
   "outputs": [
    {
     "name": "stdout",
     "output_type": "stream",
     "text": [
      "<class 'float'>\n",
      "<class '__main__.computer'>\n"
     ]
    }
   ],
   "source": [
    "class computer:       \n",
    "    def config():      \n",
    "        print('i5', '8gb') \n",
    "    \n",
    "a = 8.8\n",
    "print(type(a))                           # Inbuilt class\n",
    "\n",
    "com1 = computer()                        # User-defined class\n",
    "print(type(com1))  "
   ]
  },
  {
   "cell_type": "markdown",
   "id": "12dcf18c-a26e-4328-b4f4-67e4fb1f65cb",
   "metadata": {},
   "source": [
    " # __name__, __init__"
   ]
  },
  {
   "cell_type": "code",
   "execution_count": 14,
   "id": "fb0954e0-5a48-4bd6-b287-e42f810265e2",
   "metadata": {},
   "outputs": [],
   "source": [
    "## __name__ = main function/main module\n",
    "## __init__ = special method, constructor"
   ]
  },
  {
   "cell_type": "code",
   "execution_count": null,
   "id": "42fa6ee3-74ee-4c7b-bc06-80bd97c315cc",
   "metadata": {},
   "outputs": [],
   "source": [
    "class laptop():\n",
    "    def config(): \n",
    "        print('i8', 'hp', 8)\n",
    "        print('i12', 'dell', 16)\n",
    "\n",
    "lap1 = laptop()"
   ]
  },
  {
   "cell_type": "code",
   "execution_count": 13,
   "id": "a734bac8-036f-4af5-b106-5649b873d6fc",
   "metadata": {},
   "outputs": [
    {
     "name": "stdout",
     "output_type": "stream",
     "text": [
      "i8 hp 8\n",
      "i12 dell 16\n"
     ]
    }
   ],
   "source": [
    "class laptop():\n",
    "    def __init__(self):                 # __init__ = constructor\n",
    "        print('i8', 'hp', 8)\n",
    "        print('i12', 'dell', 16)\n",
    "\n",
    "lap = laptop()"
   ]
  },
  {
   "cell_type": "code",
   "execution_count": 15,
   "id": "3370fb8a-7867-4c3d-a41d-2d8fe0975a32",
   "metadata": {},
   "outputs": [
    {
     "name": "stdout",
     "output_type": "stream",
     "text": [
      "i8 hp 8\n",
      "i12 dell 16\n",
      "\n",
      "i8 hp 8\n",
      "i12 dell 16\n",
      "\n",
      "i8 hp 8\n",
      "i12 dell 16\n"
     ]
    }
   ],
   "source": [
    "class laptop():\n",
    "    def __init__(self): \n",
    "        print('i8', 'hp', 8)\n",
    "        print('i12', 'dell', 16)\n",
    "\n",
    "lap = laptop()\n",
    "print()\n",
    "lap3 = laptop()\n",
    "print()\n",
    "lap3.__init__()"
   ]
  },
  {
   "cell_type": "code",
   "execution_count": 16,
   "id": "8aae710b-1284-4752-aae3-38f02d1152bb",
   "metadata": {},
   "outputs": [
    {
     "name": "stdout",
     "output_type": "stream",
     "text": [
      "in init\n",
      "in init\n",
      "in init\n"
     ]
    }
   ],
   "source": [
    "class computer:        \n",
    "    \n",
    "    def __init__(self): #__init__ means initialize the varible\n",
    "        print('in init')\n",
    "        \n",
    "com1 = computer()\n",
    "com2 = computer()\n",
    "com3 = computer()"
   ]
  },
  {
   "cell_type": "code",
   "execution_count": 17,
   "id": "40db7e63-170f-42c5-bc7c-bcf767aa3518",
   "metadata": {},
   "outputs": [
    {
     "name": "stdout",
     "output_type": "stream",
     "text": [
      "in init\n",
      "i5 8gb\n"
     ]
    }
   ],
   "source": [
    "class computer():        \n",
    "    \n",
    "    def __init__(self):\n",
    "        print('in init')\n",
    "    \n",
    "    def config(self):     \n",
    "        print('i5', '8gb')\n",
    "\n",
    "com1 = computer()\n",
    "\n",
    "com1.config() "
   ]
  },
  {
   "cell_type": "code",
   "execution_count": 18,
   "id": "77fc4630-6f22-4230-938b-cfd777196bcb",
   "metadata": {},
   "outputs": [
    {
     "name": "stdout",
     "output_type": "stream",
     "text": [
      "in init\n",
      "in init\n",
      "i5 8gb\n"
     ]
    }
   ],
   "source": [
    "class computer():        \n",
    "    \n",
    "    def __init__(self):\n",
    "        print('in init')\n",
    "    \n",
    "    def config(self):     \n",
    "        print('i5', '8gb')\n",
    "\n",
    "com1 = computer()\n",
    "com2 = computer()\n",
    "\n",
    "com1.config() "
   ]
  },
  {
   "cell_type": "code",
   "execution_count": 19,
   "id": "4179f76c-5cd4-42d1-b983-ea20b0aa8cf1",
   "metadata": {},
   "outputs": [
    {
     "name": "stdout",
     "output_type": "stream",
     "text": [
      "in init\n",
      "in init\n",
      "i5 8gb\n",
      "i5 8gb\n"
     ]
    }
   ],
   "source": [
    "class computer():        \n",
    "    \n",
    "    def __init__(self):          # idea behind init is it will call automatically\n",
    "        print('in init')         # i define a function called init & i am not calling init\n",
    "    \n",
    "    def config(self):            # i m calling config cuz i want to execute\n",
    "        print('i5', '8gb')\n",
    "\n",
    "com1 = computer() # as we create 2 object automatically init called 2 times\n",
    "com2 = computer()\n",
    "\n",
    "com1.config() \n",
    "com2.config()"
   ]
  },
  {
   "cell_type": "code",
   "execution_count": 22,
   "id": "4c432a31-ec3c-4580-96ae-006c4af277d1",
   "metadata": {},
   "outputs": [
    {
     "ename": "TypeError",
     "evalue": "computer.__init__() takes 1 positional argument but 3 were given",
     "output_type": "error",
     "traceback": [
      "\u001b[1;31m---------------------------------------------------------------------------\u001b[0m",
      "\u001b[1;31mTypeError\u001b[0m                                 Traceback (most recent call last)",
      "Cell \u001b[1;32mIn[22], line 9\u001b[0m\n\u001b[0;32m      6\u001b[0m     \u001b[38;5;28;01mdef\u001b[39;00m \u001b[38;5;21mconfig\u001b[39m(\u001b[38;5;28mself\u001b[39m):     \n\u001b[0;32m      7\u001b[0m         \u001b[38;5;28mprint\u001b[39m(\u001b[38;5;124m'\u001b[39m\u001b[38;5;124mi5\u001b[39m\u001b[38;5;124m'\u001b[39m, \u001b[38;5;124m'\u001b[39m\u001b[38;5;124m8gb\u001b[39m\u001b[38;5;124m'\u001b[39m)\n\u001b[1;32m----> 9\u001b[0m lap1 \u001b[38;5;241m=\u001b[39m computer(\u001b[38;5;124m'\u001b[39m\u001b[38;5;124mi5\u001b[39m\u001b[38;5;124m'\u001b[39m, \u001b[38;5;241m8\u001b[39m)               \u001b[38;5;66;03m# com1 has cpu i5 & ram is 8 \u001b[39;00m\n\u001b[0;32m     10\u001b[0m lap2 \u001b[38;5;241m=\u001b[39m computer(\u001b[38;5;124m'\u001b[39m\u001b[38;5;124mi7\u001b[39m\u001b[38;5;124m'\u001b[39m, \u001b[38;5;241m16\u001b[39m)              \u001b[38;5;66;03m# com2 has cpu intel 5 & ram is 8 as we have 2 computer we have different ram & cpt\u001b[39;00m\n\u001b[0;32m     12\u001b[0m lap1\u001b[38;5;241m.\u001b[39mconfig() \n",
      "\u001b[1;31mTypeError\u001b[0m: computer.__init__() takes 1 positional argument but 3 were given"
     ]
    }
   ],
   "source": [
    "class computer():        \n",
    "    \n",
    "    def __init__(self):                #__init__ means to initialize the variable\n",
    "        print('in init')\n",
    "    \n",
    "    def config(self):     \n",
    "        print('i5', '8gb')\n",
    "\n",
    "lap1 = computer('i5', 8)               # com1 has cpu i5 & ram is 8 \n",
    "lap2 = computer('i7', 16)              # com2 has cpu intel 5 & ram is 8 as we have 2 computer we have different ram & cpt\n",
    "\n",
    "lap1.config() \n",
    "lap2.config()"
   ]
  },
  {
   "cell_type": "code",
   "execution_count": 23,
   "id": "c6b21e5d-512a-4012-8772-e28de40ba129",
   "metadata": {},
   "outputs": [
    {
     "name": "stdout",
     "output_type": "stream",
     "text": [
      "in init\n",
      "in init\n",
      "i5 8gb\n",
      "i7 16gb\n",
      "i5 8gb\n",
      "i7 16gb\n"
     ]
    }
   ],
   "source": [
    "class computer():        \n",
    "    \n",
    "    def __init__(self,cpu,ram): #__init__ means to initialize the variable\n",
    "        print('in init')\n",
    "    \n",
    "    def config(self):     \n",
    "        print('i5', '8gb')\n",
    "        print('i7', '16gb')\n",
    "\n",
    "lap1 = computer('i5', 8) # com1 has cpu i5 & ram is 8 \n",
    "lap2 = computer('i7', 16) # com2 has cpu intel 5 & ram is 8 as we have 2 computer we have different ram & cpt\n",
    "\n",
    "lap1.config() \n",
    "lap2.config()"
   ]
  },
  {
   "cell_type": "code",
   "execution_count": 24,
   "id": "f9e23b87-c757-4538-9842-12f81088cd06",
   "metadata": {},
   "outputs": [
    {
     "name": "stdout",
     "output_type": "stream",
     "text": [
      "laptop config is:  i5 8 32000\n",
      "laptop config is:  i7 16 64000\n",
      "2953638155456\n",
      "2953633934384\n"
     ]
    }
   ],
   "source": [
    "class computer():        \n",
    "    \n",
    "    def __init__(self,cpu, ram, price): # cpu & ram as argument\n",
    "        self.cpu = cpu #hear self is the object & we need to refer to the object\n",
    "        self.ram = ram \n",
    "        self.price = price \n",
    "\n",
    "    def config(self):     \n",
    "        print('laptop config is: ', self.cpu, self.ram, self.price)\n",
    "\n",
    "com1 = computer('i5', 8, 32000)\n",
    "com2 = computer('i7', 16, 64000)\n",
    "\n",
    "\n",
    "com1.config() \n",
    "com2.config()\n",
    "\n",
    "print(id(com1))\n",
    "print(id(com2))"
   ]
  },
  {
   "cell_type": "code",
   "execution_count": null,
   "id": "38a1db08-de0e-41b1-8125-0c8a2283102a",
   "metadata": {},
   "outputs": [],
   "source": []
  }
 ],
 "metadata": {
  "kernelspec": {
   "display_name": "Python [conda env:base] *",
   "language": "python",
   "name": "conda-base-py"
  },
  "language_info": {
   "codemirror_mode": {
    "name": "ipython",
    "version": 3
   },
   "file_extension": ".py",
   "mimetype": "text/x-python",
   "name": "python",
   "nbconvert_exporter": "python",
   "pygments_lexer": "ipython3",
   "version": "3.12.7"
  }
 },
 "nbformat": 4,
 "nbformat_minor": 5
}
