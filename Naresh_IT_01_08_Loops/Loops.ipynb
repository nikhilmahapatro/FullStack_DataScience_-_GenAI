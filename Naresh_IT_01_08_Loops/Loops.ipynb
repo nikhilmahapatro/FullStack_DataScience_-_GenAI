{
 "cells": [
  {
   "cell_type": "markdown",
   "id": "8727b967-2862-4e95-8e04-9bc0c1a16fed",
   "metadata": {},
   "source": [
    "# LOOPS"
   ]
  },
  {
   "cell_type": "markdown",
   "id": "bfa667ff-1112-48b4-b48d-42b28df316df",
   "metadata": {},
   "source": [
    "# while loop"
   ]
  },
  {
   "cell_type": "code",
   "execution_count": 8,
   "id": "539b6ca8-73b8-4944-945e-5d13b6e72571",
   "metadata": {},
   "outputs": [
    {
     "name": "stdout",
     "output_type": "stream",
     "text": [
      "Data Science 1\n",
      "Data Science 2\n",
      "Data Science 3\n",
      "Data Science 4\n",
      "Data Science 5\n"
     ]
    }
   ],
   "source": [
    "# Incremental\n",
    "a = 1\n",
    "\n",
    "while a<=5:\n",
    "    print(\"Data Science\", a)\n",
    "    a+=1"
   ]
  },
  {
   "cell_type": "code",
   "execution_count": 9,
   "id": "213cb43d-35e6-4541-9677-70b52f8729a7",
   "metadata": {},
   "outputs": [
    {
     "name": "stdout",
     "output_type": "stream",
     "text": [
      "Data Science 5\n",
      "Data Science 4\n",
      "Data Science 3\n",
      "Data Science 2\n",
      "Data Science 1\n"
     ]
    }
   ],
   "source": [
    "# Decremental\n",
    "b = 5\n",
    "\n",
    "while b>=1:\n",
    "    print(\"Data Science\", b)\n",
    "    b-=1"
   ]
  },
  {
   "cell_type": "code",
   "execution_count": 11,
   "id": "a3f58907-30fd-4294-a99e-34617f7db84e",
   "metadata": {},
   "outputs": [
    {
     "name": "stdout",
     "output_type": "stream",
     "text": [
      "Data Science 1\n",
      "Gen AI 1\n",
      "Gen AI 2\n",
      "Gen AI 3\n",
      "Gen AI 4\n",
      "Data Science 2\n",
      "Gen AI 1\n",
      "Gen AI 2\n",
      "Gen AI 3\n",
      "Gen AI 4\n",
      "Data Science 3\n",
      "Gen AI 1\n",
      "Gen AI 2\n",
      "Gen AI 3\n",
      "Gen AI 4\n",
      "Data Science 4\n",
      "Gen AI 1\n",
      "Gen AI 2\n",
      "Gen AI 3\n",
      "Gen AI 4\n",
      "Data Science 5\n",
      "Gen AI 1\n",
      "Gen AI 2\n",
      "Gen AI 3\n",
      "Gen AI 4\n"
     ]
    }
   ],
   "source": [
    "# Nested While loop\n",
    "c1 = 1\n",
    "\n",
    "while c1<=5:\n",
    "    print(\"Data Science\",c1)\n",
    "    c2 = 1\n",
    "    while c2<=4:\n",
    "        print(\"Gen AI\",c2)\n",
    "        c2+=1\n",
    "    c1+=1"
   ]
  },
  {
   "cell_type": "code",
   "execution_count": 19,
   "id": "99d9abfc-8ee4-4b21-beda-b64c549a323f",
   "metadata": {},
   "outputs": [
    {
     "name": "stdout",
     "output_type": "stream",
     "text": [
      "Data Science  Gen AI  Gen AI  Gen AI  Gen AI  \n",
      "Data Science  Gen AI  Gen AI  Gen AI  Gen AI  \n",
      "Data Science  Gen AI  Gen AI  Gen AI  Gen AI  \n",
      "Data Science  Gen AI  Gen AI  Gen AI  Gen AI  \n",
      "Data Science  Gen AI  Gen AI  Gen AI  Gen AI  \n"
     ]
    }
   ],
   "source": [
    "d1 = 1\n",
    "\n",
    "while d1<=5:\n",
    "    print(\"Data Science \", end=\" \")\n",
    "    d2 = 1\n",
    "    while d2<=4:\n",
    "        print(\"Gen AI \", end=\" \")\n",
    "        d2+=1\n",
    "    d1+=1\n",
    "    print()"
   ]
  },
  {
   "cell_type": "code",
   "execution_count": 20,
   "id": "9f044090-fd3d-4800-a24a-7323e17a0ea1",
   "metadata": {},
   "outputs": [
    {
     "name": "stdout",
     "output_type": "stream",
     "text": [
      "0 1 2 \n",
      "0 2 4 \n"
     ]
    }
   ],
   "source": [
    "e1 = 1\n",
    "\n",
    "while e1<=2:\n",
    "    e2 = 0\n",
    "    while e2<=2:\n",
    "        print(e1*e2, end=\" \")\n",
    "        e2+=1\n",
    "    e1+=1\n",
    "    print()"
   ]
  },
  {
   "cell_type": "code",
   "execution_count": 21,
   "id": "918856c0-be00-41e2-820d-eaf41783bf58",
   "metadata": {},
   "outputs": [
    {
     "name": "stdout",
     "output_type": "stream",
     "text": [
      "0 1 2 3 \n",
      "0 2 4 6 \n",
      "0 3 6 9 \n",
      "0 4 8 12 \n"
     ]
    }
   ],
   "source": [
    "f1 = 1\n",
    "\n",
    "while f1<=4:\n",
    "    f2 = 0\n",
    "    while f2<=3:\n",
    "        print(f1*f2, end=\" \")\n",
    "        f2+=1\n",
    "    f1+=1\n",
    "    print()"
   ]
  },
  {
   "cell_type": "markdown",
   "id": "ee703301-3386-486d-85ff-cca74db3d357",
   "metadata": {},
   "source": [
    "# for loop"
   ]
  },
  {
   "cell_type": "code",
   "execution_count": 22,
   "id": "aecb7bca-cb19-4d7f-bdbd-6f782c5cad87",
   "metadata": {},
   "outputs": [
    {
     "name": "stdout",
     "output_type": "stream",
     "text": [
      "n\n",
      "i\n",
      "t\n"
     ]
    }
   ],
   "source": [
    "G = 'nit'\n",
    "\n",
    "for g in G:\n",
    "    print(g)"
   ]
  },
  {
   "cell_type": "code",
   "execution_count": 23,
   "id": "48d30d95-a584-484a-a0ad-f84648b73fbf",
   "metadata": {},
   "outputs": [
    {
     "name": "stdout",
     "output_type": "stream",
     "text": [
      "5\n",
      "9.2\n",
      "Auf Wiedersehen\n"
     ]
    }
   ],
   "source": [
    "H = [5,9.2,'Auf Wiedersehen']\n",
    "\n",
    "for h in H:\n",
    "    print(h)"
   ]
  },
  {
   "cell_type": "code",
   "execution_count": 24,
   "id": "e3184f35-9657-4ccc-a029-dafb6143572c",
   "metadata": {},
   "outputs": [
    {
     "name": "stdout",
     "output_type": "stream",
     "text": [
      "2\n",
      "3\n",
      "4\n",
      "5\n",
      "6\n",
      "7\n"
     ]
    }
   ],
   "source": [
    "for i in range(2,8):\n",
    "    print(i)"
   ]
  },
  {
   "cell_type": "code",
   "execution_count": 26,
   "id": "f3d890bf-7cc0-4a41-82ba-761f3202950f",
   "metadata": {},
   "outputs": [
    {
     "name": "stdout",
     "output_type": "stream",
     "text": [
      "0\n",
      "3\n",
      "6\n",
      "9\n",
      "12\n",
      "15\n",
      "18\n"
     ]
    }
   ],
   "source": [
    "for j in range(0,20,3):\n",
    "    print(j)"
   ]
  },
  {
   "cell_type": "code",
   "execution_count": 28,
   "id": "06e7efed-da1d-4e6a-bb52-4c8247505508",
   "metadata": {},
   "outputs": [
    {
     "name": "stdout",
     "output_type": "stream",
     "text": [
      "5\n",
      "10\n",
      "15\n",
      "20\n",
      "25\n",
      "30\n",
      "35\n",
      "40\n",
      "45\n",
      "50\n"
     ]
    }
   ],
   "source": [
    "for k in range(1,51):\n",
    "    if k%5==0:\n",
    "        print(k)"
   ]
  },
  {
   "cell_type": "markdown",
   "id": "292ac3b7-5be7-4b58-97a1-0d61403cd4c7",
   "metadata": {},
   "source": [
    "# break, continue, pass"
   ]
  },
  {
   "cell_type": "code",
   "execution_count": null,
   "id": "b28f0787-4c65-47b8-9ec4-b4b2c4999fc5",
   "metadata": {},
   "outputs": [],
   "source": [
    "for l in range(1,11):\n",
    "    print(l)"
   ]
  },
  {
   "cell_type": "code",
   "execution_count": 35,
   "id": "e13c25d8-4335-4f8e-bdff-9da45ce07230",
   "metadata": {},
   "outputs": [
    {
     "name": "stdout",
     "output_type": "stream",
     "text": [
      "1\n",
      "2\n",
      "3\n",
      "4\n",
      "5\n",
      "6\n"
     ]
    }
   ],
   "source": [
    "for m in range(1,11):\n",
    "    if m==7:\n",
    "        break\n",
    "    print(m)"
   ]
  },
  {
   "cell_type": "code",
   "execution_count": 36,
   "id": "dd6d2aa4-0bee-4a53-bb65-b543e3a728f8",
   "metadata": {},
   "outputs": [
    {
     "name": "stdout",
     "output_type": "stream",
     "text": [
      "1\n",
      "2\n",
      "3\n",
      "4\n",
      "5\n",
      "6\n",
      "8\n",
      "9\n",
      "10\n"
     ]
    }
   ],
   "source": [
    "for n in range(1,11):\n",
    "    if n==7:\n",
    "        continue\n",
    "    print(n)"
   ]
  },
  {
   "cell_type": "code",
   "execution_count": 37,
   "id": "4faacb32-14e5-4a99-bbee-b0aea1da9080",
   "metadata": {},
   "outputs": [],
   "source": [
    "for o in range(1,11):\n",
    "        pass"
   ]
  },
  {
   "cell_type": "code",
   "execution_count": null,
   "id": "bc36b9ef-4cb0-47f0-9367-424f61c371e5",
   "metadata": {},
   "outputs": [],
   "source": []
  }
 ],
 "metadata": {
  "kernelspec": {
   "display_name": "Python [conda env:base] *",
   "language": "python",
   "name": "conda-base-py"
  },
  "language_info": {
   "codemirror_mode": {
    "name": "ipython",
    "version": 3
   },
   "file_extension": ".py",
   "mimetype": "text/x-python",
   "name": "python",
   "nbconvert_exporter": "python",
   "pygments_lexer": "ipython3",
   "version": "3.12.7"
  }
 },
 "nbformat": 4,
 "nbformat_minor": 5
}
