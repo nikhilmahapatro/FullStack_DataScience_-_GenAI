{
 "cells": [
  {
   "cell_type": "markdown",
   "id": "710eb118-8c4d-40f0-afe3-bfd12f17f013",
   "metadata": {},
   "source": [
    "# DICTIONARY"
   ]
  },
  {
   "cell_type": "code",
   "execution_count": 1,
   "id": "eeec29b0-60ec-4b0a-9ec4-837819c903a8",
   "metadata": {},
   "outputs": [],
   "source": [
    " # Empty Dictionary\n",
    "D={}                                          "
   ]
  },
  {
   "cell_type": "code",
   "execution_count": 2,
   "id": "0f3ef062-be27-44e4-a019-62430b8ff4b0",
   "metadata": {},
   "outputs": [],
   "source": [
    "# Collection of Key-value pairs\n",
    "# Keys- No duplicates allowed, Values- duplicates allowed\n",
    "# Mutable\n",
    "# can store multiple datatypes"
   ]
  },
  {
   "cell_type": "code",
   "execution_count": 4,
   "id": "70d58df5-ec62-4407-b5df-f203831d0d2f",
   "metadata": {},
   "outputs": [
    {
     "name": "stdout",
     "output_type": "stream",
     "text": [
      "5\n",
      "{1: 'one', 2: 'two', 3: 'three', 4: 'Four', 5: 'Five'}\n"
     ]
    }
   ],
   "source": [
    "D1={\n",
    "    1:'one',\n",
    "    2:'two',\n",
    "    3:'three',\n",
    "    4:'Four',\n",
    "    5:'Five'\n",
    "}\n",
    "\n",
    "print(len(D1))\n",
    "print(D1)"
   ]
  },
  {
   "cell_type": "code",
   "execution_count": 6,
   "id": "b44bbed5-157c-4450-bb9f-3dbde5ce3fa2",
   "metadata": {},
   "outputs": [
    {
     "name": "stdout",
     "output_type": "stream",
     "text": [
      "(0, 1)\n",
      "(1, 2)\n",
      "(2, 3)\n",
      "(3, 4)\n",
      "(4, 5)\n"
     ]
    }
   ],
   "source": [
    "for i in enumerate(D1):\n",
    "    print(i)                            # Prints (index,Key)"
   ]
  },
  {
   "cell_type": "markdown",
   "id": "da66d3fb-a76c-4f5a-a851-ad0ff1f88fe6",
   "metadata": {},
   "source": [
    "# Dict Membership (only for keys)"
   ]
  },
  {
   "cell_type": "code",
   "execution_count": 7,
   "id": "3c3a0da0-8045-4bfb-9059-ca243e52d589",
   "metadata": {},
   "outputs": [
    {
     "name": "stdout",
     "output_type": "stream",
     "text": [
      "False\n",
      "True\n",
      "False\n"
     ]
    }
   ],
   "source": [
    "# Checks if key in Dict\n",
    "\n",
    "print(200 in D1)                                 # False\n",
    "print(1 in D1)                                   # True\n",
    "print('one' in D1)                               # False"
   ]
  },
  {
   "cell_type": "markdown",
   "id": "13a218ae-cabf-4229-a47e-fbde29a7fe14",
   "metadata": {},
   "source": [
    "# Nested Dictionary"
   ]
  },
  {
   "cell_type": "code",
   "execution_count": 8,
   "id": "961a23e0-f6b9-4498-ab38-fbca0330d6da",
   "metadata": {},
   "outputs": [],
   "source": [
    "# Storing another group in Dict"
   ]
  },
  {
   "cell_type": "code",
   "execution_count": 9,
   "id": "c682d25e-17b0-4aa2-9564-a21ebc6374f4",
   "metadata": {},
   "outputs": [
    {
     "name": "stdout",
     "output_type": "stream",
     "text": [
      "MissionImpossible\n",
      "['Deadpool', 'Captain America']\n",
      "Deadpool\n",
      "Captain America\n"
     ]
    }
   ],
   "source": [
    "d={'Maverick':'TopGun',\n",
    "   'EthanHunt':'MissionImpossible',\n",
    "   ('Wade Wilson','Steve Rogers'):['Deadpool','Captain America']}\n",
    "\n",
    "print(d['EthanHunt'])\n",
    "print(d[('Wade Wilson','Steve Rogers')])\n",
    "print(d[('Wade Wilson','Steve Rogers')][0])\n",
    "print(d[('Wade Wilson','Steve Rogers')][1])"
   ]
  },
  {
   "cell_type": "code",
   "execution_count": 11,
   "id": "23dcb1f4-d3b2-4778-8e54-8a14acae89fb",
   "metadata": {},
   "outputs": [
    {
     "name": "stdout",
     "output_type": "stream",
     "text": [
      "{7: 'sieben', 8: 'akht', 'S': ['Superman', 'Sentry', 'Spiderman'], 'G': ('Gambit', 'Green Lantern'), 'Dune': {'Lisan-Al-Gaib': 'Voice from the outer world', 'Kwisatz Haderach': 'The Chosen One'}}\n"
     ]
    }
   ],
   "source": [
    "D2= {7:'sieben',\n",
    "     8:'akht',\n",
    "     'S':[\"Superman\", \"Sentry\", \"Spiderman\"],\n",
    "     'G':(\"Gambit\", \"Green Lantern\"),\n",
    "     'Dune':{'Lisan-Al-Gaib':'Voice from the outer world',\n",
    "             'Kwisatz Haderach':'The Chosen One'\n",
    "             }}\n",
    "print(D2)"
   ]
  },
  {
   "cell_type": "markdown",
   "id": "c0f4b13a-2483-4b92-b233-d6d4524e6900",
   "metadata": {},
   "source": [
    "# Creating a Dict from a sequence of keys"
   ]
  },
  {
   "cell_type": "code",
   "execution_count": 12,
   "id": "11f43934-1fec-454e-b56a-27e42da239ac",
   "metadata": {},
   "outputs": [
    {
     "name": "stdout",
     "output_type": "stream",
     "text": [
      "{'Y': None, 'Z': None, 'X': None, 'W': None}\n"
     ]
    }
   ],
   "source": [
    "K4={'W','X','Y','Z'}\n",
    "D4=dict.fromkeys(K4)\n",
    "print(D4)                                 # D4= {'X': None, 'Y': None, 'W': None, 'Z': None}"
   ]
  },
  {
   "cell_type": "code",
   "execution_count": 13,
   "id": "e4cb72c4-f391-407d-838d-85926d1258d3",
   "metadata": {},
   "outputs": [
    {
     "name": "stdout",
     "output_type": "stream",
     "text": [
      "{'P': 69, 'Q': 69, 'R': 69}\n"
     ]
    }
   ],
   "source": [
    "K5={'P','Q','R'}\n",
    "V5=69\n",
    "D5=dict.fromkeys(K5,V5)\n",
    "print(D5)                                 # D5= {'R': 69, 'Q': 69, 'P': 69}"
   ]
  },
  {
   "cell_type": "code",
   "execution_count": 14,
   "id": "143530cd-fdeb-45b5-9230-4aa24c140017",
   "metadata": {},
   "outputs": [
    {
     "name": "stdout",
     "output_type": "stream",
     "text": [
      "{'CC': [10, 20, 30], 'DD': [10, 20, 30], 'AA': [10, 20, 30], 'BB': [10, 20, 30]}\n",
      "{'CC': [10, 20, 30, 40], 'DD': [10, 20, 30, 40], 'AA': [10, 20, 30, 40], 'BB': [10, 20, 30, 40]}\n"
     ]
    }
   ],
   "source": [
    "K6={'AA','BB','CC','DD'}\n",
    "V6=[10,20,30]\n",
    "D6=dict.fromkeys(K6,V6)\n",
    "print(D6)                                 # D6= {'BB': {10, 20, 30}, 'AA': {10, 20, 30}, 'DD': {10, 20, 30}, 'CC': {10, 20, 30}}\n",
    "V6.append(40)\n",
    "print(D6)                                 # {'CC': [10, 20, 30, 40], 'BB': [10, 20, 30, 40], 'AA': [10, 20, 30, 40], 'DD': [10, 20, 30, 40]}"
   ]
  },
  {
   "cell_type": "markdown",
   "id": "d41e140f-5e08-4ff4-8eba-ee0852aeed0c",
   "metadata": {},
   "source": [
    "# Dictionary Methods"
   ]
  },
  {
   "cell_type": "code",
   "execution_count": 15,
   "id": "5c7ae6b7-0802-4787-bf14-f9b1eb97622b",
   "metadata": {},
   "outputs": [
    {
     "name": "stdout",
     "output_type": "stream",
     "text": [
      "{1: 'eins', 2: 'zwei', 3: 'drei', 4: 'vier', 5: 'funf', 6: 'secks'}\n",
      "{'uno': 1, 'dos': 2, 'tres': 3, 'cuatro': 4, 'cinco': 5}\n"
     ]
    }
   ],
   "source": [
    "# the dict() constructor to convert an existing dictionary into a new dictionary,  essentially creating a copy\n",
    "\n",
    "D3_1= dict({1:'eins', 2:'zwei', 3:'drei', 4:'vier', 5:'funf', 6:'secks'})\n",
    "D3_2= dict({'uno':1, 'dos':2, 'tres':3, 'cuatro':4, 'cinco':5})\n",
    "print(D3_1)\n",
    "print(D3_2)"
   ]
  },
  {
   "cell_type": "code",
   "execution_count": 16,
   "id": "79114d48-dca1-4f51-bd3e-ca431aeac5e4",
   "metadata": {},
   "outputs": [
    {
     "name": "stdout",
     "output_type": "stream",
     "text": [
      "dict_keys([1, 2, 3, 4, 5, 6])\n"
     ]
    }
   ],
   "source": [
    "print(D3_1.keys())                          # dict_keys([1, 2, 3, 4, 5, 6])"
   ]
  },
  {
   "cell_type": "code",
   "execution_count": 17,
   "id": "46fb60d0-f659-4baa-8146-0432819bbb2d",
   "metadata": {},
   "outputs": [
    {
     "name": "stdout",
     "output_type": "stream",
     "text": [
      "dict_values(['eins', 'zwei', 'drei', 'vier', 'funf', 'secks'])\n"
     ]
    }
   ],
   "source": [
    "print(D3_1.values())                        # dict_values(['eins', 'zwei', 'drei', 'vier', 'funf', 'secks'])"
   ]
  },
  {
   "cell_type": "code",
   "execution_count": 18,
   "id": "8f30b9da-bc42-43e3-a38b-d049e010fecc",
   "metadata": {},
   "outputs": [
    {
     "name": "stdout",
     "output_type": "stream",
     "text": [
      "dict_items([(1, 'eins'), (2, 'zwei'), (3, 'drei'), (4, 'vier'), (5, 'funf'), (6, 'secks')])\n"
     ]
    }
   ],
   "source": [
    "print(D3_1.items())                         # dict_items([(1, 'eins'), (2, 'zwei'), (3, 'drei'), (4, 'vier'), (5, 'funf'), (6, 'secks')])"
   ]
  },
  {
   "cell_type": "code",
   "execution_count": 20,
   "id": "8fa87de6-77a4-4c6d-9448-a19436ddd38b",
   "metadata": {},
   "outputs": [
    {
     "name": "stdout",
     "output_type": "stream",
     "text": [
      "4\n"
     ]
    }
   ],
   "source": [
    "# Accessing a Dictionary using key\n",
    "# If key exists then returns corresponding value. If not then Error\n",
    "print(D3_2['cuatro'])                       "
   ]
  },
  {
   "cell_type": "code",
   "execution_count": 21,
   "id": "72f25618-90af-4d55-998b-13840f40263c",
   "metadata": {},
   "outputs": [
    {
     "name": "stdout",
     "output_type": "stream",
     "text": [
      "3\n"
     ]
    }
   ],
   "source": [
    "print(D3_2.get('tres'))                     # If key exists then returns corresponding value. If not then NO ERROR"
   ]
  },
  {
   "cell_type": "code",
   "execution_count": 22,
   "id": "98dcdca8-1ba2-4fa8-8675-8bf2b73d2ec7",
   "metadata": {},
   "outputs": [
    {
     "name": "stdout",
     "output_type": "stream",
     "text": [
      "eins\n"
     ]
    }
   ],
   "source": [
    "# Accessing a Dictionary using index\n",
    "# If key exists then returns corresponding value. If not then Error\n",
    "print(D3_1[1])                              "
   ]
  },
  {
   "cell_type": "code",
   "execution_count": 23,
   "id": "bea1563f-148c-4730-a774-c1579fc0666d",
   "metadata": {},
   "outputs": [
    {
     "name": "stdout",
     "output_type": "stream",
     "text": [
      "zwei\n"
     ]
    }
   ],
   "source": [
    "print(D3_1.get(2))                          # If key exists then returns corresponding value. If not then NO ERROR"
   ]
  },
  {
   "cell_type": "markdown",
   "id": "608a76f8-b595-4d57-9370-ba8dd0ed749c",
   "metadata": {},
   "source": [
    "# Add, Remove & Change Items in Dict"
   ]
  },
  {
   "cell_type": "code",
   "execution_count": 24,
   "id": "b438ed47-3da5-4c36-b506-02b6cda56a75",
   "metadata": {},
   "outputs": [
    {
     "name": "stdout",
     "output_type": "stream",
     "text": [
      "{'Name': 'Cristiano', 'YOB': 1985, 'jersey': 7, 'Goals': 458, 'Address': 'Lisbon'}\n",
      "{'Name': 'Cristiano Ronaldo', 'YOB': 1985, 'jersey': 7, 'Goals': 458, 'Address': 'Lisbon'}\n"
     ]
    }
   ],
   "source": [
    "# Changing items in the dict\n",
    "\n",
    "D7={'Name':'Cristiano','YOB': 1985, 'jersey':9, 'Goals':458, 'Address':'Lisbon'}\n",
    "D7['jersey']=7\n",
    "print(D7)\n",
    "small_D7= {'Name':'Cristiano Ronaldo'}\n",
    "D7.update(small_D7)\n",
    "print(D7)"
   ]
  },
  {
   "cell_type": "code",
   "execution_count": 25,
   "id": "8f8b87bb-d502-4439-b5c4-49d883f64d35",
   "metadata": {},
   "outputs": [
    {
     "name": "stdout",
     "output_type": "stream",
     "text": [
      "{'Name': 'Cristiano Ronaldo', 'YOB': 1985, 'jersey': 7, 'Goals': 458, 'Address': 'Lisbon', 'Team': 'Real Madrid'}\n"
     ]
    }
   ],
   "source": [
    "# Adding items to the end of the Dict\n",
    "\n",
    "D7['Team']= 'Real Madrid'\n",
    "print(D7)"
   ]
  },
  {
   "cell_type": "code",
   "execution_count": 26,
   "id": "2028fd14-7daa-44b2-add5-d3c2d46fff19",
   "metadata": {},
   "outputs": [],
   "source": [
    "# Removing items from the Dict"
   ]
  },
  {
   "cell_type": "code",
   "execution_count": 27,
   "id": "498a3e83-333d-45f2-87e2-08c35c236380",
   "metadata": {},
   "outputs": [
    {
     "name": "stdout",
     "output_type": "stream",
     "text": [
      "{'Name': 'Cristiano Ronaldo', 'YOB': 1985, 'jersey': 7, 'Address': 'Lisbon', 'Team': 'Real Madrid'}\n"
     ]
    }
   ],
   "source": [
    "D7.pop('Goals')                              # Removes particular item from the Dict\n",
    "print(D7)"
   ]
  },
  {
   "cell_type": "code",
   "execution_count": 28,
   "id": "af26fa28-db46-4480-b88b-8e8100d28b51",
   "metadata": {},
   "outputs": [
    {
     "name": "stdout",
     "output_type": "stream",
     "text": [
      "{1: 'one', 2: 'two', 3: 'three', 4: 'Four'}\n"
     ]
    }
   ],
   "source": [
    "D1.popitem()                                 # removes a random item from the Dict\n",
    "print(D1)"
   ]
  },
  {
   "cell_type": "code",
   "execution_count": 29,
   "id": "c2eb8eeb-7aa5-4394-b79e-cf445ac5a60c",
   "metadata": {},
   "outputs": [
    {
     "name": "stdout",
     "output_type": "stream",
     "text": [
      "{'Name': 'Cristiano Ronaldo', 'jersey': 7, 'Address': 'Lisbon', 'Team': 'Real Madrid'}\n"
     ]
    }
   ],
   "source": [
    "del[D7['YOB']]                               # Removing item using del method\n",
    "print(D7)"
   ]
  },
  {
   "cell_type": "code",
   "execution_count": 30,
   "id": "4bcaa099-e2db-4bac-b03c-59e17e167deb",
   "metadata": {},
   "outputs": [
    {
     "name": "stdout",
     "output_type": "stream",
     "text": [
      "{}\n"
     ]
    }
   ],
   "source": [
    "D1.clear()                                   # Delete all items of the dictionary using clear method\n",
    "print(D1)"
   ]
  },
  {
   "cell_type": "code",
   "execution_count": 31,
   "id": "4e1ec693-fa66-477f-8b51-13447cfe834c",
   "metadata": {},
   "outputs": [
    {
     "name": "stdout",
     "output_type": "stream",
     "text": [
      "2431246341632\n",
      "2431246341632\n",
      "2431246492608\n"
     ]
    }
   ],
   "source": [
    "# Copy a Dictionary\n",
    "\n",
    "D8={'Student':'John Doe', 'Id':4624, 'Batch':'Phy-Che-Math'}\n",
    "D9=D8                                        # Create a new reference D9\n",
    "print(id(D8)), print(id(D9))                 # The address of both mydict & mydict1 will be the same\n",
    "D10=D9.copy()\n",
    "print(id(D10))                               # Address of D10 if different from D8 & D9"
   ]
  },
  {
   "cell_type": "code",
   "execution_count": 32,
   "id": "775bfd9e-9755-424b-b905-b206e581e4fb",
   "metadata": {},
   "outputs": [
    {
     "name": "stdout",
     "output_type": "stream",
     "text": [
      "1\n",
      "2\n",
      "3\n",
      "4\n",
      "5\n",
      "6\n",
      "1 : eins\n",
      "2 : zwei\n",
      "3 : drei\n",
      "4 : vier\n",
      "5 : funf\n",
      "6 : secks\n"
     ]
    }
   ],
   "source": [
    " # prints Keys\n",
    "\n",
    "for i in D3_1:\n",
    "    print(i)                                "
   ]
  },
  {
   "cell_type": "code",
   "execution_count": 33,
   "id": "303735f0-a315-44ad-97bd-754e3555b0ba",
   "metadata": {},
   "outputs": [
    {
     "name": "stdout",
     "output_type": "stream",
     "text": [
      "eins\n",
      "zwei\n",
      "drei\n",
      "vier\n",
      "funf\n",
      "secks\n"
     ]
    }
   ],
   "source": [
    "# prints values\n",
    "\n",
    "for i in D3_1:\n",
    "    print(D3_1[i])                           "
   ]
  },
  {
   "cell_type": "code",
   "execution_count": 34,
   "id": "c32fc3a1-aa33-4ad5-9390-f69ae3834a25",
   "metadata": {},
   "outputs": [
    {
     "name": "stdout",
     "output_type": "stream",
     "text": [
      "1 : eins\n",
      "2 : zwei\n",
      "3 : drei\n",
      "4 : vier\n",
      "5 : funf\n",
      "6 : secks\n"
     ]
    }
   ],
   "source": [
    " # prints Key & value pair\n",
    "\n",
    "for i in D3_1:\n",
    "    print(i , ':' , D3_1[i])                "
   ]
  },
  {
   "cell_type": "code",
   "execution_count": null,
   "id": "4934f07c-70c6-4575-aada-28be2b9211f0",
   "metadata": {},
   "outputs": [],
   "source": []
  }
 ],
 "metadata": {
  "kernelspec": {
   "display_name": "Python [conda env:base] *",
   "language": "python",
   "name": "conda-base-py"
  },
  "language_info": {
   "codemirror_mode": {
    "name": "ipython",
    "version": 3
   },
   "file_extension": ".py",
   "mimetype": "text/x-python",
   "name": "python",
   "nbconvert_exporter": "python",
   "pygments_lexer": "ipython3",
   "version": "3.12.7"
  }
 },
 "nbformat": 4,
 "nbformat_minor": 5
}
