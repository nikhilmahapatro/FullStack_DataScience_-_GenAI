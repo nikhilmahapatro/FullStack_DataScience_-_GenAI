{
 "cells": [
  {
   "cell_type": "markdown",
   "id": "ea5803e3-4faf-4591-a0ee-28baebe0090a",
   "metadata": {},
   "source": [
    "# SET"
   ]
  },
  {
   "cell_type": "code",
   "execution_count": 2,
   "id": "6ef72f6a-2fd8-4f19-a1ab-6c24f3db2860",
   "metadata": {},
   "outputs": [
    {
     "name": "stdout",
     "output_type": "stream",
     "text": [
      "<class 'dict'>\n",
      "<class 'set'>\n"
     ]
    }
   ],
   "source": [
    " # empty Dictionary\n",
    "S0={}                              \n",
    "print(type(S0))\n",
    "\n",
    "# empty set\n",
    "S={}                                \n",
    "S=set()\n",
    "print(type(S))"
   ]
  },
  {
   "cell_type": "code",
   "execution_count": 3,
   "id": "19e7a60d-e92b-4139-bf97-b4d9ba71071b",
   "metadata": {},
   "outputs": [],
   "source": [
    "# Duplicates not allowed\n",
    "# Set is bot mutable & immutable (items can be added/removed but cannot be manipulated)\n",
    "# Can store multiple datatypes, but no nested sets,etc not allowed\n",
    "# Indexing/Slicing not allowed\n",
    "      # print(S[0]) ----> Error\n",
    "# Set is not duplicable"
   ]
  },
  {
   "cell_type": "code",
   "execution_count": 4,
   "id": "26bb9fef-52be-4f29-b18f-f9125639288a",
   "metadata": {},
   "outputs": [
    {
     "name": "stdout",
     "output_type": "stream",
     "text": [
      "{1, 2, 3, 4, 5, 6, 7, 8, 9, 45}\n",
      "10\n"
     ]
    }
   ],
   "source": [
    "S1={7,6,2,4,9,5,8,3,1,2,45,9}\n",
    "print(S1)\n",
    "print(len(S1))"
   ]
  },
  {
   "cell_type": "code",
   "execution_count": 5,
   "id": "8ca92010-ee79-40a2-b83b-b3c006299daf",
   "metadata": {},
   "outputs": [
    {
     "name": "stdout",
     "output_type": "stream",
     "text": [
      "<class 'set'>\n",
      "6\n",
      "{96, False, 4, 7.21, 'style', (2+3j)}\n"
     ]
    }
   ],
   "source": [
    "S2={4, 'style', 96, 7.21, 2+3j, False}\n",
    "print(type(S2))\n",
    "print(len(S2))\n",
    "print(S2)"
   ]
  },
  {
   "cell_type": "code",
   "execution_count": 6,
   "id": "067e7943-c5ef-42ab-9159-3a54cf9e6a35",
   "metadata": {},
   "outputs": [
    {
     "name": "stdout",
     "output_type": "stream",
     "text": [
      "45\n"
     ]
    }
   ],
   "source": [
    "print(max(S1))"
   ]
  },
  {
   "cell_type": "code",
   "execution_count": 7,
   "id": "c7f47ec9-8255-424b-af75-3a572b78fb3a",
   "metadata": {},
   "outputs": [
    {
     "name": "stdout",
     "output_type": "stream",
     "text": [
      "1\n"
     ]
    }
   ],
   "source": [
    "print(min(S1))"
   ]
  },
  {
   "cell_type": "code",
   "execution_count": 8,
   "id": "487027c1-9d88-47ef-88ff-a7ac57078397",
   "metadata": {},
   "outputs": [
    {
     "name": "stdout",
     "output_type": "stream",
     "text": [
      "90\n"
     ]
    }
   ],
   "source": [
    "print(sum(S1))"
   ]
  },
  {
   "cell_type": "code",
   "execution_count": 9,
   "id": "ebb94ade-d4ac-4048-93b1-fe6c4993dd35",
   "metadata": {},
   "outputs": [
    {
     "name": "stdout",
     "output_type": "stream",
     "text": [
      "(0, 96)\n",
      "(1, False)\n",
      "(2, 4)\n",
      "(3, 7.21)\n",
      "(4, 'style')\n",
      "(5, (2+3j))\n"
     ]
    }
   ],
   "source": [
    "for i in enumerate(S2):\n",
    "    print(i)"
   ]
  },
  {
   "cell_type": "markdown",
   "id": "9c9a1aa1-3faf-4f3c-93bf-6ef76bf8099a",
   "metadata": {},
   "source": [
    "# Set Membership"
   ]
  },
  {
   "cell_type": "code",
   "execution_count": 10,
   "id": "a1306da6-dc19-4b74-8a59-07924e133f01",
   "metadata": {},
   "outputs": [
    {
     "name": "stdout",
     "output_type": "stream",
     "text": [
      "True\n",
      "False\n"
     ]
    }
   ],
   "source": [
    "print('style' in S2)                                 # False\n",
    "print(1 in S2)                                       # True"
   ]
  },
  {
   "cell_type": "markdown",
   "id": "e901939f-d73d-41c5-b552-89bc891056bc",
   "metadata": {},
   "source": [
    "# Basic Set Methods"
   ]
  },
  {
   "cell_type": "code",
   "execution_count": 11,
   "id": "8e576720-626e-4cc5-9b54-6e32d02c0a39",
   "metadata": {},
   "outputs": [
    {
     "name": "stdout",
     "output_type": "stream",
     "text": [
      "{1, 2, 3, 4, 5, 6, 7, 8, 9, 45, 27}\n"
     ]
    }
   ],
   "source": [
    " # Adds element to the end of the set\n",
    "S1.add(27)                                          \n",
    "print(S1)"
   ]
  },
  {
   "cell_type": "code",
   "execution_count": 12,
   "id": "1ec6b5be-ca21-43fd-b333-24e3c3659288",
   "metadata": {},
   "outputs": [
    {
     "name": "stdout",
     "output_type": "stream",
     "text": [
      "{1, 2, 3, 4, 5, 6, 7, 8, 9, 45, 27}\n"
     ]
    }
   ],
   "source": [
    "# copies 1 set into another\n",
    "S3=S1.copy()                                         \n",
    "print(S3)"
   ]
  },
  {
   "cell_type": "code",
   "execution_count": 13,
   "id": "77a0edf6-ca70-42a1-9d59-48db9dcc8229",
   "metadata": {},
   "outputs": [
    {
     "name": "stdout",
     "output_type": "stream",
     "text": [
      "set()\n"
     ]
    }
   ],
   "source": [
    "# removes all the elements from the set\n",
    "S3.clear()                                           \n",
    "print(S3)"
   ]
  },
  {
   "cell_type": "code",
   "execution_count": 15,
   "id": "ed9cc314-7511-4e2d-a5a8-3538d074518a",
   "metadata": {},
   "outputs": [
    {
     "name": "stdout",
     "output_type": "stream",
     "text": [
      "{3, 4, 5, 6, 7, 8, 9, 45, 27}\n"
     ]
    }
   ],
   "source": [
    " # removes random elements from the set\n",
    "S1.pop()                                            \n",
    "print(S1)   "
   ]
  },
  {
   "cell_type": "code",
   "execution_count": 16,
   "id": "e5179675-5ac1-420f-831c-715a36357fb5",
   "metadata": {},
   "outputs": [
    {
     "name": "stdout",
     "output_type": "stream",
     "text": [
      "{3, 4, 5, 6, 7, 8, 9, 69, 36, 45, 52, 27}\n"
     ]
    }
   ],
   "source": [
    "S1.update([69,52,36])                                \n",
    "# S1.update(74) ---> Error\n",
    "print(S1)"
   ]
  },
  {
   "cell_type": "code",
   "execution_count": 17,
   "id": "ffe5a471-a271-4744-8393-969c2d4c1b96",
   "metadata": {},
   "outputs": [
    {
     "name": "stdout",
     "output_type": "stream",
     "text": [
      "{3, 4, 5, 6, 7, 8, 69, 36, 45, 52, 27}\n"
     ]
    }
   ],
   "source": [
    "# If element in the set then removes it. If not then Error\n",
    "S1.remove(9) \n",
    "# S1.remove(11) ---> Error\n",
    "print(S1)                                            "
   ]
  },
  {
   "cell_type": "code",
   "execution_count": 18,
   "id": "d242cd93-f292-4c7d-ab37-5b6200ce68d3",
   "metadata": {},
   "outputs": [
    {
     "name": "stdout",
     "output_type": "stream",
     "text": [
      "{3, 4, 5, 6, 7, 8, 69, 36, 45, 52, 27}\n"
     ]
    }
   ],
   "source": [
    "# If element in the set then removes it. If not then NO ERROR\n",
    "S1.discard(11)                                       \n",
    "print(S1)"
   ]
  },
  {
   "cell_type": "markdown",
   "id": "cb9f6893-e4c9-4eb3-8e86-c43de3f34280",
   "metadata": {},
   "source": [
    "# Superset, Subset, Disjoint"
   ]
  },
  {
   "cell_type": "code",
   "execution_count": 19,
   "id": "4e8d6104-0b50-4f0f-abf4-3434f0247274",
   "metadata": {},
   "outputs": [],
   "source": [
    "# Superset, Subset, Disjoint = Dad, Son, Neighbour"
   ]
  },
  {
   "cell_type": "code",
   "execution_count": 21,
   "id": "9710e42e-9978-49e8-a827-20a0af0eef3b",
   "metadata": {},
   "outputs": [
    {
     "name": "stdout",
     "output_type": "stream",
     "text": [
      "True\n",
      "True\n",
      "True\n",
      "True\n",
      "False\n"
     ]
    }
   ],
   "source": [
    "X={1,2,3,4,5,6,7,8,9}\n",
    "Y={3,4,5,6,7,8}\n",
    "Z={23,49,77}\n",
    "W={7,8,9,10,11,12}\n",
    "\n",
    "print(X.issuperset(Y))                               # True\n",
    "print(Y.issubset(X))                                 # True\n",
    "print(X.isdisjoint(Z))                               # True\n",
    "print(Z.isdisjoint(X))                               # True\n",
    "print(W.issubset(X))                                 # False"
   ]
  },
  {
   "cell_type": "markdown",
   "id": "5fadb4b3-60cd-49b2-be6f-e4734a9add84",
   "metadata": {},
   "source": [
    "# Set operations"
   ]
  },
  {
   "cell_type": "code",
   "execution_count": 22,
   "id": "67e2ff06-b92b-4dfe-bc1a-625299ad7925",
   "metadata": {},
   "outputs": [],
   "source": [
    "A={1,2,3,4,5}\n",
    "B={4,5,6,7,8}\n",
    "C={8,9,10}"
   ]
  },
  {
   "cell_type": "code",
   "execution_count": 28,
   "id": "8e215d19-4c3e-4f97-9ce0-690c92b3d431",
   "metadata": {},
   "outputs": [
    {
     "name": "stdout",
     "output_type": "stream",
     "text": [
      "{1, 2, 3, 4, 5, 6, 7, 8, 9, 10}\n",
      "{1, 2, 3, 4, 5, 6, 7, 8, 9, 10}\n"
     ]
    }
   ],
   "source": [
    "# Union\n",
    "\n",
    "print(A|B)                                            # {1,2,3,4,5,6,7,8}\n",
    "print(A.union(B))                                     # {1,2,3,4,5,6,7,8}"
   ]
  },
  {
   "cell_type": "code",
   "execution_count": 29,
   "id": "6ca001cd-ed42-4042-a6a7-37cb89e5a1e2",
   "metadata": {},
   "outputs": [
    {
     "name": "stdout",
     "output_type": "stream",
     "text": [
      "{6, 7}\n",
      "{6, 7}\n"
     ]
    }
   ],
   "source": [
    "# Intersection\n",
    "\n",
    "print(A&B)                                            # {4,5}\n",
    "print(A.intersection(B))                              # {4,5}"
   ]
  },
  {
   "cell_type": "code",
   "execution_count": 30,
   "id": "4b829203-7797-4eb1-8adc-2ae86451358e",
   "metadata": {},
   "outputs": [
    {
     "name": "stdout",
     "output_type": "stream",
     "text": [
      "{8, 1, 2, 3}\n",
      "{8, 1, 2, 3}\n",
      "{9, 10, 4, 5}\n",
      "{9, 10, 4, 5}\n"
     ]
    }
   ],
   "source": [
    "# Difference\n",
    "\n",
    "print(A-B)                                            # {1,2,3}\n",
    "print(A.difference(B))                                # {1,2,3}\n",
    "print(B-A)                                            # {8,6,7}\n",
    "print(B.difference(A))                                # {8,6,7}"
   ]
  },
  {
   "cell_type": "code",
   "execution_count": 31,
   "id": "02fc54a0-b1f2-4e99-aace-9faddf5d97d1",
   "metadata": {},
   "outputs": [
    {
     "name": "stdout",
     "output_type": "stream",
     "text": [
      "{1, 2, 3, 4, 5, 8, 9, 10}\n",
      "{1, 2, 3, 4, 5, 8, 9, 10}\n",
      "{1, 2, 3, 4, 5, 8, 9, 10}\n",
      "{1, 2, 3, 4, 5, 8, 9, 10}\n"
     ]
    }
   ],
   "source": [
    "# Symmetric Difference\n",
    "\n",
    "print(A^B)                                            # {1,2,3,6,7,8}\n",
    "print(A.symmetric_difference(B))                      # {1,2,3,6,7,8}\n",
    "print(B^A)                                            # {1,2,3,6,7,8}\n",
    "print(B.symmetric_difference(A))                      # {1,2,3,6,7,8}"
   ]
  },
  {
   "cell_type": "code",
   "execution_count": 32,
   "id": "1f433415-a8a5-4456-a3be-826334bcd0b0",
   "metadata": {},
   "outputs": [
    {
     "name": "stdout",
     "output_type": "stream",
     "text": [
      "{1, 2, 3, 4, 5, 8, 9, 10}\n",
      "{4, 5, 6, 7, 8}\n"
     ]
    }
   ],
   "source": [
    "# Symmetric Difference Update\n",
    "\n",
    "A.symmetric_difference_update(B)                      # A= {1,2,3,6,7,8}\n",
    "print(A)\n",
    "B.symmetric_difference_update(C)                      # B= {4,5,6,7,9,10}\n",
    "print(B)"
   ]
  },
  {
   "cell_type": "code",
   "execution_count": 33,
   "id": "cb94d477-0058-4cb1-8e8f-eddf6a6a1985",
   "metadata": {},
   "outputs": [],
   "source": [
    "S6= {3,9,2,'trdhs', 6+2j, 3,True, 7.5, False}\n",
    "S7= {0, False, 0+0j, 0.0}\n",
    "S8= {4, 8, 3, 4, 8.2, 'yoyo', True}"
   ]
  },
  {
   "cell_type": "code",
   "execution_count": 34,
   "id": "1c20dd26-f235-401a-a9e9-1b3553ac310b",
   "metadata": {},
   "outputs": [
    {
     "name": "stdout",
     "output_type": "stream",
     "text": [
      "True\n",
      "False\n",
      "True\n"
     ]
    }
   ],
   "source": [
    " # Checks if any one element in the list is True/non-zero\n",
    "print(any(S6))                          \n",
    "print(any(S7))\n",
    "print(any(S8))"
   ]
  },
  {
   "cell_type": "code",
   "execution_count": 35,
   "id": "728843ad-f23c-4af1-9882-72c7c9aae86d",
   "metadata": {},
   "outputs": [
    {
     "name": "stdout",
     "output_type": "stream",
     "text": [
      "False\n",
      "False\n",
      "True\n"
     ]
    }
   ],
   "source": [
    " # Checks if all the elements in the list are True/non-zero\n",
    "print(all(S6))                          \n",
    "print(all(S7))\n",
    "print(all(S8))"
   ]
  },
  {
   "cell_type": "code",
   "execution_count": null,
   "id": "1e9acc59-32ce-490c-8ab8-a818640c517f",
   "metadata": {},
   "outputs": [],
   "source": []
  }
 ],
 "metadata": {
  "kernelspec": {
   "display_name": "Python [conda env:base] *",
   "language": "python",
   "name": "conda-base-py"
  },
  "language_info": {
   "codemirror_mode": {
    "name": "ipython",
    "version": 3
   },
   "file_extension": ".py",
   "mimetype": "text/x-python",
   "name": "python",
   "nbconvert_exporter": "python",
   "pygments_lexer": "ipython3",
   "version": "3.12.7"
  }
 },
 "nbformat": 4,
 "nbformat_minor": 5
}
