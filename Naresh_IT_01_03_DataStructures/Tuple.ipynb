{
 "cells": [
  {
   "cell_type": "markdown",
   "id": "c2d255fd-bd6d-4da9-8e80-39d5fa3d858b",
   "metadata": {},
   "source": [
    "# TUPLE"
   ]
  },
  {
   "cell_type": "code",
   "execution_count": 1,
   "id": "41bf37e6-e5c0-4e60-a51e-05e7b986b843",
   "metadata": {},
   "outputs": [],
   "source": [
    "# empty Tuple\n",
    "T=()                                          "
   ]
  },
  {
   "cell_type": "code",
   "execution_count": 2,
   "id": "ccb80dde-5bfa-46bb-936f-f5d50d42dda3",
   "metadata": {},
   "outputs": [],
   "source": [
    "# Duplicates allowed\n",
    "# Immutable\n",
    "# Can store multiple datatypes and nested tuple,etc\n",
    "# Bank data is stored in Tuple format so that data can't be added or deleted, but can be duplicated"
   ]
  },
  {
   "cell_type": "code",
   "execution_count": 3,
   "id": "3abf616f-e18f-4bbb-bf0b-29f1f1239b99",
   "metadata": {},
   "outputs": [
    {
     "name": "stdout",
     "output_type": "stream",
     "text": [
      "15\n"
     ]
    }
   ],
   "source": [
    "T1= (4,6,8,3,6,7,2,1,6,4,8,7,5,6,4)"
   ]
  },
  {
   "cell_type": "code",
   "execution_count": 4,
   "id": "39d8356e-4d86-4bdc-bd71-10e6ff771fd9",
   "metadata": {},
   "outputs": [
    {
     "name": "stdout",
     "output_type": "stream",
     "text": [
      "15\n"
     ]
    }
   ],
   "source": [
    "print(len(T1))"
   ]
  },
  {
   "cell_type": "code",
   "execution_count": 5,
   "id": "6c2a0171-db9b-4931-8f70-7a29fc865903",
   "metadata": {},
   "outputs": [
    {
     "name": "stdout",
     "output_type": "stream",
     "text": [
      "8\n"
     ]
    }
   ],
   "source": [
    "print(max(T1))"
   ]
  },
  {
   "cell_type": "code",
   "execution_count": 6,
   "id": "f6f7db89-f5a6-4376-905d-f64023cde6f7",
   "metadata": {},
   "outputs": [
    {
     "name": "stdout",
     "output_type": "stream",
     "text": [
      "1\n"
     ]
    }
   ],
   "source": [
    "print(min(T1))"
   ]
  },
  {
   "cell_type": "code",
   "execution_count": 7,
   "id": "84062478-b0f0-4f8d-b1e4-e0efc8145e33",
   "metadata": {},
   "outputs": [
    {
     "name": "stdout",
     "output_type": "stream",
     "text": [
      "77\n"
     ]
    }
   ],
   "source": [
    "print(sum(T1))"
   ]
  },
  {
   "cell_type": "code",
   "execution_count": 9,
   "id": "b98a782f-6904-4bbf-b18f-91dbaf270f81",
   "metadata": {},
   "outputs": [
    {
     "name": "stdout",
     "output_type": "stream",
     "text": [
      "(0, 4)\n",
      "(1, 6)\n",
      "(2, 8)\n",
      "(3, 3)\n",
      "(4, 6)\n",
      "(5, 7)\n",
      "(6, 2)\n",
      "(7, 1)\n",
      "(8, 6)\n",
      "(9, 4)\n",
      "(10, 8)\n",
      "(11, 7)\n",
      "(12, 5)\n",
      "(13, 6)\n",
      "(14, 4)\n"
     ]
    }
   ],
   "source": [
    "for i in enumerate(T1):\n",
    "    print (i)"
   ]
  },
  {
   "cell_type": "code",
   "execution_count": 15,
   "id": "435a67e7-a002-4f6f-8f0b-06fc54bec002",
   "metadata": {},
   "outputs": [
    {
     "name": "stdout",
     "output_type": "stream",
     "text": [
      "(4, 3.5, 'cygfyu', (49+92j), False, 4, 3.5, 'cygfyu', (49+92j), False, 4, 3.5, 'cygfyu', (49+92j), False)\n"
     ]
    }
   ],
   "source": [
    "# Tuple is duplicable\n",
    "t1=(4, 3.5, 'cygfyu', 49+92j, False)\n",
    "t2=t1*3\n",
    "print(t2)  "
   ]
  },
  {
   "cell_type": "markdown",
   "id": "a234401f-42d2-4bfa-b530-bc830fdf86d6",
   "metadata": {},
   "source": [
    "# Tuple Membership"
   ]
  },
  {
   "cell_type": "code",
   "execution_count": 10,
   "id": "4ecd6ccf-6eb1-4bb1-96de-c95ca59c3d0f",
   "metadata": {},
   "outputs": [
    {
     "name": "stdout",
     "output_type": "stream",
     "text": [
      "False\n",
      "True\n"
     ]
    }
   ],
   "source": [
    "print(45 in T1)       \n",
    "print(3 in T1)      "
   ]
  },
  {
   "cell_type": "markdown",
   "id": "7349e31c-bc9d-41ff-bec4-bd9fda4ec0b9",
   "metadata": {},
   "source": [
    "# Nested Tuple Indexing"
   ]
  },
  {
   "cell_type": "code",
   "execution_count": 11,
   "id": "a3e58b89-7bbd-4f25-a345-1ec4f0c98622",
   "metadata": {},
   "outputs": [
    {
     "name": "stdout",
     "output_type": "stream",
     "text": [
      "(9, 4, 7, 6, 5, 2, 8)\n",
      "9\n",
      "4\n",
      "7\n",
      "6\n"
     ]
    }
   ],
   "source": [
    "t = ('str', 4, 6.7, (9,4,7,6,5,2,8), 5+8j)\n",
    "print(t[3])\n",
    "print(t[3][0])\n",
    "print(t[3][1])\n",
    "print(t[3][2])\n",
    "print(t[3][3])"
   ]
  },
  {
   "cell_type": "markdown",
   "id": "0e24bb75-2c44-4afc-963d-9666d73eaaf4",
   "metadata": {},
   "source": [
    "# Tuple Methods"
   ]
  },
  {
   "cell_type": "code",
   "execution_count": 12,
   "id": "7c08b20f-9b72-4b56-8bc9-864caf805abd",
   "metadata": {},
   "outputs": [
    {
     "name": "stdout",
     "output_type": "stream",
     "text": [
      "4\n"
     ]
    }
   ],
   "source": [
    " # counts the no of occurances of the element\n",
    "print(T1.count(6))               "
   ]
  },
  {
   "cell_type": "code",
   "execution_count": 13,
   "id": "e65cd6ac-5842-4210-bf11-f1dc93aed61d",
   "metadata": {},
   "outputs": [
    {
     "name": "stdout",
     "output_type": "stream",
     "text": [
      "5\n"
     ]
    }
   ],
   "source": [
    "# prints the index of first occurance of the element\n",
    "print(T1.index(7))"
   ]
  },
  {
   "cell_type": "code",
   "execution_count": 16,
   "id": "6811ade9-ade8-4699-9016-400d24b62d18",
   "metadata": {},
   "outputs": [],
   "source": [
    "T2= (3,9,2,'trdhs', 6+2j, 3,True, 7.5, False)\n",
    "T3= (0, False, 0+0j, 0.0)\n",
    "T4= (4, 8, 3, 4, 8.2, 'yoyo', True)"
   ]
  },
  {
   "cell_type": "code",
   "execution_count": 17,
   "id": "bdbbc136-df06-484f-ae36-76bcb4876ad8",
   "metadata": {},
   "outputs": [
    {
     "name": "stdout",
     "output_type": "stream",
     "text": [
      "True\n",
      "False\n",
      "True\n"
     ]
    }
   ],
   "source": [
    "# Checks if any one element in the tuple is True/non-zero\n",
    "print(any(T2))                           \n",
    "print(any(T3))\n",
    "print(any(T4))"
   ]
  },
  {
   "cell_type": "code",
   "execution_count": 18,
   "id": "b4afa094-7636-4cd6-a6c4-17839f7868f1",
   "metadata": {},
   "outputs": [
    {
     "name": "stdout",
     "output_type": "stream",
     "text": [
      "False\n",
      "False\n",
      "True\n"
     ]
    }
   ],
   "source": [
    "# Checks if all the elements in the tuple are True/non-zero\n",
    "print(all(T2))                           \n",
    "print(all(T3))\n",
    "print(all(T4))"
   ]
  },
  {
   "cell_type": "code",
   "execution_count": null,
   "id": "0f8453c1-ebc3-4673-b0fb-ef498882bd8f",
   "metadata": {},
   "outputs": [],
   "source": []
  }
 ],
 "metadata": {
  "kernelspec": {
   "display_name": "Python [conda env:base] *",
   "language": "python",
   "name": "conda-base-py"
  },
  "language_info": {
   "codemirror_mode": {
    "name": "ipython",
    "version": 3
   },
   "file_extension": ".py",
   "mimetype": "text/x-python",
   "name": "python",
   "nbconvert_exporter": "python",
   "pygments_lexer": "ipython3",
   "version": "3.12.7"
  }
 },
 "nbformat": 4,
 "nbformat_minor": 5
}
